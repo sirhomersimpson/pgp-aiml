{
 "cells": [
  {
   "cell_type": "code",
   "execution_count": 4,
   "metadata": {},
   "outputs": [
    {
     "name": "stdout",
     "output_type": "stream",
     "text": [
      "[0.80952381 0.74358974 0.96875    0.96666667 0.98412698 0.58333333\n",
      " 0.92727273 0.85454545 0.73015873 0.71428571 0.93333333 0.69230769\n",
      " 0.76363636 0.93333333 0.65454545 0.93333333 0.94871795 0.9375\n",
      " 0.66       0.83333333 0.82       0.75925926 0.92592593 0.86\n",
      " 0.92       0.79545455 0.92307692 0.93181818 0.85185185 0.85714286\n",
      " 0.51785714 0.76785714 0.90740741 0.91666667 0.77777778 0.91071429\n",
      " 0.96296296 1.         0.85714286 1.         0.65384615 1.\n",
      " 0.75       1.         0.53846154 0.875      0.73214286 0.92\n",
      " 0.72       0.78571429]\n",
      "Accuracy: 83.621% (12.342%)\n"
     ]
    }
   ],
   "source": [
    "from pandas import read_csv\n",
    "from sklearn.model_selection import train_test_split\n",
    "from sklearn.linear_model import LogisticRegression\n",
    "from sklearn.model_selection import KFold\n",
    "from sklearn.model_selection import cross_val_score\n",
    "import numpy as np\n",
    "import warnings\n",
    "warnings.filterwarnings('ignore')\n",
    "\n",
    "filename = 'pima-indians-diabetes.csv'\n",
    "\n",
    "dataframe = read_csv(filename)\n",
    "\n",
    "array = dataframe.values\n",
    "X = array[:,0:8]\n",
    "Y = array[:,8]\n",
    "\n",
    "X_train, X_test, Y_train, Y_test = train_test_split(X, Y, test_size=0.50, random_state=1)\n",
    "\n",
    "num_folds = 50\n",
    "seed = 7\n",
    "\n",
    "kfold = KFold(n_splits=num_folds, random_state=seed, shuffle = True)\n",
    "model = LogisticRegression()\n",
    "results = cross_val_score(model, X, Y, cv=kfold, scoring='roc_auc')\n",
    "print(results)\n",
    "print(\"Accuracy: %.3f%% (%.3f%%)\" % (results.mean()*100.0, results.std()*100.0))"
   ]
  },
  {
   "cell_type": "code",
   "execution_count": null,
   "metadata": {},
   "outputs": [],
   "source": []
  }
 ],
 "metadata": {
  "kernelspec": {
   "display_name": "Python 3",
   "language": "python",
   "name": "python3"
  },
  "language_info": {
   "codemirror_mode": {
    "name": "ipython",
    "version": 3
   },
   "file_extension": ".py",
   "mimetype": "text/x-python",
   "name": "python",
   "nbconvert_exporter": "python",
   "pygments_lexer": "ipython3",
   "version": "3.8.3"
  }
 },
 "nbformat": 4,
 "nbformat_minor": 2
}
