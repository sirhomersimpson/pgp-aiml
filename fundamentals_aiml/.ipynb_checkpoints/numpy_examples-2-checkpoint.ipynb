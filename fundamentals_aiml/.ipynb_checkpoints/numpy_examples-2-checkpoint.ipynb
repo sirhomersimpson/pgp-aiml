{
 "cells": [
  {
   "cell_type": "markdown",
   "metadata": {},
   "source": [
    "# NumPy\n",
    "\n",
    "numpy is python's package for doing math that is more advanced than +-*/\n",
    "\n",
    "This includes special functions like cosine, exponential, sqrt, ...\n",
    "\n",
    "On top of this we can use numpy to generate samples from many types of random variables\n",
    "\n",
    "numpy also has a powerful data type to define vectors, matrices, and tensors\n",
    "\n",
    "With these data types numpy also allows us to do linear algebra - matrix multiplication and matrix-vector solutions"
   ]
  },
  {
   "cell_type": "code",
   "execution_count": 1,
   "metadata": {},
   "outputs": [],
   "source": [
    "# the first step of using numpy is to tell python to use it\n",
    "import numpy as np"
   ]
  },
  {
   "cell_type": "code",
   "execution_count": 36,
   "metadata": {
    "scrolled": true
   },
   "outputs": [
    {
     "name": "stdout",
     "output_type": "stream",
     "text": [
      "3.141592653589793\n",
      "-1.0\n",
      "1.1\n",
      "5.2\n"
     ]
    }
   ],
   "source": [
    "print(np.pi)\n",
    "print(np.cos(np.pi))\n",
    "print(np.sqrt(1.21))\n",
    "print(np.log(np.exp(5.2)))"
   ]
  },
  {
   "cell_type": "code",
   "execution_count": 3,
   "metadata": {},
   "outputs": [
    {
     "name": "stdout",
     "output_type": "stream",
     "text": [
      "[1 2 3]\n",
      "\n",
      "[[1 2 1]\n",
      " [4 5 9]\n",
      " [1 8 9]]\n",
      "\n",
      "[[1 4 1]\n",
      " [2 5 8]\n",
      " [1 9 9]]\n"
     ]
    }
   ],
   "source": [
    "# we can create numpy arrays by converting lists\n",
    "# this is a vector\n",
    "vec = np.array([1,2,3])\n",
    "print(vec)\n",
    "# we can create matrices by converting lists of lists\n",
    "mat = np.array([[1,2,1],[4,5,9],[1,8,9]])\n",
    "print('')\n",
    "print(mat)\n",
    "print('')\n",
    "print(mat.T)"
   ]
  },
  {
   "cell_type": "code",
   "execution_count": 4,
   "metadata": {},
   "outputs": [
    {
     "name": "stdout",
     "output_type": "stream",
     "text": [
      "[ 0  1  2  3  4  5  6  7  8  9 10 11 12 13 14]\n",
      "\n",
      "[ 3  9 15]\n"
     ]
    }
   ],
   "source": [
    "# there are lots of other ways to create numpy arrays\n",
    "vec2 = np.arange(0,15)\n",
    "print(vec2)\n",
    "print('')\n",
    "vec3 = np.arange(3,21,6)\n",
    "print(vec3)\n"
   ]
  },
  {
   "cell_type": "code",
   "execution_count": 5,
   "metadata": {},
   "outputs": [
    {
     "name": "stdout",
     "output_type": "stream",
     "text": [
      "[0.         0.55555556 1.11111111 1.66666667 2.22222222 2.77777778\n",
      " 3.33333333 3.88888889 4.44444444 5.        ]\n",
      "\n",
      "[[0.         0.55555556]\n",
      " [1.11111111 1.66666667]\n",
      " [2.22222222 2.77777778]\n",
      " [3.33333333 3.88888889]\n",
      " [4.44444444 5.        ]]\n",
      "[[0.         0.55555556]\n",
      " [1.11111111 1.66666667]\n",
      " [2.22222222 2.77777778]\n",
      " [3.33333333 3.88888889]\n",
      " [4.44444444 5.        ]]\n",
      "[0.         0.55555556 1.11111111 1.66666667 2.22222222 2.77777778\n",
      " 3.33333333 3.88888889 4.44444444 5.        ]\n"
     ]
    }
   ],
   "source": [
    "\n",
    "vec4 = np.linspace(0,5,10)\n",
    "print(vec4)\n",
    "print('')\n",
    "print(vec4.reshape(5,2))\n",
    "vec4_reshaped = vec4.reshape(5,2)\n",
    "print(vec4_reshaped)\n",
    "print(vec4)"
   ]
  },
  {
   "cell_type": "code",
   "execution_count": 6,
   "metadata": {},
   "outputs": [
    {
     "name": "stdout",
     "output_type": "stream",
     "text": [
      "[[0. 0. 0.]\n",
      " [0. 0. 0.]\n",
      " [0. 0. 0.]\n",
      " [0. 0. 0.]\n",
      " [0. 0. 0.]]\n",
      "\n",
      "[[1. 1. 1. 1. 1.]\n",
      " [1. 1. 1. 1. 1.]\n",
      " [1. 1. 1. 1. 1.]]\n",
      "\n",
      "[[1. 0. 0. 0. 0.]\n",
      " [0. 1. 0. 0. 0.]\n",
      " [0. 0. 1. 0. 0.]\n",
      " [0. 0. 0. 1. 0.]\n",
      " [0. 0. 0. 0. 1.]]\n"
     ]
    }
   ],
   "source": [
    "mat2 = np.zeros([5,3])\n",
    "print(mat2)\n",
    "mat3 = np.ones((3,5))\n",
    "print('')\n",
    "print(mat3)\n",
    "mat4 = np.eye(5)\n",
    "print('')\n",
    "print(mat4)"
   ]
  },
  {
   "cell_type": "code",
   "execution_count": 7,
   "metadata": {},
   "outputs": [
    {
     "name": "stdout",
     "output_type": "stream",
     "text": [
      "[1 2 3 4 5]\n",
      "[3 4 5 6 7]\n",
      "[ 4  6  8 10 12]\n",
      "[ 3  8 15 24 35]\n",
      "[1.         0.5        0.33333333 0.25       0.2       ]\n",
      "[1.73205081 2.         2.23606798 2.44948974 2.64575131]\n"
     ]
    }
   ],
   "source": [
    "# we can +-*/ arrays together if they're the right size\n",
    "vec5 = np.arange(1,6)\n",
    "vec6 = np.arange(3,8)\n",
    "print(vec5)\n",
    "print(vec6)\n",
    "print(vec5+vec6)\n",
    "print(vec5*vec6)\n",
    "print(1/vec5)\n",
    "print(np.sqrt(vec6))"
   ]
  },
  {
   "cell_type": "code",
   "execution_count": 8,
   "metadata": {},
   "outputs": [
    {
     "name": "stdout",
     "output_type": "stream",
     "text": [
      "[[1 2 1]\n",
      " [4 5 9]\n",
      " [1 8 9]]\n",
      "\n",
      "[1 2 3]\n",
      "\n",
      "[ 8 41 44]\n"
     ]
    }
   ],
   "source": [
    "# we can do matrix multiplication\n",
    "print(mat)\n",
    "print('')\n",
    "print(vec)\n",
    "print()\n",
    "product = np.matmul(mat,vec)\n",
    "print(product)"
   ]
  },
  {
   "cell_type": "code",
   "execution_count": 9,
   "metadata": {},
   "outputs": [
    {
     "name": "stdout",
     "output_type": "stream",
     "text": [
      "[1. 2. 3.]\n",
      "\n",
      "[[ 0.5         0.18518519 -0.24074074]\n",
      " [ 0.5        -0.14814815  0.09259259]\n",
      " [-0.5         0.11111111  0.05555556]]\n"
     ]
    }
   ],
   "source": [
    "print(np.linalg.solve(mat,product))\n",
    "print('')\n",
    "print(np.linalg.inv(mat))"
   ]
  },
  {
   "cell_type": "code",
   "execution_count": 10,
   "metadata": {},
   "outputs": [
    {
     "name": "stdout",
     "output_type": "stream",
     "text": [
      "['blue' 'red' 'orange' 'purple' 'purple' 'orange' 'Red' '6']\n",
      "['6' 'Red' 'blue' 'orange' 'purple' 'red']\n"
     ]
    }
   ],
   "source": [
    "# we can find the unique values in an array\n",
    "vec7 = np.array(['blue','red','orange','purple','purple','orange','Red',6])\n",
    "print(vec7)\n",
    "print(np.unique(vec7))"
   ]
  },
  {
   "cell_type": "code",
   "execution_count": 11,
   "metadata": {},
   "outputs": [
    {
     "name": "stdout",
     "output_type": "stream",
     "text": [
      "[[0.57247143 0.57535186 0.02964796 0.18243601 0.26677637]\n",
      " [0.65667701 0.06595595 0.8261631  0.7859796  0.25506185]\n",
      " [0.84054408 0.93814716 0.40462166 0.9578969  0.42996116]\n",
      " [0.09421645 0.51605894 0.78372775 0.67313651 0.32541523]\n",
      " [0.35914736 0.84711482 0.25563625 0.81369638 0.65573365]]\n",
      "\n",
      "[[-0.04382248  1.71647704 -1.19379923 -0.09305609 -1.04039098]\n",
      " [-0.53056161  1.22319171 -0.51670598  1.66039852  0.32335196]\n",
      " [-0.27799038 -1.51696327  2.54951476 -0.94950344  0.37847161]\n",
      " [ 0.51674823  1.41323855 -0.17407498  0.89439304 -0.49604985]\n",
      " [-0.61193463 -0.07894025 -0.36787941 -1.03419727 -0.12437727]\n",
      " [-0.39843762 -0.90522214  0.96033553 -0.6957268   0.21624283]\n",
      " [ 0.4251524  -0.1926413   0.17406023 -0.48828103 -0.01709173]\n",
      " [-1.1599174   0.71091368 -1.9412411   1.79907751  0.02296245]\n",
      " [-0.20064281 -0.57238975  1.77415663  0.2453732  -1.70683387]\n",
      " [ 0.2082949  -0.44266062  0.8724032  -2.09770525  0.87579926]]\n"
     ]
    }
   ],
   "source": [
    "# we can also use numpy to generate samples of a random variable\n",
    "rand_mat = np.random.rand(5,5) # uniform random variable\n",
    "print(rand_mat)\n",
    "rand_mat2 = np.random.randn(10,5) # standard normal random variable\n",
    "print('')\n",
    "print(rand_mat2)"
   ]
  },
  {
   "cell_type": "code",
   "execution_count": 12,
   "metadata": {},
   "outputs": [
    {
     "name": "stdout",
     "output_type": "stream",
     "text": [
      "0.5244630177495935\n",
      "0.9964975118300912\n"
     ]
    }
   ],
   "source": [
    "# we can also use numpy for statistical tools on arrays\n",
    "print(np.mean(rand_mat))\n",
    "print(np.std(rand_mat2))"
   ]
  },
  {
   "cell_type": "code",
   "execution_count": 13,
   "metadata": {},
   "outputs": [
    {
     "name": "stdout",
     "output_type": "stream",
     "text": [
      "0.029647959616333264\n",
      "2.549514755537799\n"
     ]
    }
   ],
   "source": [
    "print(np.min(rand_mat))\n",
    "print(np.max(rand_mat2))"
   ]
  },
  {
   "cell_type": "code",
   "execution_count": 14,
   "metadata": {},
   "outputs": [],
   "source": [
    "# break here for next video!"
   ]
  },
  {
   "cell_type": "code",
   "execution_count": 15,
   "metadata": {},
   "outputs": [
    {
     "name": "stdout",
     "output_type": "stream",
     "text": [
      "[ 0.28123702  0.78262622 -0.24984072  1.06458139 -0.57754882 -0.02527108\n",
      " -1.97429214 -1.61957029 -0.18816476 -0.13418961 -1.35010332 -1.91092424\n",
      "  0.16596395 -0.46099736 -0.65725097  0.77076765 -1.93020912  0.93979039\n",
      "  1.00734947]\n",
      "-1.9742921378059546\n"
     ]
    }
   ],
   "source": [
    "# how do we access entries in a numpy vector\n",
    "rand_vec = np.random.randn(19)\n",
    "print(rand_vec)\n",
    "print(rand_vec[6])"
   ]
  },
  {
   "cell_type": "code",
   "execution_count": 16,
   "metadata": {},
   "outputs": [
    {
     "name": "stdout",
     "output_type": "stream",
     "text": [
      "[-0.57754882 -0.02527108 -1.97429214 -1.61957029 -0.18816476]\n"
     ]
    }
   ],
   "source": [
    "# we can access multiple entries at once using :\n",
    "print(rand_vec[4:9])"
   ]
  },
  {
   "cell_type": "code",
   "execution_count": 17,
   "metadata": {},
   "outputs": [
    {
     "name": "stdout",
     "output_type": "stream",
     "text": [
      "[ 0  3  6  9 12]\n",
      "[ 0.28123702  1.06458139 -1.97429214 -0.13418961  0.16596395]\n"
     ]
    }
   ],
   "source": [
    "# we can also access multiple non-consecutive entries using np.arange\n",
    "print(np.arange(0,15,3))\n",
    "print(rand_vec[np.arange(0,15,3)])"
   ]
  },
  {
   "cell_type": "code",
   "execution_count": 18,
   "metadata": {},
   "outputs": [
    {
     "name": "stdout",
     "output_type": "stream",
     "text": [
      "[[0.57247143 0.57535186 0.02964796 0.18243601 0.26677637]\n",
      " [0.65667701 0.06595595 0.8261631  0.7859796  0.25506185]\n",
      " [0.84054408 0.93814716 0.40462166 0.9578969  0.42996116]\n",
      " [0.09421645 0.51605894 0.78372775 0.67313651 0.32541523]\n",
      " [0.35914736 0.84711482 0.25563625 0.81369638 0.65573365]]\n",
      "0.8261630993535187\n",
      "0.8261630993535187\n"
     ]
    }
   ],
   "source": [
    "# what about matrices\n",
    "print(rand_mat)\n",
    "print(rand_mat[1][2])\n",
    "print(rand_mat[1,2])\n"
   ]
  },
  {
   "cell_type": "code",
   "execution_count": 19,
   "metadata": {},
   "outputs": [
    {
     "name": "stdout",
     "output_type": "stream",
     "text": [
      "[[0.57535186 0.02964796]\n",
      " [0.06595595 0.8261631 ]]\n"
     ]
    }
   ],
   "source": [
    "print(rand_mat[0:2,1:3])"
   ]
  },
  {
   "cell_type": "code",
   "execution_count": 20,
   "metadata": {},
   "outputs": [
    {
     "name": "stdout",
     "output_type": "stream",
     "text": [
      "[ 0.28123702  0.78262622 -0.24984072  1.06458139 -0.57754882 -0.02527108\n",
      " -1.97429214 -1.61957029 -0.18816476 -0.13418961 -1.35010332 -1.91092424\n",
      "  0.16596395 -0.46099736 -0.65725097  0.77076765 -1.93020912  0.93979039\n",
      "  1.00734947]\n",
      "\n",
      "[ 0.28123702  0.78262622 -0.24984072  4.          4.         -0.02527108\n",
      " -1.97429214 -1.61957029 -0.18816476 -0.13418961 -1.35010332 -1.91092424\n",
      "  0.16596395 -0.46099736 -0.65725097  0.77076765 -1.93020912  0.93979039\n",
      "  1.00734947]\n",
      "\n",
      "[ 0.28123702  0.78262622 -0.24984072  1.          2.         -0.02527108\n",
      " -1.97429214 -1.61957029 -0.18816476 -0.13418961 -1.35010332 -1.91092424\n",
      "  0.16596395 -0.46099736 -0.65725097  0.77076765 -1.93020912  0.93979039\n",
      "  1.00734947]\n"
     ]
    }
   ],
   "source": [
    "# let's change some values in an array!\n",
    "print(rand_vec)\n",
    "rand_vec[3:5] = 4\n",
    "print('')\n",
    "print(rand_vec)\n",
    "rand_vec[3:5] = [1,2]\n",
    "print('')\n",
    "print(rand_vec)"
   ]
  },
  {
   "cell_type": "code",
   "execution_count": 21,
   "metadata": {},
   "outputs": [
    {
     "name": "stdout",
     "output_type": "stream",
     "text": [
      "[[0.57247143 0.57535186 0.02964796 0.18243601 0.26677637]\n",
      " [0.65667701 0.06595595 0.8261631  0.7859796  0.25506185]\n",
      " [0.84054408 0.93814716 0.40462166 0.9578969  0.42996116]\n",
      " [0.09421645 0.51605894 0.78372775 0.67313651 0.32541523]\n",
      " [0.35914736 0.84711482 0.25563625 0.81369638 0.65573365]]\n",
      "\n",
      "[[0.57247143 0.57535186 0.02964796 0.18243601 0.26677637]\n",
      " [0.65667701 0.06595595 0.8261631  0.         0.        ]\n",
      " [0.84054408 0.93814716 0.40462166 0.         0.        ]\n",
      " [0.09421645 0.51605894 0.78372775 0.67313651 0.32541523]\n",
      " [0.35914736 0.84711482 0.25563625 0.81369638 0.65573365]]\n"
     ]
    }
   ],
   "source": [
    "print(rand_mat)\n",
    "rand_mat[1:3,3:5] = 0\n",
    "print('')\n",
    "print(rand_mat)"
   ]
  },
  {
   "cell_type": "code",
   "execution_count": 22,
   "metadata": {},
   "outputs": [
    {
     "name": "stdout",
     "output_type": "stream",
     "text": [
      "[[0.57247143 0.57535186 0.02964796]\n",
      " [0.65667701 0.06595595 0.8261631 ]]\n",
      "[[3. 3. 3.]\n",
      " [3. 3. 3.]]\n"
     ]
    }
   ],
   "source": [
    "sub_mat = rand_mat[0:2,0:3]\n",
    "print(sub_mat)\n",
    "sub_mat[:] = 3\n",
    "print(sub_mat)\n"
   ]
  },
  {
   "cell_type": "code",
   "execution_count": 23,
   "metadata": {},
   "outputs": [
    {
     "name": "stdout",
     "output_type": "stream",
     "text": [
      "[[3.         3.         3.         0.18243601 0.26677637]\n",
      " [3.         3.         3.         0.         0.        ]\n",
      " [0.84054408 0.93814716 0.40462166 0.         0.        ]\n",
      " [0.09421645 0.51605894 0.78372775 0.67313651 0.32541523]\n",
      " [0.35914736 0.84711482 0.25563625 0.81369638 0.65573365]]\n"
     ]
    }
   ],
   "source": [
    "print(rand_mat)"
   ]
  },
  {
   "cell_type": "code",
   "execution_count": 24,
   "metadata": {},
   "outputs": [
    {
     "name": "stdout",
     "output_type": "stream",
     "text": [
      "[[99. 99. 99.]\n",
      " [99. 99. 99.]]\n",
      "[[3.         3.         3.         0.18243601 0.26677637]\n",
      " [3.         3.         3.         0.         0.        ]\n",
      " [0.84054408 0.93814716 0.40462166 0.         0.        ]\n",
      " [0.09421645 0.51605894 0.78372775 0.67313651 0.32541523]\n",
      " [0.35914736 0.84711482 0.25563625 0.81369638 0.65573365]]\n"
     ]
    }
   ],
   "source": [
    "sub_mat2 = rand_mat[0:2,0:3].copy()\n",
    "sub_mat2[:] = 99\n",
    "print(sub_mat2)\n",
    "print(rand_mat)\n"
   ]
  },
  {
   "cell_type": "code",
   "execution_count": 25,
   "metadata": {},
   "outputs": [],
   "source": [
    "# break here for next video"
   ]
  },
  {
   "cell_type": "code",
   "execution_count": 26,
   "metadata": {},
   "outputs": [
    {
     "name": "stdout",
     "output_type": "stream",
     "text": [
      "[ 1.26621735 -1.74748772 -0.17306636 -1.22794994  1.26123012  1.80585886\n",
      "  0.49130947 -0.72615861  0.23292558  1.34105618  0.17311067  1.16036079\n",
      " -1.50076016  1.39141069  0.13850127]\n",
      "[ True False False False  True  True  True False  True  True  True  True\n",
      " False  True  True]\n",
      "[1.26621735 1.26123012 1.80585886 0.49130947 0.23292558 1.34105618\n",
      " 0.17311067 1.16036079 1.39141069 0.13850127]\n"
     ]
    }
   ],
   "source": [
    "# we can also access entries with logicals\n",
    "rand_vec = np.random.randn(15)\n",
    "\n",
    "print(rand_vec)\n",
    "print(rand_vec>0)\n",
    "print(rand_vec[rand_vec>0])"
   ]
  },
  {
   "cell_type": "code",
   "execution_count": 27,
   "metadata": {},
   "outputs": [
    {
     "name": "stdout",
     "output_type": "stream",
     "text": [
      "[[-0.04382248  1.71647704 -1.19379923 -0.09305609 -1.04039098]\n",
      " [-0.53056161  1.22319171 -0.51670598  1.66039852  0.32335196]\n",
      " [-0.27799038 -1.51696327  2.54951476 -0.94950344  0.37847161]\n",
      " [ 0.51674823  1.41323855 -0.17407498  0.89439304 -0.49604985]\n",
      " [-0.61193463 -0.07894025 -0.36787941 -1.03419727 -0.12437727]\n",
      " [-0.39843762 -0.90522214  0.96033553 -0.6957268   0.21624283]\n",
      " [ 0.4251524  -0.1926413   0.17406023 -0.48828103 -0.01709173]\n",
      " [-1.1599174   0.71091368 -1.9412411   1.79907751  0.02296245]\n",
      " [-0.20064281 -0.57238975  1.77415663  0.2453732  -1.70683387]\n",
      " [ 0.2082949  -0.44266062  0.8724032  -2.09770525  0.87579926]]\n",
      "[1.71647704 1.22319171 1.66039852 0.32335196 2.54951476 0.37847161\n",
      " 0.51674823 1.41323855 0.89439304 0.96033553 0.21624283 0.4251524\n",
      " 0.17406023 0.71091368 1.79907751 0.02296245 1.77415663 0.2453732\n",
      " 0.2082949  0.8724032  0.87579926]\n"
     ]
    }
   ],
   "source": [
    "print(rand_mat2)\n",
    "print(rand_mat2[rand_mat2>0])"
   ]
  },
  {
   "cell_type": "code",
   "execution_count": 28,
   "metadata": {},
   "outputs": [
    {
     "name": "stdout",
     "output_type": "stream",
     "text": [
      "[ 1.26621735 -1.74748772 -0.17306636 -1.22794994  1.26123012  1.80585886\n",
      "  0.49130947 -0.72615861  0.23292558  1.34105618  0.17311067  1.16036079\n",
      " -1.50076016  1.39141069  0.13850127]\n",
      "\n",
      "[-5.         -1.74748772 -0.17306636 -1.22794994 -5.         -5.\n",
      "  0.49130947 -0.72615861  0.23292558 -5.          0.17311067 -5.\n",
      " -1.50076016 -5.          0.13850127]\n"
     ]
    }
   ],
   "source": [
    "\n",
    "print(rand_vec)\n",
    "print('')\n",
    "rand_vec[rand_vec>0.5] = -5\n",
    "print(rand_vec)"
   ]
  },
  {
   "cell_type": "code",
   "execution_count": 29,
   "metadata": {},
   "outputs": [],
   "source": [
    "# let's save some arrays on the disk for use later!\n",
    "np.save('saved_file_name',rand_mat2)\n"
   ]
  },
  {
   "cell_type": "code",
   "execution_count": 30,
   "metadata": {},
   "outputs": [],
   "source": [
    "np.savez('zipped_file_name',rand_mat=rand_mat,rand_mat2=rand_mat2)"
   ]
  },
  {
   "cell_type": "code",
   "execution_count": 31,
   "metadata": {},
   "outputs": [
    {
     "name": "stdout",
     "output_type": "stream",
     "text": [
      "[[-0.04382248  1.71647704 -1.19379923 -0.09305609 -1.04039098]\n",
      " [-0.53056161  1.22319171 -0.51670598  1.66039852  0.32335196]\n",
      " [-0.27799038 -1.51696327  2.54951476 -0.94950344  0.37847161]\n",
      " [ 0.51674823  1.41323855 -0.17407498  0.89439304 -0.49604985]\n",
      " [-0.61193463 -0.07894025 -0.36787941 -1.03419727 -0.12437727]\n",
      " [-0.39843762 -0.90522214  0.96033553 -0.6957268   0.21624283]\n",
      " [ 0.4251524  -0.1926413   0.17406023 -0.48828103 -0.01709173]\n",
      " [-1.1599174   0.71091368 -1.9412411   1.79907751  0.02296245]\n",
      " [-0.20064281 -0.57238975  1.77415663  0.2453732  -1.70683387]\n",
      " [ 0.2082949  -0.44266062  0.8724032  -2.09770525  0.87579926]]\n",
      "\n",
      "<numpy.lib.npyio.NpzFile object at 0x7f0fea42e160>\n"
     ]
    }
   ],
   "source": [
    "# now let's load it\n",
    "loaded_vec = np.load('saved_file_name.npy')\n",
    "loaded_zip = np.load('zipped_file_name.npz')\n",
    "\n",
    "print(loaded_vec)\n",
    "print('')\n",
    "print(loaded_zip)"
   ]
  },
  {
   "cell_type": "code",
   "execution_count": 32,
   "metadata": {},
   "outputs": [
    {
     "name": "stdout",
     "output_type": "stream",
     "text": [
      "[[3.         3.         3.         0.18243601 0.26677637]\n",
      " [3.         3.         3.         0.         0.        ]\n",
      " [0.84054408 0.93814716 0.40462166 0.         0.        ]\n",
      " [0.09421645 0.51605894 0.78372775 0.67313651 0.32541523]\n",
      " [0.35914736 0.84711482 0.25563625 0.81369638 0.65573365]]\n",
      "\n",
      "[[-0.04382248  1.71647704 -1.19379923 -0.09305609 -1.04039098]\n",
      " [-0.53056161  1.22319171 -0.51670598  1.66039852  0.32335196]\n",
      " [-0.27799038 -1.51696327  2.54951476 -0.94950344  0.37847161]\n",
      " [ 0.51674823  1.41323855 -0.17407498  0.89439304 -0.49604985]\n",
      " [-0.61193463 -0.07894025 -0.36787941 -1.03419727 -0.12437727]\n",
      " [-0.39843762 -0.90522214  0.96033553 -0.6957268   0.21624283]\n",
      " [ 0.4251524  -0.1926413   0.17406023 -0.48828103 -0.01709173]\n",
      " [-1.1599174   0.71091368 -1.9412411   1.79907751  0.02296245]\n",
      " [-0.20064281 -0.57238975  1.77415663  0.2453732  -1.70683387]\n",
      " [ 0.2082949  -0.44266062  0.8724032  -2.09770525  0.87579926]]\n",
      "[[3.         3.         3.         0.18243601 0.26677637]\n",
      " [3.         3.         3.         0.         0.        ]\n",
      " [0.84054408 0.93814716 0.40462166 0.         0.        ]\n",
      " [0.09421645 0.51605894 0.78372775 0.67313651 0.32541523]\n",
      " [0.35914736 0.84711482 0.25563625 0.81369638 0.65573365]]\n"
     ]
    }
   ],
   "source": [
    "print(loaded_zip['rand_mat'])\n",
    "print('')\n",
    "print(loaded_zip['rand_mat2'])\n",
    "\n",
    "new_array  = loaded_zip['rand_mat']\n",
    "print(new_array)"
   ]
  },
  {
   "cell_type": "code",
   "execution_count": 33,
   "metadata": {},
   "outputs": [
    {
     "name": "stdout",
     "output_type": "stream",
     "text": [
      "[[3.         3.         3.         0.18243601 0.26677637]\n",
      " [3.         3.         3.         0.         0.        ]\n",
      " [0.84054408 0.93814716 0.40462166 0.         0.        ]\n",
      " [0.09421645 0.51605894 0.78372775 0.67313651 0.32541523]\n",
      " [0.35914736 0.84711482 0.25563625 0.81369638 0.65573365]]\n",
      "\n",
      "[[3.         3.         3.         0.18243601 0.26677637]\n",
      " [3.         3.         3.         0.         0.        ]\n",
      " [0.84054408 0.93814716 0.40462166 0.         0.        ]\n",
      " [0.09421645 0.51605894 0.78372775 0.67313651 0.32541523]\n",
      " [0.35914736 0.84711482 0.25563625 0.81369638 0.65573365]]\n"
     ]
    }
   ],
   "source": [
    "# we can also save/load as text files...but only single variables\n",
    "np.savetxt('text_file_name.txt',rand_mat,delimiter=',')\n",
    "rand_mat_txt = np.loadtxt('text_file_name.txt',delimiter=',')\n",
    "print(rand_mat)\n",
    "print('')\n",
    "print(rand_mat_txt)"
   ]
  },
  {
   "cell_type": "code",
   "execution_count": 33,
   "metadata": {},
   "outputs": [],
   "source": []
  }
 ],
 "metadata": {
  "kernelspec": {
   "display_name": "Python 3",
   "language": "python",
   "name": "python3"
  },
  "language_info": {
   "codemirror_mode": {
    "name": "ipython",
    "version": 3
   },
   "file_extension": ".py",
   "mimetype": "text/x-python",
   "name": "python",
   "nbconvert_exporter": "python",
   "pygments_lexer": "ipython3",
   "version": "3.8.5"
  }
 },
 "nbformat": 4,
 "nbformat_minor": 2
}
