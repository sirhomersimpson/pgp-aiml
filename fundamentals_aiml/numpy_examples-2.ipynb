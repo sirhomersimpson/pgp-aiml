{
 "cells": [
  {
   "cell_type": "markdown",
   "metadata": {},
   "source": [
    "# NumPy\n",
    "\n",
    "numpy is python's package for doing math that is more advanced than +-*/\n",
    "\n",
    "This includes special functions like cosine, exponential, sqrt, ...\n",
    "\n",
    "On top of this we can use numpy to generate samples from many types of random variables\n",
    "\n",
    "numpy also has a powerful data type to define vectors, matrices, and tensors\n",
    "\n",
    "With these data types numpy also allows us to do linear algebra - matrix multiplication and matrix-vector solutions"
   ]
  },
  {
   "cell_type": "code",
   "execution_count": 1,
   "metadata": {},
   "outputs": [],
   "source": [
    "# the fst step of using numpy is to tell python to use it\n",
    "import numpy as np"
   ]
  },
  {
   "cell_type": "code",
   "execution_count": 2,
   "metadata": {
    "scrolled": true
   },
   "outputs": [
    {
     "name": "stdout",
     "output_type": "stream",
     "text": [
      "3.141592653589793\n",
      "-1.0\n",
      "1.1\n",
      "5.2\n"
     ]
    }
   ],
   "source": [
    "print(np.pi)\n",
    "print(np.cos(np.pi))\n",
    "print(np.sqrt(1.21))\n",
    "print(np.log(np.exp(5.2)))"
   ]
  },
  {
   "cell_type": "code",
   "execution_count": 3,
   "metadata": {},
   "outputs": [
    {
     "name": "stdout",
     "output_type": "stream",
     "text": [
      "[1 2 3]\n",
      "\n",
      "[[1 2 1]\n",
      " [4 5 9]\n",
      " [1 8 9]]\n",
      "\n",
      "[[1 4 1]\n",
      " [2 5 8]\n",
      " [1 9 9]]\n"
     ]
    }
   ],
   "source": [
    "# we can create numpy arrays by converting lists\n",
    "# this is a vector\n",
    "vec = np.array([1,2,3])\n",
    "print(vec)\n",
    "# we can create matrices by converting lists of lists\n",
    "mat = np.array([[1,2,1],[4,5,9],[1,8,9]])\n",
    "print('')\n",
    "print(mat)\n",
    "print('')\n",
    "print(mat.T)"
   ]
  },
  {
   "cell_type": "code",
   "execution_count": 4,
   "metadata": {},
   "outputs": [
    {
     "name": "stdout",
     "output_type": "stream",
     "text": [
      "[0 1 2 3 4 5 6 7 8]\n",
      "\n",
      "[ 3  9 15]\n"
     ]
    }
   ],
   "source": [
    "# there are lots of other ways to create numpy arrays\n",
    "vec2 = np.arange(0,9,1)\n",
    "print(vec2)\n",
    "print('')\n",
    "vec3 = np.arange(3,21,6)\n",
    "print(vec3)\n"
   ]
  },
  {
   "cell_type": "code",
   "execution_count": 5,
   "metadata": {},
   "outputs": [
    {
     "name": "stdout",
     "output_type": "stream",
     "text": [
      "[0.         0.55555556 1.11111111 1.66666667 2.22222222 2.77777778\n",
      " 3.33333333 3.88888889 4.44444444 5.        ]\n",
      "\n",
      "[[0.         0.55555556]\n",
      " [1.11111111 1.66666667]\n",
      " [2.22222222 2.77777778]\n",
      " [3.33333333 3.88888889]\n",
      " [4.44444444 5.        ]]\n",
      "[[0.         0.55555556]\n",
      " [1.11111111 1.66666667]\n",
      " [2.22222222 2.77777778]\n",
      " [3.33333333 3.88888889]\n",
      " [4.44444444 5.        ]]\n",
      "[0.         0.55555556 1.11111111 1.66666667 2.22222222 2.77777778\n",
      " 3.33333333 3.88888889 4.44444444 5.        ]\n"
     ]
    }
   ],
   "source": [
    "\n",
    "vec4 = np.linspace(0,5,10)\n",
    "print(vec4)\n",
    "print('')\n",
    "print(vec4.reshape(5,2))\n",
    "vec4_reshaped = vec4.reshape(5,2)\n",
    "print(vec4_reshaped)\n",
    "print(vec4)"
   ]
  },
  {
   "cell_type": "code",
   "execution_count": 6,
   "metadata": {},
   "outputs": [
    {
     "name": "stdout",
     "output_type": "stream",
     "text": [
      "[[0. 0. 0.]\n",
      " [0. 0. 0.]\n",
      " [0. 0. 0.]\n",
      " [0. 0. 0.]\n",
      " [0. 0. 0.]]\n",
      "\n",
      "[[1. 1. 1. 1. 1.]\n",
      " [1. 1. 1. 1. 1.]\n",
      " [1. 1. 1. 1. 1.]]\n",
      "\n",
      "[[1. 0. 0. 0. 0.]\n",
      " [0. 1. 0. 0. 0.]\n",
      " [0. 0. 1. 0. 0.]\n",
      " [0. 0. 0. 1. 0.]\n",
      " [0. 0. 0. 0. 1.]]\n"
     ]
    }
   ],
   "source": [
    "mat2 = np.zeros([5,3])\n",
    "print(mat2)\n",
    "mat3 = np.ones((3,5))\n",
    "print('')\n",
    "print(mat3)\n",
    "mat4 = np.eye(5)\n",
    "print('')\n",
    "print(mat4)"
   ]
  },
  {
   "cell_type": "code",
   "execution_count": 7,
   "metadata": {},
   "outputs": [
    {
     "name": "stdout",
     "output_type": "stream",
     "text": [
      "[1 2 3 4 5]\n",
      "[3 4 5 6 7]\n",
      "[ 4  6  8 10 12]\n",
      "[ 3  8 15 24 35]\n",
      "[1.         0.5        0.33333333 0.25       0.2       ]\n",
      "[1.73205081 2.         2.23606798 2.44948974 2.64575131]\n"
     ]
    }
   ],
   "source": [
    "# we can +-*/ arrays together if they're the right size\n",
    "vec5 = np.arange(1,6)\n",
    "vec6 = np.arange(3,8)\n",
    "print(vec5)\n",
    "print(vec6)\n",
    "print(vec5+vec6)\n",
    "print(vec5*vec6)\n",
    "print(1/vec5)\n",
    "print(np.sqrt(vec6))"
   ]
  },
  {
   "cell_type": "code",
   "execution_count": 8,
   "metadata": {},
   "outputs": [
    {
     "name": "stdout",
     "output_type": "stream",
     "text": [
      "[[1 2 1]\n",
      " [4 5 9]\n",
      " [1 8 9]]\n",
      "\n",
      "[1 2 3]\n",
      "\n",
      "[ 8 41 44]\n"
     ]
    }
   ],
   "source": [
    "# we can do matrix multiplication\n",
    "print(mat)\n",
    "print('')\n",
    "print(vec)\n",
    "print()\n",
    "product = np.matmul(mat,vec)\n",
    "print(product)"
   ]
  },
  {
   "cell_type": "code",
   "execution_count": 9,
   "metadata": {},
   "outputs": [
    {
     "name": "stdout",
     "output_type": "stream",
     "text": [
      "[1. 2. 3.]\n",
      "\n",
      "[[ 0.5         0.18518519 -0.24074074]\n",
      " [ 0.5        -0.14814815  0.09259259]\n",
      " [-0.5         0.11111111  0.05555556]]\n"
     ]
    }
   ],
   "source": [
    "print(np.linalg.solve(mat,product))\n",
    "print('')\n",
    "print(np.linalg.inv(mat))"
   ]
  },
  {
   "cell_type": "code",
   "execution_count": 10,
   "metadata": {},
   "outputs": [
    {
     "name": "stdout",
     "output_type": "stream",
     "text": [
      "['blue' 'red' 'orange' 'purple' 'purple' 'orange' 'Red' '6']\n",
      "['6' 'Red' 'blue' 'orange' 'purple' 'red']\n"
     ]
    }
   ],
   "source": [
    "# we can find the unique values in an array\n",
    "vec7 = np.array(['blue','red','orange','purple','purple','orange','Red',6])\n",
    "print(vec7)\n",
    "print(np.unique(vec7))"
   ]
  },
  {
   "cell_type": "code",
   "execution_count": 11,
   "metadata": {},
   "outputs": [
    {
     "name": "stdout",
     "output_type": "stream",
     "text": [
      "[[0.23303401 0.02447376 0.05497306 0.53125816 0.91057158]\n",
      " [0.7246845  0.57245148 0.31809755 0.9803064  0.98123449]\n",
      " [0.99912476 0.08214993 0.12234529 0.66250383 0.89659128]\n",
      " [0.53900741 0.09896074 0.9957676  0.26723056 0.73722642]\n",
      " [0.02521241 0.79491665 0.68137736 0.90472857 0.88897833]]\n",
      "\n",
      "[[-1.48570689 -0.57314154  0.99970501  0.19320329  0.22864653]\n",
      " [ 0.87478861  0.11433042  1.22906158 -0.78526212  0.87410083]\n",
      " [ 0.3167162   1.4485664   0.89504176  0.97398582  0.33664274]\n",
      " [-0.33031458 -0.50123285 -1.13226769 -0.40252776  2.36411694]\n",
      " [ 0.63309403 -0.27732305 -0.76395069 -0.65659937  1.08439321]\n",
      " [ 0.45208692  0.56219634  0.54160522  2.04357516  0.02410915]\n",
      " [ 1.07673117 -0.44650929  0.41907558 -0.48861871 -0.53785718]\n",
      " [-0.37500697 -0.79475791 -0.02269281 -0.86450734 -1.27640891]\n",
      " [ 0.88577916 -0.91145622 -0.07649006 -0.77846216 -0.10280958]\n",
      " [-1.71754634 -0.4429467  -1.47925702 -1.62020188 -0.00341789]]\n"
     ]
    }
   ],
   "source": [
    "# we can also use numpy to generate samples of a random variable\n",
    "rand_mat = np.random.rand(5,5) # uniform random variable\n",
    "print(rand_mat)\n",
    "rand_mat2 = np.random.randn(10,5) # standard normal random variable\n",
    "print('')\n",
    "print(rand_mat2)"
   ]
  },
  {
   "cell_type": "code",
   "execution_count": 12,
   "metadata": {},
   "outputs": [
    {
     "name": "stdout",
     "output_type": "stream",
     "text": [
      "0.5610882448921821\n",
      "0.9145054344678551\n"
     ]
    }
   ],
   "source": [
    "# we can also use numpy for statistical tools on arrays\n",
    "print(np.mean(rand_mat))\n",
    "print(np.std(rand_mat2))"
   ]
  },
  {
   "cell_type": "code",
   "execution_count": 13,
   "metadata": {},
   "outputs": [
    {
     "name": "stdout",
     "output_type": "stream",
     "text": [
      "0.024473762668530075\n",
      "2.3641169406356024\n"
     ]
    }
   ],
   "source": [
    "print(np.min(rand_mat))\n",
    "print(np.max(rand_mat2))"
   ]
  },
  {
   "cell_type": "code",
   "execution_count": 14,
   "metadata": {},
   "outputs": [],
   "source": [
    "# break here for next video!"
   ]
  },
  {
   "cell_type": "code",
   "execution_count": 43,
   "metadata": {},
   "outputs": [
    {
     "name": "stdout",
     "output_type": "stream",
     "text": [
      "[-0.4106688   0.77925958  0.91338023  0.33870312 -0.81878062 -0.35087144]\n",
      "0.7792595781454712\n"
     ]
    }
   ],
   "source": [
    "# how do we access entries in a numpy vector\n",
    "rand_vec = np.random.randn(6)\n",
    "print(rand_vec)\n",
    "print(rand_vec[1])"
   ]
  },
  {
   "cell_type": "code",
   "execution_count": 44,
   "metadata": {},
   "outputs": [
    {
     "name": "stdout",
     "output_type": "stream",
     "text": [
      "[0.77925958 0.91338023]\n"
     ]
    }
   ],
   "source": [
    "# we can access multiple entries at once using :\n",
    "print(rand_vec[1:3])"
   ]
  },
  {
   "cell_type": "code",
   "execution_count": 46,
   "metadata": {},
   "outputs": [
    {
     "name": "stdout",
     "output_type": "stream",
     "text": [
      "[0 1 2]\n",
      "[-0.4106688   0.77925958  0.91338023]\n"
     ]
    }
   ],
   "source": [
    "# we can also access multiple non-consecutive entries using np.arange\n",
    "print(np.arange(0,3,1))\n",
    "print(rand_vec[np.arange(0,3,1)])"
   ]
  },
  {
   "cell_type": "code",
   "execution_count": 47,
   "metadata": {},
   "outputs": [
    {
     "name": "stdout",
     "output_type": "stream",
     "text": [
      "[[3.         3.         3.         0.53125816 0.91057158]\n",
      " [3.         3.         3.         0.         0.        ]\n",
      " [0.99912476 0.08214993 0.12234529 0.         0.        ]\n",
      " [0.53900741 0.09896074 0.9957676  0.26723056 0.73722642]\n",
      " [0.02521241 0.79491665 0.68137736 0.90472857 0.88897833]]\n",
      "3.0\n",
      "3.0\n"
     ]
    }
   ],
   "source": [
    "# what about matrices\n",
    "print(rand_mat)\n",
    "print(rand_mat[1][2])\n",
    "print(rand_mat[1,2])\n"
   ]
  },
  {
   "cell_type": "code",
   "execution_count": 19,
   "metadata": {},
   "outputs": [
    {
     "name": "stdout",
     "output_type": "stream",
     "text": [
      "[[0.02447376 0.05497306]\n",
      " [0.57245148 0.31809755]]\n"
     ]
    }
   ],
   "source": [
    "print(rand_mat[0:2,1:3])"
   ]
  },
  {
   "cell_type": "code",
   "execution_count": 20,
   "metadata": {},
   "outputs": [
    {
     "name": "stdout",
     "output_type": "stream",
     "text": [
      "[-0.40523519  1.44265033 -0.17069054 -0.06339381 -0.2265411   0.07485994\n",
      "  0.32042429  0.23184054 -0.40846709 -0.15401763  2.27293504 -0.17435673\n",
      " -0.03584381  0.28559377 -0.08772563  2.02993397  0.14357992 -0.48790616\n",
      "  1.00676041]\n",
      "\n",
      "[-0.40523519  1.44265033 -0.17069054  4.          4.          0.07485994\n",
      "  0.32042429  0.23184054 -0.40846709 -0.15401763  2.27293504 -0.17435673\n",
      " -0.03584381  0.28559377 -0.08772563  2.02993397  0.14357992 -0.48790616\n",
      "  1.00676041]\n",
      "\n",
      "[-0.40523519  1.44265033 -0.17069054  1.          2.          0.07485994\n",
      "  0.32042429  0.23184054 -0.40846709 -0.15401763  2.27293504 -0.17435673\n",
      " -0.03584381  0.28559377 -0.08772563  2.02993397  0.14357992 -0.48790616\n",
      "  1.00676041]\n"
     ]
    }
   ],
   "source": [
    "# let's change some values in an array!\n",
    "print(rand_vec)\n",
    "rand_vec[3:5] = 4\n",
    "print('')\n",
    "print(rand_vec)\n",
    "rand_vec[3:5] = [1,2]\n",
    "print('')\n",
    "print(rand_vec)"
   ]
  },
  {
   "cell_type": "code",
   "execution_count": 21,
   "metadata": {},
   "outputs": [
    {
     "name": "stdout",
     "output_type": "stream",
     "text": [
      "[[0.23303401 0.02447376 0.05497306 0.53125816 0.91057158]\n",
      " [0.7246845  0.57245148 0.31809755 0.9803064  0.98123449]\n",
      " [0.99912476 0.08214993 0.12234529 0.66250383 0.89659128]\n",
      " [0.53900741 0.09896074 0.9957676  0.26723056 0.73722642]\n",
      " [0.02521241 0.79491665 0.68137736 0.90472857 0.88897833]]\n",
      "\n",
      "[[0.23303401 0.02447376 0.05497306 0.53125816 0.91057158]\n",
      " [0.7246845  0.57245148 0.31809755 0.         0.        ]\n",
      " [0.99912476 0.08214993 0.12234529 0.         0.        ]\n",
      " [0.53900741 0.09896074 0.9957676  0.26723056 0.73722642]\n",
      " [0.02521241 0.79491665 0.68137736 0.90472857 0.88897833]]\n"
     ]
    }
   ],
   "source": [
    "print(rand_mat)\n",
    "rand_mat[1:3,3:5] = 0\n",
    "print('')\n",
    "print(rand_mat)"
   ]
  },
  {
   "cell_type": "code",
   "execution_count": 22,
   "metadata": {},
   "outputs": [
    {
     "name": "stdout",
     "output_type": "stream",
     "text": [
      "[[0.23303401 0.02447376 0.05497306]\n",
      " [0.7246845  0.57245148 0.31809755]]\n",
      "[[3. 3. 3.]\n",
      " [3. 3. 3.]]\n"
     ]
    }
   ],
   "source": [
    "sub_mat = rand_mat[0:2,0:3]\n",
    "print(sub_mat)\n",
    "sub_mat[:] = 3\n",
    "print(sub_mat)\n"
   ]
  },
  {
   "cell_type": "code",
   "execution_count": 23,
   "metadata": {},
   "outputs": [
    {
     "name": "stdout",
     "output_type": "stream",
     "text": [
      "[[3.         3.         3.         0.53125816 0.91057158]\n",
      " [3.         3.         3.         0.         0.        ]\n",
      " [0.99912476 0.08214993 0.12234529 0.         0.        ]\n",
      " [0.53900741 0.09896074 0.9957676  0.26723056 0.73722642]\n",
      " [0.02521241 0.79491665 0.68137736 0.90472857 0.88897833]]\n"
     ]
    }
   ],
   "source": [
    "print(rand_mat)"
   ]
  },
  {
   "cell_type": "code",
   "execution_count": 24,
   "metadata": {},
   "outputs": [
    {
     "name": "stdout",
     "output_type": "stream",
     "text": [
      "[[99. 99. 99.]\n",
      " [99. 99. 99.]]\n",
      "[[3.         3.         3.         0.53125816 0.91057158]\n",
      " [3.         3.         3.         0.         0.        ]\n",
      " [0.99912476 0.08214993 0.12234529 0.         0.        ]\n",
      " [0.53900741 0.09896074 0.9957676  0.26723056 0.73722642]\n",
      " [0.02521241 0.79491665 0.68137736 0.90472857 0.88897833]]\n"
     ]
    }
   ],
   "source": [
    "sub_mat2 = rand_mat[0:2,0:3].copy()\n",
    "sub_mat2[:] = 99\n",
    "print(sub_mat2)\n",
    "print(rand_mat)\n"
   ]
  },
  {
   "cell_type": "code",
   "execution_count": 25,
   "metadata": {},
   "outputs": [],
   "source": [
    "# break here for next video"
   ]
  },
  {
   "cell_type": "code",
   "execution_count": 57,
   "metadata": {},
   "outputs": [
    {
     "name": "stdout",
     "output_type": "stream",
     "text": [
      "[-0.72429915  1.71827969 -1.00823865 -0.1016748  -0.4613289   1.22885895\n",
      " -0.92270906 -0.92566226 -0.40377949  0.4914428  -0.83206919  0.78463856\n",
      " -0.85263518 -1.53372696 -1.35188076]\n",
      "[False  True False False False  True False False False  True False  True\n",
      " False False False]\n",
      "[1.71827969 1.22885895 0.4914428  0.78463856]\n"
     ]
    }
   ],
   "source": [
    "# we can also access entries with logicals\n",
    "rand_vec = np.random.randn(15)\n",
    "\n",
    "print(rand_vec)\n",
    "print(rand_vec>0)\n",
    "print(rand_vec[rand_vec>0])"
   ]
  },
  {
   "cell_type": "code",
   "execution_count": 51,
   "metadata": {},
   "outputs": [
    {
     "name": "stdout",
     "output_type": "stream",
     "text": [
      "[[-1.48570689 -0.57314154  0.99970501  0.19320329  0.22864653]\n",
      " [ 0.87478861  0.11433042  1.22906158 -0.78526212  0.87410083]\n",
      " [ 0.3167162   1.4485664   0.89504176  0.97398582  0.33664274]\n",
      " [-0.33031458 -0.50123285 -1.13226769 -0.40252776  2.36411694]\n",
      " [ 0.63309403 -0.27732305 -0.76395069 -0.65659937  1.08439321]\n",
      " [ 0.45208692  0.56219634  0.54160522  2.04357516  0.02410915]\n",
      " [ 1.07673117 -0.44650929  0.41907558 -0.48861871 -0.53785718]\n",
      " [-0.37500697 -0.79475791 -0.02269281 -0.86450734 -1.27640891]\n",
      " [ 0.88577916 -0.91145622 -0.07649006 -0.77846216 -0.10280958]\n",
      " [-1.71754634 -0.4429467  -1.47925702 -1.62020188 -0.00341789]]\n",
      "[0.99970501 0.19320329 0.22864653 0.87478861 0.11433042 1.22906158\n",
      " 0.87410083 0.3167162  1.4485664  0.89504176 0.97398582 0.33664274\n",
      " 2.36411694 0.63309403 1.08439321 0.45208692 0.56219634 0.54160522\n",
      " 2.04357516 0.02410915 1.07673117 0.41907558 0.88577916]\n"
     ]
    }
   ],
   "source": [
    "print(rand_mat2)\n",
    "print(rand_mat2[rand_mat2>0])"
   ]
  },
  {
   "cell_type": "code",
   "execution_count": 52,
   "metadata": {},
   "outputs": [
    {
     "name": "stdout",
     "output_type": "stream",
     "text": [
      "[-0.4106688   0.77925958  0.91338023  0.33870312 -0.81878062 -0.35087144]\n",
      "\n",
      "[-0.4106688  -5.         -5.          0.33870312 -0.81878062 -0.35087144]\n"
     ]
    }
   ],
   "source": [
    "\n",
    "print(rand_vec)\n",
    "print('')\n",
    "rand_vec[rand_vec>0.5] = -5\n",
    "print(rand_vec)"
   ]
  },
  {
   "cell_type": "code",
   "execution_count": 55,
   "metadata": {},
   "outputs": [],
   "source": [
    "# let's save some arrays on the disk for use later!\n",
    "np.save('r_saved_file_name',rand_mat2)\n"
   ]
  },
  {
   "cell_type": "code",
   "execution_count": 56,
   "metadata": {},
   "outputs": [],
   "source": [
    "np.savez('r_zipped_file_name',rand_mat=rand_mat,rand_mat2=rand_mat2)"
   ]
  },
  {
   "cell_type": "code",
   "execution_count": 31,
   "metadata": {},
   "outputs": [
    {
     "name": "stdout",
     "output_type": "stream",
     "text": [
      "[[-1.48570689 -0.57314154  0.99970501  0.19320329  0.22864653]\n",
      " [ 0.87478861  0.11433042  1.22906158 -0.78526212  0.87410083]\n",
      " [ 0.3167162   1.4485664   0.89504176  0.97398582  0.33664274]\n",
      " [-0.33031458 -0.50123285 -1.13226769 -0.40252776  2.36411694]\n",
      " [ 0.63309403 -0.27732305 -0.76395069 -0.65659937  1.08439321]\n",
      " [ 0.45208692  0.56219634  0.54160522  2.04357516  0.02410915]\n",
      " [ 1.07673117 -0.44650929  0.41907558 -0.48861871 -0.53785718]\n",
      " [-0.37500697 -0.79475791 -0.02269281 -0.86450734 -1.27640891]\n",
      " [ 0.88577916 -0.91145622 -0.07649006 -0.77846216 -0.10280958]\n",
      " [-1.71754634 -0.4429467  -1.47925702 -1.62020188 -0.00341789]]\n",
      "\n",
      "<numpy.lib.npyio.NpzFile object at 0x7fd5ad01e100>\n"
     ]
    }
   ],
   "source": [
    "# now let's load it\n",
    "loaded_vec = np.load('saved_file_name.npy')\n",
    "loaded_zip = np.load('zipped_file_name.npz')\n",
    "\n",
    "print(loaded_vec)\n",
    "print('')\n",
    "print(loaded_zip)"
   ]
  },
  {
   "cell_type": "code",
   "execution_count": 32,
   "metadata": {},
   "outputs": [
    {
     "name": "stdout",
     "output_type": "stream",
     "text": [
      "[[3.         3.         3.         0.53125816 0.91057158]\n",
      " [3.         3.         3.         0.         0.        ]\n",
      " [0.99912476 0.08214993 0.12234529 0.         0.        ]\n",
      " [0.53900741 0.09896074 0.9957676  0.26723056 0.73722642]\n",
      " [0.02521241 0.79491665 0.68137736 0.90472857 0.88897833]]\n",
      "\n",
      "[[-1.48570689 -0.57314154  0.99970501  0.19320329  0.22864653]\n",
      " [ 0.87478861  0.11433042  1.22906158 -0.78526212  0.87410083]\n",
      " [ 0.3167162   1.4485664   0.89504176  0.97398582  0.33664274]\n",
      " [-0.33031458 -0.50123285 -1.13226769 -0.40252776  2.36411694]\n",
      " [ 0.63309403 -0.27732305 -0.76395069 -0.65659937  1.08439321]\n",
      " [ 0.45208692  0.56219634  0.54160522  2.04357516  0.02410915]\n",
      " [ 1.07673117 -0.44650929  0.41907558 -0.48861871 -0.53785718]\n",
      " [-0.37500697 -0.79475791 -0.02269281 -0.86450734 -1.27640891]\n",
      " [ 0.88577916 -0.91145622 -0.07649006 -0.77846216 -0.10280958]\n",
      " [-1.71754634 -0.4429467  -1.47925702 -1.62020188 -0.00341789]]\n",
      "[[3.         3.         3.         0.53125816 0.91057158]\n",
      " [3.         3.         3.         0.         0.        ]\n",
      " [0.99912476 0.08214993 0.12234529 0.         0.        ]\n",
      " [0.53900741 0.09896074 0.9957676  0.26723056 0.73722642]\n",
      " [0.02521241 0.79491665 0.68137736 0.90472857 0.88897833]]\n"
     ]
    }
   ],
   "source": [
    "print(loaded_zip['rand_mat'])\n",
    "print('')\n",
    "print(loaded_zip['rand_mat2'])\n",
    "\n",
    "new_array  = loaded_zip['rand_mat']\n",
    "print(new_array)"
   ]
  },
  {
   "cell_type": "code",
   "execution_count": 33,
   "metadata": {},
   "outputs": [
    {
     "name": "stdout",
     "output_type": "stream",
     "text": [
      "[[3.         3.         3.         0.53125816 0.91057158]\n",
      " [3.         3.         3.         0.         0.        ]\n",
      " [0.99912476 0.08214993 0.12234529 0.         0.        ]\n",
      " [0.53900741 0.09896074 0.9957676  0.26723056 0.73722642]\n",
      " [0.02521241 0.79491665 0.68137736 0.90472857 0.88897833]]\n",
      "\n",
      "[[3.         3.         3.         0.53125816 0.91057158]\n",
      " [3.         3.         3.         0.         0.        ]\n",
      " [0.99912476 0.08214993 0.12234529 0.         0.        ]\n",
      " [0.53900741 0.09896074 0.9957676  0.26723056 0.73722642]\n",
      " [0.02521241 0.79491665 0.68137736 0.90472857 0.88897833]]\n"
     ]
    }
   ],
   "source": [
    "# we can also save/load as text files...but only single variables\n",
    "np.savetxt('text_file_name.txt',rand_mat,delimiter=',')\n",
    "rand_mat_txt = np.loadtxt('text_file_name.txt',delimiter=',')\n",
    "print(rand_mat)\n",
    "print('')\n",
    "print(rand_mat_txt)"
   ]
  },
  {
   "cell_type": "code",
   "execution_count": 33,
   "metadata": {},
   "outputs": [],
   "source": []
  }
 ],
 "metadata": {
  "kernelspec": {
   "display_name": "Python 3",
   "language": "python",
   "name": "python3"
  },
  "language_info": {
   "codemirror_mode": {
    "name": "ipython",
    "version": 3
   },
   "file_extension": ".py",
   "mimetype": "text/x-python",
   "name": "python",
   "nbconvert_exporter": "python",
   "pygments_lexer": "ipython3",
   "version": "3.8.5"
  }
 },
 "nbformat": 4,
 "nbformat_minor": 2
}