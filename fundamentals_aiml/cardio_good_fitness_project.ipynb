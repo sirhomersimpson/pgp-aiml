{
 "cells": [
  {
   "cell_type": "markdown",
   "metadata": {},
   "source": [
    "# Cardio Good Fitness Project \n"
   ]
  },
  {
   "cell_type": "markdown",
   "metadata": {},
   "source": [
    "Version Control (for my references): v1.0"
   ]
  },
  {
   "cell_type": "markdown",
   "metadata": {},
   "source": [
    "## 1. Objective\n",
    "Preliminary Data Analysis. Explore the dataset and practice extracting basic observations about the data"
   ]
  },
  {
   "cell_type": "markdown",
   "metadata": {},
   "source": [
    "### 1.1 Expectations\n",
    "- Come up with a customer profile (characteristics of a customer) of the different products\n",
    "- Perform uni-variate and multi-variate analyses\n",
    "- Generate a set of insights and recommendations that will help the company in targeting new customers\n"
   ]
  },
  {
   "cell_type": "markdown",
   "metadata": {},
   "source": [
    "### 1.2 Context\n",
    "The data is for customers of the treadmill product(s) of a retail store called Cardio Good Fitness. It contains the following variables\n",
    "\n",
    "**Product** - the model no. of the treadmill <br>\n",
    "**Age** - in no of years, of the customer <br>\n",
    "**Gender** - of the customer <br>\n",
    "**Education** - in no. of years, of the customer <br>\n",
    "**Marital Status** - of the customer <br>\n",
    "**Usage** - Avg. # times the customer wants to use the treadmill every week <br>\n",
    "**Fitness** - Self rated fitness score of the customer (5 - very fit, 1 - very unfit) <br>\n",
    "**Income** - of the customer<br>\n",
    "**Miles**- expected to run <br>\n",
    "* Explore the dataset to identify differences between customers of each product. \n",
    "* You can also explore relationships between the different attributes of customers. \n",
    "* You can approach it from any other line of questioning that you feel could be relevant for the business.\n",
    "\n"
   ]
  },
  {
   "cell_type": "markdown",
   "metadata": {},
   "source": [
    "### 1.3 Key questions to be answered\n",
    "* What are the differences between customers for each product?\n",
    "* What the different attributes for each bin of customer"
   ]
  },
  {
   "cell_type": "markdown",
   "metadata": {},
   "source": [
    "## 2. Analysis of dataset  "
   ]
  },
  {
   "cell_type": "markdown",
   "metadata": {},
   "source": [
    "### 2.1 Loading the libraries"
   ]
  },
  {
   "cell_type": "code",
   "execution_count": 7,
   "metadata": {},
   "outputs": [],
   "source": [
    "import warnings\n",
    "warnings.filterwarnings('ignore') #ignore those pesky warnings\n",
    "import numpy as np\n",
    "import pandas as pd\n",
    "import matplotlib.pyplot as plt\n",
    "%matplotlib inline\n",
    "import warnings\n",
    "pd.set_option('display.float_format', lambda x: '%.5f' % x) # To supress numerical display in scientific notations"
   ]
  },
  {
   "cell_type": "markdown",
   "metadata": {},
   "source": [
    "### 2.2 Import the dataset"
   ]
  },
  {
   "cell_type": "code",
   "execution_count": 8,
   "metadata": {},
   "outputs": [],
   "source": [
    "#Load Dataset \n",
    "cardio_dataset = pd.read_csv('CardioGoodFitness.csv')"
   ]
  },
  {
   "cell_type": "markdown",
   "metadata": {},
   "source": [
    "### 2.3 Check the dataset head()"
   ]
  },
  {
   "cell_type": "code",
   "execution_count": 21,
   "metadata": {},
   "outputs": [
    {
     "data": {
      "text/html": [
       "<div>\n",
       "<style scoped>\n",
       "    .dataframe tbody tr th:only-of-type {\n",
       "        vertical-align: middle;\n",
       "    }\n",
       "\n",
       "    .dataframe tbody tr th {\n",
       "        vertical-align: top;\n",
       "    }\n",
       "\n",
       "    .dataframe thead th {\n",
       "        text-align: right;\n",
       "    }\n",
       "</style>\n",
       "<table border=\"1\" class=\"dataframe\">\n",
       "  <thead>\n",
       "    <tr style=\"text-align: right;\">\n",
       "      <th></th>\n",
       "      <th>Product</th>\n",
       "      <th>Age</th>\n",
       "      <th>Gender</th>\n",
       "      <th>Education</th>\n",
       "      <th>MaritalStatus</th>\n",
       "      <th>Usage</th>\n",
       "      <th>Fitness</th>\n",
       "      <th>Income</th>\n",
       "      <th>Miles</th>\n",
       "    </tr>\n",
       "  </thead>\n",
       "  <tbody>\n",
       "    <tr>\n",
       "      <th>0</th>\n",
       "      <td>TM195</td>\n",
       "      <td>18</td>\n",
       "      <td>Male</td>\n",
       "      <td>14</td>\n",
       "      <td>Single</td>\n",
       "      <td>3</td>\n",
       "      <td>4</td>\n",
       "      <td>29562</td>\n",
       "      <td>112</td>\n",
       "    </tr>\n",
       "    <tr>\n",
       "      <th>1</th>\n",
       "      <td>TM195</td>\n",
       "      <td>19</td>\n",
       "      <td>Male</td>\n",
       "      <td>15</td>\n",
       "      <td>Single</td>\n",
       "      <td>2</td>\n",
       "      <td>3</td>\n",
       "      <td>31836</td>\n",
       "      <td>75</td>\n",
       "    </tr>\n",
       "    <tr>\n",
       "      <th>2</th>\n",
       "      <td>TM195</td>\n",
       "      <td>19</td>\n",
       "      <td>Female</td>\n",
       "      <td>14</td>\n",
       "      <td>Partnered</td>\n",
       "      <td>4</td>\n",
       "      <td>3</td>\n",
       "      <td>30699</td>\n",
       "      <td>66</td>\n",
       "    </tr>\n",
       "    <tr>\n",
       "      <th>3</th>\n",
       "      <td>TM195</td>\n",
       "      <td>19</td>\n",
       "      <td>Male</td>\n",
       "      <td>12</td>\n",
       "      <td>Single</td>\n",
       "      <td>3</td>\n",
       "      <td>3</td>\n",
       "      <td>32973</td>\n",
       "      <td>85</td>\n",
       "    </tr>\n",
       "    <tr>\n",
       "      <th>4</th>\n",
       "      <td>TM195</td>\n",
       "      <td>20</td>\n",
       "      <td>Male</td>\n",
       "      <td>13</td>\n",
       "      <td>Partnered</td>\n",
       "      <td>4</td>\n",
       "      <td>2</td>\n",
       "      <td>35247</td>\n",
       "      <td>47</td>\n",
       "    </tr>\n",
       "  </tbody>\n",
       "</table>\n",
       "</div>"
      ],
      "text/plain": [
       "  Product  Age  Gender  Education MaritalStatus  Usage  Fitness  Income  Miles\n",
       "0   TM195   18    Male         14        Single      3        4   29562    112\n",
       "1   TM195   19    Male         15        Single      2        3   31836     75\n",
       "2   TM195   19  Female         14     Partnered      4        3   30699     66\n",
       "3   TM195   19    Male         12        Single      3        3   32973     85\n",
       "4   TM195   20    Male         13     Partnered      4        2   35247     47"
      ]
     },
     "execution_count": 21,
     "metadata": {},
     "output_type": "execute_result"
    }
   ],
   "source": [
    "# Exploring the dataset\n",
    "cardio_dataset.head()"
   ]
  },
  {
   "cell_type": "code",
   "execution_count": 22,
   "metadata": {},
   "outputs": [
    {
     "data": {
      "text/html": [
       "<div>\n",
       "<style scoped>\n",
       "    .dataframe tbody tr th:only-of-type {\n",
       "        vertical-align: middle;\n",
       "    }\n",
       "\n",
       "    .dataframe tbody tr th {\n",
       "        vertical-align: top;\n",
       "    }\n",
       "\n",
       "    .dataframe thead th {\n",
       "        text-align: right;\n",
       "    }\n",
       "</style>\n",
       "<table border=\"1\" class=\"dataframe\">\n",
       "  <thead>\n",
       "    <tr style=\"text-align: right;\">\n",
       "      <th></th>\n",
       "      <th>Product</th>\n",
       "      <th>Age</th>\n",
       "      <th>Gender</th>\n",
       "      <th>Education</th>\n",
       "      <th>MaritalStatus</th>\n",
       "      <th>Usage</th>\n",
       "      <th>Fitness</th>\n",
       "      <th>Income</th>\n",
       "      <th>Miles</th>\n",
       "    </tr>\n",
       "  </thead>\n",
       "  <tbody>\n",
       "    <tr>\n",
       "      <th>175</th>\n",
       "      <td>TM798</td>\n",
       "      <td>40</td>\n",
       "      <td>Male</td>\n",
       "      <td>21</td>\n",
       "      <td>Single</td>\n",
       "      <td>6</td>\n",
       "      <td>5</td>\n",
       "      <td>83416</td>\n",
       "      <td>200</td>\n",
       "    </tr>\n",
       "    <tr>\n",
       "      <th>176</th>\n",
       "      <td>TM798</td>\n",
       "      <td>42</td>\n",
       "      <td>Male</td>\n",
       "      <td>18</td>\n",
       "      <td>Single</td>\n",
       "      <td>5</td>\n",
       "      <td>4</td>\n",
       "      <td>89641</td>\n",
       "      <td>200</td>\n",
       "    </tr>\n",
       "    <tr>\n",
       "      <th>177</th>\n",
       "      <td>TM798</td>\n",
       "      <td>45</td>\n",
       "      <td>Male</td>\n",
       "      <td>16</td>\n",
       "      <td>Single</td>\n",
       "      <td>5</td>\n",
       "      <td>5</td>\n",
       "      <td>90886</td>\n",
       "      <td>160</td>\n",
       "    </tr>\n",
       "    <tr>\n",
       "      <th>178</th>\n",
       "      <td>TM798</td>\n",
       "      <td>47</td>\n",
       "      <td>Male</td>\n",
       "      <td>18</td>\n",
       "      <td>Partnered</td>\n",
       "      <td>4</td>\n",
       "      <td>5</td>\n",
       "      <td>104581</td>\n",
       "      <td>120</td>\n",
       "    </tr>\n",
       "    <tr>\n",
       "      <th>179</th>\n",
       "      <td>TM798</td>\n",
       "      <td>48</td>\n",
       "      <td>Male</td>\n",
       "      <td>18</td>\n",
       "      <td>Partnered</td>\n",
       "      <td>4</td>\n",
       "      <td>5</td>\n",
       "      <td>95508</td>\n",
       "      <td>180</td>\n",
       "    </tr>\n",
       "  </tbody>\n",
       "</table>\n",
       "</div>"
      ],
      "text/plain": [
       "    Product  Age Gender  Education MaritalStatus  Usage  Fitness  Income  \\\n",
       "175   TM798   40   Male         21        Single      6        5   83416   \n",
       "176   TM798   42   Male         18        Single      5        4   89641   \n",
       "177   TM798   45   Male         16        Single      5        5   90886   \n",
       "178   TM798   47   Male         18     Partnered      4        5  104581   \n",
       "179   TM798   48   Male         18     Partnered      4        5   95508   \n",
       "\n",
       "     Miles  \n",
       "175    200  \n",
       "176    200  \n",
       "177    160  \n",
       "178    120  \n",
       "179    180  "
      ]
     },
     "execution_count": 22,
     "metadata": {},
     "output_type": "execute_result"
    }
   ],
   "source": [
    "cardio_dataset.tail()"
   ]
  },
  {
   "cell_type": "markdown",
   "metadata": {},
   "source": [
    "### 2.4 Check the dataset shape()"
   ]
  },
  {
   "cell_type": "code",
   "execution_count": 23,
   "metadata": {},
   "outputs": [
    {
     "data": {
      "text/plain": [
       "(180, 9)"
      ]
     },
     "execution_count": 23,
     "metadata": {},
     "output_type": "execute_result"
    }
   ],
   "source": [
    "# Exploring the dataset - length / shape\n",
    "cardio_dataset.shape"
   ]
  },
  {
   "cell_type": "markdown",
   "metadata": {},
   "source": [
    "### 2.5 Check the dataset columns"
   ]
  },
  {
   "cell_type": "code",
   "execution_count": 24,
   "metadata": {},
   "outputs": [
    {
     "data": {
      "text/plain": [
       "Index(['Product', 'Age', 'Gender', 'Education', 'MaritalStatus', 'Usage',\n",
       "       'Fitness', 'Income', 'Miles'],\n",
       "      dtype='object')"
      ]
     },
     "execution_count": 24,
     "metadata": {},
     "output_type": "execute_result"
    }
   ],
   "source": [
    "cardio_dataset.columns"
   ]
  },
  {
   "cell_type": "markdown",
   "metadata": {},
   "source": [
    "### 2.6 Check the dataset describe()"
   ]
  },
  {
   "cell_type": "code",
   "execution_count": 20,
   "metadata": {},
   "outputs": [
    {
     "data": {
      "text/html": [
       "<div>\n",
       "<style scoped>\n",
       "    .dataframe tbody tr th:only-of-type {\n",
       "        vertical-align: middle;\n",
       "    }\n",
       "\n",
       "    .dataframe tbody tr th {\n",
       "        vertical-align: top;\n",
       "    }\n",
       "\n",
       "    .dataframe thead th {\n",
       "        text-align: right;\n",
       "    }\n",
       "</style>\n",
       "<table border=\"1\" class=\"dataframe\">\n",
       "  <thead>\n",
       "    <tr style=\"text-align: right;\">\n",
       "      <th></th>\n",
       "      <th>Age</th>\n",
       "      <th>Education</th>\n",
       "      <th>Usage</th>\n",
       "      <th>Fitness</th>\n",
       "      <th>Income</th>\n",
       "      <th>Miles</th>\n",
       "    </tr>\n",
       "  </thead>\n",
       "  <tbody>\n",
       "    <tr>\n",
       "      <th>count</th>\n",
       "      <td>180.00000</td>\n",
       "      <td>180.00000</td>\n",
       "      <td>180.00000</td>\n",
       "      <td>180.00000</td>\n",
       "      <td>180.00000</td>\n",
       "      <td>180.00000</td>\n",
       "    </tr>\n",
       "    <tr>\n",
       "      <th>mean</th>\n",
       "      <td>28.78889</td>\n",
       "      <td>15.57222</td>\n",
       "      <td>3.45556</td>\n",
       "      <td>3.31111</td>\n",
       "      <td>53719.57778</td>\n",
       "      <td>103.19444</td>\n",
       "    </tr>\n",
       "    <tr>\n",
       "      <th>std</th>\n",
       "      <td>6.94350</td>\n",
       "      <td>1.61705</td>\n",
       "      <td>1.08480</td>\n",
       "      <td>0.95887</td>\n",
       "      <td>16506.68423</td>\n",
       "      <td>51.86360</td>\n",
       "    </tr>\n",
       "    <tr>\n",
       "      <th>min</th>\n",
       "      <td>18.00000</td>\n",
       "      <td>12.00000</td>\n",
       "      <td>2.00000</td>\n",
       "      <td>1.00000</td>\n",
       "      <td>29562.00000</td>\n",
       "      <td>21.00000</td>\n",
       "    </tr>\n",
       "    <tr>\n",
       "      <th>25%</th>\n",
       "      <td>24.00000</td>\n",
       "      <td>14.00000</td>\n",
       "      <td>3.00000</td>\n",
       "      <td>3.00000</td>\n",
       "      <td>44058.75000</td>\n",
       "      <td>66.00000</td>\n",
       "    </tr>\n",
       "    <tr>\n",
       "      <th>50%</th>\n",
       "      <td>26.00000</td>\n",
       "      <td>16.00000</td>\n",
       "      <td>3.00000</td>\n",
       "      <td>3.00000</td>\n",
       "      <td>50596.50000</td>\n",
       "      <td>94.00000</td>\n",
       "    </tr>\n",
       "    <tr>\n",
       "      <th>75%</th>\n",
       "      <td>33.00000</td>\n",
       "      <td>16.00000</td>\n",
       "      <td>4.00000</td>\n",
       "      <td>4.00000</td>\n",
       "      <td>58668.00000</td>\n",
       "      <td>114.75000</td>\n",
       "    </tr>\n",
       "    <tr>\n",
       "      <th>max</th>\n",
       "      <td>50.00000</td>\n",
       "      <td>21.00000</td>\n",
       "      <td>7.00000</td>\n",
       "      <td>5.00000</td>\n",
       "      <td>104581.00000</td>\n",
       "      <td>360.00000</td>\n",
       "    </tr>\n",
       "  </tbody>\n",
       "</table>\n",
       "</div>"
      ],
      "text/plain": [
       "            Age  Education     Usage   Fitness       Income     Miles\n",
       "count 180.00000  180.00000 180.00000 180.00000    180.00000 180.00000\n",
       "mean   28.78889   15.57222   3.45556   3.31111  53719.57778 103.19444\n",
       "std     6.94350    1.61705   1.08480   0.95887  16506.68423  51.86360\n",
       "min    18.00000   12.00000   2.00000   1.00000  29562.00000  21.00000\n",
       "25%    24.00000   14.00000   3.00000   3.00000  44058.75000  66.00000\n",
       "50%    26.00000   16.00000   3.00000   3.00000  50596.50000  94.00000\n",
       "75%    33.00000   16.00000   4.00000   4.00000  58668.00000 114.75000\n",
       "max    50.00000   21.00000   7.00000   5.00000 104581.00000 360.00000"
      ]
     },
     "execution_count": 20,
     "metadata": {},
     "output_type": "execute_result"
    }
   ],
   "source": [
    "cardio_dataset.describe()"
   ]
  },
  {
   "cell_type": "markdown",
   "metadata": {},
   "source": [
    "### 2.7 Check dataset info()"
   ]
  },
  {
   "cell_type": "code",
   "execution_count": 14,
   "metadata": {},
   "outputs": [
    {
     "name": "stdout",
     "output_type": "stream",
     "text": [
      "<class 'pandas.core.frame.DataFrame'>\n",
      "RangeIndex: 180 entries, 0 to 179\n",
      "Data columns (total 9 columns):\n",
      " #   Column         Non-Null Count  Dtype \n",
      "---  ------         --------------  ----- \n",
      " 0   Product        180 non-null    object\n",
      " 1   Age            180 non-null    int64 \n",
      " 2   Gender         180 non-null    object\n",
      " 3   Education      180 non-null    int64 \n",
      " 4   MaritalStatus  180 non-null    object\n",
      " 5   Usage          180 non-null    int64 \n",
      " 6   Fitness        180 non-null    int64 \n",
      " 7   Income         180 non-null    int64 \n",
      " 8   Miles          180 non-null    int64 \n",
      "dtypes: int64(6), object(3)\n",
      "memory usage: 12.8+ KB\n"
     ]
    }
   ],
   "source": [
    "# Exploring the dataset - info\n",
    "cardio_dataset.info()"
   ]
  },
  {
   "cell_type": "code",
   "execution_count": 15,
   "metadata": {},
   "outputs": [
    {
     "data": {
      "text/html": [
       "<div>\n",
       "<style scoped>\n",
       "    .dataframe tbody tr th:only-of-type {\n",
       "        vertical-align: middle;\n",
       "    }\n",
       "\n",
       "    .dataframe tbody tr th {\n",
       "        vertical-align: top;\n",
       "    }\n",
       "\n",
       "    .dataframe thead th {\n",
       "        text-align: right;\n",
       "    }\n",
       "</style>\n",
       "<table border=\"1\" class=\"dataframe\">\n",
       "  <thead>\n",
       "    <tr style=\"text-align: right;\">\n",
       "      <th></th>\n",
       "      <th>Product</th>\n",
       "      <th>Age</th>\n",
       "      <th>Gender</th>\n",
       "      <th>Education</th>\n",
       "      <th>MaritalStatus</th>\n",
       "      <th>Usage</th>\n",
       "      <th>Fitness</th>\n",
       "      <th>Income</th>\n",
       "      <th>Miles</th>\n",
       "    </tr>\n",
       "  </thead>\n",
       "  <tbody>\n",
       "    <tr>\n",
       "      <th>count</th>\n",
       "      <td>180</td>\n",
       "      <td>180.00000</td>\n",
       "      <td>180</td>\n",
       "      <td>180.00000</td>\n",
       "      <td>180</td>\n",
       "      <td>180.00000</td>\n",
       "      <td>180.00000</td>\n",
       "      <td>180.00000</td>\n",
       "      <td>180.00000</td>\n",
       "    </tr>\n",
       "    <tr>\n",
       "      <th>unique</th>\n",
       "      <td>3</td>\n",
       "      <td>NaN</td>\n",
       "      <td>2</td>\n",
       "      <td>NaN</td>\n",
       "      <td>2</td>\n",
       "      <td>NaN</td>\n",
       "      <td>NaN</td>\n",
       "      <td>NaN</td>\n",
       "      <td>NaN</td>\n",
       "    </tr>\n",
       "    <tr>\n",
       "      <th>top</th>\n",
       "      <td>TM195</td>\n",
       "      <td>NaN</td>\n",
       "      <td>Male</td>\n",
       "      <td>NaN</td>\n",
       "      <td>Partnered</td>\n",
       "      <td>NaN</td>\n",
       "      <td>NaN</td>\n",
       "      <td>NaN</td>\n",
       "      <td>NaN</td>\n",
       "    </tr>\n",
       "    <tr>\n",
       "      <th>freq</th>\n",
       "      <td>80</td>\n",
       "      <td>NaN</td>\n",
       "      <td>104</td>\n",
       "      <td>NaN</td>\n",
       "      <td>107</td>\n",
       "      <td>NaN</td>\n",
       "      <td>NaN</td>\n",
       "      <td>NaN</td>\n",
       "      <td>NaN</td>\n",
       "    </tr>\n",
       "    <tr>\n",
       "      <th>mean</th>\n",
       "      <td>NaN</td>\n",
       "      <td>28.78889</td>\n",
       "      <td>NaN</td>\n",
       "      <td>15.57222</td>\n",
       "      <td>NaN</td>\n",
       "      <td>3.45556</td>\n",
       "      <td>3.31111</td>\n",
       "      <td>53719.57778</td>\n",
       "      <td>103.19444</td>\n",
       "    </tr>\n",
       "    <tr>\n",
       "      <th>std</th>\n",
       "      <td>NaN</td>\n",
       "      <td>6.94350</td>\n",
       "      <td>NaN</td>\n",
       "      <td>1.61705</td>\n",
       "      <td>NaN</td>\n",
       "      <td>1.08480</td>\n",
       "      <td>0.95887</td>\n",
       "      <td>16506.68423</td>\n",
       "      <td>51.86360</td>\n",
       "    </tr>\n",
       "    <tr>\n",
       "      <th>min</th>\n",
       "      <td>NaN</td>\n",
       "      <td>18.00000</td>\n",
       "      <td>NaN</td>\n",
       "      <td>12.00000</td>\n",
       "      <td>NaN</td>\n",
       "      <td>2.00000</td>\n",
       "      <td>1.00000</td>\n",
       "      <td>29562.00000</td>\n",
       "      <td>21.00000</td>\n",
       "    </tr>\n",
       "    <tr>\n",
       "      <th>25%</th>\n",
       "      <td>NaN</td>\n",
       "      <td>24.00000</td>\n",
       "      <td>NaN</td>\n",
       "      <td>14.00000</td>\n",
       "      <td>NaN</td>\n",
       "      <td>3.00000</td>\n",
       "      <td>3.00000</td>\n",
       "      <td>44058.75000</td>\n",
       "      <td>66.00000</td>\n",
       "    </tr>\n",
       "    <tr>\n",
       "      <th>50%</th>\n",
       "      <td>NaN</td>\n",
       "      <td>26.00000</td>\n",
       "      <td>NaN</td>\n",
       "      <td>16.00000</td>\n",
       "      <td>NaN</td>\n",
       "      <td>3.00000</td>\n",
       "      <td>3.00000</td>\n",
       "      <td>50596.50000</td>\n",
       "      <td>94.00000</td>\n",
       "    </tr>\n",
       "    <tr>\n",
       "      <th>75%</th>\n",
       "      <td>NaN</td>\n",
       "      <td>33.00000</td>\n",
       "      <td>NaN</td>\n",
       "      <td>16.00000</td>\n",
       "      <td>NaN</td>\n",
       "      <td>4.00000</td>\n",
       "      <td>4.00000</td>\n",
       "      <td>58668.00000</td>\n",
       "      <td>114.75000</td>\n",
       "    </tr>\n",
       "    <tr>\n",
       "      <th>max</th>\n",
       "      <td>NaN</td>\n",
       "      <td>50.00000</td>\n",
       "      <td>NaN</td>\n",
       "      <td>21.00000</td>\n",
       "      <td>NaN</td>\n",
       "      <td>7.00000</td>\n",
       "      <td>5.00000</td>\n",
       "      <td>104581.00000</td>\n",
       "      <td>360.00000</td>\n",
       "    </tr>\n",
       "  </tbody>\n",
       "</table>\n",
       "</div>"
      ],
      "text/plain": [
       "       Product       Age Gender  Education MaritalStatus     Usage   Fitness  \\\n",
       "count      180 180.00000    180  180.00000           180 180.00000 180.00000   \n",
       "unique       3       NaN      2        NaN             2       NaN       NaN   \n",
       "top      TM195       NaN   Male        NaN     Partnered       NaN       NaN   \n",
       "freq        80       NaN    104        NaN           107       NaN       NaN   \n",
       "mean       NaN  28.78889    NaN   15.57222           NaN   3.45556   3.31111   \n",
       "std        NaN   6.94350    NaN    1.61705           NaN   1.08480   0.95887   \n",
       "min        NaN  18.00000    NaN   12.00000           NaN   2.00000   1.00000   \n",
       "25%        NaN  24.00000    NaN   14.00000           NaN   3.00000   3.00000   \n",
       "50%        NaN  26.00000    NaN   16.00000           NaN   3.00000   3.00000   \n",
       "75%        NaN  33.00000    NaN   16.00000           NaN   4.00000   4.00000   \n",
       "max        NaN  50.00000    NaN   21.00000           NaN   7.00000   5.00000   \n",
       "\n",
       "             Income     Miles  \n",
       "count     180.00000 180.00000  \n",
       "unique          NaN       NaN  \n",
       "top             NaN       NaN  \n",
       "freq            NaN       NaN  \n",
       "mean    53719.57778 103.19444  \n",
       "std     16506.68423  51.86360  \n",
       "min     29562.00000  21.00000  \n",
       "25%     44058.75000  66.00000  \n",
       "50%     50596.50000  94.00000  \n",
       "75%     58668.00000 114.75000  \n",
       "max    104581.00000 360.00000  "
      ]
     },
     "execution_count": 15,
     "metadata": {},
     "output_type": "execute_result"
    }
   ],
   "source": [
    "# Exploring the dataset: This function shows some basic descriptive statistics for all numeric columns\n",
    "cardio_dataset.describe(include='all')"
   ]
  },
  {
   "cell_type": "markdown",
   "metadata": {},
   "source": [
    "## Observations\n",
    "1. Average age group of customers is 26 yrs with the youngest being 18 and the olders 50\n",
    "2. It is interesting that most of the customers are Partnered relationshop\n",
    "3. Average income of customers is ~50K with min 29K and max is 104K. It is quite a big spread of the earning power of the customers base"
   ]
  },
  {
   "cell_type": "markdown",
   "metadata": {},
   "source": [
    "### 2.8 List / count the datatypes"
   ]
  },
  {
   "cell_type": "code",
   "execution_count": 25,
   "metadata": {},
   "outputs": [
    {
     "data": {
      "text/plain": [
       "Product          object\n",
       "Age               int64\n",
       "Gender           object\n",
       "Education         int64\n",
       "MaritalStatus    object\n",
       "Usage             int64\n",
       "Fitness           int64\n",
       "Income            int64\n",
       "Miles             int64\n",
       "dtype: object"
      ]
     },
     "execution_count": 25,
     "metadata": {},
     "output_type": "execute_result"
    }
   ],
   "source": [
    "cardio_dataset.dtypes"
   ]
  },
  {
   "cell_type": "code",
   "execution_count": 26,
   "metadata": {},
   "outputs": [
    {
     "data": {
      "text/plain": [
       "int64     6\n",
       "object    3\n",
       "dtype: int64"
      ]
     },
     "execution_count": 26,
     "metadata": {},
     "output_type": "execute_result"
    }
   ],
   "source": [
    "cardio_dataset.dtypes.value_counts()"
   ]
  },
  {
   "cell_type": "markdown",
   "metadata": {},
   "source": [
    "## Observations\n",
    "1. Product, Gender, MaritalStatus are object data type. Note to self to change it to categorical\n",
    "2. Age, Education, Usage, Fitness, Income, Miles are all int64 type - this is OK\n",
    "\n"
   ]
  },
  {
   "cell_type": "markdown",
   "metadata": {},
   "source": [
    "### 2.9 Changing dtypes for object data types to category"
   ]
  },
  {
   "cell_type": "code",
   "execution_count": 56,
   "metadata": {},
   "outputs": [],
   "source": [
    "# Changing product, gender, marital status for better processing\n",
    "\n",
    "cardio_dataset.Product = cardio_dataset.Product.astype('category')\n",
    "cardio_dataset.Gender = cardio_dataset.Gender.astype('category')\n",
    "cardio_dataset.MaritalStatus = cardio_dataset.MaritalStatus.astype('category')"
   ]
  },
  {
   "cell_type": "code",
   "execution_count": 57,
   "metadata": {},
   "outputs": [
    {
     "data": {
      "text/plain": [
       "Product          category\n",
       "Age                 int64\n",
       "Gender           category\n",
       "Education           int64\n",
       "MaritalStatus    category\n",
       "Usage               int64\n",
       "Fitness             int64\n",
       "Income              int64\n",
       "Miles               int64\n",
       "dtype: object"
      ]
     },
     "execution_count": 57,
     "metadata": {},
     "output_type": "execute_result"
    }
   ],
   "source": [
    "cardio_dataset.dtypes"
   ]
  },
  {
   "cell_type": "code",
   "execution_count": 58,
   "metadata": {},
   "outputs": [
    {
     "data": {
      "text/html": [
       "<div>\n",
       "<style scoped>\n",
       "    .dataframe tbody tr th:only-of-type {\n",
       "        vertical-align: middle;\n",
       "    }\n",
       "\n",
       "    .dataframe tbody tr th {\n",
       "        vertical-align: top;\n",
       "    }\n",
       "\n",
       "    .dataframe thead th {\n",
       "        text-align: right;\n",
       "    }\n",
       "</style>\n",
       "<table border=\"1\" class=\"dataframe\">\n",
       "  <thead>\n",
       "    <tr style=\"text-align: right;\">\n",
       "      <th></th>\n",
       "      <th>Age</th>\n",
       "      <th>Education</th>\n",
       "      <th>Usage</th>\n",
       "      <th>Fitness</th>\n",
       "      <th>Income</th>\n",
       "      <th>Miles</th>\n",
       "    </tr>\n",
       "  </thead>\n",
       "  <tbody>\n",
       "    <tr>\n",
       "      <th>count</th>\n",
       "      <td>180.00000</td>\n",
       "      <td>180.00000</td>\n",
       "      <td>180.00000</td>\n",
       "      <td>180.00000</td>\n",
       "      <td>180.00000</td>\n",
       "      <td>180.00000</td>\n",
       "    </tr>\n",
       "    <tr>\n",
       "      <th>mean</th>\n",
       "      <td>28.78889</td>\n",
       "      <td>15.57222</td>\n",
       "      <td>3.45556</td>\n",
       "      <td>3.31111</td>\n",
       "      <td>53719.57778</td>\n",
       "      <td>103.19444</td>\n",
       "    </tr>\n",
       "    <tr>\n",
       "      <th>std</th>\n",
       "      <td>6.94350</td>\n",
       "      <td>1.61705</td>\n",
       "      <td>1.08480</td>\n",
       "      <td>0.95887</td>\n",
       "      <td>16506.68423</td>\n",
       "      <td>51.86360</td>\n",
       "    </tr>\n",
       "    <tr>\n",
       "      <th>min</th>\n",
       "      <td>18.00000</td>\n",
       "      <td>12.00000</td>\n",
       "      <td>2.00000</td>\n",
       "      <td>1.00000</td>\n",
       "      <td>29562.00000</td>\n",
       "      <td>21.00000</td>\n",
       "    </tr>\n",
       "    <tr>\n",
       "      <th>25%</th>\n",
       "      <td>24.00000</td>\n",
       "      <td>14.00000</td>\n",
       "      <td>3.00000</td>\n",
       "      <td>3.00000</td>\n",
       "      <td>44058.75000</td>\n",
       "      <td>66.00000</td>\n",
       "    </tr>\n",
       "    <tr>\n",
       "      <th>50%</th>\n",
       "      <td>26.00000</td>\n",
       "      <td>16.00000</td>\n",
       "      <td>3.00000</td>\n",
       "      <td>3.00000</td>\n",
       "      <td>50596.50000</td>\n",
       "      <td>94.00000</td>\n",
       "    </tr>\n",
       "    <tr>\n",
       "      <th>75%</th>\n",
       "      <td>33.00000</td>\n",
       "      <td>16.00000</td>\n",
       "      <td>4.00000</td>\n",
       "      <td>4.00000</td>\n",
       "      <td>58668.00000</td>\n",
       "      <td>114.75000</td>\n",
       "    </tr>\n",
       "    <tr>\n",
       "      <th>max</th>\n",
       "      <td>50.00000</td>\n",
       "      <td>21.00000</td>\n",
       "      <td>7.00000</td>\n",
       "      <td>5.00000</td>\n",
       "      <td>104581.00000</td>\n",
       "      <td>360.00000</td>\n",
       "    </tr>\n",
       "  </tbody>\n",
       "</table>\n",
       "</div>"
      ],
      "text/plain": [
       "            Age  Education     Usage   Fitness       Income     Miles\n",
       "count 180.00000  180.00000 180.00000 180.00000    180.00000 180.00000\n",
       "mean   28.78889   15.57222   3.45556   3.31111  53719.57778 103.19444\n",
       "std     6.94350    1.61705   1.08480   0.95887  16506.68423  51.86360\n",
       "min    18.00000   12.00000   2.00000   1.00000  29562.00000  21.00000\n",
       "25%    24.00000   14.00000   3.00000   3.00000  44058.75000  66.00000\n",
       "50%    26.00000   16.00000   3.00000   3.00000  50596.50000  94.00000\n",
       "75%    33.00000   16.00000   4.00000   4.00000  58668.00000 114.75000\n",
       "max    50.00000   21.00000   7.00000   5.00000 104581.00000 360.00000"
      ]
     },
     "execution_count": 58,
     "metadata": {},
     "output_type": "execute_result"
    }
   ],
   "source": [
    "cardio_dataset.describe()"
   ]
  },
  {
   "cell_type": "markdown",
   "metadata": {},
   "source": [
    "### 2.9 Checking missing values in dataset"
   ]
  },
  {
   "cell_type": "code",
   "execution_count": 37,
   "metadata": {},
   "outputs": [
    {
     "data": {
      "text/html": [
       "<div>\n",
       "<style scoped>\n",
       "    .dataframe tbody tr th:only-of-type {\n",
       "        vertical-align: middle;\n",
       "    }\n",
       "\n",
       "    .dataframe tbody tr th {\n",
       "        vertical-align: top;\n",
       "    }\n",
       "\n",
       "    .dataframe thead th {\n",
       "        text-align: right;\n",
       "    }\n",
       "</style>\n",
       "<table border=\"1\" class=\"dataframe\">\n",
       "  <thead>\n",
       "    <tr style=\"text-align: right;\">\n",
       "      <th></th>\n",
       "      <th>Product</th>\n",
       "      <th>Age</th>\n",
       "      <th>Gender</th>\n",
       "      <th>Education</th>\n",
       "      <th>MaritalStatus</th>\n",
       "      <th>Usage</th>\n",
       "      <th>Fitness</th>\n",
       "      <th>Income</th>\n",
       "      <th>Miles</th>\n",
       "    </tr>\n",
       "  </thead>\n",
       "  <tbody>\n",
       "    <tr>\n",
       "      <th>0</th>\n",
       "      <td>False</td>\n",
       "      <td>False</td>\n",
       "      <td>False</td>\n",
       "      <td>False</td>\n",
       "      <td>False</td>\n",
       "      <td>False</td>\n",
       "      <td>False</td>\n",
       "      <td>False</td>\n",
       "      <td>False</td>\n",
       "    </tr>\n",
       "    <tr>\n",
       "      <th>1</th>\n",
       "      <td>False</td>\n",
       "      <td>False</td>\n",
       "      <td>False</td>\n",
       "      <td>False</td>\n",
       "      <td>False</td>\n",
       "      <td>False</td>\n",
       "      <td>False</td>\n",
       "      <td>False</td>\n",
       "      <td>False</td>\n",
       "    </tr>\n",
       "    <tr>\n",
       "      <th>2</th>\n",
       "      <td>False</td>\n",
       "      <td>False</td>\n",
       "      <td>False</td>\n",
       "      <td>False</td>\n",
       "      <td>False</td>\n",
       "      <td>False</td>\n",
       "      <td>False</td>\n",
       "      <td>False</td>\n",
       "      <td>False</td>\n",
       "    </tr>\n",
       "    <tr>\n",
       "      <th>3</th>\n",
       "      <td>False</td>\n",
       "      <td>False</td>\n",
       "      <td>False</td>\n",
       "      <td>False</td>\n",
       "      <td>False</td>\n",
       "      <td>False</td>\n",
       "      <td>False</td>\n",
       "      <td>False</td>\n",
       "      <td>False</td>\n",
       "    </tr>\n",
       "    <tr>\n",
       "      <th>4</th>\n",
       "      <td>False</td>\n",
       "      <td>False</td>\n",
       "      <td>False</td>\n",
       "      <td>False</td>\n",
       "      <td>False</td>\n",
       "      <td>False</td>\n",
       "      <td>False</td>\n",
       "      <td>False</td>\n",
       "      <td>False</td>\n",
       "    </tr>\n",
       "    <tr>\n",
       "      <th>...</th>\n",
       "      <td>...</td>\n",
       "      <td>...</td>\n",
       "      <td>...</td>\n",
       "      <td>...</td>\n",
       "      <td>...</td>\n",
       "      <td>...</td>\n",
       "      <td>...</td>\n",
       "      <td>...</td>\n",
       "      <td>...</td>\n",
       "    </tr>\n",
       "    <tr>\n",
       "      <th>175</th>\n",
       "      <td>False</td>\n",
       "      <td>False</td>\n",
       "      <td>False</td>\n",
       "      <td>False</td>\n",
       "      <td>False</td>\n",
       "      <td>False</td>\n",
       "      <td>False</td>\n",
       "      <td>False</td>\n",
       "      <td>False</td>\n",
       "    </tr>\n",
       "    <tr>\n",
       "      <th>176</th>\n",
       "      <td>False</td>\n",
       "      <td>False</td>\n",
       "      <td>False</td>\n",
       "      <td>False</td>\n",
       "      <td>False</td>\n",
       "      <td>False</td>\n",
       "      <td>False</td>\n",
       "      <td>False</td>\n",
       "      <td>False</td>\n",
       "    </tr>\n",
       "    <tr>\n",
       "      <th>177</th>\n",
       "      <td>False</td>\n",
       "      <td>False</td>\n",
       "      <td>False</td>\n",
       "      <td>False</td>\n",
       "      <td>False</td>\n",
       "      <td>False</td>\n",
       "      <td>False</td>\n",
       "      <td>False</td>\n",
       "      <td>False</td>\n",
       "    </tr>\n",
       "    <tr>\n",
       "      <th>178</th>\n",
       "      <td>False</td>\n",
       "      <td>False</td>\n",
       "      <td>False</td>\n",
       "      <td>False</td>\n",
       "      <td>False</td>\n",
       "      <td>False</td>\n",
       "      <td>False</td>\n",
       "      <td>False</td>\n",
       "      <td>False</td>\n",
       "    </tr>\n",
       "    <tr>\n",
       "      <th>179</th>\n",
       "      <td>False</td>\n",
       "      <td>False</td>\n",
       "      <td>False</td>\n",
       "      <td>False</td>\n",
       "      <td>False</td>\n",
       "      <td>False</td>\n",
       "      <td>False</td>\n",
       "      <td>False</td>\n",
       "      <td>False</td>\n",
       "    </tr>\n",
       "  </tbody>\n",
       "</table>\n",
       "<p>180 rows × 9 columns</p>\n",
       "</div>"
      ],
      "text/plain": [
       "     Product    Age  Gender  Education  MaritalStatus  Usage  Fitness  Income  \\\n",
       "0      False  False   False      False          False  False    False   False   \n",
       "1      False  False   False      False          False  False    False   False   \n",
       "2      False  False   False      False          False  False    False   False   \n",
       "3      False  False   False      False          False  False    False   False   \n",
       "4      False  False   False      False          False  False    False   False   \n",
       "..       ...    ...     ...        ...            ...    ...      ...     ...   \n",
       "175    False  False   False      False          False  False    False   False   \n",
       "176    False  False   False      False          False  False    False   False   \n",
       "177    False  False   False      False          False  False    False   False   \n",
       "178    False  False   False      False          False  False    False   False   \n",
       "179    False  False   False      False          False  False    False   False   \n",
       "\n",
       "     Miles  \n",
       "0    False  \n",
       "1    False  \n",
       "2    False  \n",
       "3    False  \n",
       "4    False  \n",
       "..     ...  \n",
       "175  False  \n",
       "176  False  \n",
       "177  False  \n",
       "178  False  \n",
       "179  False  \n",
       "\n",
       "[180 rows x 9 columns]"
      ]
     },
     "execution_count": 37,
     "metadata": {},
     "output_type": "execute_result"
    }
   ],
   "source": [
    "cardio_dataset.isnull()"
   ]
  },
  {
   "cell_type": "code",
   "execution_count": 38,
   "metadata": {},
   "outputs": [
    {
     "data": {
      "text/plain": [
       "Product          0\n",
       "Age              0\n",
       "Gender           0\n",
       "Education        0\n",
       "MaritalStatus    0\n",
       "Usage            0\n",
       "Fitness          0\n",
       "Income           0\n",
       "Miles            0\n",
       "dtype: int64"
      ]
     },
     "execution_count": 38,
     "metadata": {},
     "output_type": "execute_result"
    }
   ],
   "source": [
    "cardio_dataset.isnull().sum()"
   ]
  },
  {
   "cell_type": "markdown",
   "metadata": {},
   "source": [
    "## Observation\n",
    "*The dataset doesn't have any null data*"
   ]
  },
  {
   "cell_type": "code",
   "execution_count": 26,
   "metadata": {},
   "outputs": [
    {
     "data": {
      "text/plain": [
       "array([[<matplotlib.axes._subplots.AxesSubplot object at 0x7ff20a8a7c10>,\n",
       "        <matplotlib.axes._subplots.AxesSubplot object at 0x7ff209db9b90>],\n",
       "       [<matplotlib.axes._subplots.AxesSubplot object at 0x7ff209d68e90>,\n",
       "        <matplotlib.axes._subplots.AxesSubplot object at 0x7ff209d1db90>],\n",
       "       [<matplotlib.axes._subplots.AxesSubplot object at 0x7ff209cdee90>,\n",
       "        <matplotlib.axes._subplots.AxesSubplot object at 0x7ff209d12b90>]],\n",
       "      dtype=object)"
      ]
     },
     "execution_count": 26,
     "metadata": {},
     "output_type": "execute_result"
    },
    {
     "data": {
      "image/png": "[encoded data removed]",
      "text/plain": [
       "<Figure size 2160x2160 with 6 Axes>"
      ]
     },
     "metadata": {
      "needs_background": "light"
     },
     "output_type": "display_data"
    }
   ],
   "source": [
    "import matplotlib.pyplot as plt\n",
    "%matplotlib inline\n",
    "\n",
    "cardio_dataset.hist(figsize=(30,30))"
   ]
  },
  {
   "cell_type": "code",
   "execution_count": null,
   "metadata": {},
   "outputs": [],
   "source": []
  }
 ],
 "metadata": {
  "kernelspec": {
   "display_name": "Python 3",
   "language": "python",
   "name": "python3"
  },
  "language_info": {
   "codemirror_mode": {
    "name": "ipython",
    "version": 3
   },
   "file_extension": ".py",
   "mimetype": "text/x-python",
   "name": "python",
   "nbconvert_exporter": "python",
   "pygments_lexer": "ipython3",
   "version": "3.7.6"
  }
 },
 "nbformat": 4,
 "nbformat_minor": 4
}
