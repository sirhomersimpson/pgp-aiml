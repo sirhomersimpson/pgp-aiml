{
 "cells": [
  {
   "cell_type": "code",
   "execution_count": 47,
   "metadata": {
    "execution": {
     "iopub.execute_input": "2020-10-27T06:24:10.089174Z",
     "iopub.status.busy": "2020-10-27T06:24:10.088251Z",
     "iopub.status.idle": "2020-10-27T06:24:11.470797Z",
     "shell.execute_reply": "2020-10-27T06:24:11.471485Z"
    },
    "papermill": {
     "duration": 1.467427,
     "end_time": "2020-10-27T06:24:11.471720",
     "exception": false,
     "start_time": "2020-10-27T06:24:10.004293",
     "status": "completed"
    },
    "tags": []
   },
   "outputs": [],
   "source": [
    "import pandas as pd\n",
    "import numpy as np\n",
    "import seaborn as sns\n",
    "import matplotlib.pyplot as plt\n",
    "from sklearn.model_selection import train_test_split\n",
    "from sklearn.preprocessing import StandardScaler\n",
    "from sklearn.linear_model import LogisticRegression\n",
    "from sklearn.linear_model import LinearRegression\n",
    "from sklearn.naive_bayes import GaussianNB\n",
    "from sklearn.neighbors import KNeighborsClassifier\n",
    "from sklearn.svm import SVC\n",
    "from sklearn.svm import SVR\n",
    "from sklearn.tree import DecisionTreeClassifier\n",
    "from sklearn.ensemble import RandomForestClassifier\n",
    "from sklearn.ensemble import BaggingClassifier\n",
    "from sklearn.ensemble import GradientBoostingClassifier\n",
    "from sklearn.ensemble import AdaBoostClassifier\n",
    "from sklearn.ensemble import VotingClassifier\n",
    "from sklearn.metrics import confusion_matrix,precision_score,classification_report,f1_score,roc_curve,roc_auc_score,auc,accuracy_score,recall_score\n",
    "from sklearn import metrics\n",
    "%matplotlib inline"
   ]
  },
  {
   "cell_type": "code",
   "execution_count": 48,
   "metadata": {
    "execution": {
     "iopub.execute_input": "2020-10-27T06:24:11.603830Z",
     "iopub.status.busy": "2020-10-27T06:24:11.602846Z",
     "iopub.status.idle": "2020-10-27T06:24:13.518404Z",
     "shell.execute_reply": "2020-10-27T06:24:13.519049Z"
    },
    "papermill": {
     "duration": 1.984585,
     "end_time": "2020-10-27T06:24:13.519236",
     "exception": false,
     "start_time": "2020-10-27T06:24:11.534651",
     "status": "completed"
    },
    "tags": []
   },
   "outputs": [],
   "source": [
    "df = pd.read_csv(\"Loan_Modelling.csv\")"
   ]
  },
  {
   "cell_type": "code",
   "execution_count": 49,
   "metadata": {
    "execution": {
     "iopub.execute_input": "2020-10-27T06:24:13.659507Z",
     "iopub.status.busy": "2020-10-27T06:24:13.658608Z",
     "iopub.status.idle": "2020-10-27T06:24:13.663155Z",
     "shell.execute_reply": "2020-10-27T06:24:13.662431Z"
    },
    "papermill": {
     "duration": 0.081643,
     "end_time": "2020-10-27T06:24:13.663278",
     "exception": false,
     "start_time": "2020-10-27T06:24:13.581635",
     "status": "completed"
    },
    "tags": []
   },
   "outputs": [
    {
     "data": {
      "text/plain": [
       "0    4520\n",
       "1     480\n",
       "Name: Personal_Loan, dtype: int64"
      ]
     },
     "execution_count": 49,
     "metadata": {},
     "output_type": "execute_result"
    }
   ],
   "source": [
    "df['Personal_Loan'].value_counts()"
   ]
  },
  {
   "cell_type": "code",
   "execution_count": 50,
   "metadata": {
    "execution": {
     "iopub.execute_input": "2020-10-27T06:24:13.805291Z",
     "iopub.status.busy": "2020-10-27T06:24:13.804344Z",
     "iopub.status.idle": "2020-10-27T06:24:13.820044Z",
     "shell.execute_reply": "2020-10-27T06:24:13.819307Z"
    },
    "papermill": {
     "duration": 0.092027,
     "end_time": "2020-10-27T06:24:13.820187",
     "exception": false,
     "start_time": "2020-10-27T06:24:13.728160",
     "status": "completed"
    },
    "tags": []
   },
   "outputs": [
    {
     "data": {
      "text/html": [
       "<div>\n",
       "<style scoped>\n",
       "    .dataframe tbody tr th:only-of-type {\n",
       "        vertical-align: middle;\n",
       "    }\n",
       "\n",
       "    .dataframe tbody tr th {\n",
       "        vertical-align: top;\n",
       "    }\n",
       "\n",
       "    .dataframe thead th {\n",
       "        text-align: right;\n",
       "    }\n",
       "</style>\n",
       "<table border=\"1\" class=\"dataframe\">\n",
       "  <thead>\n",
       "    <tr style=\"text-align: right;\">\n",
       "      <th></th>\n",
       "      <th>ID</th>\n",
       "      <th>Age</th>\n",
       "      <th>Experience</th>\n",
       "      <th>Income</th>\n",
       "      <th>ZIPCode</th>\n",
       "      <th>Family</th>\n",
       "      <th>CCAvg</th>\n",
       "      <th>Education</th>\n",
       "      <th>Mortgage</th>\n",
       "      <th>Personal_Loan</th>\n",
       "      <th>Securities_Account</th>\n",
       "      <th>CD_Account</th>\n",
       "      <th>Online</th>\n",
       "      <th>CreditCard</th>\n",
       "    </tr>\n",
       "  </thead>\n",
       "  <tbody>\n",
       "    <tr>\n",
       "      <th>0</th>\n",
       "      <td>1</td>\n",
       "      <td>25</td>\n",
       "      <td>1</td>\n",
       "      <td>49</td>\n",
       "      <td>91107</td>\n",
       "      <td>4</td>\n",
       "      <td>1.6</td>\n",
       "      <td>1</td>\n",
       "      <td>0</td>\n",
       "      <td>0</td>\n",
       "      <td>1</td>\n",
       "      <td>0</td>\n",
       "      <td>0</td>\n",
       "      <td>0</td>\n",
       "    </tr>\n",
       "    <tr>\n",
       "      <th>1</th>\n",
       "      <td>2</td>\n",
       "      <td>45</td>\n",
       "      <td>19</td>\n",
       "      <td>34</td>\n",
       "      <td>90089</td>\n",
       "      <td>3</td>\n",
       "      <td>1.5</td>\n",
       "      <td>1</td>\n",
       "      <td>0</td>\n",
       "      <td>0</td>\n",
       "      <td>1</td>\n",
       "      <td>0</td>\n",
       "      <td>0</td>\n",
       "      <td>0</td>\n",
       "    </tr>\n",
       "    <tr>\n",
       "      <th>2</th>\n",
       "      <td>3</td>\n",
       "      <td>39</td>\n",
       "      <td>15</td>\n",
       "      <td>11</td>\n",
       "      <td>94720</td>\n",
       "      <td>1</td>\n",
       "      <td>1.0</td>\n",
       "      <td>1</td>\n",
       "      <td>0</td>\n",
       "      <td>0</td>\n",
       "      <td>0</td>\n",
       "      <td>0</td>\n",
       "      <td>0</td>\n",
       "      <td>0</td>\n",
       "    </tr>\n",
       "    <tr>\n",
       "      <th>3</th>\n",
       "      <td>4</td>\n",
       "      <td>35</td>\n",
       "      <td>9</td>\n",
       "      <td>100</td>\n",
       "      <td>94112</td>\n",
       "      <td>1</td>\n",
       "      <td>2.7</td>\n",
       "      <td>2</td>\n",
       "      <td>0</td>\n",
       "      <td>0</td>\n",
       "      <td>0</td>\n",
       "      <td>0</td>\n",
       "      <td>0</td>\n",
       "      <td>0</td>\n",
       "    </tr>\n",
       "    <tr>\n",
       "      <th>4</th>\n",
       "      <td>5</td>\n",
       "      <td>35</td>\n",
       "      <td>8</td>\n",
       "      <td>45</td>\n",
       "      <td>91330</td>\n",
       "      <td>4</td>\n",
       "      <td>1.0</td>\n",
       "      <td>2</td>\n",
       "      <td>0</td>\n",
       "      <td>0</td>\n",
       "      <td>0</td>\n",
       "      <td>0</td>\n",
       "      <td>0</td>\n",
       "      <td>1</td>\n",
       "    </tr>\n",
       "  </tbody>\n",
       "</table>\n",
       "</div>"
      ],
      "text/plain": [
       "   ID  Age  Experience  Income  ZIPCode  Family  CCAvg  Education  Mortgage  \\\n",
       "0   1   25           1      49    91107       4    1.6          1         0   \n",
       "1   2   45          19      34    90089       3    1.5          1         0   \n",
       "2   3   39          15      11    94720       1    1.0          1         0   \n",
       "3   4   35           9     100    94112       1    2.7          2         0   \n",
       "4   5   35           8      45    91330       4    1.0          2         0   \n",
       "\n",
       "   Personal_Loan  Securities_Account  CD_Account  Online  CreditCard  \n",
       "0              0                   1           0       0           0  \n",
       "1              0                   1           0       0           0  \n",
       "2              0                   0           0       0           0  \n",
       "3              0                   0           0       0           0  \n",
       "4              0                   0           0       0           1  "
      ]
     },
     "execution_count": 50,
     "metadata": {},
     "output_type": "execute_result"
    }
   ],
   "source": [
    "df.head()"
   ]
  },
  {
   "cell_type": "code",
   "execution_count": 51,
   "metadata": {
    "execution": {
     "iopub.execute_input": "2020-10-27T06:24:13.957762Z",
     "iopub.status.busy": "2020-10-27T06:24:13.956715Z",
     "iopub.status.idle": "2020-10-27T06:24:13.972552Z",
     "shell.execute_reply": "2020-10-27T06:24:13.971838Z"
    },
    "papermill": {
     "duration": 0.087282,
     "end_time": "2020-10-27T06:24:13.972723",
     "exception": false,
     "start_time": "2020-10-27T06:24:13.885441",
     "status": "completed"
    },
    "tags": []
   },
   "outputs": [
    {
     "name": "stdout",
     "output_type": "stream",
     "text": [
      "<class 'pandas.core.frame.DataFrame'>\n",
      "RangeIndex: 5000 entries, 0 to 4999\n",
      "Data columns (total 14 columns):\n",
      " #   Column              Non-Null Count  Dtype  \n",
      "---  ------              --------------  -----  \n",
      " 0   ID                  5000 non-null   int64  \n",
      " 1   Age                 5000 non-null   int64  \n",
      " 2   Experience          5000 non-null   int64  \n",
      " 3   Income              5000 non-null   int64  \n",
      " 4   ZIPCode             5000 non-null   int64  \n",
      " 5   Family              5000 non-null   int64  \n",
      " 6   CCAvg               5000 non-null   float64\n",
      " 7   Education           5000 non-null   int64  \n",
      " 8   Mortgage            5000 non-null   int64  \n",
      " 9   Personal_Loan       5000 non-null   int64  \n",
      " 10  Securities_Account  5000 non-null   int64  \n",
      " 11  CD_Account          5000 non-null   int64  \n",
      " 12  Online              5000 non-null   int64  \n",
      " 13  CreditCard          5000 non-null   int64  \n",
      "dtypes: float64(1), int64(13)\n",
      "memory usage: 547.0 KB\n"
     ]
    }
   ],
   "source": [
    "df.info()"
   ]
  },
  {
   "cell_type": "code",
   "execution_count": 52,
   "metadata": {
    "execution": {
     "iopub.execute_input": "2020-10-27T06:24:14.112992Z",
     "iopub.status.busy": "2020-10-27T06:24:14.112234Z",
     "iopub.status.idle": "2020-10-27T06:24:14.118896Z",
     "shell.execute_reply": "2020-10-27T06:24:14.118256Z"
    },
    "papermill": {
     "duration": 0.079739,
     "end_time": "2020-10-27T06:24:14.119027",
     "exception": false,
     "start_time": "2020-10-27T06:24:14.039288",
     "status": "completed"
    },
    "tags": []
   },
   "outputs": [
    {
     "data": {
      "text/plain": [
       "(5000, 14)"
      ]
     },
     "execution_count": 52,
     "metadata": {},
     "output_type": "execute_result"
    }
   ],
   "source": [
    "df.shape"
   ]
  },
  {
   "cell_type": "code",
   "execution_count": 71,
   "metadata": {
    "execution": {
     "iopub.execute_input": "2020-10-27T06:24:14.261240Z",
     "iopub.status.busy": "2020-10-27T06:24:14.260434Z",
     "iopub.status.idle": "2020-10-27T06:24:14.317566Z",
     "shell.execute_reply": "2020-10-27T06:24:14.316921Z"
    },
    "papermill": {
     "duration": 0.133172,
     "end_time": "2020-10-27T06:24:14.317735",
     "exception": false,
     "start_time": "2020-10-27T06:24:14.184563",
     "status": "completed"
    },
    "tags": []
   },
   "outputs": [
    {
     "data": {
      "text/html": [
       "<div>\n",
       "<style scoped>\n",
       "    .dataframe tbody tr th:only-of-type {\n",
       "        vertical-align: middle;\n",
       "    }\n",
       "\n",
       "    .dataframe tbody tr th {\n",
       "        vertical-align: top;\n",
       "    }\n",
       "\n",
       "    .dataframe thead th {\n",
       "        text-align: right;\n",
       "    }\n",
       "</style>\n",
       "<table border=\"1\" class=\"dataframe\">\n",
       "  <thead>\n",
       "    <tr style=\"text-align: right;\">\n",
       "      <th></th>\n",
       "      <th>Age</th>\n",
       "      <th>Experience</th>\n",
       "      <th>Income</th>\n",
       "      <th>ZIPCode</th>\n",
       "      <th>Family</th>\n",
       "      <th>CCAvg</th>\n",
       "      <th>Education</th>\n",
       "      <th>Mortgage</th>\n",
       "      <th>Personal_Loan</th>\n",
       "      <th>Securities_Account</th>\n",
       "      <th>CD_Account</th>\n",
       "      <th>Online</th>\n",
       "      <th>CreditCard</th>\n",
       "    </tr>\n",
       "  </thead>\n",
       "  <tbody>\n",
       "    <tr>\n",
       "      <th>count</th>\n",
       "      <td>5000.000000</td>\n",
       "      <td>5000.000000</td>\n",
       "      <td>5000.000000</td>\n",
       "      <td>5000.000000</td>\n",
       "      <td>5000.000000</td>\n",
       "      <td>5000.000000</td>\n",
       "      <td>5000.000000</td>\n",
       "      <td>5000.000000</td>\n",
       "      <td>5000.000000</td>\n",
       "      <td>5000.000000</td>\n",
       "      <td>5000.00000</td>\n",
       "      <td>5000.000000</td>\n",
       "      <td>5000.000000</td>\n",
       "    </tr>\n",
       "    <tr>\n",
       "      <th>mean</th>\n",
       "      <td>45.338400</td>\n",
       "      <td>20.140400</td>\n",
       "      <td>73.774200</td>\n",
       "      <td>93169.257000</td>\n",
       "      <td>2.396400</td>\n",
       "      <td>1.937938</td>\n",
       "      <td>1.881000</td>\n",
       "      <td>56.498800</td>\n",
       "      <td>0.096000</td>\n",
       "      <td>0.104400</td>\n",
       "      <td>0.06040</td>\n",
       "      <td>0.596800</td>\n",
       "      <td>0.294000</td>\n",
       "    </tr>\n",
       "    <tr>\n",
       "      <th>std</th>\n",
       "      <td>11.463166</td>\n",
       "      <td>11.405644</td>\n",
       "      <td>46.033729</td>\n",
       "      <td>1759.455086</td>\n",
       "      <td>1.147663</td>\n",
       "      <td>1.747659</td>\n",
       "      <td>0.839869</td>\n",
       "      <td>101.713802</td>\n",
       "      <td>0.294621</td>\n",
       "      <td>0.305809</td>\n",
       "      <td>0.23825</td>\n",
       "      <td>0.490589</td>\n",
       "      <td>0.455637</td>\n",
       "    </tr>\n",
       "    <tr>\n",
       "      <th>min</th>\n",
       "      <td>23.000000</td>\n",
       "      <td>0.000000</td>\n",
       "      <td>8.000000</td>\n",
       "      <td>90005.000000</td>\n",
       "      <td>1.000000</td>\n",
       "      <td>0.000000</td>\n",
       "      <td>1.000000</td>\n",
       "      <td>0.000000</td>\n",
       "      <td>0.000000</td>\n",
       "      <td>0.000000</td>\n",
       "      <td>0.00000</td>\n",
       "      <td>0.000000</td>\n",
       "      <td>0.000000</td>\n",
       "    </tr>\n",
       "    <tr>\n",
       "      <th>25%</th>\n",
       "      <td>35.000000</td>\n",
       "      <td>10.000000</td>\n",
       "      <td>39.000000</td>\n",
       "      <td>91911.000000</td>\n",
       "      <td>1.000000</td>\n",
       "      <td>0.700000</td>\n",
       "      <td>1.000000</td>\n",
       "      <td>0.000000</td>\n",
       "      <td>0.000000</td>\n",
       "      <td>0.000000</td>\n",
       "      <td>0.00000</td>\n",
       "      <td>0.000000</td>\n",
       "      <td>0.000000</td>\n",
       "    </tr>\n",
       "    <tr>\n",
       "      <th>50%</th>\n",
       "      <td>45.000000</td>\n",
       "      <td>20.000000</td>\n",
       "      <td>64.000000</td>\n",
       "      <td>93437.000000</td>\n",
       "      <td>2.000000</td>\n",
       "      <td>1.500000</td>\n",
       "      <td>2.000000</td>\n",
       "      <td>0.000000</td>\n",
       "      <td>0.000000</td>\n",
       "      <td>0.000000</td>\n",
       "      <td>0.00000</td>\n",
       "      <td>1.000000</td>\n",
       "      <td>0.000000</td>\n",
       "    </tr>\n",
       "    <tr>\n",
       "      <th>75%</th>\n",
       "      <td>55.000000</td>\n",
       "      <td>30.000000</td>\n",
       "      <td>98.000000</td>\n",
       "      <td>94608.000000</td>\n",
       "      <td>3.000000</td>\n",
       "      <td>2.500000</td>\n",
       "      <td>3.000000</td>\n",
       "      <td>101.000000</td>\n",
       "      <td>0.000000</td>\n",
       "      <td>0.000000</td>\n",
       "      <td>0.00000</td>\n",
       "      <td>1.000000</td>\n",
       "      <td>1.000000</td>\n",
       "    </tr>\n",
       "    <tr>\n",
       "      <th>max</th>\n",
       "      <td>67.000000</td>\n",
       "      <td>43.000000</td>\n",
       "      <td>224.000000</td>\n",
       "      <td>96651.000000</td>\n",
       "      <td>4.000000</td>\n",
       "      <td>10.000000</td>\n",
       "      <td>3.000000</td>\n",
       "      <td>635.000000</td>\n",
       "      <td>1.000000</td>\n",
       "      <td>1.000000</td>\n",
       "      <td>1.00000</td>\n",
       "      <td>1.000000</td>\n",
       "      <td>1.000000</td>\n",
       "    </tr>\n",
       "  </tbody>\n",
       "</table>\n",
       "</div>"
      ],
      "text/plain": [
       "               Age   Experience       Income       ZIPCode       Family  \\\n",
       "count  5000.000000  5000.000000  5000.000000   5000.000000  5000.000000   \n",
       "mean     45.338400    20.140400    73.774200  93169.257000     2.396400   \n",
       "std      11.463166    11.405644    46.033729   1759.455086     1.147663   \n",
       "min      23.000000     0.000000     8.000000  90005.000000     1.000000   \n",
       "25%      35.000000    10.000000    39.000000  91911.000000     1.000000   \n",
       "50%      45.000000    20.000000    64.000000  93437.000000     2.000000   \n",
       "75%      55.000000    30.000000    98.000000  94608.000000     3.000000   \n",
       "max      67.000000    43.000000   224.000000  96651.000000     4.000000   \n",
       "\n",
       "             CCAvg    Education     Mortgage  Personal_Loan  \\\n",
       "count  5000.000000  5000.000000  5000.000000    5000.000000   \n",
       "mean      1.937938     1.881000    56.498800       0.096000   \n",
       "std       1.747659     0.839869   101.713802       0.294621   \n",
       "min       0.000000     1.000000     0.000000       0.000000   \n",
       "25%       0.700000     1.000000     0.000000       0.000000   \n",
       "50%       1.500000     2.000000     0.000000       0.000000   \n",
       "75%       2.500000     3.000000   101.000000       0.000000   \n",
       "max      10.000000     3.000000   635.000000       1.000000   \n",
       "\n",
       "       Securities_Account  CD_Account       Online   CreditCard  \n",
       "count         5000.000000  5000.00000  5000.000000  5000.000000  \n",
       "mean             0.104400     0.06040     0.596800     0.294000  \n",
       "std              0.305809     0.23825     0.490589     0.455637  \n",
       "min              0.000000     0.00000     0.000000     0.000000  \n",
       "25%              0.000000     0.00000     0.000000     0.000000  \n",
       "50%              0.000000     0.00000     1.000000     0.000000  \n",
       "75%              0.000000     0.00000     1.000000     1.000000  \n",
       "max              1.000000     1.00000     1.000000     1.000000  "
      ]
     },
     "execution_count": 71,
     "metadata": {},
     "output_type": "execute_result"
    }
   ],
   "source": [
    "pd.set_option('display.max_columns', None)\n",
    "\n",
    "df.describe()\n"
   ]
  },
  {
   "cell_type": "code",
   "execution_count": 72,
   "metadata": {
    "execution": {
     "iopub.execute_input": "2020-10-27T06:24:14.460549Z",
     "iopub.status.busy": "2020-10-27T06:24:14.459497Z",
     "iopub.status.idle": "2020-10-27T06:24:14.463401Z",
     "shell.execute_reply": "2020-10-27T06:24:14.462624Z"
    },
    "papermill": {
     "duration": 0.078999,
     "end_time": "2020-10-27T06:24:14.463543",
     "exception": false,
     "start_time": "2020-10-27T06:24:14.384544",
     "status": "completed"
    },
    "tags": []
   },
   "outputs": [
    {
     "ename": "KeyError",
     "evalue": "\"['ID'] not found in axis\"",
     "output_type": "error",
     "traceback": [
      "\u001b[0;31m---------------------------------------------------------------------------\u001b[0m",
      "\u001b[0;31mKeyError\u001b[0m                                  Traceback (most recent call last)",
      "\u001b[0;32m<ipython-input-72-05e6c4420408>\u001b[0m in \u001b[0;36m<module>\u001b[0;34m\u001b[0m\n\u001b[0;32m----> 1\u001b[0;31m \u001b[0mdf\u001b[0m\u001b[0;34m.\u001b[0m\u001b[0mdrop\u001b[0m\u001b[0;34m(\u001b[0m\u001b[0;34m'ID'\u001b[0m\u001b[0;34m,\u001b[0m\u001b[0minplace\u001b[0m\u001b[0;34m=\u001b[0m\u001b[0;32mTrue\u001b[0m\u001b[0;34m,\u001b[0m\u001b[0maxis\u001b[0m\u001b[0;34m=\u001b[0m\u001b[0;36m1\u001b[0m\u001b[0;34m)\u001b[0m\u001b[0;34m\u001b[0m\u001b[0;34m\u001b[0m\u001b[0m\n\u001b[0m",
      "\u001b[0;32m~/anaconda3/lib/python3.7/site-packages/pandas/core/frame.py\u001b[0m in \u001b[0;36mdrop\u001b[0;34m(self, labels, axis, index, columns, level, inplace, errors)\u001b[0m\n\u001b[1;32m   4313\u001b[0m             \u001b[0mlevel\u001b[0m\u001b[0;34m=\u001b[0m\u001b[0mlevel\u001b[0m\u001b[0;34m,\u001b[0m\u001b[0;34m\u001b[0m\u001b[0;34m\u001b[0m\u001b[0m\n\u001b[1;32m   4314\u001b[0m             \u001b[0minplace\u001b[0m\u001b[0;34m=\u001b[0m\u001b[0minplace\u001b[0m\u001b[0;34m,\u001b[0m\u001b[0;34m\u001b[0m\u001b[0;34m\u001b[0m\u001b[0m\n\u001b[0;32m-> 4315\u001b[0;31m             \u001b[0merrors\u001b[0m\u001b[0;34m=\u001b[0m\u001b[0merrors\u001b[0m\u001b[0;34m,\u001b[0m\u001b[0;34m\u001b[0m\u001b[0;34m\u001b[0m\u001b[0m\n\u001b[0m\u001b[1;32m   4316\u001b[0m         )\n\u001b[1;32m   4317\u001b[0m \u001b[0;34m\u001b[0m\u001b[0m\n",
      "\u001b[0;32m~/anaconda3/lib/python3.7/site-packages/pandas/core/generic.py\u001b[0m in \u001b[0;36mdrop\u001b[0;34m(self, labels, axis, index, columns, level, inplace, errors)\u001b[0m\n\u001b[1;32m   4151\u001b[0m         \u001b[0;32mfor\u001b[0m \u001b[0maxis\u001b[0m\u001b[0;34m,\u001b[0m \u001b[0mlabels\u001b[0m \u001b[0;32min\u001b[0m \u001b[0maxes\u001b[0m\u001b[0;34m.\u001b[0m\u001b[0mitems\u001b[0m\u001b[0;34m(\u001b[0m\u001b[0;34m)\u001b[0m\u001b[0;34m:\u001b[0m\u001b[0;34m\u001b[0m\u001b[0;34m\u001b[0m\u001b[0m\n\u001b[1;32m   4152\u001b[0m             \u001b[0;32mif\u001b[0m \u001b[0mlabels\u001b[0m \u001b[0;32mis\u001b[0m \u001b[0;32mnot\u001b[0m \u001b[0;32mNone\u001b[0m\u001b[0;34m:\u001b[0m\u001b[0;34m\u001b[0m\u001b[0;34m\u001b[0m\u001b[0m\n\u001b[0;32m-> 4153\u001b[0;31m                 \u001b[0mobj\u001b[0m \u001b[0;34m=\u001b[0m \u001b[0mobj\u001b[0m\u001b[0;34m.\u001b[0m\u001b[0m_drop_axis\u001b[0m\u001b[0;34m(\u001b[0m\u001b[0mlabels\u001b[0m\u001b[0;34m,\u001b[0m \u001b[0maxis\u001b[0m\u001b[0;34m,\u001b[0m \u001b[0mlevel\u001b[0m\u001b[0;34m=\u001b[0m\u001b[0mlevel\u001b[0m\u001b[0;34m,\u001b[0m \u001b[0merrors\u001b[0m\u001b[0;34m=\u001b[0m\u001b[0merrors\u001b[0m\u001b[0;34m)\u001b[0m\u001b[0;34m\u001b[0m\u001b[0;34m\u001b[0m\u001b[0m\n\u001b[0m\u001b[1;32m   4154\u001b[0m \u001b[0;34m\u001b[0m\u001b[0m\n\u001b[1;32m   4155\u001b[0m         \u001b[0;32mif\u001b[0m \u001b[0minplace\u001b[0m\u001b[0;34m:\u001b[0m\u001b[0;34m\u001b[0m\u001b[0;34m\u001b[0m\u001b[0m\n",
      "\u001b[0;32m~/anaconda3/lib/python3.7/site-packages/pandas/core/generic.py\u001b[0m in \u001b[0;36m_drop_axis\u001b[0;34m(self, labels, axis, level, errors)\u001b[0m\n\u001b[1;32m   4186\u001b[0m                 \u001b[0mnew_axis\u001b[0m \u001b[0;34m=\u001b[0m \u001b[0maxis\u001b[0m\u001b[0;34m.\u001b[0m\u001b[0mdrop\u001b[0m\u001b[0;34m(\u001b[0m\u001b[0mlabels\u001b[0m\u001b[0;34m,\u001b[0m \u001b[0mlevel\u001b[0m\u001b[0;34m=\u001b[0m\u001b[0mlevel\u001b[0m\u001b[0;34m,\u001b[0m \u001b[0merrors\u001b[0m\u001b[0;34m=\u001b[0m\u001b[0merrors\u001b[0m\u001b[0;34m)\u001b[0m\u001b[0;34m\u001b[0m\u001b[0;34m\u001b[0m\u001b[0m\n\u001b[1;32m   4187\u001b[0m             \u001b[0;32melse\u001b[0m\u001b[0;34m:\u001b[0m\u001b[0;34m\u001b[0m\u001b[0;34m\u001b[0m\u001b[0m\n\u001b[0;32m-> 4188\u001b[0;31m                 \u001b[0mnew_axis\u001b[0m \u001b[0;34m=\u001b[0m \u001b[0maxis\u001b[0m\u001b[0;34m.\u001b[0m\u001b[0mdrop\u001b[0m\u001b[0;34m(\u001b[0m\u001b[0mlabels\u001b[0m\u001b[0;34m,\u001b[0m \u001b[0merrors\u001b[0m\u001b[0;34m=\u001b[0m\u001b[0merrors\u001b[0m\u001b[0;34m)\u001b[0m\u001b[0;34m\u001b[0m\u001b[0;34m\u001b[0m\u001b[0m\n\u001b[0m\u001b[1;32m   4189\u001b[0m             \u001b[0mresult\u001b[0m \u001b[0;34m=\u001b[0m \u001b[0mself\u001b[0m\u001b[0;34m.\u001b[0m\u001b[0mreindex\u001b[0m\u001b[0;34m(\u001b[0m\u001b[0;34m**\u001b[0m\u001b[0;34m{\u001b[0m\u001b[0maxis_name\u001b[0m\u001b[0;34m:\u001b[0m \u001b[0mnew_axis\u001b[0m\u001b[0;34m}\u001b[0m\u001b[0;34m)\u001b[0m\u001b[0;34m\u001b[0m\u001b[0;34m\u001b[0m\u001b[0m\n\u001b[1;32m   4190\u001b[0m \u001b[0;34m\u001b[0m\u001b[0m\n",
      "\u001b[0;32m~/anaconda3/lib/python3.7/site-packages/pandas/core/indexes/base.py\u001b[0m in \u001b[0;36mdrop\u001b[0;34m(self, labels, errors)\u001b[0m\n\u001b[1;32m   5589\u001b[0m         \u001b[0;32mif\u001b[0m \u001b[0mmask\u001b[0m\u001b[0;34m.\u001b[0m\u001b[0many\u001b[0m\u001b[0;34m(\u001b[0m\u001b[0;34m)\u001b[0m\u001b[0;34m:\u001b[0m\u001b[0;34m\u001b[0m\u001b[0;34m\u001b[0m\u001b[0m\n\u001b[1;32m   5590\u001b[0m             \u001b[0;32mif\u001b[0m \u001b[0merrors\u001b[0m \u001b[0;34m!=\u001b[0m \u001b[0;34m\"ignore\"\u001b[0m\u001b[0;34m:\u001b[0m\u001b[0;34m\u001b[0m\u001b[0;34m\u001b[0m\u001b[0m\n\u001b[0;32m-> 5591\u001b[0;31m                 \u001b[0;32mraise\u001b[0m \u001b[0mKeyError\u001b[0m\u001b[0;34m(\u001b[0m\u001b[0;34mf\"{labels[mask]} not found in axis\"\u001b[0m\u001b[0;34m)\u001b[0m\u001b[0;34m\u001b[0m\u001b[0;34m\u001b[0m\u001b[0m\n\u001b[0m\u001b[1;32m   5592\u001b[0m             \u001b[0mindexer\u001b[0m \u001b[0;34m=\u001b[0m \u001b[0mindexer\u001b[0m\u001b[0;34m[\u001b[0m\u001b[0;34m~\u001b[0m\u001b[0mmask\u001b[0m\u001b[0;34m]\u001b[0m\u001b[0;34m\u001b[0m\u001b[0;34m\u001b[0m\u001b[0m\n\u001b[1;32m   5593\u001b[0m         \u001b[0;32mreturn\u001b[0m \u001b[0mself\u001b[0m\u001b[0;34m.\u001b[0m\u001b[0mdelete\u001b[0m\u001b[0;34m(\u001b[0m\u001b[0mindexer\u001b[0m\u001b[0;34m)\u001b[0m\u001b[0;34m\u001b[0m\u001b[0;34m\u001b[0m\u001b[0m\n",
      "\u001b[0;31mKeyError\u001b[0m: \"['ID'] not found in axis\""
     ]
    }
   ],
   "source": [
    "df.drop('ID',inplace=True,axis=1)"
   ]
  },
  {
   "cell_type": "markdown",
   "metadata": {
    "papermill": {
     "duration": 0.066234,
     "end_time": "2020-10-27T06:24:14.597719",
     "exception": false,
     "start_time": "2020-10-27T06:24:14.531485",
     "status": "completed"
    },
    "tags": []
   },
   "source": [
    "* Information of the attributes\n",
    "  The attributes can be divided accordingly :\n",
    "\n",
    "The variable ID does not add any interesting information. There is no association between a person's customer ID and loan, also it does not provide any general conclusion for future potential loan customers. We can neglect this information for our model prediction.\n",
    "The binary category have five variables as below:\n",
    "\n",
    "* Personal Loan - Did this customer accept the personal loan offered in the last campaign? This is our target variable\n",
    "* Securities Account - Does the customer have a securities account with the bank?\n",
    "* CD Account - Does the customer have a certificate of deposit (CD) account with the bank?\n",
    "* Online - Does the customer use internet banking facilities?\n",
    "* Credit Card - Does the customer use a credit card issued by UniversalBank?\n",
    "\n",
    "Interval variables are as below:\n",
    "\n",
    "* Age - Age of the customer\n",
    "* Experience - Years of experience\n",
    "* Income - Annual income in dollars\n",
    "* CCAvg - Average credit card spending\n",
    "* Mortage - Value of House Mortgage\n",
    "\n",
    "Ordinal Categorical Variables are:\n",
    "\n",
    "* Family - Family size of the customer\n",
    "* Education - education level of the customer\n",
    "\n",
    "The nominal variable is :\n",
    "\n",
    "* ID\n",
    "* Zip Code\n"
   ]
  },
  {
   "cell_type": "code",
   "execution_count": 73,
   "metadata": {
    "execution": {
     "iopub.execute_input": "2020-10-27T06:24:14.738303Z",
     "iopub.status.busy": "2020-10-27T06:24:14.737248Z",
     "iopub.status.idle": "2020-10-27T06:24:14.745720Z",
     "shell.execute_reply": "2020-10-27T06:24:14.744927Z"
    },
    "papermill": {
     "duration": 0.081511,
     "end_time": "2020-10-27T06:24:14.745846",
     "exception": false,
     "start_time": "2020-10-27T06:24:14.664335",
     "status": "completed"
    },
    "scrolled": true,
    "tags": []
   },
   "outputs": [
    {
     "data": {
      "text/plain": [
       "Age                   0\n",
       "Experience            0\n",
       "Income                0\n",
       "ZIPCode               0\n",
       "Family                0\n",
       "CCAvg                 0\n",
       "Education             0\n",
       "Mortgage              0\n",
       "Personal_Loan         0\n",
       "Securities_Account    0\n",
       "CD_Account            0\n",
       "Online                0\n",
       "CreditCard            0\n",
       "dtype: int64"
      ]
     },
     "execution_count": 73,
     "metadata": {},
     "output_type": "execute_result"
    }
   ],
   "source": [
    "# No columns have null data in the file\n",
    "df.isnull().sum()"
   ]
  },
  {
   "cell_type": "code",
   "execution_count": 74,
   "metadata": {
    "execution": {
     "iopub.execute_input": "2020-10-27T06:24:14.887073Z",
     "iopub.status.busy": "2020-10-27T06:24:14.886037Z",
     "iopub.status.idle": "2020-10-27T06:24:14.898414Z",
     "shell.execute_reply": "2020-10-27T06:24:14.897600Z"
    },
    "papermill": {
     "duration": 0.085233,
     "end_time": "2020-10-27T06:24:14.898570",
     "exception": false,
     "start_time": "2020-10-27T06:24:14.813337",
     "status": "completed"
    },
    "tags": []
   },
   "outputs": [
    {
     "data": {
      "text/plain": [
       "Age                    45\n",
       "Experience             44\n",
       "Income                162\n",
       "ZIPCode               467\n",
       "Family                  4\n",
       "CCAvg                 108\n",
       "Education               3\n",
       "Mortgage              347\n",
       "Personal_Loan           2\n",
       "Securities_Account      2\n",
       "CD_Account              2\n",
       "Online                  2\n",
       "CreditCard              2\n",
       "dtype: int64"
      ]
     },
     "execution_count": 74,
     "metadata": {},
     "output_type": "execute_result"
    }
   ],
   "source": [
    "#finding unique data\n",
    "df.apply(lambda x: len(x.unique()))"
   ]
  },
  {
   "cell_type": "markdown",
   "metadata": {
    "papermill": {
     "duration": 0.068326,
     "end_time": "2020-10-27T06:24:15.036304",
     "exception": false,
     "start_time": "2020-10-27T06:24:14.967978",
     "status": "completed"
    },
    "tags": []
   },
   "source": [
    "* Dataset has no missing values\n",
    "* As we have observed from the 5 point summary of the data Experience column has negative values which has no meaning."
   ]
  },
  {
   "cell_type": "markdown",
   "metadata": {
    "papermill": {
     "duration": 0.068706,
     "end_time": "2020-10-27T06:24:15.174986",
     "exception": false,
     "start_time": "2020-10-27T06:24:15.106280",
     "status": "completed"
    },
    "tags": []
   },
   "source": [
    "###  Data Cleaning\n",
    "\n",
    "#### Handling missing values / unknown / negative values in data"
   ]
  },
  {
   "cell_type": "code",
   "execution_count": 75,
   "metadata": {
    "execution": {
     "iopub.execute_input": "2020-10-27T06:24:15.319858Z",
     "iopub.status.busy": "2020-10-27T06:24:15.318992Z",
     "iopub.status.idle": "2020-10-27T06:24:15.346758Z",
     "shell.execute_reply": "2020-10-27T06:24:15.345988Z"
    },
    "papermill": {
     "duration": 0.102455,
     "end_time": "2020-10-27T06:24:15.346891",
     "exception": false,
     "start_time": "2020-10-27T06:24:15.244436",
     "status": "completed"
    },
    "tags": []
   },
   "outputs": [
    {
     "data": {
      "text/plain": [
       "0"
      ]
     },
     "execution_count": 75,
     "metadata": {},
     "output_type": "execute_result"
    }
   ],
   "source": [
    "# There are 52 records with negative experience. Before proceeding any further we need to clean the same\n",
    "df[df['Experience'] < 0]['Experience'].count()\n"
   ]
  },
  {
   "cell_type": "code",
   "execution_count": 76,
   "metadata": {
    "execution": {
     "iopub.execute_input": "2020-10-27T06:24:15.490838Z",
     "iopub.status.busy": "2020-10-27T06:24:15.489978Z",
     "iopub.status.idle": "2020-10-27T06:24:15.502961Z",
     "shell.execute_reply": "2020-10-27T06:24:15.502349Z"
    },
    "papermill": {
     "duration": 0.087902,
     "end_time": "2020-10-27T06:24:15.503128",
     "exception": false,
     "start_time": "2020-10-27T06:24:15.415226",
     "status": "completed"
    },
    "tags": []
   },
   "outputs": [
    {
     "data": {
      "text/plain": [
       "Age                   0.993922\n",
       "Experience            1.000000\n",
       "Income               -0.047024\n",
       "ZIPCode              -0.030668\n",
       "Family               -0.051627\n",
       "CCAvg                -0.049865\n",
       "Education             0.014003\n",
       "Mortgage             -0.011104\n",
       "Personal_Loan        -0.008477\n",
       "Securities_Account   -0.001049\n",
       "CD_Account            0.009614\n",
       "Online                0.013944\n",
       "CreditCard            0.008915\n",
       "Name: Experience, dtype: float64"
      ]
     },
     "execution_count": 76,
     "metadata": {},
     "output_type": "execute_result"
    }
   ],
   "source": [
    "# Cheching the correlation of Experience with other variables.\n",
    "\n",
    "df.corr()['Experience']"
   ]
  },
  {
   "cell_type": "markdown",
   "metadata": {
    "papermill": {
     "duration": 0.069146,
     "end_time": "2020-10-27T06:24:15.642018",
     "exception": false,
     "start_time": "2020-10-27T06:24:15.572872",
     "status": "completed"
    },
    "tags": []
   },
   "source": [
    "Experience has positive corelation with Age."
   ]
  },
  {
   "cell_type": "markdown",
   "metadata": {
    "papermill": {
     "duration": 0.06908,
     "end_time": "2020-10-27T06:24:15.780885",
     "exception": false,
     "start_time": "2020-10-27T06:24:15.711805",
     "status": "completed"
    },
    "tags": []
   },
   "source": [
    "* We can replace negative 'Experience' values with the median of total remaining 'Experience' values but it will be not appropriate. So, we will derive various medians of Experience data on the basis of group of respective Age of Customers.\n",
    "* Steps Taken to derive median of Experiences on the basis of Age groups -: \n",
    "    1. Creating a group of 'Age' values where  negative values in 'Experience' exists.\n",
    "    2. Creating a list of indexes of negative values in 'Experience'.\n",
    "    3. Replace negative 'Experience' values with the 'Experience' meadian.\n"
   ]
  },
  {
   "cell_type": "code",
   "execution_count": 77,
   "metadata": {
    "execution": {
     "iopub.execute_input": "2020-10-27T06:24:16.050927Z",
     "iopub.status.busy": "2020-10-27T06:24:15.937549Z",
     "iopub.status.idle": "2020-10-27T06:24:16.421844Z",
     "shell.execute_reply": "2020-10-27T06:24:16.421007Z"
    },
    "papermill": {
     "duration": 0.571244,
     "end_time": "2020-10-27T06:24:16.421987",
     "exception": false,
     "start_time": "2020-10-27T06:24:15.850743",
     "status": "completed"
    },
    "tags": []
   },
   "outputs": [],
   "source": [
    "# Creating a list of ages.\n",
    "ages = df[df['Experience'] < 0]['Age'].unique().tolist()\n",
    "\n",
    "# Creating a list of indexes.\n",
    "indexes = df[df['Experience'] < 0].index.tolist()\n",
    "\n",
    "# Replacing Negative Value with median.\n",
    "for i in indexes:\n",
    "    for x in ages:\n",
    "        df.loc[i,'Experience'] = df[(df.Age == x) & (df.Experience > 0)].Experience.median()\n",
    "        "
   ]
  },
  {
   "cell_type": "code",
   "execution_count": 78,
   "metadata": {
    "execution": {
     "iopub.execute_input": "2020-10-27T06:24:16.571180Z",
     "iopub.status.busy": "2020-10-27T06:24:16.570273Z",
     "iopub.status.idle": "2020-10-27T06:24:16.575398Z",
     "shell.execute_reply": "2020-10-27T06:24:16.574704Z"
    },
    "papermill": {
     "duration": 0.083634,
     "end_time": "2020-10-27T06:24:16.575534",
     "exception": false,
     "start_time": "2020-10-27T06:24:16.491900",
     "status": "completed"
    },
    "tags": []
   },
   "outputs": [
    {
     "data": {
      "text/plain": [
       "0"
      ]
     },
     "execution_count": 78,
     "metadata": {},
     "output_type": "execute_result"
    }
   ],
   "source": [
    "# checking if there are records with negative experience\n",
    "df[df['Experience'] < 0]['Experience'].count()"
   ]
  },
  {
   "cell_type": "code",
   "execution_count": 79,
   "metadata": {
    "execution": {
     "iopub.execute_input": "2020-10-27T06:24:16.721691Z",
     "iopub.status.busy": "2020-10-27T06:24:16.720804Z",
     "iopub.status.idle": "2020-10-27T06:24:16.729143Z",
     "shell.execute_reply": "2020-10-27T06:24:16.728334Z"
    },
    "papermill": {
     "duration": 0.083983,
     "end_time": "2020-10-27T06:24:16.729274",
     "exception": false,
     "start_time": "2020-10-27T06:24:16.645291",
     "status": "completed"
    },
    "tags": []
   },
   "outputs": [
    {
     "data": {
      "text/plain": [
       "Age                   0\n",
       "Experience            0\n",
       "Income                0\n",
       "ZIPCode               0\n",
       "Family                0\n",
       "CCAvg                 0\n",
       "Education             0\n",
       "Mortgage              0\n",
       "Personal_Loan         0\n",
       "Securities_Account    0\n",
       "CD_Account            0\n",
       "Online                0\n",
       "CreditCard            0\n",
       "dtype: int64"
      ]
     },
     "execution_count": 79,
     "metadata": {},
     "output_type": "execute_result"
    }
   ],
   "source": [
    "df.isna().sum()"
   ]
  },
  {
   "cell_type": "markdown",
   "metadata": {
    "papermill": {
     "duration": 0.069623,
     "end_time": "2020-10-27T06:24:16.868434",
     "exception": false,
     "start_time": "2020-10-27T06:24:16.798811",
     "status": "completed"
    },
    "tags": []
   },
   "source": [
    "#### Detecting Outliers\n"
   ]
  },
  {
   "cell_type": "code",
   "execution_count": 80,
   "metadata": {
    "execution": {
     "iopub.execute_input": "2020-10-27T06:24:17.021228Z",
     "iopub.status.busy": "2020-10-27T06:24:17.020424Z",
     "iopub.status.idle": "2020-10-27T06:24:17.040296Z",
     "shell.execute_reply": "2020-10-27T06:24:17.039539Z"
    },
    "papermill": {
     "duration": 0.102167,
     "end_time": "2020-10-27T06:24:17.040419",
     "exception": false,
     "start_time": "2020-10-27T06:24:16.938252",
     "status": "completed"
    },
    "tags": []
   },
   "outputs": [
    {
     "data": {
      "text/plain": [
       "Age             0\n",
       "Income         96\n",
       "Experience      0\n",
       "CCAvg         324\n",
       "Mortgage      291\n",
       "dtype: int64"
      ]
     },
     "execution_count": 80,
     "metadata": {},
     "output_type": "execute_result"
    }
   ],
   "source": [
    "# Outlier is defined as Data points above or below than 1.5 times the Inter Quartile Range of the data.\n",
    "numerical = ['Age','Income','Experience','CCAvg','Mortgage']\n",
    "Q1 = df[numerical].quantile(0.25)\n",
    "Q3 = df[numerical].quantile(0.75)\n",
    "IQR = Q3 - Q1\n",
    "out = (df[numerical] < (Q1 - 1.5 * IQR)) | (df[numerical] > (Q3 + 1.5 * IQR))\n",
    "out.sum()"
   ]
  },
  {
   "cell_type": "code",
   "execution_count": 81,
   "metadata": {
    "execution": {
     "iopub.execute_input": "2020-10-27T06:24:17.189433Z",
     "iopub.status.busy": "2020-10-27T06:24:17.188619Z",
     "iopub.status.idle": "2020-10-27T06:24:17.354272Z",
     "shell.execute_reply": "2020-10-27T06:24:17.353518Z"
    },
    "papermill": {
     "duration": 0.243678,
     "end_time": "2020-10-27T06:24:17.354404",
     "exception": false,
     "start_time": "2020-10-27T06:24:17.110726",
     "status": "completed"
    },
    "tags": []
   },
   "outputs": [
    {
     "data": {
      "text/plain": [
       "<AxesSubplot:xlabel='Income'>"
      ]
     },
     "execution_count": 81,
     "metadata": {},
     "output_type": "execute_result"
    },
    {
     "data": {
      "image/png": "[encoded data removed]",
      "text/plain": [
       "<Figure size 432x288 with 1 Axes>"
      ]
     },
     "metadata": {
      "needs_background": "light"
     },
     "output_type": "display_data"
    }
   ],
   "source": [
    "sns.boxplot(x=df['Income'])"
   ]
  },
  {
   "cell_type": "code",
   "execution_count": 82,
   "metadata": {
    "execution": {
     "iopub.execute_input": "2020-10-27T06:24:17.513005Z",
     "iopub.status.busy": "2020-10-27T06:24:17.511833Z",
     "iopub.status.idle": "2020-10-27T06:24:17.777165Z",
     "shell.execute_reply": "2020-10-27T06:24:17.776534Z"
    },
    "papermill": {
     "duration": 0.350773,
     "end_time": "2020-10-27T06:24:17.777307",
     "exception": false,
     "start_time": "2020-10-27T06:24:17.426534",
     "status": "completed"
    },
    "tags": []
   },
   "outputs": [
    {
     "data": {
      "text/plain": [
       "<AxesSubplot:xlabel='CCAvg'>"
      ]
     },
     "execution_count": 82,
     "metadata": {},
     "output_type": "execute_result"
    },
    {
     "data": {
      "image/png": "[encoded data removed]",
      "text/plain": [
       "<Figure size 432x288 with 1 Axes>"
      ]
     },
     "metadata": {
      "needs_background": "light"
     },
     "output_type": "display_data"
    }
   ],
   "source": [
    "sns.boxplot(x=df['CCAvg'])"
   ]
  },
  {
   "cell_type": "code",
   "execution_count": 83,
   "metadata": {
    "execution": {
     "iopub.execute_input": "2020-10-27T06:24:17.938060Z",
     "iopub.status.busy": "2020-10-27T06:24:17.931757Z",
     "iopub.status.idle": "2020-10-27T06:24:18.070393Z",
     "shell.execute_reply": "2020-10-27T06:24:18.069591Z"
    },
    "papermill": {
     "duration": 0.21922,
     "end_time": "2020-10-27T06:24:18.070560",
     "exception": false,
     "start_time": "2020-10-27T06:24:17.851340",
     "status": "completed"
    },
    "tags": []
   },
   "outputs": [
    {
     "data": {
      "text/plain": [
       "<AxesSubplot:xlabel='Mortgage'>"
      ]
     },
     "execution_count": 83,
     "metadata": {},
     "output_type": "execute_result"
    },
    {
     "data": {
      "image/png": "[encoded data removed]",
      "text/plain": [
       "<Figure size 432x288 with 1 Axes>"
      ]
     },
     "metadata": {
      "needs_background": "light"
     },
     "output_type": "display_data"
    }
   ],
   "source": [
    "sns.boxplot(x=df['Mortgage'])"
   ]
  },
  {
   "cell_type": "markdown",
   "metadata": {
    "papermill": {
     "duration": 0.074582,
     "end_time": "2020-10-27T06:24:18.222586",
     "exception": false,
     "start_time": "2020-10-27T06:24:18.148004",
     "status": "completed"
    },
    "tags": []
   },
   "source": [
    "Age,CCAvg and Mortgate contains many outliers."
   ]
  },
  {
   "cell_type": "markdown",
   "metadata": {
    "papermill": {
     "duration": 0.074406,
     "end_time": "2020-10-27T06:24:18.371771",
     "exception": false,
     "start_time": "2020-10-27T06:24:18.297365",
     "status": "completed"
    },
    "tags": []
   },
   "source": [
    "##   Distribution of Numerical Features"
   ]
  },
  {
   "cell_type": "code",
   "execution_count": 84,
   "metadata": {
    "execution": {
     "iopub.execute_input": "2020-10-27T06:24:18.531916Z",
     "iopub.status.busy": "2020-10-27T06:24:18.531020Z",
     "iopub.status.idle": "2020-10-27T06:24:19.563565Z",
     "shell.execute_reply": "2020-10-27T06:24:19.562873Z"
    },
    "papermill": {
     "duration": 1.11705,
     "end_time": "2020-10-27T06:24:19.563698",
     "exception": false,
     "start_time": "2020-10-27T06:24:18.446648",
     "status": "completed"
    },
    "tags": []
   },
   "outputs": [
    {
     "data": {
      "image/png": "[encoded data removed]",
      "text/plain": [
       "<Figure size 1440x720 with 6 Axes>"
      ]
     },
     "metadata": {
      "needs_background": "light"
     },
     "output_type": "display_data"
    }
   ],
   "source": [
    "df[numerical].hist(bins=15, figsize=(20, 10), layout=(2, 3));"
   ]
  },
  {
   "cell_type": "markdown",
   "metadata": {
    "papermill": {
     "duration": 0.075908,
     "end_time": "2020-10-27T06:24:19.716774",
     "exception": false,
     "start_time": "2020-10-27T06:24:19.640866",
     "status": "completed"
    },
    "tags": []
   },
   "source": [
    "* Age feature is normally distributed with majority of customers falling between 30 years and 60 years of age. We can confirm     this by looking at the describe statement above, which shows mean is almost equal to median\n",
    "* Experience is normally distributed with more customer having experience starting from 8 years. Here the mean is equal to         median. There are negative values in the Experience. This could be a data input error as in general it is not possible to       measure negative years of experience. We can delete these values, because we have 3 or 4 records from the sample.\n",
    "* Income is positively skewed. Majority of the customers have income between 45K and 55K. We can confirm this by saying the mean   is greater than the median\n",
    "* CCAvg is also a positively skewed variable and average spending is between 0K to 10K and majority spends less than 2.5K\n",
    "* Mortgage 70% of the individuals have a mortgage of less than 40K. However the max value is 635K\n",
    "\n"
   ]
  },
  {
   "cell_type": "markdown",
   "metadata": {
    "papermill": {
     "duration": 0.075542,
     "end_time": "2020-10-27T06:24:19.868669",
     "exception": false,
     "start_time": "2020-10-27T06:24:19.793127",
     "status": "completed"
    },
    "tags": []
   },
   "source": [
    "### Distribution of categorical features and their relation with the target feature"
   ]
  },
  {
   "cell_type": "code",
   "execution_count": 85,
   "metadata": {
    "execution": {
     "iopub.execute_input": "2020-10-27T06:24:20.039878Z",
     "iopub.status.busy": "2020-10-27T06:24:20.033486Z",
     "iopub.status.idle": "2020-10-27T06:24:20.359588Z",
     "shell.execute_reply": "2020-10-27T06:24:20.358723Z"
    },
    "papermill": {
     "duration": 0.415051,
     "end_time": "2020-10-27T06:24:20.359719",
     "exception": false,
     "start_time": "2020-10-27T06:24:19.944668",
     "status": "completed"
    },
    "tags": []
   },
   "outputs": [
    {
     "name": "stderr",
     "output_type": "stream",
     "text": [
      "/home/ubuntu/anaconda3/lib/python3.7/site-packages/seaborn/_decorators.py:43: FutureWarning: Pass the following variable as a keyword arg: x. From version 0.12, the only valid positional argument will be `data`, and passing other arguments without an explicit keyword will result in an error or misinterpretation.\n",
      "  FutureWarning\n",
      "/home/ubuntu/anaconda3/lib/python3.7/site-packages/seaborn/_decorators.py:43: FutureWarning: Pass the following variable as a keyword arg: x. From version 0.12, the only valid positional argument will be `data`, and passing other arguments without an explicit keyword will result in an error or misinterpretation.\n",
      "  FutureWarning\n"
     ]
    },
    {
     "data": {
      "image/png": "[encoded data removed]",
      "text/plain": [
       "<Figure size 864x432 with 2 Axes>"
      ]
     },
     "metadata": {
      "needs_background": "light"
     },
     "output_type": "display_data"
    }
   ],
   "source": [
    "# Using sns.countplot() for visualizing the counts\n",
    "\n",
    "fig,axes = plt.subplots(nrows=1,ncols=2, figsize=(12,6) )\n",
    "ax = sns.countplot(df['Family'],hue=df['Personal_Loan'],ax=axes[1],order = df[\"Family\"].value_counts().index)\n",
    "plt.legend()\n",
    "ax.set_title('Family vs Personal Loan')\n",
    "ax = sns.countplot(df['Family'],ax=axes[0],order = df[\"Family\"].value_counts().index)\n",
    "plt.legend()\n",
    "ax.set_title('Family Countplot')\n",
    "plt.show()"
   ]
  },
  {
   "cell_type": "markdown",
   "metadata": {
    "papermill": {
     "duration": 0.07835,
     "end_time": "2020-10-27T06:24:20.515692",
     "exception": false,
     "start_time": "2020-10-27T06:24:20.437342",
     "status": "completed"
    },
    "tags": []
   },
   "source": [
    " * Majority of the customers have family size 1.\n",
    " * More number of family size have accepted the loan"
   ]
  },
  {
   "cell_type": "code",
   "execution_count": 86,
   "metadata": {
    "execution": {
     "iopub.execute_input": "2020-10-27T06:24:20.696339Z",
     "iopub.status.busy": "2020-10-27T06:24:20.694900Z",
     "iopub.status.idle": "2020-10-27T06:24:21.053240Z",
     "shell.execute_reply": "2020-10-27T06:24:21.052466Z"
    },
    "papermill": {
     "duration": 0.460289,
     "end_time": "2020-10-27T06:24:21.053378",
     "exception": false,
     "start_time": "2020-10-27T06:24:20.593089",
     "status": "completed"
    },
    "tags": []
   },
   "outputs": [
    {
     "name": "stderr",
     "output_type": "stream",
     "text": [
      "/home/ubuntu/anaconda3/lib/python3.7/site-packages/seaborn/_decorators.py:43: FutureWarning: Pass the following variable as a keyword arg: x. From version 0.12, the only valid positional argument will be `data`, and passing other arguments without an explicit keyword will result in an error or misinterpretation.\n",
      "  FutureWarning\n",
      "/home/ubuntu/anaconda3/lib/python3.7/site-packages/seaborn/_decorators.py:43: FutureWarning: Pass the following variable as a keyword arg: x. From version 0.12, the only valid positional argument will be `data`, and passing other arguments without an explicit keyword will result in an error or misinterpretation.\n",
      "  FutureWarning\n"
     ]
    },
    {
     "data": {
      "image/png": "[encoded data removed]",
      "text/plain": [
       "<Figure size 864x432 with 2 Axes>"
      ]
     },
     "metadata": {
      "needs_background": "light"
     },
     "output_type": "display_data"
    }
   ],
   "source": [
    "# Using sns.countplot() for visualizing the counts\n",
    "\n",
    "fig,axes = plt.subplots(nrows=1,ncols=2, figsize=(12,6) )\n",
    "ax = sns.countplot(df['Education'],hue=df['Personal_Loan'],ax=axes[1],order = df[\"Education\"].value_counts().index)\n",
    "plt.legend()\n",
    "ax.set_title('Education vs Personal Loan')\n",
    "ax = sns.countplot(df['Education'],ax=axes[0],order = df[\"Education\"].value_counts().index)\n",
    "plt.legend()\n",
    "ax.set_title('Education_Level Countplot')\n",
    "plt.show()"
   ]
  },
  {
   "cell_type": "markdown",
   "metadata": {
    "papermill": {
     "duration": 0.079545,
     "end_time": "2020-10-27T06:24:21.213416",
     "exception": false,
     "start_time": "2020-10-27T06:24:21.133871",
     "status": "completed"
    },
    "tags": []
   },
   "source": [
    "More than 2000 customres has Undergraduate and very less to accept for loan\n",
    "Customers who are Graduate and Professional are more likely to accept loan than undergraduate."
   ]
  },
  {
   "cell_type": "code",
   "execution_count": 87,
   "metadata": {
    "execution": {
     "iopub.execute_input": "2020-10-27T06:24:21.388946Z",
     "iopub.status.busy": "2020-10-27T06:24:21.382299Z",
     "iopub.status.idle": "2020-10-27T06:24:21.665703Z",
     "shell.execute_reply": "2020-10-27T06:24:21.665002Z"
    },
    "papermill": {
     "duration": 0.372467,
     "end_time": "2020-10-27T06:24:21.665850",
     "exception": false,
     "start_time": "2020-10-27T06:24:21.293383",
     "status": "completed"
    },
    "tags": []
   },
   "outputs": [
    {
     "name": "stderr",
     "output_type": "stream",
     "text": [
      "/home/ubuntu/anaconda3/lib/python3.7/site-packages/seaborn/_decorators.py:43: FutureWarning: Pass the following variable as a keyword arg: x. From version 0.12, the only valid positional argument will be `data`, and passing other arguments without an explicit keyword will result in an error or misinterpretation.\n",
      "  FutureWarning\n",
      "/home/ubuntu/anaconda3/lib/python3.7/site-packages/seaborn/_decorators.py:43: FutureWarning: Pass the following variable as a keyword arg: x. From version 0.12, the only valid positional argument will be `data`, and passing other arguments without an explicit keyword will result in an error or misinterpretation.\n",
      "  FutureWarning\n"
     ]
    },
    {
     "data": {
      "image/png": "[encoded data removed]",
      "text/plain": [
       "<Figure size 864x432 with 2 Axes>"
      ]
     },
     "metadata": {
      "needs_background": "light"
     },
     "output_type": "display_data"
    }
   ],
   "source": [
    "# Using sns.countplot() for visualizing the counts\n",
    "\n",
    "fig,axes = plt.subplots(nrows=1,ncols=2, figsize=(12,6) )\n",
    "ax = sns.countplot(df['Securities_Account'],hue=df['Personal_Loan'],ax=axes[1])\n",
    "plt.legend()\n",
    "ax.set_title('Security Account vs Personal Loan')\n",
    "ax = sns.countplot(df['Securities_Account'],ax=axes[0])\n",
    "plt.legend()\n",
    "ax.set_title('Security Account Countplot')\n",
    "plt.show()"
   ]
  },
  {
   "cell_type": "markdown",
   "metadata": {
    "papermill": {
     "duration": 0.079114,
     "end_time": "2020-10-27T06:24:21.888359",
     "exception": false,
     "start_time": "2020-10-27T06:24:21.809245",
     "status": "completed"
    },
    "tags": []
   },
   "source": [
    "More than 4000 customers do not have Securities Account"
   ]
  },
  {
   "cell_type": "code",
   "execution_count": 88,
   "metadata": {
    "execution": {
     "iopub.execute_input": "2020-10-27T06:24:22.066040Z",
     "iopub.status.busy": "2020-10-27T06:24:22.059576Z",
     "iopub.status.idle": "2020-10-27T06:24:22.320000Z",
     "shell.execute_reply": "2020-10-27T06:24:22.319233Z"
    },
    "papermill": {
     "duration": 0.350486,
     "end_time": "2020-10-27T06:24:22.320165",
     "exception": false,
     "start_time": "2020-10-27T06:24:21.969679",
     "status": "completed"
    },
    "tags": []
   },
   "outputs": [
    {
     "ename": "KeyError",
     "evalue": "'CD Account'",
     "output_type": "error",
     "traceback": [
      "\u001b[0;31m---------------------------------------------------------------------------\u001b[0m",
      "\u001b[0;31mKeyError\u001b[0m                                  Traceback (most recent call last)",
      "\u001b[0;32m~/anaconda3/lib/python3.7/site-packages/pandas/core/indexes/base.py\u001b[0m in \u001b[0;36mget_loc\u001b[0;34m(self, key, method, tolerance)\u001b[0m\n\u001b[1;32m   3079\u001b[0m             \u001b[0;32mtry\u001b[0m\u001b[0;34m:\u001b[0m\u001b[0;34m\u001b[0m\u001b[0;34m\u001b[0m\u001b[0m\n\u001b[0;32m-> 3080\u001b[0;31m                 \u001b[0;32mreturn\u001b[0m \u001b[0mself\u001b[0m\u001b[0;34m.\u001b[0m\u001b[0m_engine\u001b[0m\u001b[0;34m.\u001b[0m\u001b[0mget_loc\u001b[0m\u001b[0;34m(\u001b[0m\u001b[0mcasted_key\u001b[0m\u001b[0;34m)\u001b[0m\u001b[0;34m\u001b[0m\u001b[0;34m\u001b[0m\u001b[0m\n\u001b[0m\u001b[1;32m   3081\u001b[0m             \u001b[0;32mexcept\u001b[0m \u001b[0mKeyError\u001b[0m \u001b[0;32mas\u001b[0m \u001b[0merr\u001b[0m\u001b[0;34m:\u001b[0m\u001b[0;34m\u001b[0m\u001b[0;34m\u001b[0m\u001b[0m\n",
      "\u001b[0;32mpandas/_libs/index.pyx\u001b[0m in \u001b[0;36mpandas._libs.index.IndexEngine.get_loc\u001b[0;34m()\u001b[0m\n",
      "\u001b[0;32mpandas/_libs/index.pyx\u001b[0m in \u001b[0;36mpandas._libs.index.IndexEngine.get_loc\u001b[0;34m()\u001b[0m\n",
      "\u001b[0;32mpandas/_libs/hashtable_class_helper.pxi\u001b[0m in \u001b[0;36mpandas._libs.hashtable.PyObjectHashTable.get_item\u001b[0;34m()\u001b[0m\n",
      "\u001b[0;32mpandas/_libs/hashtable_class_helper.pxi\u001b[0m in \u001b[0;36mpandas._libs.hashtable.PyObjectHashTable.get_item\u001b[0;34m()\u001b[0m\n",
      "\u001b[0;31mKeyError\u001b[0m: 'CD Account'",
      "\nThe above exception was the direct cause of the following exception:\n",
      "\u001b[0;31mKeyError\u001b[0m                                  Traceback (most recent call last)",
      "\u001b[0;32m<ipython-input-88-7e96ae7670a6>\u001b[0m in \u001b[0;36m<module>\u001b[0;34m\u001b[0m\n\u001b[1;32m      2\u001b[0m \u001b[0;34m\u001b[0m\u001b[0m\n\u001b[1;32m      3\u001b[0m \u001b[0mfig\u001b[0m\u001b[0;34m,\u001b[0m\u001b[0maxes\u001b[0m \u001b[0;34m=\u001b[0m \u001b[0mplt\u001b[0m\u001b[0;34m.\u001b[0m\u001b[0msubplots\u001b[0m\u001b[0;34m(\u001b[0m\u001b[0mnrows\u001b[0m\u001b[0;34m=\u001b[0m\u001b[0;36m1\u001b[0m\u001b[0;34m,\u001b[0m\u001b[0mncols\u001b[0m\u001b[0;34m=\u001b[0m\u001b[0;36m2\u001b[0m\u001b[0;34m,\u001b[0m \u001b[0mfigsize\u001b[0m\u001b[0;34m=\u001b[0m\u001b[0;34m(\u001b[0m\u001b[0;36m12\u001b[0m\u001b[0;34m,\u001b[0m\u001b[0;36m6\u001b[0m\u001b[0;34m)\u001b[0m \u001b[0;34m)\u001b[0m\u001b[0;34m\u001b[0m\u001b[0;34m\u001b[0m\u001b[0m\n\u001b[0;32m----> 4\u001b[0;31m \u001b[0max\u001b[0m \u001b[0;34m=\u001b[0m \u001b[0msns\u001b[0m\u001b[0;34m.\u001b[0m\u001b[0mcountplot\u001b[0m\u001b[0;34m(\u001b[0m\u001b[0mdf\u001b[0m\u001b[0;34m[\u001b[0m\u001b[0;34m'CD Account'\u001b[0m\u001b[0;34m]\u001b[0m\u001b[0;34m,\u001b[0m\u001b[0mhue\u001b[0m\u001b[0;34m=\u001b[0m\u001b[0mdf\u001b[0m\u001b[0;34m[\u001b[0m\u001b[0;34m'Personal Loan'\u001b[0m\u001b[0;34m]\u001b[0m\u001b[0;34m,\u001b[0m\u001b[0max\u001b[0m\u001b[0;34m=\u001b[0m\u001b[0maxes\u001b[0m\u001b[0;34m[\u001b[0m\u001b[0;36m1\u001b[0m\u001b[0;34m]\u001b[0m\u001b[0;34m)\u001b[0m\u001b[0;34m\u001b[0m\u001b[0;34m\u001b[0m\u001b[0m\n\u001b[0m\u001b[1;32m      5\u001b[0m \u001b[0mplt\u001b[0m\u001b[0;34m.\u001b[0m\u001b[0mlegend\u001b[0m\u001b[0;34m(\u001b[0m\u001b[0;34m)\u001b[0m\u001b[0;34m\u001b[0m\u001b[0;34m\u001b[0m\u001b[0m\n\u001b[1;32m      6\u001b[0m \u001b[0max\u001b[0m\u001b[0;34m.\u001b[0m\u001b[0mset_title\u001b[0m\u001b[0;34m(\u001b[0m\u001b[0;34m'CD Account vs Personal Loan'\u001b[0m\u001b[0;34m)\u001b[0m\u001b[0;34m\u001b[0m\u001b[0;34m\u001b[0m\u001b[0m\n",
      "\u001b[0;32m~/anaconda3/lib/python3.7/site-packages/pandas/core/frame.py\u001b[0m in \u001b[0;36m__getitem__\u001b[0;34m(self, key)\u001b[0m\n\u001b[1;32m   3022\u001b[0m             \u001b[0;32mif\u001b[0m \u001b[0mself\u001b[0m\u001b[0;34m.\u001b[0m\u001b[0mcolumns\u001b[0m\u001b[0;34m.\u001b[0m\u001b[0mnlevels\u001b[0m \u001b[0;34m>\u001b[0m \u001b[0;36m1\u001b[0m\u001b[0;34m:\u001b[0m\u001b[0;34m\u001b[0m\u001b[0;34m\u001b[0m\u001b[0m\n\u001b[1;32m   3023\u001b[0m                 \u001b[0;32mreturn\u001b[0m \u001b[0mself\u001b[0m\u001b[0;34m.\u001b[0m\u001b[0m_getitem_multilevel\u001b[0m\u001b[0;34m(\u001b[0m\u001b[0mkey\u001b[0m\u001b[0;34m)\u001b[0m\u001b[0;34m\u001b[0m\u001b[0;34m\u001b[0m\u001b[0m\n\u001b[0;32m-> 3024\u001b[0;31m             \u001b[0mindexer\u001b[0m \u001b[0;34m=\u001b[0m \u001b[0mself\u001b[0m\u001b[0;34m.\u001b[0m\u001b[0mcolumns\u001b[0m\u001b[0;34m.\u001b[0m\u001b[0mget_loc\u001b[0m\u001b[0;34m(\u001b[0m\u001b[0mkey\u001b[0m\u001b[0;34m)\u001b[0m\u001b[0;34m\u001b[0m\u001b[0;34m\u001b[0m\u001b[0m\n\u001b[0m\u001b[1;32m   3025\u001b[0m             \u001b[0;32mif\u001b[0m \u001b[0mis_integer\u001b[0m\u001b[0;34m(\u001b[0m\u001b[0mindexer\u001b[0m\u001b[0;34m)\u001b[0m\u001b[0;34m:\u001b[0m\u001b[0;34m\u001b[0m\u001b[0;34m\u001b[0m\u001b[0m\n\u001b[1;32m   3026\u001b[0m                 \u001b[0mindexer\u001b[0m \u001b[0;34m=\u001b[0m \u001b[0;34m[\u001b[0m\u001b[0mindexer\u001b[0m\u001b[0;34m]\u001b[0m\u001b[0;34m\u001b[0m\u001b[0;34m\u001b[0m\u001b[0m\n",
      "\u001b[0;32m~/anaconda3/lib/python3.7/site-packages/pandas/core/indexes/base.py\u001b[0m in \u001b[0;36mget_loc\u001b[0;34m(self, key, method, tolerance)\u001b[0m\n\u001b[1;32m   3080\u001b[0m                 \u001b[0;32mreturn\u001b[0m \u001b[0mself\u001b[0m\u001b[0;34m.\u001b[0m\u001b[0m_engine\u001b[0m\u001b[0;34m.\u001b[0m\u001b[0mget_loc\u001b[0m\u001b[0;34m(\u001b[0m\u001b[0mcasted_key\u001b[0m\u001b[0;34m)\u001b[0m\u001b[0;34m\u001b[0m\u001b[0;34m\u001b[0m\u001b[0m\n\u001b[1;32m   3081\u001b[0m             \u001b[0;32mexcept\u001b[0m \u001b[0mKeyError\u001b[0m \u001b[0;32mas\u001b[0m \u001b[0merr\u001b[0m\u001b[0;34m:\u001b[0m\u001b[0;34m\u001b[0m\u001b[0;34m\u001b[0m\u001b[0m\n\u001b[0;32m-> 3082\u001b[0;31m                 \u001b[0;32mraise\u001b[0m \u001b[0mKeyError\u001b[0m\u001b[0;34m(\u001b[0m\u001b[0mkey\u001b[0m\u001b[0;34m)\u001b[0m \u001b[0;32mfrom\u001b[0m \u001b[0merr\u001b[0m\u001b[0;34m\u001b[0m\u001b[0;34m\u001b[0m\u001b[0m\n\u001b[0m\u001b[1;32m   3083\u001b[0m \u001b[0;34m\u001b[0m\u001b[0m\n\u001b[1;32m   3084\u001b[0m         \u001b[0;32mif\u001b[0m \u001b[0mtolerance\u001b[0m \u001b[0;32mis\u001b[0m \u001b[0;32mnot\u001b[0m \u001b[0;32mNone\u001b[0m\u001b[0;34m:\u001b[0m\u001b[0;34m\u001b[0m\u001b[0;34m\u001b[0m\u001b[0m\n",
      "\u001b[0;31mKeyError\u001b[0m: 'CD Account'"
     ]
    },
    {
     "data": {
      "image/png": "[encoded data removed]",
      "text/plain": [
       "<Figure size 864x432 with 2 Axes>"
      ]
     },
     "metadata": {
      "needs_background": "light"
     },
     "output_type": "display_data"
    }
   ],
   "source": [
    "# Using sns.countplot() for visualizing the counts\n",
    "\n",
    "fig,axes = plt.subplots(nrows=1,ncols=2, figsize=(12,6) )\n",
    "ax = sns.countplot(df['CD Account'],hue=df['Personal Loan'],ax=axes[1])\n",
    "plt.legend()\n",
    "ax.set_title('CD Account vs Personal Loan')\n",
    "ax = sns.countplot(df['CD Account'],ax=axes[0])\n",
    "plt.legend()\n",
    "ax.set_title('Countplot for Certificate of Deposit Account ')\n",
    "plt.show()"
   ]
  },
  {
   "cell_type": "markdown",
   "metadata": {
    "papermill": {
     "duration": 0.080765,
     "end_time": "2020-10-27T06:24:22.482506",
     "exception": false,
     "start_time": "2020-10-27T06:24:22.401741",
     "status": "completed"
    },
    "tags": []
   },
   "source": [
    "Most of the customer do not have CD Account.\n",
    "Almost al customers who has CD Account has accepted the loan "
   ]
  },
  {
   "cell_type": "code",
   "execution_count": 90,
   "metadata": {
    "execution": {
     "iopub.execute_input": "2020-10-27T06:24:22.661618Z",
     "iopub.status.busy": "2020-10-27T06:24:22.656409Z",
     "iopub.status.idle": "2020-10-27T06:24:22.937132Z",
     "shell.execute_reply": "2020-10-27T06:24:22.936361Z"
    },
    "papermill": {
     "duration": 0.372365,
     "end_time": "2020-10-27T06:24:22.937267",
     "exception": false,
     "start_time": "2020-10-27T06:24:22.564902",
     "status": "completed"
    },
    "tags": []
   },
   "outputs": [
    {
     "name": "stderr",
     "output_type": "stream",
     "text": [
      "/home/ubuntu/anaconda3/lib/python3.7/site-packages/seaborn/_decorators.py:43: FutureWarning: Pass the following variable as a keyword arg: x. From version 0.12, the only valid positional argument will be `data`, and passing other arguments without an explicit keyword will result in an error or misinterpretation.\n",
      "  FutureWarning\n",
      "/home/ubuntu/anaconda3/lib/python3.7/site-packages/seaborn/_decorators.py:43: FutureWarning: Pass the following variable as a keyword arg: x. From version 0.12, the only valid positional argument will be `data`, and passing other arguments without an explicit keyword will result in an error or misinterpretation.\n",
      "  FutureWarning\n"
     ]
    },
    {
     "data": {
      "image/png": "[encoded data removed]",
      "text/plain": [
       "<Figure size 864x432 with 2 Axes>"
      ]
     },
     "metadata": {
      "needs_background": "light"
     },
     "output_type": "display_data"
    }
   ],
   "source": [
    "# Using sns.countplot() for visualizing the counts\n",
    "\n",
    "fig,axes = plt.subplots(nrows=1,ncols=2, figsize=(12,6) )\n",
    "ax = sns.countplot(df['Online'],hue=df['Personal_Loan'],ax=axes[1])\n",
    "plt.legend()\n",
    "ax.set_title('Internet Banking vs Personal Loan')\n",
    "ax = sns.countplot(df['Online'],ax=axes[0])\n",
    "plt.legend()\n",
    "ax.set_title('Countplot for Internet Banking')\n",
    "plt.show()"
   ]
  },
  {
   "cell_type": "markdown",
   "metadata": {
    "papermill": {
     "duration": 0.083976,
     "end_time": "2020-10-27T06:24:23.106323",
     "exception": false,
     "start_time": "2020-10-27T06:24:23.022347",
     "status": "completed"
    },
    "tags": []
   },
   "source": [
    "Most of the customers uses Online Banking"
   ]
  },
  {
   "cell_type": "code",
   "execution_count": 92,
   "metadata": {
    "execution": {
     "iopub.execute_input": "2020-10-27T06:24:23.282551Z",
     "iopub.status.busy": "2020-10-27T06:24:23.281592Z",
     "iopub.status.idle": "2020-10-27T06:24:23.697288Z",
     "shell.execute_reply": "2020-10-27T06:24:23.697844Z"
    },
    "papermill": {
     "duration": 0.508779,
     "end_time": "2020-10-27T06:24:23.698024",
     "exception": false,
     "start_time": "2020-10-27T06:24:23.189245",
     "status": "completed"
    },
    "tags": []
   },
   "outputs": [
    {
     "name": "stderr",
     "output_type": "stream",
     "text": [
      "/home/ubuntu/anaconda3/lib/python3.7/site-packages/seaborn/_decorators.py:43: FutureWarning: Pass the following variable as a keyword arg: x. From version 0.12, the only valid positional argument will be `data`, and passing other arguments without an explicit keyword will result in an error or misinterpretation.\n",
      "  FutureWarning\n",
      "/home/ubuntu/anaconda3/lib/python3.7/site-packages/seaborn/_decorators.py:43: FutureWarning: Pass the following variable as a keyword arg: x. From version 0.12, the only valid positional argument will be `data`, and passing other arguments without an explicit keyword will result in an error or misinterpretation.\n",
      "  FutureWarning\n"
     ]
    },
    {
     "data": {
      "image/png": "[encoded data removed]",
      "text/plain": [
       "<Figure size 864x432 with 2 Axes>"
      ]
     },
     "metadata": {
      "needs_background": "light"
     },
     "output_type": "display_data"
    }
   ],
   "source": [
    "# Using sns.countplot() for visualizing the counts\n",
    "\n",
    "fig,axes = plt.subplots(nrows=1,ncols=2, figsize=(12,6) )\n",
    "ax = sns.countplot(df['CreditCard'],hue=df['Personal_Loan'],ax=axes[1])\n",
    "plt.legend()\n",
    "ax.set_title('CreditCard vs Personal Loan')\n",
    "ax = sns.countplot(df['CreditCard'],ax=axes[0])\n",
    "plt.legend()\n",
    "ax.set_title('Credit Card Countplot')\n",
    "plt.show()"
   ]
  },
  {
   "cell_type": "markdown",
   "metadata": {
    "papermill": {
     "duration": 0.08316,
     "end_time": "2020-10-27T06:24:23.870756",
     "exception": false,
     "start_time": "2020-10-27T06:24:23.787596",
     "status": "completed"
    },
    "tags": []
   },
   "source": [
    "Most of the customer do not use credit card offered by the bank.\n"
   ]
  },
  {
   "cell_type": "markdown",
   "metadata": {
    "papermill": {
     "duration": 0.084052,
     "end_time": "2020-10-27T06:24:24.039252",
     "exception": false,
     "start_time": "2020-10-27T06:24:23.955200",
     "status": "completed"
    },
    "tags": []
   },
   "source": [
    "#### Relationship of some numerical features with target feature"
   ]
  },
  {
   "cell_type": "code",
   "execution_count": 94,
   "metadata": {
    "execution": {
     "iopub.execute_input": "2020-10-27T06:24:24.217046Z",
     "iopub.status.busy": "2020-10-27T06:24:24.214401Z",
     "iopub.status.idle": "2020-10-27T06:24:24.582412Z",
     "shell.execute_reply": "2020-10-27T06:24:24.581769Z"
    },
    "papermill": {
     "duration": 0.458969,
     "end_time": "2020-10-27T06:24:24.582563",
     "exception": false,
     "start_time": "2020-10-27T06:24:24.123594",
     "status": "completed"
    },
    "tags": []
   },
   "outputs": [
    {
     "data": {
      "text/plain": [
       "<seaborn.axisgrid.FacetGrid at 0x7fcaae4ab450>"
      ]
     },
     "execution_count": 94,
     "metadata": {},
     "output_type": "execute_result"
    },
    {
     "data": {
      "image/png": "[encoded data removed]",
      "text/plain": [
       "<Figure size 439.375x360 with 1 Axes>"
      ]
     },
     "metadata": {
      "needs_background": "light"
     },
     "output_type": "display_data"
    }
   ],
   "source": [
    "sns.catplot(x='Education', y = 'Income', data = df,kind= 'box',hue='Personal_Loan')"
   ]
  },
  {
   "cell_type": "markdown",
   "metadata": {
    "papermill": {
     "duration": 0.093051,
     "end_time": "2020-10-27T06:24:24.761534",
     "exception": false,
     "start_time": "2020-10-27T06:24:24.668483",
     "status": "completed"
    },
    "tags": []
   },
   "source": [
    "* From the above plot we can infer that customer having annual income in the range of (120 and 170)$ has accepted the loan.\n",
    "* It seems the customers whose education level is 1 is having more income. However customers who has taken the personal loan have the same income levels"
   ]
  },
  {
   "cell_type": "code",
   "execution_count": 95,
   "metadata": {
    "execution": {
     "iopub.execute_input": "2020-10-27T06:24:24.963856Z",
     "iopub.status.busy": "2020-10-27T06:24:24.962995Z",
     "iopub.status.idle": "2020-10-27T06:24:25.319462Z",
     "shell.execute_reply": "2020-10-27T06:24:25.318696Z"
    },
    "papermill": {
     "duration": 0.45662,
     "end_time": "2020-10-27T06:24:25.319604",
     "exception": false,
     "start_time": "2020-10-27T06:24:24.862984",
     "status": "completed"
    },
    "tags": []
   },
   "outputs": [
    {
     "data": {
      "text/plain": [
       "<seaborn.axisgrid.FacetGrid at 0x7fcaaeab2890>"
      ]
     },
     "execution_count": 95,
     "metadata": {},
     "output_type": "execute_result"
    },
    {
     "data": {
      "image/png": "[encoded data removed]",
      "text/plain": [
       "<Figure size 439.375x360 with 1 Axes>"
      ]
     },
     "metadata": {
      "needs_background": "light"
     },
     "output_type": "display_data"
    }
   ],
   "source": [
    "sns.catplot(x='Education',y='Mortgage',data=df,hue='Personal_Loan',kind='box')"
   ]
  },
  {
   "cell_type": "markdown",
   "metadata": {
    "papermill": {
     "duration": 0.087246,
     "end_time": "2020-10-27T06:24:25.495805",
     "exception": false,
     "start_time": "2020-10-27T06:24:25.408559",
     "status": "completed"
    },
    "tags": []
   },
   "source": [
    "From the above chart it seems that customer who has personal loan have high mortgage"
   ]
  },
  {
   "cell_type": "markdown",
   "metadata": {
    "papermill": {
     "duration": 0.086705,
     "end_time": "2020-10-27T06:24:25.670590",
     "exception": false,
     "start_time": "2020-10-27T06:24:25.583885",
     "status": "completed"
    },
    "tags": []
   },
   "source": [
    "#### Distribution of the target column"
   ]
  },
  {
   "cell_type": "code",
   "execution_count": 96,
   "metadata": {
    "execution": {
     "iopub.execute_input": "2020-10-27T06:24:25.877344Z",
     "iopub.status.busy": "2020-10-27T06:24:25.876183Z",
     "iopub.status.idle": "2020-10-27T06:24:25.964080Z",
     "shell.execute_reply": "2020-10-27T06:24:25.963387Z"
    },
    "papermill": {
     "duration": 0.194552,
     "end_time": "2020-10-27T06:24:25.964238",
     "exception": false,
     "start_time": "2020-10-27T06:24:25.769686",
     "status": "completed"
    },
    "tags": []
   },
   "outputs": [
    {
     "data": {
      "image/png": "[encoded data removed]",
      "text/plain": [
       "<Figure size 504x360 with 1 Axes>"
      ]
     },
     "metadata": {},
     "output_type": "display_data"
    }
   ],
   "source": [
    "fig,ax = plt.subplots( figsize=(7,5) )\n",
    "df['Personal_Loan'].value_counts(sort=False).plot(kind='pie',autopct='%1.1f%%', fontsize= 20,startangle=120)\n",
    "plt.legend(['Loan Rejected','Loan Accepted '])\n",
    "plt.show()"
   ]
  },
  {
   "cell_type": "markdown",
   "metadata": {
    "papermill": {
     "duration": 0.087912,
     "end_time": "2020-10-27T06:24:26.143646",
     "exception": false,
     "start_time": "2020-10-27T06:24:26.055734",
     "status": "completed"
    },
    "tags": []
   },
   "source": [
    "* The dataset is biased\n",
    "* The percentage of customers who has accepted the loan is very less"
   ]
  },
  {
   "cell_type": "markdown",
   "metadata": {
    "papermill": {
     "duration": 0.095746,
     "end_time": "2020-10-27T06:24:26.329665",
     "exception": false,
     "start_time": "2020-10-27T06:24:26.233919",
     "status": "completed"
    },
    "tags": []
   },
   "source": [
    "##### Corelation amaong the attributes"
   ]
  },
  {
   "cell_type": "code",
   "execution_count": 97,
   "metadata": {
    "execution": {
     "iopub.execute_input": "2020-10-27T06:24:26.528209Z",
     "iopub.status.busy": "2020-10-27T06:24:26.514575Z",
     "iopub.status.idle": "2020-10-27T06:24:27.437903Z",
     "shell.execute_reply": "2020-10-27T06:24:27.438513Z"
    },
    "papermill": {
     "duration": 1.02077,
     "end_time": "2020-10-27T06:24:27.438692",
     "exception": false,
     "start_time": "2020-10-27T06:24:26.417922",
     "status": "completed"
    },
    "tags": []
   },
   "outputs": [
    {
     "data": {
      "image/png": "[encoded data removed]",
      "text/plain": [
       "<Figure size 1152x576 with 2 Axes>"
      ]
     },
     "metadata": {
      "needs_background": "light"
     },
     "output_type": "display_data"
    }
   ],
   "source": [
    "# Plot for Visualising the correlation between variables and Target Column.\n",
    "\n",
    "fig,ax = plt.subplots( figsize=(16,8) )\n",
    "sns.heatmap(df.corr(),annot=True)\n",
    "plt.title('Heatmap for Correlation')\n",
    "plt.show()"
   ]
  },
  {
   "cell_type": "markdown",
   "metadata": {
    "papermill": {
     "duration": 0.090276,
     "end_time": "2020-10-27T06:24:27.620006",
     "exception": false,
     "start_time": "2020-10-27T06:24:27.529730",
     "status": "completed"
    },
    "tags": []
   },
   "source": [
    "* Income , CD Account and CCAvg column  are slightly corelated with the Target column\n",
    "* Others columns such as Income and CCavg are positively corelated.\n",
    "* Experirnce and Age are highly corelated"
   ]
  },
  {
   "cell_type": "markdown",
   "metadata": {
    "papermill": {
     "duration": 0.100538,
     "end_time": "2020-10-27T06:24:27.811351",
     "exception": false,
     "start_time": "2020-10-27T06:24:27.710813",
     "status": "completed"
    },
    "tags": []
   },
   "source": [
    "### Separating the target column"
   ]
  },
  {
   "cell_type": "code",
   "execution_count": 98,
   "metadata": {
    "execution": {
     "iopub.execute_input": "2020-10-27T06:24:28.001640Z",
     "iopub.status.busy": "2020-10-27T06:24:28.000834Z",
     "iopub.status.idle": "2020-10-27T06:24:28.004954Z",
     "shell.execute_reply": "2020-10-27T06:24:28.004304Z"
    },
    "papermill": {
     "duration": 0.10295,
     "end_time": "2020-10-27T06:24:28.005130",
     "exception": false,
     "start_time": "2020-10-27T06:24:27.902180",
     "status": "completed"
    },
    "tags": []
   },
   "outputs": [],
   "source": [
    "# Creating seperate DataSets for Target column('Personal Loan') named as 'y' and rest of the features in 'X' \n",
    "\n",
    "y = df[\"Personal_Loan\"]\n",
    "X = df.drop(\"Personal_Loan\",axis=1)"
   ]
  },
  {
   "cell_type": "code",
   "execution_count": 99,
   "metadata": {
    "execution": {
     "iopub.execute_input": "2020-10-27T06:24:28.196284Z",
     "iopub.status.busy": "2020-10-27T06:24:28.195477Z",
     "iopub.status.idle": "2020-10-27T06:24:28.331619Z",
     "shell.execute_reply": "2020-10-27T06:24:28.330885Z"
    },
    "papermill": {
     "duration": 0.233737,
     "end_time": "2020-10-27T06:24:28.331765",
     "exception": false,
     "start_time": "2020-10-27T06:24:28.098028",
     "status": "completed"
    },
    "tags": []
   },
   "outputs": [
    {
     "ename": "KeyError",
     "evalue": "\"['ID'] not found in axis\"",
     "output_type": "error",
     "traceback": [
      "\u001b[0;31m---------------------------------------------------------------------------\u001b[0m",
      "\u001b[0;31mKeyError\u001b[0m                                  Traceback (most recent call last)",
      "\u001b[0;32m<ipython-input-99-e1467cf6a341>\u001b[0m in \u001b[0;36m<module>\u001b[0;34m\u001b[0m\n\u001b[0;32m----> 1\u001b[0;31m \u001b[0mX\u001b[0m\u001b[0;34m.\u001b[0m\u001b[0mdrop\u001b[0m\u001b[0;34m(\u001b[0m\u001b[0;34m'ID'\u001b[0m\u001b[0;34m,\u001b[0m\u001b[0maxis\u001b[0m\u001b[0;34m=\u001b[0m\u001b[0;36m1\u001b[0m\u001b[0;34m,\u001b[0m\u001b[0minplace\u001b[0m\u001b[0;34m=\u001b[0m\u001b[0;32mTrue\u001b[0m\u001b[0;34m)\u001b[0m\u001b[0;34m\u001b[0m\u001b[0;34m\u001b[0m\u001b[0m\n\u001b[0m",
      "\u001b[0;32m~/anaconda3/lib/python3.7/site-packages/pandas/core/frame.py\u001b[0m in \u001b[0;36mdrop\u001b[0;34m(self, labels, axis, index, columns, level, inplace, errors)\u001b[0m\n\u001b[1;32m   4313\u001b[0m             \u001b[0mlevel\u001b[0m\u001b[0;34m=\u001b[0m\u001b[0mlevel\u001b[0m\u001b[0;34m,\u001b[0m\u001b[0;34m\u001b[0m\u001b[0;34m\u001b[0m\u001b[0m\n\u001b[1;32m   4314\u001b[0m             \u001b[0minplace\u001b[0m\u001b[0;34m=\u001b[0m\u001b[0minplace\u001b[0m\u001b[0;34m,\u001b[0m\u001b[0;34m\u001b[0m\u001b[0;34m\u001b[0m\u001b[0m\n\u001b[0;32m-> 4315\u001b[0;31m             \u001b[0merrors\u001b[0m\u001b[0;34m=\u001b[0m\u001b[0merrors\u001b[0m\u001b[0;34m,\u001b[0m\u001b[0;34m\u001b[0m\u001b[0;34m\u001b[0m\u001b[0m\n\u001b[0m\u001b[1;32m   4316\u001b[0m         )\n\u001b[1;32m   4317\u001b[0m \u001b[0;34m\u001b[0m\u001b[0m\n",
      "\u001b[0;32m~/anaconda3/lib/python3.7/site-packages/pandas/core/generic.py\u001b[0m in \u001b[0;36mdrop\u001b[0;34m(self, labels, axis, index, columns, level, inplace, errors)\u001b[0m\n\u001b[1;32m   4151\u001b[0m         \u001b[0;32mfor\u001b[0m \u001b[0maxis\u001b[0m\u001b[0;34m,\u001b[0m \u001b[0mlabels\u001b[0m \u001b[0;32min\u001b[0m \u001b[0maxes\u001b[0m\u001b[0;34m.\u001b[0m\u001b[0mitems\u001b[0m\u001b[0;34m(\u001b[0m\u001b[0;34m)\u001b[0m\u001b[0;34m:\u001b[0m\u001b[0;34m\u001b[0m\u001b[0;34m\u001b[0m\u001b[0m\n\u001b[1;32m   4152\u001b[0m             \u001b[0;32mif\u001b[0m \u001b[0mlabels\u001b[0m \u001b[0;32mis\u001b[0m \u001b[0;32mnot\u001b[0m \u001b[0;32mNone\u001b[0m\u001b[0;34m:\u001b[0m\u001b[0;34m\u001b[0m\u001b[0;34m\u001b[0m\u001b[0m\n\u001b[0;32m-> 4153\u001b[0;31m                 \u001b[0mobj\u001b[0m \u001b[0;34m=\u001b[0m \u001b[0mobj\u001b[0m\u001b[0;34m.\u001b[0m\u001b[0m_drop_axis\u001b[0m\u001b[0;34m(\u001b[0m\u001b[0mlabels\u001b[0m\u001b[0;34m,\u001b[0m \u001b[0maxis\u001b[0m\u001b[0;34m,\u001b[0m \u001b[0mlevel\u001b[0m\u001b[0;34m=\u001b[0m\u001b[0mlevel\u001b[0m\u001b[0;34m,\u001b[0m \u001b[0merrors\u001b[0m\u001b[0;34m=\u001b[0m\u001b[0merrors\u001b[0m\u001b[0;34m)\u001b[0m\u001b[0;34m\u001b[0m\u001b[0;34m\u001b[0m\u001b[0m\n\u001b[0m\u001b[1;32m   4154\u001b[0m \u001b[0;34m\u001b[0m\u001b[0m\n\u001b[1;32m   4155\u001b[0m         \u001b[0;32mif\u001b[0m \u001b[0minplace\u001b[0m\u001b[0;34m:\u001b[0m\u001b[0;34m\u001b[0m\u001b[0;34m\u001b[0m\u001b[0m\n",
      "\u001b[0;32m~/anaconda3/lib/python3.7/site-packages/pandas/core/generic.py\u001b[0m in \u001b[0;36m_drop_axis\u001b[0;34m(self, labels, axis, level, errors)\u001b[0m\n\u001b[1;32m   4186\u001b[0m                 \u001b[0mnew_axis\u001b[0m \u001b[0;34m=\u001b[0m \u001b[0maxis\u001b[0m\u001b[0;34m.\u001b[0m\u001b[0mdrop\u001b[0m\u001b[0;34m(\u001b[0m\u001b[0mlabels\u001b[0m\u001b[0;34m,\u001b[0m \u001b[0mlevel\u001b[0m\u001b[0;34m=\u001b[0m\u001b[0mlevel\u001b[0m\u001b[0;34m,\u001b[0m \u001b[0merrors\u001b[0m\u001b[0;34m=\u001b[0m\u001b[0merrors\u001b[0m\u001b[0;34m)\u001b[0m\u001b[0;34m\u001b[0m\u001b[0;34m\u001b[0m\u001b[0m\n\u001b[1;32m   4187\u001b[0m             \u001b[0;32melse\u001b[0m\u001b[0;34m:\u001b[0m\u001b[0;34m\u001b[0m\u001b[0;34m\u001b[0m\u001b[0m\n\u001b[0;32m-> 4188\u001b[0;31m                 \u001b[0mnew_axis\u001b[0m \u001b[0;34m=\u001b[0m \u001b[0maxis\u001b[0m\u001b[0;34m.\u001b[0m\u001b[0mdrop\u001b[0m\u001b[0;34m(\u001b[0m\u001b[0mlabels\u001b[0m\u001b[0;34m,\u001b[0m \u001b[0merrors\u001b[0m\u001b[0;34m=\u001b[0m\u001b[0merrors\u001b[0m\u001b[0;34m)\u001b[0m\u001b[0;34m\u001b[0m\u001b[0;34m\u001b[0m\u001b[0m\n\u001b[0m\u001b[1;32m   4189\u001b[0m             \u001b[0mresult\u001b[0m \u001b[0;34m=\u001b[0m \u001b[0mself\u001b[0m\u001b[0;34m.\u001b[0m\u001b[0mreindex\u001b[0m\u001b[0;34m(\u001b[0m\u001b[0;34m**\u001b[0m\u001b[0;34m{\u001b[0m\u001b[0maxis_name\u001b[0m\u001b[0;34m:\u001b[0m \u001b[0mnew_axis\u001b[0m\u001b[0;34m}\u001b[0m\u001b[0;34m)\u001b[0m\u001b[0;34m\u001b[0m\u001b[0;34m\u001b[0m\u001b[0m\n\u001b[1;32m   4190\u001b[0m \u001b[0;34m\u001b[0m\u001b[0m\n",
      "\u001b[0;32m~/anaconda3/lib/python3.7/site-packages/pandas/core/indexes/base.py\u001b[0m in \u001b[0;36mdrop\u001b[0;34m(self, labels, errors)\u001b[0m\n\u001b[1;32m   5589\u001b[0m         \u001b[0;32mif\u001b[0m \u001b[0mmask\u001b[0m\u001b[0;34m.\u001b[0m\u001b[0many\u001b[0m\u001b[0;34m(\u001b[0m\u001b[0;34m)\u001b[0m\u001b[0;34m:\u001b[0m\u001b[0;34m\u001b[0m\u001b[0;34m\u001b[0m\u001b[0m\n\u001b[1;32m   5590\u001b[0m             \u001b[0;32mif\u001b[0m \u001b[0merrors\u001b[0m \u001b[0;34m!=\u001b[0m \u001b[0;34m\"ignore\"\u001b[0m\u001b[0;34m:\u001b[0m\u001b[0;34m\u001b[0m\u001b[0;34m\u001b[0m\u001b[0m\n\u001b[0;32m-> 5591\u001b[0;31m                 \u001b[0;32mraise\u001b[0m \u001b[0mKeyError\u001b[0m\u001b[0;34m(\u001b[0m\u001b[0;34mf\"{labels[mask]} not found in axis\"\u001b[0m\u001b[0;34m)\u001b[0m\u001b[0;34m\u001b[0m\u001b[0;34m\u001b[0m\u001b[0m\n\u001b[0m\u001b[1;32m   5592\u001b[0m             \u001b[0mindexer\u001b[0m \u001b[0;34m=\u001b[0m \u001b[0mindexer\u001b[0m\u001b[0;34m[\u001b[0m\u001b[0;34m~\u001b[0m\u001b[0mmask\u001b[0m\u001b[0;34m]\u001b[0m\u001b[0;34m\u001b[0m\u001b[0;34m\u001b[0m\u001b[0m\n\u001b[1;32m   5593\u001b[0m         \u001b[0;32mreturn\u001b[0m \u001b[0mself\u001b[0m\u001b[0;34m.\u001b[0m\u001b[0mdelete\u001b[0m\u001b[0;34m(\u001b[0m\u001b[0mindexer\u001b[0m\u001b[0;34m)\u001b[0m\u001b[0;34m\u001b[0m\u001b[0;34m\u001b[0m\u001b[0m\n",
      "\u001b[0;31mKeyError\u001b[0m: \"['ID'] not found in axis\""
     ]
    }
   ],
   "source": [
    "X.drop('ID',axis=1,inplace=True)"
   ]
  },
  {
   "cell_type": "code",
   "execution_count": 101,
   "metadata": {
    "execution": {
     "iopub.execute_input": "2020-10-27T06:24:28.524004Z",
     "iopub.status.busy": "2020-10-27T06:24:28.523228Z",
     "iopub.status.idle": "2020-10-27T06:24:28.525623Z",
     "shell.execute_reply": "2020-10-27T06:24:28.526249Z"
    },
    "papermill": {
     "duration": 0.102614,
     "end_time": "2020-10-27T06:24:28.526430",
     "exception": false,
     "start_time": "2020-10-27T06:24:28.423816",
     "status": "completed"
    },
    "tags": []
   },
   "outputs": [
    {
     "ename": "KeyError",
     "evalue": "\"['ZIP_Code'] not found in axis\"",
     "output_type": "error",
     "traceback": [
      "\u001b[0;31m---------------------------------------------------------------------------\u001b[0m",
      "\u001b[0;31mKeyError\u001b[0m                                  Traceback (most recent call last)",
      "\u001b[0;32m<ipython-input-101-634d0c8a1ff3>\u001b[0m in \u001b[0;36m<module>\u001b[0;34m\u001b[0m\n\u001b[0;32m----> 1\u001b[0;31m \u001b[0mX\u001b[0m\u001b[0;34m.\u001b[0m\u001b[0mdrop\u001b[0m\u001b[0;34m(\u001b[0m\u001b[0;34m'ZIP_Code'\u001b[0m\u001b[0;34m,\u001b[0m\u001b[0maxis\u001b[0m\u001b[0;34m=\u001b[0m\u001b[0;36m1\u001b[0m\u001b[0;34m,\u001b[0m\u001b[0minplace\u001b[0m\u001b[0;34m=\u001b[0m\u001b[0;32mTrue\u001b[0m\u001b[0;34m)\u001b[0m\u001b[0;34m\u001b[0m\u001b[0;34m\u001b[0m\u001b[0m\n\u001b[0m",
      "\u001b[0;32m~/anaconda3/lib/python3.7/site-packages/pandas/core/frame.py\u001b[0m in \u001b[0;36mdrop\u001b[0;34m(self, labels, axis, index, columns, level, inplace, errors)\u001b[0m\n\u001b[1;32m   4313\u001b[0m             \u001b[0mlevel\u001b[0m\u001b[0;34m=\u001b[0m\u001b[0mlevel\u001b[0m\u001b[0;34m,\u001b[0m\u001b[0;34m\u001b[0m\u001b[0;34m\u001b[0m\u001b[0m\n\u001b[1;32m   4314\u001b[0m             \u001b[0minplace\u001b[0m\u001b[0;34m=\u001b[0m\u001b[0minplace\u001b[0m\u001b[0;34m,\u001b[0m\u001b[0;34m\u001b[0m\u001b[0;34m\u001b[0m\u001b[0m\n\u001b[0;32m-> 4315\u001b[0;31m             \u001b[0merrors\u001b[0m\u001b[0;34m=\u001b[0m\u001b[0merrors\u001b[0m\u001b[0;34m,\u001b[0m\u001b[0;34m\u001b[0m\u001b[0;34m\u001b[0m\u001b[0m\n\u001b[0m\u001b[1;32m   4316\u001b[0m         )\n\u001b[1;32m   4317\u001b[0m \u001b[0;34m\u001b[0m\u001b[0m\n",
      "\u001b[0;32m~/anaconda3/lib/python3.7/site-packages/pandas/core/generic.py\u001b[0m in \u001b[0;36mdrop\u001b[0;34m(self, labels, axis, index, columns, level, inplace, errors)\u001b[0m\n\u001b[1;32m   4151\u001b[0m         \u001b[0;32mfor\u001b[0m \u001b[0maxis\u001b[0m\u001b[0;34m,\u001b[0m \u001b[0mlabels\u001b[0m \u001b[0;32min\u001b[0m \u001b[0maxes\u001b[0m\u001b[0;34m.\u001b[0m\u001b[0mitems\u001b[0m\u001b[0;34m(\u001b[0m\u001b[0;34m)\u001b[0m\u001b[0;34m:\u001b[0m\u001b[0;34m\u001b[0m\u001b[0;34m\u001b[0m\u001b[0m\n\u001b[1;32m   4152\u001b[0m             \u001b[0;32mif\u001b[0m \u001b[0mlabels\u001b[0m \u001b[0;32mis\u001b[0m \u001b[0;32mnot\u001b[0m \u001b[0;32mNone\u001b[0m\u001b[0;34m:\u001b[0m\u001b[0;34m\u001b[0m\u001b[0;34m\u001b[0m\u001b[0m\n\u001b[0;32m-> 4153\u001b[0;31m                 \u001b[0mobj\u001b[0m \u001b[0;34m=\u001b[0m \u001b[0mobj\u001b[0m\u001b[0;34m.\u001b[0m\u001b[0m_drop_axis\u001b[0m\u001b[0;34m(\u001b[0m\u001b[0mlabels\u001b[0m\u001b[0;34m,\u001b[0m \u001b[0maxis\u001b[0m\u001b[0;34m,\u001b[0m \u001b[0mlevel\u001b[0m\u001b[0;34m=\u001b[0m\u001b[0mlevel\u001b[0m\u001b[0;34m,\u001b[0m \u001b[0merrors\u001b[0m\u001b[0;34m=\u001b[0m\u001b[0merrors\u001b[0m\u001b[0;34m)\u001b[0m\u001b[0;34m\u001b[0m\u001b[0;34m\u001b[0m\u001b[0m\n\u001b[0m\u001b[1;32m   4154\u001b[0m \u001b[0;34m\u001b[0m\u001b[0m\n\u001b[1;32m   4155\u001b[0m         \u001b[0;32mif\u001b[0m \u001b[0minplace\u001b[0m\u001b[0;34m:\u001b[0m\u001b[0;34m\u001b[0m\u001b[0;34m\u001b[0m\u001b[0m\n",
      "\u001b[0;32m~/anaconda3/lib/python3.7/site-packages/pandas/core/generic.py\u001b[0m in \u001b[0;36m_drop_axis\u001b[0;34m(self, labels, axis, level, errors)\u001b[0m\n\u001b[1;32m   4186\u001b[0m                 \u001b[0mnew_axis\u001b[0m \u001b[0;34m=\u001b[0m \u001b[0maxis\u001b[0m\u001b[0;34m.\u001b[0m\u001b[0mdrop\u001b[0m\u001b[0;34m(\u001b[0m\u001b[0mlabels\u001b[0m\u001b[0;34m,\u001b[0m \u001b[0mlevel\u001b[0m\u001b[0;34m=\u001b[0m\u001b[0mlevel\u001b[0m\u001b[0;34m,\u001b[0m \u001b[0merrors\u001b[0m\u001b[0;34m=\u001b[0m\u001b[0merrors\u001b[0m\u001b[0;34m)\u001b[0m\u001b[0;34m\u001b[0m\u001b[0;34m\u001b[0m\u001b[0m\n\u001b[1;32m   4187\u001b[0m             \u001b[0;32melse\u001b[0m\u001b[0;34m:\u001b[0m\u001b[0;34m\u001b[0m\u001b[0;34m\u001b[0m\u001b[0m\n\u001b[0;32m-> 4188\u001b[0;31m                 \u001b[0mnew_axis\u001b[0m \u001b[0;34m=\u001b[0m \u001b[0maxis\u001b[0m\u001b[0;34m.\u001b[0m\u001b[0mdrop\u001b[0m\u001b[0;34m(\u001b[0m\u001b[0mlabels\u001b[0m\u001b[0;34m,\u001b[0m \u001b[0merrors\u001b[0m\u001b[0;34m=\u001b[0m\u001b[0merrors\u001b[0m\u001b[0;34m)\u001b[0m\u001b[0;34m\u001b[0m\u001b[0;34m\u001b[0m\u001b[0m\n\u001b[0m\u001b[1;32m   4189\u001b[0m             \u001b[0mresult\u001b[0m \u001b[0;34m=\u001b[0m \u001b[0mself\u001b[0m\u001b[0;34m.\u001b[0m\u001b[0mreindex\u001b[0m\u001b[0;34m(\u001b[0m\u001b[0;34m**\u001b[0m\u001b[0;34m{\u001b[0m\u001b[0maxis_name\u001b[0m\u001b[0;34m:\u001b[0m \u001b[0mnew_axis\u001b[0m\u001b[0;34m}\u001b[0m\u001b[0;34m)\u001b[0m\u001b[0;34m\u001b[0m\u001b[0;34m\u001b[0m\u001b[0m\n\u001b[1;32m   4190\u001b[0m \u001b[0;34m\u001b[0m\u001b[0m\n",
      "\u001b[0;32m~/anaconda3/lib/python3.7/site-packages/pandas/core/indexes/base.py\u001b[0m in \u001b[0;36mdrop\u001b[0;34m(self, labels, errors)\u001b[0m\n\u001b[1;32m   5589\u001b[0m         \u001b[0;32mif\u001b[0m \u001b[0mmask\u001b[0m\u001b[0;34m.\u001b[0m\u001b[0many\u001b[0m\u001b[0;34m(\u001b[0m\u001b[0;34m)\u001b[0m\u001b[0;34m:\u001b[0m\u001b[0;34m\u001b[0m\u001b[0;34m\u001b[0m\u001b[0m\n\u001b[1;32m   5590\u001b[0m             \u001b[0;32mif\u001b[0m \u001b[0merrors\u001b[0m \u001b[0;34m!=\u001b[0m \u001b[0;34m\"ignore\"\u001b[0m\u001b[0;34m:\u001b[0m\u001b[0;34m\u001b[0m\u001b[0;34m\u001b[0m\u001b[0m\n\u001b[0;32m-> 5591\u001b[0;31m                 \u001b[0;32mraise\u001b[0m \u001b[0mKeyError\u001b[0m\u001b[0;34m(\u001b[0m\u001b[0;34mf\"{labels[mask]} not found in axis\"\u001b[0m\u001b[0;34m)\u001b[0m\u001b[0;34m\u001b[0m\u001b[0;34m\u001b[0m\u001b[0m\n\u001b[0m\u001b[1;32m   5592\u001b[0m             \u001b[0mindexer\u001b[0m \u001b[0;34m=\u001b[0m \u001b[0mindexer\u001b[0m\u001b[0;34m[\u001b[0m\u001b[0;34m~\u001b[0m\u001b[0mmask\u001b[0m\u001b[0;34m]\u001b[0m\u001b[0;34m\u001b[0m\u001b[0;34m\u001b[0m\u001b[0m\n\u001b[1;32m   5593\u001b[0m         \u001b[0;32mreturn\u001b[0m \u001b[0mself\u001b[0m\u001b[0;34m.\u001b[0m\u001b[0mdelete\u001b[0m\u001b[0;34m(\u001b[0m\u001b[0mindexer\u001b[0m\u001b[0;34m)\u001b[0m\u001b[0;34m\u001b[0m\u001b[0;34m\u001b[0m\u001b[0m\n",
      "\u001b[0;31mKeyError\u001b[0m: \"['ZIP_Code'] not found in axis\""
     ]
    }
   ],
   "source": [
    "X.drop('ZIP_Code',axis=1,inplace=True)"
   ]
  },
  {
   "cell_type": "markdown",
   "metadata": {
    "papermill": {
     "duration": 0.092049,
     "end_time": "2020-10-27T06:24:28.710850",
     "exception": false,
     "start_time": "2020-10-27T06:24:28.618801",
     "status": "completed"
    },
    "tags": []
   },
   "source": [
    "### Splitting the data"
   ]
  },
  {
   "cell_type": "code",
   "execution_count": 102,
   "metadata": {
    "execution": {
     "iopub.execute_input": "2020-10-27T06:24:28.905010Z",
     "iopub.status.busy": "2020-10-27T06:24:28.904202Z",
     "iopub.status.idle": "2020-10-27T06:24:28.909507Z",
     "shell.execute_reply": "2020-10-27T06:24:28.908856Z"
    },
    "papermill": {
     "duration": 0.104326,
     "end_time": "2020-10-27T06:24:28.909652",
     "exception": false,
     "start_time": "2020-10-27T06:24:28.805326",
     "status": "completed"
    },
    "tags": []
   },
   "outputs": [],
   "source": [
    " X_train, X_test, y_train, y_test = train_test_split(X, y, test_size=0.3, random_state=0)"
   ]
  },
  {
   "cell_type": "markdown",
   "metadata": {
    "papermill": {
     "duration": 0.093845,
     "end_time": "2020-10-27T06:24:29.095566",
     "exception": false,
     "start_time": "2020-10-27T06:24:29.001721",
     "status": "completed"
    },
    "tags": []
   },
   "source": [
    "#### Scaling the features"
   ]
  },
  {
   "cell_type": "code",
   "execution_count": 103,
   "metadata": {
    "execution": {
     "iopub.execute_input": "2020-10-27T06:24:29.291895Z",
     "iopub.status.busy": "2020-10-27T06:24:29.291069Z",
     "iopub.status.idle": "2020-10-27T06:24:29.301296Z",
     "shell.execute_reply": "2020-10-27T06:24:29.300634Z"
    },
    "papermill": {
     "duration": 0.112258,
     "end_time": "2020-10-27T06:24:29.301431",
     "exception": false,
     "start_time": "2020-10-27T06:24:29.189173",
     "status": "completed"
    },
    "tags": []
   },
   "outputs": [],
   "source": [
    "sc = StandardScaler()\n",
    "X_train_scaled=sc.fit_transform(X_train)\n",
    "X_test_scaled= sc.transform(X_test)"
   ]
  },
  {
   "cell_type": "markdown",
   "metadata": {
    "papermill": {
     "duration": 0.092548,
     "end_time": "2020-10-27T06:24:29.485814",
     "exception": false,
     "start_time": "2020-10-27T06:24:29.393266",
     "status": "completed"
    },
    "tags": []
   },
   "source": [
    "### Creating different ML Classification models"
   ]
  },
  {
   "cell_type": "markdown",
   "metadata": {
    "papermill": {
     "duration": 0.092792,
     "end_time": "2020-10-27T06:24:29.672609",
     "exception": false,
     "start_time": "2020-10-27T06:24:29.579817",
     "status": "completed"
    },
    "tags": []
   },
   "source": [
    "#### Logistic Regression"
   ]
  },
  {
   "cell_type": "code",
   "execution_count": 104,
   "metadata": {
    "execution": {
     "iopub.execute_input": "2020-10-27T06:24:29.878274Z",
     "iopub.status.busy": "2020-10-27T06:24:29.877169Z",
     "iopub.status.idle": "2020-10-27T06:24:29.915395Z",
     "shell.execute_reply": "2020-10-27T06:24:29.916247Z"
    },
    "papermill": {
     "duration": 0.150397,
     "end_time": "2020-10-27T06:24:29.916484",
     "exception": false,
     "start_time": "2020-10-27T06:24:29.766087",
     "status": "completed"
    },
    "tags": []
   },
   "outputs": [
    {
     "name": "stdout",
     "output_type": "stream",
     "text": [
      "Training Accuracy : 0.9514285714285714\n",
      "Testing accuracy  : 0.954\n",
      "F1 Score : 0.6933333333333334\n",
      "Logistic Regression Confusion matrix :\n",
      "\n",
      " [[1353   19]\n",
      " [  50   78]]\n"
     ]
    }
   ],
   "source": [
    "lr = LogisticRegression()\n",
    "lr.fit(X_train_scaled,y_train)\n",
    "lr_pred = lr.predict(X_test_scaled)\n",
    "lr_accu_test = lr.score(X_test_scaled,y_test)\n",
    "lr_accu_train = lr.score(X_train_scaled,y_train)\n",
    "lr_f1 = f1_score(y_test,lr_pred)\n",
    "print(\"Training Accuracy :\", lr_accu_train)\n",
    "print(\"Testing accuracy  :\",lr_accu_test)\n",
    "print(\"F1 Score :\",lr_f1)\n",
    "print(\"Logistic Regression Confusion matrix :\\n\\n\", confusion_matrix(y_test,lr_pred))"
   ]
  },
  {
   "cell_type": "markdown",
   "metadata": {
    "papermill": {
     "duration": 0.095864,
     "end_time": "2020-10-27T06:24:30.106474",
     "exception": false,
     "start_time": "2020-10-27T06:24:30.010610",
     "status": "completed"
    },
    "tags": []
   },
   "source": [
    "#### Naive Bayes"
   ]
  },
  {
   "cell_type": "code",
   "execution_count": 105,
   "metadata": {
    "execution": {
     "iopub.execute_input": "2020-10-27T06:24:30.303981Z",
     "iopub.status.busy": "2020-10-27T06:24:30.303222Z",
     "iopub.status.idle": "2020-10-27T06:24:30.322707Z",
     "shell.execute_reply": "2020-10-27T06:24:30.323313Z"
    },
    "papermill": {
     "duration": 0.123675,
     "end_time": "2020-10-27T06:24:30.323513",
     "exception": false,
     "start_time": "2020-10-27T06:24:30.199838",
     "status": "completed"
    },
    "tags": []
   },
   "outputs": [
    {
     "name": "stdout",
     "output_type": "stream",
     "text": [
      "Training Accuracy : 0.8828571428571429\n",
      "Testing accuracy  : 0.8866666666666667\n",
      "F1 Score : 0.46540880503144655\n",
      "Naive Bayes Confusion matrix :\n",
      "\n",
      " [[1256  116]\n",
      " [  54   74]]\n"
     ]
    }
   ],
   "source": [
    "nb = GaussianNB()\n",
    "nb.fit(X_train_scaled,y_train)\n",
    "nb_predict = nb.predict(X_test_scaled)\n",
    "nb_accu_test = nb.score(X_test_scaled,y_test)\n",
    "nb_accu_train = nb.score(X_train_scaled,y_train)\n",
    "nb_f1 = f1_score(y_test,nb_predict)\n",
    "print(\"Training Accuracy :\", nb_accu_train)\n",
    "print(\"Testing accuracy  :\",nb_accu_test)\n",
    "print(\"F1 Score :\",nb_f1)\n",
    "print(\"Naive Bayes Confusion matrix :\\n\\n\", confusion_matrix(y_test,nb_predict))"
   ]
  },
  {
   "cell_type": "markdown",
   "metadata": {
    "papermill": {
     "duration": 0.094522,
     "end_time": "2020-10-27T06:24:30.511382",
     "exception": false,
     "start_time": "2020-10-27T06:24:30.416860",
     "status": "completed"
    },
    "tags": []
   },
   "source": [
    "#### KNN"
   ]
  },
  {
   "cell_type": "markdown",
   "metadata": {
    "papermill": {
     "duration": 0.094979,
     "end_time": "2020-10-27T06:24:30.701003",
     "exception": false,
     "start_time": "2020-10-27T06:24:30.606024",
     "status": "completed"
    },
    "tags": []
   },
   "source": [
    "Finding the best value for n_neighbors (hyperparameter)"
   ]
  },
  {
   "cell_type": "code",
   "execution_count": 38,
   "metadata": {
    "execution": {
     "iopub.execute_input": "2020-10-27T06:24:30.908753Z",
     "iopub.status.busy": "2020-10-27T06:24:30.907799Z",
     "iopub.status.idle": "2020-10-27T06:24:39.747810Z",
     "shell.execute_reply": "2020-10-27T06:24:39.746844Z"
    },
    "papermill": {
     "duration": 8.948332,
     "end_time": "2020-10-27T06:24:39.747994",
     "exception": false,
     "start_time": "2020-10-27T06:24:30.799662",
     "status": "completed"
    },
    "tags": []
   },
   "outputs": [
    {
     "data": {
      "image/png": "[encoded data removed]",
      "text/plain": [
       "<Figure size 432x288 with 1 Axes>"
      ]
     },
     "metadata": {
      "needs_background": "light"
     },
     "output_type": "display_data"
    }
   ],
   "source": [
    "# Plotting a graph between various n_neighbors and accuracy scores.\n",
    "\n",
    "neighbors = np.arange(1,21)\n",
    "train_accuracy = np.empty(len(neighbors))\n",
    "test_accuracy = np.empty(len(neighbors))\n",
    "\n",
    "for i, k in enumerate(neighbors):\n",
    "    knn = KNeighborsClassifier(n_neighbors=k)\n",
    "    knn.fit(X_train_scaled,y_train)\n",
    "    train_accuracy[i] = knn.score(X_train_scaled,y_train)\n",
    "    test_accuracy[i] = knn.score(X_test_scaled, y_test)\n",
    "    \n",
    "plt.title('k-NN: Varying Number of Neighbors')\n",
    "plt.plot(neighbors, test_accuracy, label = 'Testing Accuracy')\n",
    "plt.plot(neighbors, train_accuracy, label = 'Training Accuracy')\n",
    "plt.legend()\n",
    "plt.xlabel('Number of Neighbors')\n",
    "plt.ylabel('Accuracy')\n",
    "plt.show()"
   ]
  },
  {
   "cell_type": "code",
   "execution_count": 39,
   "metadata": {
    "execution": {
     "iopub.execute_input": "2020-10-27T06:24:39.966676Z",
     "iopub.status.busy": "2020-10-27T06:24:39.965499Z",
     "iopub.status.idle": "2020-10-27T06:24:40.466017Z",
     "shell.execute_reply": "2020-10-27T06:24:40.465370Z"
    },
    "papermill": {
     "duration": 0.60986,
     "end_time": "2020-10-27T06:24:40.466176",
     "exception": false,
     "start_time": "2020-10-27T06:24:39.856316",
     "status": "completed"
    },
    "tags": []
   },
   "outputs": [
    {
     "name": "stdout",
     "output_type": "stream",
     "text": [
      "Training Accuracy : 0.9768571428571429\n",
      "Testing accuracy  : 0.9646666666666667\n",
      "F1 Score : 0.7644444444444445\n",
      "KNN Confusion matrix :\n",
      "\n",
      " [[1361   11]\n",
      " [  42   86]]\n"
     ]
    }
   ],
   "source": [
    "#testing accuracy is the highest for 'n_neighbors'=3\n",
    "knn= KNeighborsClassifier(n_neighbors=3)\n",
    "knn.fit(X_train_scaled,y_train)\n",
    "knn_predict = knn.predict(X_test_scaled)\n",
    "knn_accu_test = knn.score(X_test_scaled,y_test)\n",
    "knn_accu_train = knn.score(X_train_scaled,y_train)\n",
    "knn_f1 = f1_score(y_test,knn_predict)\n",
    "print(\"Training Accuracy :\", knn_accu_train)\n",
    "print(\"Testing accuracy  :\",knn_accu_test)\n",
    "print(\"F1 Score :\",knn_f1)\n",
    "print(\"KNN Confusion matrix :\\n\\n\", confusion_matrix(y_test,knn_predict))"
   ]
  },
  {
   "cell_type": "markdown",
   "metadata": {
    "papermill": {
     "duration": 0.097517,
     "end_time": "2020-10-27T06:24:40.661251",
     "exception": false,
     "start_time": "2020-10-27T06:24:40.563734",
     "status": "completed"
    },
    "tags": []
   },
   "source": [
    "Decision Trees "
   ]
  },
  {
   "cell_type": "code",
   "execution_count": 40,
   "metadata": {
    "execution": {
     "iopub.execute_input": "2020-10-27T06:24:40.871708Z",
     "iopub.status.busy": "2020-10-27T06:24:40.870856Z",
     "iopub.status.idle": "2020-10-27T06:24:40.898211Z",
     "shell.execute_reply": "2020-10-27T06:24:40.897591Z"
    },
    "papermill": {
     "duration": 0.138316,
     "end_time": "2020-10-27T06:24:40.898342",
     "exception": false,
     "start_time": "2020-10-27T06:24:40.760026",
     "status": "completed"
    },
    "tags": []
   },
   "outputs": [
    {
     "name": "stdout",
     "output_type": "stream",
     "text": [
      "Traing Accuracy : 0.8994285714285715\n",
      "Testing Accuracy : 0.9146666666666666\n",
      "F1 Score:  0.0\n",
      "Decision Tree Confusion matrix :\n",
      "\n",
      " [[1372    0]\n",
      " [ 128    0]]\n"
     ]
    },
    {
     "name": "stderr",
     "output_type": "stream",
     "text": [
      "/opt/conda/lib/python3.7/site-packages/sklearn/metrics/_classification.py:1221: UndefinedMetricWarning: Precision is ill-defined and being set to 0.0 due to no predicted samples. Use `zero_division` parameter to control this behavior.\n",
      "  _warn_prf(average, modifier, msg_start, len(result))\n"
     ]
    }
   ],
   "source": [
    "# Creating CART model with max_depth = 5\n",
    "\n",
    "dt = DecisionTreeClassifier(criterion='entropy',max_depth=1)\n",
    "dt.fit(X_train_scaled,y_train)\n",
    "dt_pred = dt.predict(X_test_scaled)\n",
    "dt_training = dt.score(X_train_scaled,y_train)\n",
    "dt_testing = dt.score(X_test_scaled,y_test)\n",
    "dt_precision = precision_score(y_test,dt_pred)\n",
    "dt_f1 = f1_score(y_test,dt_pred)\n",
    "print(\"Traing Accuracy :\", dt_training)\n",
    "print(\"Testing Accuracy :\",dt_testing )\n",
    "print(\"F1 Score: \",dt_f1 )\n",
    "print('Decision Tree Confusion matrix :\\n\\n',confusion_matrix(y_test, dt_pred) )"
   ]
  },
  {
   "cell_type": "markdown",
   "metadata": {
    "papermill": {
     "duration": 0.09636,
     "end_time": "2020-10-27T06:24:41.094337",
     "exception": false,
     "start_time": "2020-10-27T06:24:40.997977",
     "status": "completed"
    },
    "tags": []
   },
   "source": [
    "Random Forest"
   ]
  },
  {
   "cell_type": "code",
   "execution_count": 41,
   "metadata": {
    "execution": {
     "iopub.execute_input": "2020-10-27T06:24:41.297216Z",
     "iopub.status.busy": "2020-10-27T06:24:41.295985Z",
     "iopub.status.idle": "2020-10-27T06:24:41.573214Z",
     "shell.execute_reply": "2020-10-27T06:24:41.572589Z"
    },
    "papermill": {
     "duration": 0.382733,
     "end_time": "2020-10-27T06:24:41.573341",
     "exception": false,
     "start_time": "2020-10-27T06:24:41.190608",
     "status": "completed"
    },
    "tags": []
   },
   "outputs": [
    {
     "name": "stdout",
     "output_type": "stream",
     "text": [
      "Traing Accuracy : 1.0\n",
      "Testing Accuracy : 0.9853333333333333\n",
      "F1 Score:  0.9090909090909092\n",
      "Random Forest Confusion matrix :\n",
      "\n",
      " [[1368    4]\n",
      " [  18  110]]\n"
     ]
    }
   ],
   "source": [
    "rf = RandomForestClassifier(criterion='entropy',max_depth=50,n_estimators=50)\n",
    "rf.fit(X_train_scaled,y_train)\n",
    "rf_pred = rf.predict(X_test_scaled)\n",
    "rf_training = rf.score(X_train_scaled,y_train)\n",
    "rf_testing = rf.score(X_test_scaled,y_test)\n",
    "rf_precision = precision_score(y_test,rf_pred)\n",
    "rf_f1 = f1_score(y_test,rf_pred)\n",
    "print(\"Traing Accuracy :\", rf_training)\n",
    "print(\"Testing Accuracy :\",rf_testing )\n",
    "print(\"F1 Score: \",rf_f1 )\n",
    "print('Random Forest Confusion matrix :\\n\\n',confusion_matrix(y_test, rf_pred) )"
   ]
  },
  {
   "cell_type": "code",
   "execution_count": 42,
   "metadata": {
    "execution": {
     "iopub.execute_input": "2020-10-27T06:24:41.774092Z",
     "iopub.status.busy": "2020-10-27T06:24:41.773339Z",
     "iopub.status.idle": "2020-10-27T06:24:41.786312Z",
     "shell.execute_reply": "2020-10-27T06:24:41.785493Z"
    },
    "papermill": {
     "duration": 0.116856,
     "end_time": "2020-10-27T06:24:41.786481",
     "exception": false,
     "start_time": "2020-10-27T06:24:41.669625",
     "status": "completed"
    },
    "tags": []
   },
   "outputs": [
    {
     "name": "stdout",
     "output_type": "stream",
     "text": [
      "F1 Score\n",
      " :               precision    recall  f1-score   support\n",
      "\n",
      "           0       0.99      1.00      0.99      1372\n",
      "           1       0.96      0.86      0.91       128\n",
      "\n",
      "    accuracy                           0.99      1500\n",
      "   macro avg       0.98      0.93      0.95      1500\n",
      "weighted avg       0.99      0.99      0.98      1500\n",
      "\n"
     ]
    }
   ],
   "source": [
    "print('F1 Score\\n :',classification_report(y_test, rf_pred))"
   ]
  },
  {
   "cell_type": "markdown",
   "metadata": {
    "papermill": {
     "duration": 0.09725,
     "end_time": "2020-10-27T06:24:41.980701",
     "exception": false,
     "start_time": "2020-10-27T06:24:41.883451",
     "status": "completed"
    },
    "tags": []
   },
   "source": [
    "Bagging Classifier"
   ]
  },
  {
   "cell_type": "code",
   "execution_count": 43,
   "metadata": {
    "execution": {
     "iopub.execute_input": "2020-10-27T06:24:42.185633Z",
     "iopub.status.busy": "2020-10-27T06:24:42.184843Z",
     "iopub.status.idle": "2020-10-27T06:24:44.047009Z",
     "shell.execute_reply": "2020-10-27T06:24:44.047797Z"
    },
    "papermill": {
     "duration": 1.970099,
     "end_time": "2020-10-27T06:24:44.048010",
     "exception": false,
     "start_time": "2020-10-27T06:24:42.077911",
     "status": "completed"
    },
    "tags": []
   },
   "outputs": [
    {
     "name": "stdout",
     "output_type": "stream",
     "text": [
      "Traing Accuracy : 0.9725714285714285\n",
      "Testing Accuracy : 0.9753333333333334\n",
      "F1 Score:  0.8340807174887892\n",
      "Bagging Classifier Confusion matrix :\n",
      "\n",
      " [[1370    2]\n",
      " [  35   93]]\n"
     ]
    }
   ],
   "source": [
    "bg = BaggingClassifier(base_estimator=DecisionTreeClassifier(),n_estimators=500,bootstrap=True,max_samples=100)\n",
    "bg.fit(X_train_scaled,y_train)\n",
    "bg_pred = bg.predict(X_test_scaled)\n",
    "bg_training = bg.score(X_train_scaled,y_train)\n",
    "bg_testing = bg.score(X_test_scaled,y_test)\n",
    "bg_precision = precision_score(y_test,bg_pred)\n",
    "bg_f1 = f1_score(y_test,bg_pred)\n",
    "print(\"Traing Accuracy :\", bg_training)\n",
    "print(\"Testing Accuracy :\",bg_testing )\n",
    "print(\"F1 Score: \",bg_f1 )\n",
    "print('Bagging Classifier Confusion matrix :\\n\\n',confusion_matrix(y_test, bg_pred) )"
   ]
  },
  {
   "cell_type": "code",
   "execution_count": 44,
   "metadata": {
    "execution": {
     "iopub.execute_input": "2020-10-27T06:24:44.251083Z",
     "iopub.status.busy": "2020-10-27T06:24:44.250314Z",
     "iopub.status.idle": "2020-10-27T06:24:44.262432Z",
     "shell.execute_reply": "2020-10-27T06:24:44.263361Z"
    },
    "papermill": {
     "duration": 0.116665,
     "end_time": "2020-10-27T06:24:44.263575",
     "exception": false,
     "start_time": "2020-10-27T06:24:44.146910",
     "status": "completed"
    },
    "tags": []
   },
   "outputs": [
    {
     "name": "stdout",
     "output_type": "stream",
     "text": [
      "F1 Score\n",
      " :               precision    recall  f1-score   support\n",
      "\n",
      "           0       0.98      1.00      0.99      1372\n",
      "           1       0.98      0.73      0.83       128\n",
      "\n",
      "    accuracy                           0.98      1500\n",
      "   macro avg       0.98      0.86      0.91      1500\n",
      "weighted avg       0.98      0.98      0.97      1500\n",
      "\n"
     ]
    }
   ],
   "source": [
    "print('F1 Score\\n :',classification_report(y_test, bg_pred))"
   ]
  },
  {
   "cell_type": "markdown",
   "metadata": {
    "papermill": {
     "duration": 0.097147,
     "end_time": "2020-10-27T06:24:44.458716",
     "exception": false,
     "start_time": "2020-10-27T06:24:44.361569",
     "status": "completed"
    },
    "tags": []
   },
   "source": [
    "AdaBoost Classifier"
   ]
  },
  {
   "cell_type": "code",
   "execution_count": 45,
   "metadata": {
    "execution": {
     "iopub.execute_input": "2020-10-27T06:24:44.668996Z",
     "iopub.status.busy": "2020-10-27T06:24:44.667870Z",
     "iopub.status.idle": "2020-10-27T06:24:44.760634Z",
     "shell.execute_reply": "2020-10-27T06:24:44.759700Z"
    },
    "papermill": {
     "duration": 0.202415,
     "end_time": "2020-10-27T06:24:44.760800",
     "exception": false,
     "start_time": "2020-10-27T06:24:44.558385",
     "status": "completed"
    },
    "tags": []
   },
   "outputs": [
    {
     "name": "stdout",
     "output_type": "stream",
     "text": [
      "Traing Accuracy : 0.9857142857142858\n",
      "Testing Accuracy : 0.982\n",
      "F1 Score:  0.8870292887029289\n",
      "AdaBoost Classifier Confusion matrix :\n",
      "\n",
      " [[1367    5]\n",
      " [  22  106]]\n"
     ]
    }
   ],
   "source": [
    "ada = AdaBoostClassifier(base_estimator=DecisionTreeClassifier(max_depth=2),n_estimators=10,learning_rate=0.5)\n",
    "ada.fit(X_train_scaled,y_train)\n",
    "ada_pred = ada.predict(X_test_scaled)\n",
    "ada_training = ada.score(X_train_scaled,y_train)\n",
    "ada_testing = ada.score(X_test_scaled,y_test)\n",
    "ada_f1 = f1_score(y_test,ada_pred)\n",
    "ada_precision = precision_score(y_test,ada_pred)\n",
    "print(\"Traing Accuracy :\", ada_training)\n",
    "print(\"Testing Accuracy :\",ada_testing )\n",
    "print(\"F1 Score: \",ada_f1 )\n",
    "print('AdaBoost Classifier Confusion matrix :\\n\\n',confusion_matrix(y_test, ada_pred) )\n"
   ]
  },
  {
   "cell_type": "code",
   "execution_count": 46,
   "metadata": {
    "execution": {
     "iopub.execute_input": "2020-10-27T06:24:44.970560Z",
     "iopub.status.busy": "2020-10-27T06:24:44.969725Z",
     "iopub.status.idle": "2020-10-27T06:24:44.982289Z",
     "shell.execute_reply": "2020-10-27T06:24:44.981503Z"
    },
    "papermill": {
     "duration": 0.12009,
     "end_time": "2020-10-27T06:24:44.982429",
     "exception": false,
     "start_time": "2020-10-27T06:24:44.862339",
     "status": "completed"
    },
    "tags": []
   },
   "outputs": [
    {
     "name": "stdout",
     "output_type": "stream",
     "text": [
      "F1 Score\n",
      " :               precision    recall  f1-score   support\n",
      "\n",
      "           0       0.98      1.00      0.99      1372\n",
      "           1       0.95      0.83      0.89       128\n",
      "\n",
      "    accuracy                           0.98      1500\n",
      "   macro avg       0.97      0.91      0.94      1500\n",
      "weighted avg       0.98      0.98      0.98      1500\n",
      "\n"
     ]
    }
   ],
   "source": [
    "print('F1 Score\\n :',classification_report(y_test, ada_pred))"
   ]
  },
  {
   "cell_type": "markdown",
   "metadata": {
    "papermill": {
     "duration": 0.101663,
     "end_time": "2020-10-27T06:24:45.183396",
     "exception": false,
     "start_time": "2020-10-27T06:24:45.081733",
     "status": "completed"
    },
    "tags": []
   },
   "source": [
    "GradientBoost Classifier"
   ]
  },
  {
   "cell_type": "code",
   "execution_count": 47,
   "metadata": {
    "execution": {
     "iopub.execute_input": "2020-10-27T06:24:45.396769Z",
     "iopub.status.busy": "2020-10-27T06:24:45.395589Z",
     "iopub.status.idle": "2020-10-27T06:24:45.689981Z",
     "shell.execute_reply": "2020-10-27T06:24:45.689334Z"
    },
    "papermill": {
     "duration": 0.404473,
     "end_time": "2020-10-27T06:24:45.690152",
     "exception": false,
     "start_time": "2020-10-27T06:24:45.285679",
     "status": "completed"
    },
    "tags": []
   },
   "outputs": [
    {
     "name": "stdout",
     "output_type": "stream",
     "text": [
      "Traing Accuracy : 0.9814285714285714\n",
      "Testing Accuracy : 0.9846666666666667\n",
      "F1 Score:  0.9061224489795918\n",
      "AdaBoost Classifier Confusion matrix :\n",
      "\n",
      " [[1366    6]\n",
      " [  17  111]]\n"
     ]
    }
   ],
   "source": [
    "gbc = GradientBoostingClassifier(learning_rate=0.02,n_estimators=65)\n",
    "gbc.fit(X_train_scaled,y_train)\n",
    "gbc_pred = gbc.predict(X_test_scaled)\n",
    "gbc_training = gbc.score(X_train_scaled,y_train)\n",
    "gbc_testing = gbc.score(X_test_scaled,y_test)\n",
    "gbc_f1 = f1_score(y_test,gbc_pred)\n",
    "gbc_precision = precision_score(y_test,gbc_pred)\n",
    "print(\"Traing Accuracy :\", gbc_training)\n",
    "print(\"Testing Accuracy :\",gbc_testing )\n",
    "print(\"F1 Score: \",gbc_f1 )\n",
    "print('AdaBoost Classifier Confusion matrix :\\n\\n',confusion_matrix(y_test, gbc_pred) )\n"
   ]
  },
  {
   "cell_type": "code",
   "execution_count": 48,
   "metadata": {
    "execution": {
     "iopub.execute_input": "2020-10-27T06:24:45.939117Z",
     "iopub.status.busy": "2020-10-27T06:24:45.937973Z",
     "iopub.status.idle": "2020-10-27T06:24:45.954971Z",
     "shell.execute_reply": "2020-10-27T06:24:45.954019Z"
    },
    "papermill": {
     "duration": 0.157448,
     "end_time": "2020-10-27T06:24:45.955184",
     "exception": false,
     "start_time": "2020-10-27T06:24:45.797736",
     "status": "completed"
    },
    "tags": []
   },
   "outputs": [
    {
     "name": "stdout",
     "output_type": "stream",
     "text": [
      "F1 Score\n",
      " :               precision    recall  f1-score   support\n",
      "\n",
      "           0       0.99      1.00      0.99      1372\n",
      "           1       0.95      0.87      0.91       128\n",
      "\n",
      "    accuracy                           0.98      1500\n",
      "   macro avg       0.97      0.93      0.95      1500\n",
      "weighted avg       0.98      0.98      0.98      1500\n",
      "\n"
     ]
    }
   ],
   "source": [
    "print('F1 Score\\n :',classification_report(y_test, gbc_pred))"
   ]
  },
  {
   "cell_type": "code",
   "execution_count": 49,
   "metadata": {
    "execution": {
     "iopub.execute_input": "2020-10-27T06:24:46.173939Z",
     "iopub.status.busy": "2020-10-27T06:24:46.168643Z",
     "iopub.status.idle": "2020-10-27T06:24:46.393451Z",
     "shell.execute_reply": "2020-10-27T06:24:46.392539Z"
    },
    "papermill": {
     "duration": 0.337009,
     "end_time": "2020-10-27T06:24:46.393643",
     "exception": false,
     "start_time": "2020-10-27T06:24:46.056634",
     "status": "completed"
    },
    "tags": []
   },
   "outputs": [
    {
     "name": "stdout",
     "output_type": "stream",
     "text": [
      "Area under the curve for Random Forest  0.9980696519679301\n",
      "Area under the curve for Bagging  0.9943740889212827\n",
      "Area under the curve for AdaBoost  0.9904536033163265\n",
      "Area under the curve for  Gradient  0.9964410987609329\n",
      "Area under the curve for  Logistic Regression  0.9525214103498542\n",
      "Area under the curve for Decision Trees  0.8567556486880467\n",
      "Area under the curve for KNN  0.929439800473761\n",
      "Area under the curve for Naive  0.923167592930029\n"
     ]
    }
   ],
   "source": [
    "# ROC for Random Forest\n",
    "rf_prob = rf.predict_proba(X_test_scaled)\n",
    "fpr,tpr,thresh=roc_curve(y_test,rf_prob[:,1])\n",
    "auc1 = auc(fpr,tpr)\n",
    "print(\"Area under the curve for Random Forest \", auc1)\n",
    "\n",
    "#ROC for Bagging\n",
    "bg_prob = bg.predict_proba(X_test_scaled)\n",
    "fpr1,tpr1,thresh1=roc_curve(y_test,bg_prob[:,1])\n",
    "auc2 = auc(fpr1,tpr1)\n",
    "print(\"Area under the curve for Bagging \", auc2)\n",
    "\n",
    "#ROC for AdaBoost\n",
    "ada_prob = ada.predict_proba(X_test_scaled)\n",
    "fpr2,tpr2,thresh2=roc_curve(y_test,ada_prob[:,1])\n",
    "auc3 = auc(fpr2,tpr2)\n",
    "print(\"Area under the curve for AdaBoost \", auc3)\n",
    "\n",
    "#ROC for GradientBoost\n",
    "gbc_prob = gbc.predict_proba(X_test_scaled)\n",
    "fpr3,tpr3,thresh3=roc_curve(y_test,gbc_prob[:,1])\n",
    "auc4 = auc(fpr3,tpr3)\n",
    "print(\"Area under the curve for  Gradient \", auc4)\n",
    "\n",
    "lr_prob = lr.predict_proba(X_test_scaled)\n",
    "lr_fpr,lr_tpr,lr_thresh=roc_curve(y_test,lr_prob[:,1])\n",
    "lr_auc = auc(lr_fpr,lr_tpr)\n",
    "print(\"Area under the curve for  Logistic Regression \", lr_auc)\n",
    "\n",
    "dt_prob = dt.predict_proba(X_test_scaled)\n",
    "dt_fpr,dt_tpr,dt_thresh=roc_curve(y_test,dt_prob[:,1])\n",
    "dt_auc = auc(dt_fpr,dt_tpr)\n",
    "print(\"Area under the curve for Decision Trees \", dt_auc)\n",
    "\n",
    "\n",
    "knn_prob = knn.predict_proba(X_test_scaled)\n",
    "knn_fpr,knn_tpr,knn_thresh=roc_curve(y_test,knn_prob[:,1])\n",
    "knn_auc = auc(knn_fpr,knn_tpr)\n",
    "print(\"Area under the curve for KNN \", knn_auc)\n",
    "\n",
    "nb_prob = nb.predict_proba(X_test_scaled)\n",
    "nb_fpr,nb_tpr,nb_thresh=roc_curve(y_test,nb_prob[:,1])\n",
    "nb_auc = auc(nb_fpr,nb_tpr)\n",
    "print(\"Area under the curve for Naive \", nb_auc)\n"
   ]
  },
  {
   "cell_type": "code",
   "execution_count": 50,
   "metadata": {
    "execution": {
     "iopub.execute_input": "2020-10-27T06:24:46.620966Z",
     "iopub.status.busy": "2020-10-27T06:24:46.615388Z",
     "iopub.status.idle": "2020-10-27T06:24:47.615720Z",
     "shell.execute_reply": "2020-10-27T06:24:47.614804Z"
    },
    "papermill": {
     "duration": 1.118597,
     "end_time": "2020-10-27T06:24:47.615867",
     "exception": false,
     "start_time": "2020-10-27T06:24:46.497270",
     "status": "completed"
    },
    "tags": []
   },
   "outputs": [
    {
     "data": {
      "text/plain": [
       "<Figure size 432x288 with 0 Axes>"
      ]
     },
     "metadata": {},
     "output_type": "display_data"
    },
    {
     "data": {
      "image/png": "[encoded data removed]",
      "text/plain": [
       "<Figure size 1080x1080 with 6 Axes>"
      ]
     },
     "metadata": {
      "needs_background": "light"
     },
     "output_type": "display_data"
    }
   ],
   "source": [
    "#Plot the ROC curve \n",
    "plt.clf()\n",
    "fig, ax= plt.subplots(nrows = 3, ncols = 2, figsize = (15,15))\n",
    "ax[0,0].plot(fpr, tpr, label='AUC area = %0.2f' % auc1)\n",
    "ax[0,0].plot([0, 1], [0, 1], 'k--')\n",
    "ax[0,0].set_xlabel('False Positive Rate')\n",
    "ax[0,0].set_ylabel('True Positive Rate')\n",
    "ax[0,0].set_title('ROC for Random Forest')\n",
    "ax[0,0].legend(loc=\"lower right\")\n",
    "\n",
    "ax[0,1].plot(fpr1, tpr1, label='AUC = %0.2f' % auc2)\n",
    "ax[0,1].plot([0, 1], [0, 1], 'k--')\n",
    "ax[0,1].set_xlabel('False Positive Rate')\n",
    "ax[0,1].set_ylabel('True Positive Rate')\n",
    "ax[0,1].set_title('ROC for Bagging')\n",
    "ax[0,1].legend(loc=\"lower right\")\n",
    "\n",
    "ax[1,0].plot(fpr2, tpr2, label='AUC = %0.2f' % auc3)\n",
    "ax[1,0].plot([0, 1], [0, 1], 'k--')\n",
    "ax[1,0].set_xlabel('False Positive Rate')\n",
    "ax[1,0].set_ylabel('True Positive Rate')\n",
    "ax[1,0].set_title('ROC for AdaBoost')\n",
    "ax[1,0].legend(loc=\"lower right\")\n",
    "\n",
    "ax[1,1].plot(fpr3, tpr3, label='AUC = %0.2f' % auc4)\n",
    "ax[1,1].plot([0, 1], [0, 1], 'k--')\n",
    "ax[1,1].set_xlabel('False Positive Rate')\n",
    "ax[1,1].set_ylabel('True Positive Rate')\n",
    "ax[1,1].set_title('ROC Gradient')\n",
    "ax[1,1].legend(loc=\"lower right\")\n",
    "\n",
    "ax[2,0].plot(lr_fpr, lr_tpr, label='AUC = %0.2f' % lr_auc)\n",
    "ax[2,0].plot([0, 1], [0, 1], 'k--')\n",
    "ax[2,0].set_xlabel('False Positive Rate')\n",
    "ax[2,0].set_ylabel('True Positive Rate')\n",
    "ax[2,0].set_title('ROC for Logistic Regression')\n",
    "ax[2,0].legend(loc=\"lower right\")\n",
    "\n",
    "ax[2,1].plot(knn_fpr, knn_tpr, label='AUC = %0.2f' % knn_auc)\n",
    "ax[2,1].plot([0, 1], [0, 1], 'k--')\n",
    "ax[2,1].set_xlabel('False Positive Rate')\n",
    "ax[2,1].set_ylabel('True Positive Rate')\n",
    "ax[2,1].set_title('ROC for KNN')\n",
    "ax[2,1].legend(loc=\"lower right\")\n",
    "\n",
    "plt.show()\n",
    "\n"
   ]
  },
  {
   "cell_type": "markdown",
   "metadata": {
    "papermill": {
     "duration": 0.105865,
     "end_time": "2020-10-27T06:24:47.828007",
     "exception": false,
     "start_time": "2020-10-27T06:24:47.722142",
     "status": "completed"
    },
    "tags": []
   },
   "source": [
    "#### Confusion matrix for models"
   ]
  },
  {
   "cell_type": "code",
   "execution_count": 51,
   "metadata": {
    "execution": {
     "iopub.execute_input": "2020-10-27T06:24:48.050374Z",
     "iopub.status.busy": "2020-10-27T06:24:48.049558Z",
     "iopub.status.idle": "2020-10-27T06:24:48.088679Z",
     "shell.execute_reply": "2020-10-27T06:24:48.089620Z"
    },
    "papermill": {
     "duration": 0.156423,
     "end_time": "2020-10-27T06:24:48.089883",
     "exception": false,
     "start_time": "2020-10-27T06:24:47.933460",
     "status": "completed"
    },
    "tags": []
   },
   "outputs": [
    {
     "name": "stdout",
     "output_type": "stream",
     "text": [
      "Logistic Regression: \n",
      " [[1353   19]\n",
      " [  50   78]]\n",
      "\n",
      " Gaussian Naive Bayes: \n",
      " [[1254  118]\n",
      " [  53   75]]\n",
      "\n",
      " K Nearest Neighbour: \n",
      " [[1361   11]\n",
      " [  42   86]]\n",
      "\n",
      " Decision Tree Confusion matrix : \n",
      " [[1372    0]\n",
      " [ 128    0]]\n",
      "\n",
      " Random Forest Confusion matrix : \n",
      " [[1368    4]\n",
      " [  18  110]]\n",
      "\n",
      " Bagging Classifier Confusion matrix :  \n",
      " [[1370    2]\n",
      " [  35   93]]\n",
      "\n",
      " AdaBoost Classifier Confusion matrix : \n",
      " [[1367    5]\n",
      " [  22  106]]\n",
      "\n",
      " Gradient Boost Classifier Confusion matrix :  \n",
      " [[1366    6]\n",
      " [  17  111]]\n"
     ]
    }
   ],
   "source": [
    "print(\"Logistic Regression: \\n\",confusion_matrix(y_test,lr_pred))\n",
    "print(\"\\n Gaussian Naive Bayes: \\n\",confusion_matrix(y_test,nb_predict))\n",
    "print(\"\\n K Nearest Neighbour: \\n\",confusion_matrix(y_test,knn_predict))\n",
    "print('\\n Decision Tree Confusion matrix : \\n',confusion_matrix(y_test, dt_pred) )\n",
    "print('\\n Random Forest Confusion matrix : \\n',confusion_matrix(y_test, rf_pred) )\n",
    "print('\\n Bagging Classifier Confusion matrix :  \\n',confusion_matrix(y_test, bg_pred) )\n",
    "print('\\n AdaBoost Classifier Confusion matrix : \\n',confusion_matrix(y_test, ada_pred) )\n",
    "print('\\n Gradient Boost Classifier Confusion matrix :  \\n',confusion_matrix(y_test, gbc_pred) )\n",
    "\n",
    "\n",
    "\n",
    "\n",
    "#tn, fp, fn, tp = confusion_matrix([0, 1, 0, 1], [1, 1, 1, 0]).ravel()"
   ]
  },
  {
   "cell_type": "markdown",
   "metadata": {
    "papermill": {
     "duration": 0.104902,
     "end_time": "2020-10-27T06:24:48.303349",
     "exception": false,
     "start_time": "2020-10-27T06:24:48.198447",
     "status": "completed"
    },
    "tags": []
   },
   "source": [
    "#### Comparision of the models"
   ]
  },
  {
   "cell_type": "code",
   "execution_count": 52,
   "metadata": {
    "execution": {
     "iopub.execute_input": "2020-10-27T06:24:48.525030Z",
     "iopub.status.busy": "2020-10-27T06:24:48.524070Z",
     "iopub.status.idle": "2020-10-27T06:24:48.541520Z",
     "shell.execute_reply": "2020-10-27T06:24:48.540842Z"
    },
    "papermill": {
     "duration": 0.133499,
     "end_time": "2020-10-27T06:24:48.541678",
     "exception": false,
     "start_time": "2020-10-27T06:24:48.408179",
     "status": "completed"
    },
    "tags": []
   },
   "outputs": [
    {
     "data": {
      "text/html": [
       "<div>\n",
       "<style scoped>\n",
       "    .dataframe tbody tr th:only-of-type {\n",
       "        vertical-align: middle;\n",
       "    }\n",
       "\n",
       "    .dataframe tbody tr th {\n",
       "        vertical-align: top;\n",
       "    }\n",
       "\n",
       "    .dataframe thead th {\n",
       "        text-align: right;\n",
       "    }\n",
       "</style>\n",
       "<table border=\"1\" class=\"dataframe\">\n",
       "  <thead>\n",
       "    <tr style=\"text-align: right;\">\n",
       "      <th></th>\n",
       "      <th>Training Accuracy</th>\n",
       "      <th>Testing Accuracy</th>\n",
       "      <th>F1Score</th>\n",
       "    </tr>\n",
       "  </thead>\n",
       "  <tbody>\n",
       "    <tr>\n",
       "      <th>Logistic Regression</th>\n",
       "      <td>0.951143</td>\n",
       "      <td>0.954000</td>\n",
       "      <td>0.693333</td>\n",
       "    </tr>\n",
       "    <tr>\n",
       "      <th>Gaussian Naive Bayes</th>\n",
       "      <td>0.882571</td>\n",
       "      <td>0.886000</td>\n",
       "      <td>0.467290</td>\n",
       "    </tr>\n",
       "    <tr>\n",
       "      <th>KNearest Neighbour</th>\n",
       "      <td>0.976857</td>\n",
       "      <td>0.964667</td>\n",
       "      <td>0.764444</td>\n",
       "    </tr>\n",
       "    <tr>\n",
       "      <th>DecisionTrees</th>\n",
       "      <td>0.899429</td>\n",
       "      <td>0.914667</td>\n",
       "      <td>0.000000</td>\n",
       "    </tr>\n",
       "    <tr>\n",
       "      <th>RandomForest</th>\n",
       "      <td>1.000000</td>\n",
       "      <td>0.985333</td>\n",
       "      <td>0.909091</td>\n",
       "    </tr>\n",
       "    <tr>\n",
       "      <th>BaggingClassifier</th>\n",
       "      <td>0.972571</td>\n",
       "      <td>0.975333</td>\n",
       "      <td>0.834081</td>\n",
       "    </tr>\n",
       "    <tr>\n",
       "      <th>AdaBoost</th>\n",
       "      <td>0.985714</td>\n",
       "      <td>0.982000</td>\n",
       "      <td>0.887029</td>\n",
       "    </tr>\n",
       "    <tr>\n",
       "      <th>GradientBoosting</th>\n",
       "      <td>0.981429</td>\n",
       "      <td>0.984667</td>\n",
       "      <td>0.906122</td>\n",
       "    </tr>\n",
       "  </tbody>\n",
       "</table>\n",
       "</div>"
      ],
      "text/plain": [
       "                      Training Accuracy  Testing Accuracy   F1Score\n",
       "Logistic Regression            0.951143          0.954000  0.693333\n",
       "Gaussian Naive Bayes           0.882571          0.886000  0.467290\n",
       "KNearest Neighbour             0.976857          0.964667  0.764444\n",
       "DecisionTrees                  0.899429          0.914667  0.000000\n",
       "RandomForest                   1.000000          0.985333  0.909091\n",
       "BaggingClassifier              0.972571          0.975333  0.834081\n",
       "AdaBoost                       0.985714          0.982000  0.887029\n",
       "GradientBoosting               0.981429          0.984667  0.906122"
      ]
     },
     "execution_count": 52,
     "metadata": {},
     "output_type": "execute_result"
    }
   ],
   "source": [
    "df_compare = pd.DataFrame([[lr_accu_train,lr_accu_test,lr_f1],\n",
    "                           [nb_accu_train,nb_accu_test,nb_f1],\n",
    "                           [knn_accu_train,knn_accu_test,knn_f1],\n",
    "                           [dt_training,dt_testing,dt_f1],\n",
    "                           [rf_training,rf_testing,rf_f1],\n",
    "                           [bg_training,bg_testing,bg_f1],\n",
    "                          [ada_training,ada_testing,ada_f1],[gbc_training,gbc_testing,gbc_f1]],\n",
    "    columns=['Training Accuracy','Testing Accuracy','F1Score'],\n",
    "                       index=['Logistic Regression','Gaussian Naive Bayes','KNearest Neighbour',\n",
    "                              'DecisionTrees',\n",
    "                              'RandomForest','BaggingClassifier','AdaBoost','GradientBoosting'])\n",
    "df_compare"
   ]
  },
  {
   "cell_type": "code",
   "execution_count": 53,
   "metadata": {
    "execution": {
     "iopub.execute_input": "2020-10-27T06:24:48.770358Z",
     "iopub.status.busy": "2020-10-27T06:24:48.769221Z",
     "iopub.status.idle": "2020-10-27T06:24:48.774458Z",
     "shell.execute_reply": "2020-10-27T06:24:48.773684Z"
    },
    "papermill": {
     "duration": 0.124928,
     "end_time": "2020-10-27T06:24:48.774600",
     "exception": false,
     "start_time": "2020-10-27T06:24:48.649672",
     "status": "completed"
    },
    "tags": []
   },
   "outputs": [
    {
     "data": {
      "text/plain": [
       "RandomForest        0.985333\n",
       "GradientBoosting    0.984667\n",
       "AdaBoost            0.982000\n",
       "Name: Testing Accuracy, dtype: float64"
      ]
     },
     "execution_count": 53,
     "metadata": {},
     "output_type": "execute_result"
    }
   ],
   "source": [
    "# Top 3 models with Highest testing accuracy are - \n",
    "df_compare.sort_values(ascending=False,by=['Testing Accuracy'])['Testing Accuracy'].head(3)"
   ]
  },
  {
   "cell_type": "code",
   "execution_count": 54,
   "metadata": {
    "execution": {
     "iopub.execute_input": "2020-10-27T06:24:49.002529Z",
     "iopub.status.busy": "2020-10-27T06:24:49.001681Z",
     "iopub.status.idle": "2020-10-27T06:24:49.006377Z",
     "shell.execute_reply": "2020-10-27T06:24:49.005706Z"
    },
    "papermill": {
     "duration": 0.12346,
     "end_time": "2020-10-27T06:24:49.006542",
     "exception": false,
     "start_time": "2020-10-27T06:24:48.883082",
     "status": "completed"
    },
    "tags": []
   },
   "outputs": [
    {
     "data": {
      "text/plain": [
       "RandomForest        1.000000\n",
       "AdaBoost            0.985714\n",
       "GradientBoosting    0.981429\n",
       "Name: Training Accuracy, dtype: float64"
      ]
     },
     "execution_count": 54,
     "metadata": {},
     "output_type": "execute_result"
    }
   ],
   "source": [
    "# Top 3 models with Highest training accuracy are - \n",
    "df_compare.sort_values(ascending=False,by=['Training Accuracy'])['Training Accuracy'].head(3)"
   ]
  },
  {
   "cell_type": "code",
   "execution_count": 55,
   "metadata": {
    "execution": {
     "iopub.execute_input": "2020-10-27T06:24:49.231664Z",
     "iopub.status.busy": "2020-10-27T06:24:49.230646Z",
     "iopub.status.idle": "2020-10-27T06:24:49.236142Z",
     "shell.execute_reply": "2020-10-27T06:24:49.235296Z"
    },
    "papermill": {
     "duration": 0.122517,
     "end_time": "2020-10-27T06:24:49.236276",
     "exception": false,
     "start_time": "2020-10-27T06:24:49.113759",
     "status": "completed"
    },
    "tags": []
   },
   "outputs": [
    {
     "data": {
      "text/plain": [
       "RandomForest        0.909091\n",
       "GradientBoosting    0.906122\n",
       "AdaBoost            0.887029\n",
       "Name: F1Score, dtype: float64"
      ]
     },
     "execution_count": 55,
     "metadata": {},
     "output_type": "execute_result"
    }
   ],
   "source": [
    "# Top 3 models with highest F1 Score are \n",
    "df_compare.sort_values(ascending=False,by=['F1Score'])['F1Score'].head(3)"
   ]
  },
  {
   "cell_type": "markdown",
   "metadata": {
    "papermill": {
     "duration": 0.10756,
     "end_time": "2020-10-27T06:24:49.452762",
     "exception": false,
     "start_time": "2020-10-27T06:24:49.345202",
     "status": "completed"
    },
    "tags": []
   },
   "source": [
    "### Conclusion"
   ]
  },
  {
   "cell_type": "markdown",
   "metadata": {
    "papermill": {
     "duration": 0.107627,
     "end_time": "2020-10-27T06:24:49.668033",
     "exception": false,
     "start_time": "2020-10-27T06:24:49.560406",
     "status": "completed"
    },
    "tags": []
   },
   "source": [
    " Testing as well as training accuracy is highest for Random Forest.\n",
    " \n",
    " \n",
    " "
   ]
  },
  {
   "cell_type": "markdown",
   "metadata": {
    "papermill": {
     "duration": 0.112455,
     "end_time": "2020-10-27T06:24:49.889094",
     "exception": false,
     "start_time": "2020-10-27T06:24:49.776639",
     "status": "completed"
    },
    "tags": []
   },
   "source": [
    "#### Reasons why Random Forest is performing better than other models are \n",
    " * The given dataset has many outlier, and random forest is one of the classification algorithm which can perform better in presence of      outliers.\n",
    " * There are many attributes in the dataset which are corelated with each other for example Experience & Age , Income & CCAvg.\n",
    "   Naive Bayes Algorithm assumes that the features are independent which is not true in this dataset, hence its performance is not \n",
    "   good..\n"
   ]
  },
  {
   "cell_type": "markdown",
   "metadata": {
    "papermill": {
     "duration": 0.106968,
     "end_time": "2020-10-27T06:24:50.105767",
     "exception": false,
     "start_time": "2020-10-27T06:24:49.998799",
     "status": "completed"
    },
    "tags": []
   },
   "source": [
    "* Objective given as per the document is to predict liability of customers considering minimum possible budget.\n",
    "* Considering the domain we can say that the model which has less number of False Positive can be considered as a good model.\n",
    "* KNN is more close in achieving the objective.(Higher accuray + Least False Positive)\n",
    "* Type 1 and Type 2 errors are less for KNN than the other models, as observed from the confusion matrix. \n",
    "* KNN has good values in almost every evaluation tests.\n"
   ]
  }
 ],
 "metadata": {
  "kernelspec": {
   "display_name": "Python 3",
   "language": "python",
   "name": "python3"
  },
  "language_info": {
   "codemirror_mode": {
    "name": "ipython",
    "version": 3
   },
   "file_extension": ".py",
   "mimetype": "text/x-python",
   "name": "python",
   "nbconvert_exporter": "python",
   "pygments_lexer": "ipython3",
   "version": "3.7.6"
  },
  "papermill": {
   "duration": 45.432884,
   "end_time": "2020-10-27T06:24:50.324074",
   "environment_variables": {},
   "exception": null,
   "input_path": "__notebook__.ipynb",
   "output_path": "__notebook__.ipynb",
   "parameters": {},
   "start_time": "2020-10-27T06:24:04.891190",
   "version": "2.1.0"
  }
 },
 "nbformat": 4,
 "nbformat_minor": 4
}
