{
 "cells": [
  {
   "cell_type": "code",
   "execution_count": 2,
   "id": "baedc322",
   "metadata": {},
   "outputs": [],
   "source": [
    "import warnings\n",
    "warnings.filterwarnings('ignore') #ignore those pesky warnings\n",
    "import numpy as np\n",
    "import pandas as pd\n",
    "import matplotlib.pyplot as plt\n",
    "import seaborn as sns\n",
    "from scipy.stats import pearsonr\n",
    "\n",
    "\n",
    "%matplotlib inline\n",
    "%config Completer.use_jedi = False\n",
    "\n",
    "import warnings\n",
    "pd.set_option('display.float_format', lambda x: '%.5f' % x) # To supress numerical display in scientific notations"
   ]
  },
  {
   "cell_type": "code",
   "execution_count": 4,
   "id": "f8a65f37",
   "metadata": {},
   "outputs": [],
   "source": [
    "list1 = [4,5,8,10,11]\n",
    "list2=[50,48,45,42,41]\n",
    "corr, pvalue= pearsonr(list1,list2)\n"
   ]
  },
  {
   "cell_type": "code",
   "execution_count": 5,
   "id": "9382576d",
   "metadata": {},
   "outputs": [
    {
     "name": "stdout",
     "output_type": "stream",
     "text": [
      "-0.9963817945771083\n"
     ]
    }
   ],
   "source": [
    "print(corr)"
   ]
  },
  {
   "cell_type": "code",
   "execution_count": null,
   "id": "50429392",
   "metadata": {},
   "outputs": [],
   "source": []
  }
 ],
 "metadata": {
  "kernelspec": {
   "display_name": "Python 3",
   "language": "python",
   "name": "python3"
  },
  "language_info": {
   "codemirror_mode": {
    "name": "ipython",
    "version": 3
   },
   "file_extension": ".py",
   "mimetype": "text/x-python",
   "name": "python",
   "nbconvert_exporter": "python",
   "pygments_lexer": "ipython3",
   "version": "3.8.5"
  }
 },
 "nbformat": 4,
 "nbformat_minor": 5
}
