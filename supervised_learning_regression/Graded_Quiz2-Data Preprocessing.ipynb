{
 "cells": [
  {
   "cell_type": "code",
   "execution_count": 1,
   "metadata": {},
   "outputs": [
    {
     "name": "stdout",
     "output_type": "stream",
     "text": [
      "Requirement already satisfied: pyomo in /home/ubuntu/anaconda3/lib/python3.7/site-packages (6.0.1)\r\n",
      "Requirement already satisfied: ply in /home/ubuntu/anaconda3/lib/python3.7/site-packages (from pyomo) (3.11)\r\n"
     ]
    }
   ],
   "source": [
    "!pip install pyomo"
   ]
  },
  {
   "cell_type": "code",
   "execution_count": 2,
   "metadata": {},
   "outputs": [
    {
     "data": {
      "application/javascript": [
       "\n",
       "            setTimeout(function() {\n",
       "                var nbb_cell_id = 2;\n",
       "                var nbb_unformatted_code = \"# this will help in making the Python code more structured automatically (good coding practice)\\n%load_ext nb_black\";\n",
       "                var nbb_formatted_code = \"# this will help in making the Python code more structured automatically (good coding practice)\\n%load_ext nb_black\";\n",
       "                var nbb_cells = Jupyter.notebook.get_cells();\n",
       "                for (var i = 0; i < nbb_cells.length; ++i) {\n",
       "                    if (nbb_cells[i].input_prompt_number == nbb_cell_id) {\n",
       "                        if (nbb_cells[i].get_text() == nbb_unformatted_code) {\n",
       "                             nbb_cells[i].set_text(nbb_formatted_code);\n",
       "                        }\n",
       "                        break;\n",
       "                    }\n",
       "                }\n",
       "            }, 500);\n",
       "            "
      ],
      "text/plain": [
       "<IPython.core.display.Javascript object>"
      ]
     },
     "metadata": {},
     "output_type": "display_data"
    }
   ],
   "source": [
    "# this will help in making the Python code more structured automatically (good coding practice)\n",
    "%load_ext nb_black"
   ]
  },
  {
   "cell_type": "code",
   "execution_count": 3,
   "metadata": {},
   "outputs": [
    {
     "data": {
      "application/javascript": [
       "\n",
       "            setTimeout(function() {\n",
       "                var nbb_cell_id = 3;\n",
       "                var nbb_unformatted_code = \"import pandas as pd\\nimport numpy as np\\nimport matplotlib.pyplot as plt\\nimport seaborn as sns\\n\\n%matplotlib inline\\nsns.set()\\n\\n# Removes the limit for the number of displayed columns\\npd.set_option(\\\"display.max_columns\\\", None)\\n# Sets the limit for the number of displayed rows\\npd.set_option(\\\"display.max_rows\\\", 200)\\n\\n# To build linear regression model for prediction\\nfrom sklearn.linear_model import LinearRegression\\n\\n# To check model performance\\nfrom sklearn.metrics import mean_squared_error, r2_score, mean_absolute_error\";\n",
       "                var nbb_formatted_code = \"import pandas as pd\\nimport numpy as np\\nimport matplotlib.pyplot as plt\\nimport seaborn as sns\\n\\n%matplotlib inline\\nsns.set()\\n\\n# Removes the limit for the number of displayed columns\\npd.set_option(\\\"display.max_columns\\\", None)\\n# Sets the limit for the number of displayed rows\\npd.set_option(\\\"display.max_rows\\\", 200)\\n\\n# To build linear regression model for prediction\\nfrom sklearn.linear_model import LinearRegression\\n\\n# To check model performance\\nfrom sklearn.metrics import mean_squared_error, r2_score, mean_absolute_error\";\n",
       "                var nbb_cells = Jupyter.notebook.get_cells();\n",
       "                for (var i = 0; i < nbb_cells.length; ++i) {\n",
       "                    if (nbb_cells[i].input_prompt_number == nbb_cell_id) {\n",
       "                        if (nbb_cells[i].get_text() == nbb_unformatted_code) {\n",
       "                             nbb_cells[i].set_text(nbb_formatted_code);\n",
       "                        }\n",
       "                        break;\n",
       "                    }\n",
       "                }\n",
       "            }, 500);\n",
       "            "
      ],
      "text/plain": [
       "<IPython.core.display.Javascript object>"
      ]
     },
     "metadata": {},
     "output_type": "display_data"
    }
   ],
   "source": [
    "import pandas as pd\n",
    "import numpy as np\n",
    "import matplotlib.pyplot as plt\n",
    "import seaborn as sns\n",
    "\n",
    "%matplotlib inline\n",
    "sns.set()\n",
    "\n",
    "# Removes the limit for the number of displayed columns\n",
    "pd.set_option(\"display.max_columns\", None)\n",
    "# Sets the limit for the number of displayed rows\n",
    "pd.set_option(\"display.max_rows\", 200)\n",
    "\n",
    "# To build linear regression model for prediction\n",
    "from sklearn.linear_model import LinearRegression\n",
    "\n",
    "# To check model performance\n",
    "from sklearn.metrics import mean_squared_error, r2_score, mean_absolute_error"
   ]
  },
  {
   "cell_type": "code",
   "execution_count": 20,
   "metadata": {},
   "outputs": [
    {
     "data": {
      "application/javascript": [
       "\n",
       "            setTimeout(function() {\n",
       "                var nbb_cell_id = 20;\n",
       "                var nbb_unformatted_code = \"df = pd.read_csv(\\\"KickStarterProjects.csv\\\")\";\n",
       "                var nbb_formatted_code = \"df = pd.read_csv(\\\"KickStarterProjects.csv\\\")\";\n",
       "                var nbb_cells = Jupyter.notebook.get_cells();\n",
       "                for (var i = 0; i < nbb_cells.length; ++i) {\n",
       "                    if (nbb_cells[i].input_prompt_number == nbb_cell_id) {\n",
       "                        if (nbb_cells[i].get_text() == nbb_unformatted_code) {\n",
       "                             nbb_cells[i].set_text(nbb_formatted_code);\n",
       "                        }\n",
       "                        break;\n",
       "                    }\n",
       "                }\n",
       "            }, 500);\n",
       "            "
      ],
      "text/plain": [
       "<IPython.core.display.Javascript object>"
      ]
     },
     "metadata": {},
     "output_type": "display_data"
    }
   ],
   "source": [
    "df = pd.read_csv(\"KickStarterProjects.csv\")"
   ]
  },
  {
   "cell_type": "code",
   "execution_count": 21,
   "metadata": {},
   "outputs": [
    {
     "data": {
      "text/plain": [
       "(378661, 14)"
      ]
     },
     "execution_count": 21,
     "metadata": {},
     "output_type": "execute_result"
    },
    {
     "data": {
      "application/javascript": [
       "\n",
       "            setTimeout(function() {\n",
       "                var nbb_cell_id = 21;\n",
       "                var nbb_unformatted_code = \"df.shape\";\n",
       "                var nbb_formatted_code = \"df.shape\";\n",
       "                var nbb_cells = Jupyter.notebook.get_cells();\n",
       "                for (var i = 0; i < nbb_cells.length; ++i) {\n",
       "                    if (nbb_cells[i].input_prompt_number == nbb_cell_id) {\n",
       "                        if (nbb_cells[i].get_text() == nbb_unformatted_code) {\n",
       "                             nbb_cells[i].set_text(nbb_formatted_code);\n",
       "                        }\n",
       "                        break;\n",
       "                    }\n",
       "                }\n",
       "            }, 500);\n",
       "            "
      ],
      "text/plain": [
       "<IPython.core.display.Javascript object>"
      ]
     },
     "metadata": {},
     "output_type": "display_data"
    }
   ],
   "source": [
    "df.shape"
   ]
  },
  {
   "cell_type": "code",
   "execution_count": 22,
   "metadata": {},
   "outputs": [
    {
     "data": {
      "application/javascript": [
       "\n",
       "            setTimeout(function() {\n",
       "                var nbb_cell_id = 22;\n",
       "                var nbb_unformatted_code = \"data = df.copy()\";\n",
       "                var nbb_formatted_code = \"data = df.copy()\";\n",
       "                var nbb_cells = Jupyter.notebook.get_cells();\n",
       "                for (var i = 0; i < nbb_cells.length; ++i) {\n",
       "                    if (nbb_cells[i].input_prompt_number == nbb_cell_id) {\n",
       "                        if (nbb_cells[i].get_text() == nbb_unformatted_code) {\n",
       "                             nbb_cells[i].set_text(nbb_formatted_code);\n",
       "                        }\n",
       "                        break;\n",
       "                    }\n",
       "                }\n",
       "            }, 500);\n",
       "            "
      ],
      "text/plain": [
       "<IPython.core.display.Javascript object>"
      ]
     },
     "metadata": {},
     "output_type": "display_data"
    }
   ],
   "source": [
    "data = df.copy()"
   ]
  },
  {
   "cell_type": "code",
   "execution_count": 23,
   "metadata": {},
   "outputs": [
    {
     "data": {
      "text/html": [
       "<div>\n",
       "<style scoped>\n",
       "    .dataframe tbody tr th:only-of-type {\n",
       "        vertical-align: middle;\n",
       "    }\n",
       "\n",
       "    .dataframe tbody tr th {\n",
       "        vertical-align: top;\n",
       "    }\n",
       "\n",
       "    .dataframe thead th {\n",
       "        text-align: right;\n",
       "    }\n",
       "</style>\n",
       "<table border=\"1\" class=\"dataframe\">\n",
       "  <thead>\n",
       "    <tr style=\"text-align: right;\">\n",
       "      <th></th>\n",
       "      <th>ID</th>\n",
       "      <th>name</th>\n",
       "      <th>subcategory</th>\n",
       "      <th>category</th>\n",
       "      <th>currency</th>\n",
       "      <th>deadline</th>\n",
       "      <th>goal</th>\n",
       "      <th>launched</th>\n",
       "      <th>pledged</th>\n",
       "      <th>state</th>\n",
       "      <th>backers</th>\n",
       "      <th>country</th>\n",
       "      <th>usd_pledged_real</th>\n",
       "      <th>usd_goal_real</th>\n",
       "    </tr>\n",
       "  </thead>\n",
       "  <tbody>\n",
       "    <tr>\n",
       "      <th>0</th>\n",
       "      <td>1000002330</td>\n",
       "      <td>The Songs of Adelaide &amp; Abullah</td>\n",
       "      <td>Poetry</td>\n",
       "      <td>Publishing</td>\n",
       "      <td>GBP</td>\n",
       "      <td>09-10-2015</td>\n",
       "      <td>1000.0</td>\n",
       "      <td>11-08-2015 12:12</td>\n",
       "      <td>0.0</td>\n",
       "      <td>failed</td>\n",
       "      <td>0</td>\n",
       "      <td>GB</td>\n",
       "      <td>0.0</td>\n",
       "      <td>1533.95</td>\n",
       "    </tr>\n",
       "    <tr>\n",
       "      <th>1</th>\n",
       "      <td>1000003930</td>\n",
       "      <td>Greeting From Earth: ZGAC Arts Capsule For ET</td>\n",
       "      <td>Narrative Film</td>\n",
       "      <td>Film &amp; Video</td>\n",
       "      <td>USD</td>\n",
       "      <td>01-11-2017</td>\n",
       "      <td>30000.0</td>\n",
       "      <td>02-09-2017 04:43</td>\n",
       "      <td>2421.0</td>\n",
       "      <td>failed</td>\n",
       "      <td>15</td>\n",
       "      <td>US</td>\n",
       "      <td>2421.0</td>\n",
       "      <td>30000.00</td>\n",
       "    </tr>\n",
       "    <tr>\n",
       "      <th>2</th>\n",
       "      <td>1000004038</td>\n",
       "      <td>Where is Hank?</td>\n",
       "      <td>Narrative Film</td>\n",
       "      <td>Film &amp; Video</td>\n",
       "      <td>USD</td>\n",
       "      <td>26-02-2013</td>\n",
       "      <td>45000.0</td>\n",
       "      <td>12-01-2013 00:20</td>\n",
       "      <td>220.0</td>\n",
       "      <td>failed</td>\n",
       "      <td>3</td>\n",
       "      <td>US</td>\n",
       "      <td>220.0</td>\n",
       "      <td>45000.00</td>\n",
       "    </tr>\n",
       "    <tr>\n",
       "      <th>3</th>\n",
       "      <td>1000007540</td>\n",
       "      <td>ToshiCapital Rekordz Needs Help to Complete Album</td>\n",
       "      <td>Music</td>\n",
       "      <td>Music</td>\n",
       "      <td>USD</td>\n",
       "      <td>16-04-2012</td>\n",
       "      <td>5000.0</td>\n",
       "      <td>17-03-2012 03:24</td>\n",
       "      <td>1.0</td>\n",
       "      <td>failed</td>\n",
       "      <td>1</td>\n",
       "      <td>US</td>\n",
       "      <td>1.0</td>\n",
       "      <td>5000.00</td>\n",
       "    </tr>\n",
       "    <tr>\n",
       "      <th>4</th>\n",
       "      <td>1000011046</td>\n",
       "      <td>Community Film Project: The Art of Neighborhoo...</td>\n",
       "      <td>Film &amp; Video</td>\n",
       "      <td>Film &amp; Video</td>\n",
       "      <td>USD</td>\n",
       "      <td>29-08-2015</td>\n",
       "      <td>19500.0</td>\n",
       "      <td>04-07-2015 08:35</td>\n",
       "      <td>1283.0</td>\n",
       "      <td>canceled</td>\n",
       "      <td>14</td>\n",
       "      <td>US</td>\n",
       "      <td>1283.0</td>\n",
       "      <td>19500.00</td>\n",
       "    </tr>\n",
       "  </tbody>\n",
       "</table>\n",
       "</div>"
      ],
      "text/plain": [
       "           ID                                               name  \\\n",
       "0  1000002330                    The Songs of Adelaide & Abullah   \n",
       "1  1000003930      Greeting From Earth: ZGAC Arts Capsule For ET   \n",
       "2  1000004038                                     Where is Hank?   \n",
       "3  1000007540  ToshiCapital Rekordz Needs Help to Complete Album   \n",
       "4  1000011046  Community Film Project: The Art of Neighborhoo...   \n",
       "\n",
       "      subcategory      category currency    deadline     goal  \\\n",
       "0          Poetry    Publishing      GBP  09-10-2015   1000.0   \n",
       "1  Narrative Film  Film & Video      USD  01-11-2017  30000.0   \n",
       "2  Narrative Film  Film & Video      USD  26-02-2013  45000.0   \n",
       "3           Music         Music      USD  16-04-2012   5000.0   \n",
       "4    Film & Video  Film & Video      USD  29-08-2015  19500.0   \n",
       "\n",
       "           launched  pledged     state  backers country  usd_pledged_real  \\\n",
       "0  11-08-2015 12:12      0.0    failed        0      GB               0.0   \n",
       "1  02-09-2017 04:43   2421.0    failed       15      US            2421.0   \n",
       "2  12-01-2013 00:20    220.0    failed        3      US             220.0   \n",
       "3  17-03-2012 03:24      1.0    failed        1      US               1.0   \n",
       "4  04-07-2015 08:35   1283.0  canceled       14      US            1283.0   \n",
       "\n",
       "   usd_goal_real  \n",
       "0        1533.95  \n",
       "1       30000.00  \n",
       "2       45000.00  \n",
       "3        5000.00  \n",
       "4       19500.00  "
      ]
     },
     "execution_count": 23,
     "metadata": {},
     "output_type": "execute_result"
    },
    {
     "data": {
      "application/javascript": [
       "\n",
       "            setTimeout(function() {\n",
       "                var nbb_cell_id = 23;\n",
       "                var nbb_unformatted_code = \"data.head()\";\n",
       "                var nbb_formatted_code = \"data.head()\";\n",
       "                var nbb_cells = Jupyter.notebook.get_cells();\n",
       "                for (var i = 0; i < nbb_cells.length; ++i) {\n",
       "                    if (nbb_cells[i].input_prompt_number == nbb_cell_id) {\n",
       "                        if (nbb_cells[i].get_text() == nbb_unformatted_code) {\n",
       "                             nbb_cells[i].set_text(nbb_formatted_code);\n",
       "                        }\n",
       "                        break;\n",
       "                    }\n",
       "                }\n",
       "            }, 500);\n",
       "            "
      ],
      "text/plain": [
       "<IPython.core.display.Javascript object>"
      ]
     },
     "metadata": {},
     "output_type": "display_data"
    }
   ],
   "source": [
    "data.head()"
   ]
  },
  {
   "cell_type": "code",
   "execution_count": 24,
   "metadata": {},
   "outputs": [
    {
     "data": {
      "text/html": [
       "<div>\n",
       "<style scoped>\n",
       "    .dataframe tbody tr th:only-of-type {\n",
       "        vertical-align: middle;\n",
       "    }\n",
       "\n",
       "    .dataframe tbody tr th {\n",
       "        vertical-align: top;\n",
       "    }\n",
       "\n",
       "    .dataframe thead th {\n",
       "        text-align: right;\n",
       "    }\n",
       "</style>\n",
       "<table border=\"1\" class=\"dataframe\">\n",
       "  <thead>\n",
       "    <tr style=\"text-align: right;\">\n",
       "      <th></th>\n",
       "      <th>ID</th>\n",
       "      <th>name</th>\n",
       "      <th>subcategory</th>\n",
       "      <th>category</th>\n",
       "      <th>currency</th>\n",
       "      <th>deadline</th>\n",
       "      <th>goal</th>\n",
       "      <th>launched</th>\n",
       "      <th>pledged</th>\n",
       "      <th>state</th>\n",
       "      <th>backers</th>\n",
       "      <th>country</th>\n",
       "      <th>usd_pledged_real</th>\n",
       "      <th>usd_goal_real</th>\n",
       "    </tr>\n",
       "  </thead>\n",
       "  <tbody>\n",
       "    <tr>\n",
       "      <th>378656</th>\n",
       "      <td>999976400</td>\n",
       "      <td>ChknTruk Nationwide Charity Drive 2014 (Canceled)</td>\n",
       "      <td>Documentary</td>\n",
       "      <td>Film &amp; Video</td>\n",
       "      <td>USD</td>\n",
       "      <td>17-10-2014</td>\n",
       "      <td>50000.0</td>\n",
       "      <td>17-09-2014 02:35</td>\n",
       "      <td>25.0</td>\n",
       "      <td>canceled</td>\n",
       "      <td>1</td>\n",
       "      <td>US</td>\n",
       "      <td>25.0</td>\n",
       "      <td>50000.0</td>\n",
       "    </tr>\n",
       "    <tr>\n",
       "      <th>378657</th>\n",
       "      <td>999977640</td>\n",
       "      <td>The Tribe</td>\n",
       "      <td>Narrative Film</td>\n",
       "      <td>Film &amp; Video</td>\n",
       "      <td>USD</td>\n",
       "      <td>19-07-2011</td>\n",
       "      <td>1500.0</td>\n",
       "      <td>22-06-2011 03:35</td>\n",
       "      <td>155.0</td>\n",
       "      <td>failed</td>\n",
       "      <td>5</td>\n",
       "      <td>US</td>\n",
       "      <td>155.0</td>\n",
       "      <td>1500.0</td>\n",
       "    </tr>\n",
       "    <tr>\n",
       "      <th>378658</th>\n",
       "      <td>999986353</td>\n",
       "      <td>Walls of Remedy- New lesbian Romantic Comedy f...</td>\n",
       "      <td>Narrative Film</td>\n",
       "      <td>Film &amp; Video</td>\n",
       "      <td>USD</td>\n",
       "      <td>16-08-2010</td>\n",
       "      <td>15000.0</td>\n",
       "      <td>01-07-2010 19:40</td>\n",
       "      <td>20.0</td>\n",
       "      <td>failed</td>\n",
       "      <td>1</td>\n",
       "      <td>US</td>\n",
       "      <td>20.0</td>\n",
       "      <td>15000.0</td>\n",
       "    </tr>\n",
       "    <tr>\n",
       "      <th>378659</th>\n",
       "      <td>999987933</td>\n",
       "      <td>BioDefense Education Kit</td>\n",
       "      <td>Technology</td>\n",
       "      <td>Technology</td>\n",
       "      <td>USD</td>\n",
       "      <td>13-02-2016</td>\n",
       "      <td>15000.0</td>\n",
       "      <td>13-01-2016 18:13</td>\n",
       "      <td>200.0</td>\n",
       "      <td>failed</td>\n",
       "      <td>6</td>\n",
       "      <td>US</td>\n",
       "      <td>200.0</td>\n",
       "      <td>15000.0</td>\n",
       "    </tr>\n",
       "    <tr>\n",
       "      <th>378660</th>\n",
       "      <td>999988282</td>\n",
       "      <td>Nou Renmen Ayiti!  We Love Haiti!</td>\n",
       "      <td>Performance Art</td>\n",
       "      <td>Art</td>\n",
       "      <td>USD</td>\n",
       "      <td>16-08-2011</td>\n",
       "      <td>2000.0</td>\n",
       "      <td>19-07-2011 09:07</td>\n",
       "      <td>524.0</td>\n",
       "      <td>failed</td>\n",
       "      <td>17</td>\n",
       "      <td>US</td>\n",
       "      <td>524.0</td>\n",
       "      <td>2000.0</td>\n",
       "    </tr>\n",
       "  </tbody>\n",
       "</table>\n",
       "</div>"
      ],
      "text/plain": [
       "               ID                                               name  \\\n",
       "378656  999976400  ChknTruk Nationwide Charity Drive 2014 (Canceled)   \n",
       "378657  999977640                                          The Tribe   \n",
       "378658  999986353  Walls of Remedy- New lesbian Romantic Comedy f...   \n",
       "378659  999987933                           BioDefense Education Kit   \n",
       "378660  999988282                  Nou Renmen Ayiti!  We Love Haiti!   \n",
       "\n",
       "            subcategory      category currency    deadline     goal  \\\n",
       "378656      Documentary  Film & Video      USD  17-10-2014  50000.0   \n",
       "378657   Narrative Film  Film & Video      USD  19-07-2011   1500.0   \n",
       "378658   Narrative Film  Film & Video      USD  16-08-2010  15000.0   \n",
       "378659       Technology    Technology      USD  13-02-2016  15000.0   \n",
       "378660  Performance Art           Art      USD  16-08-2011   2000.0   \n",
       "\n",
       "                launched  pledged     state  backers country  \\\n",
       "378656  17-09-2014 02:35     25.0  canceled        1      US   \n",
       "378657  22-06-2011 03:35    155.0    failed        5      US   \n",
       "378658  01-07-2010 19:40     20.0    failed        1      US   \n",
       "378659  13-01-2016 18:13    200.0    failed        6      US   \n",
       "378660  19-07-2011 09:07    524.0    failed       17      US   \n",
       "\n",
       "        usd_pledged_real  usd_goal_real  \n",
       "378656              25.0        50000.0  \n",
       "378657             155.0         1500.0  \n",
       "378658              20.0        15000.0  \n",
       "378659             200.0        15000.0  \n",
       "378660             524.0         2000.0  "
      ]
     },
     "execution_count": 24,
     "metadata": {},
     "output_type": "execute_result"
    },
    {
     "data": {
      "application/javascript": [
       "\n",
       "            setTimeout(function() {\n",
       "                var nbb_cell_id = 24;\n",
       "                var nbb_unformatted_code = \"data.tail()\";\n",
       "                var nbb_formatted_code = \"data.tail()\";\n",
       "                var nbb_cells = Jupyter.notebook.get_cells();\n",
       "                for (var i = 0; i < nbb_cells.length; ++i) {\n",
       "                    if (nbb_cells[i].input_prompt_number == nbb_cell_id) {\n",
       "                        if (nbb_cells[i].get_text() == nbb_unformatted_code) {\n",
       "                             nbb_cells[i].set_text(nbb_formatted_code);\n",
       "                        }\n",
       "                        break;\n",
       "                    }\n",
       "                }\n",
       "            }, 500);\n",
       "            "
      ],
      "text/plain": [
       "<IPython.core.display.Javascript object>"
      ]
     },
     "metadata": {},
     "output_type": "display_data"
    }
   ],
   "source": [
    "data.tail()"
   ]
  },
  {
   "cell_type": "code",
   "execution_count": 25,
   "metadata": {},
   "outputs": [
    {
     "name": "stdout",
     "output_type": "stream",
     "text": [
      "Index(['ID', 'name', 'subcategory', 'category', 'currency', 'deadline', 'goal',\n",
      "       'launched', 'pledged', 'state', 'backers', 'country',\n",
      "       'usd_pledged_real', 'usd_goal_real'],\n",
      "      dtype='object')\n"
     ]
    },
    {
     "data": {
      "application/javascript": [
       "\n",
       "            setTimeout(function() {\n",
       "                var nbb_cell_id = 25;\n",
       "                var nbb_unformatted_code = \"print(data.columns)\";\n",
       "                var nbb_formatted_code = \"print(data.columns)\";\n",
       "                var nbb_cells = Jupyter.notebook.get_cells();\n",
       "                for (var i = 0; i < nbb_cells.length; ++i) {\n",
       "                    if (nbb_cells[i].input_prompt_number == nbb_cell_id) {\n",
       "                        if (nbb_cells[i].get_text() == nbb_unformatted_code) {\n",
       "                             nbb_cells[i].set_text(nbb_formatted_code);\n",
       "                        }\n",
       "                        break;\n",
       "                    }\n",
       "                }\n",
       "            }, 500);\n",
       "            "
      ],
      "text/plain": [
       "<IPython.core.display.Javascript object>"
      ]
     },
     "metadata": {},
     "output_type": "display_data"
    }
   ],
   "source": [
    "print(data.columns)"
   ]
  },
  {
   "cell_type": "code",
   "execution_count": 26,
   "metadata": {},
   "outputs": [
    {
     "name": "stdout",
     "output_type": "stream",
     "text": [
      "<class 'pandas.core.frame.DataFrame'>\n",
      "RangeIndex: 378661 entries, 0 to 378660\n",
      "Data columns (total 14 columns):\n",
      " #   Column            Non-Null Count   Dtype  \n",
      "---  ------            --------------   -----  \n",
      " 0   ID                378661 non-null  int64  \n",
      " 1   name              378657 non-null  object \n",
      " 2   subcategory       378661 non-null  object \n",
      " 3   category          378661 non-null  object \n",
      " 4   currency          378661 non-null  object \n",
      " 5   deadline          378661 non-null  object \n",
      " 6   goal              378661 non-null  float64\n",
      " 7   launched          378661 non-null  object \n",
      " 8   pledged           378661 non-null  float64\n",
      " 9   state             378661 non-null  object \n",
      " 10  backers           378661 non-null  int64  \n",
      " 11  country           378661 non-null  object \n",
      " 12  usd_pledged_real  378661 non-null  float64\n",
      " 13  usd_goal_real     378661 non-null  float64\n",
      "dtypes: float64(4), int64(2), object(8)\n",
      "memory usage: 40.4+ MB\n"
     ]
    },
    {
     "data": {
      "application/javascript": [
       "\n",
       "            setTimeout(function() {\n",
       "                var nbb_cell_id = 26;\n",
       "                var nbb_unformatted_code = \"data.info()\";\n",
       "                var nbb_formatted_code = \"data.info()\";\n",
       "                var nbb_cells = Jupyter.notebook.get_cells();\n",
       "                for (var i = 0; i < nbb_cells.length; ++i) {\n",
       "                    if (nbb_cells[i].input_prompt_number == nbb_cell_id) {\n",
       "                        if (nbb_cells[i].get_text() == nbb_unformatted_code) {\n",
       "                             nbb_cells[i].set_text(nbb_formatted_code);\n",
       "                        }\n",
       "                        break;\n",
       "                    }\n",
       "                }\n",
       "            }, 500);\n",
       "            "
      ],
      "text/plain": [
       "<IPython.core.display.Javascript object>"
      ]
     },
     "metadata": {},
     "output_type": "display_data"
    }
   ],
   "source": [
    "data.info()"
   ]
  },
  {
   "cell_type": "code",
   "execution_count": 28,
   "metadata": {},
   "outputs": [
    {
     "data": {
      "text/html": [
       "<div>\n",
       "<style scoped>\n",
       "    .dataframe tbody tr th:only-of-type {\n",
       "        vertical-align: middle;\n",
       "    }\n",
       "\n",
       "    .dataframe tbody tr th {\n",
       "        vertical-align: top;\n",
       "    }\n",
       "\n",
       "    .dataframe thead th {\n",
       "        text-align: right;\n",
       "    }\n",
       "</style>\n",
       "<table border=\"1\" class=\"dataframe\">\n",
       "  <thead>\n",
       "    <tr style=\"text-align: right;\">\n",
       "      <th></th>\n",
       "      <th>count</th>\n",
       "      <th>mean</th>\n",
       "      <th>std</th>\n",
       "      <th>min</th>\n",
       "      <th>25%</th>\n",
       "      <th>50%</th>\n",
       "      <th>75%</th>\n",
       "      <th>max</th>\n",
       "    </tr>\n",
       "  </thead>\n",
       "  <tbody>\n",
       "    <tr>\n",
       "      <th>ID</th>\n",
       "      <td>378661.0</td>\n",
       "      <td>1.074731e+09</td>\n",
       "      <td>6.190862e+08</td>\n",
       "      <td>5971.00</td>\n",
       "      <td>538263516.0</td>\n",
       "      <td>1.075276e+09</td>\n",
       "      <td>1.610149e+09</td>\n",
       "      <td>2.147476e+09</td>\n",
       "    </tr>\n",
       "    <tr>\n",
       "      <th>goal</th>\n",
       "      <td>378661.0</td>\n",
       "      <td>4.908079e+04</td>\n",
       "      <td>1.183391e+06</td>\n",
       "      <td>0.01</td>\n",
       "      <td>2000.0</td>\n",
       "      <td>5.200000e+03</td>\n",
       "      <td>1.600000e+04</td>\n",
       "      <td>1.000000e+08</td>\n",
       "    </tr>\n",
       "    <tr>\n",
       "      <th>pledged</th>\n",
       "      <td>378661.0</td>\n",
       "      <td>9.682979e+03</td>\n",
       "      <td>9.563601e+04</td>\n",
       "      <td>0.00</td>\n",
       "      <td>30.0</td>\n",
       "      <td>6.200000e+02</td>\n",
       "      <td>4.076000e+03</td>\n",
       "      <td>2.033899e+07</td>\n",
       "    </tr>\n",
       "    <tr>\n",
       "      <th>backers</th>\n",
       "      <td>378661.0</td>\n",
       "      <td>1.056175e+02</td>\n",
       "      <td>9.071850e+02</td>\n",
       "      <td>0.00</td>\n",
       "      <td>2.0</td>\n",
       "      <td>1.200000e+01</td>\n",
       "      <td>5.600000e+01</td>\n",
       "      <td>2.193820e+05</td>\n",
       "    </tr>\n",
       "    <tr>\n",
       "      <th>usd_pledged_real</th>\n",
       "      <td>378661.0</td>\n",
       "      <td>9.058924e+03</td>\n",
       "      <td>9.097334e+04</td>\n",
       "      <td>0.00</td>\n",
       "      <td>31.0</td>\n",
       "      <td>6.243300e+02</td>\n",
       "      <td>4.050000e+03</td>\n",
       "      <td>2.033899e+07</td>\n",
       "    </tr>\n",
       "    <tr>\n",
       "      <th>usd_goal_real</th>\n",
       "      <td>378661.0</td>\n",
       "      <td>4.545440e+04</td>\n",
       "      <td>1.152950e+06</td>\n",
       "      <td>0.01</td>\n",
       "      <td>2000.0</td>\n",
       "      <td>5.500000e+03</td>\n",
       "      <td>1.550000e+04</td>\n",
       "      <td>1.663614e+08</td>\n",
       "    </tr>\n",
       "  </tbody>\n",
       "</table>\n",
       "</div>"
      ],
      "text/plain": [
       "                     count          mean           std      min          25%  \\\n",
       "ID                378661.0  1.074731e+09  6.190862e+08  5971.00  538263516.0   \n",
       "goal              378661.0  4.908079e+04  1.183391e+06     0.01       2000.0   \n",
       "pledged           378661.0  9.682979e+03  9.563601e+04     0.00         30.0   \n",
       "backers           378661.0  1.056175e+02  9.071850e+02     0.00          2.0   \n",
       "usd_pledged_real  378661.0  9.058924e+03  9.097334e+04     0.00         31.0   \n",
       "usd_goal_real     378661.0  4.545440e+04  1.152950e+06     0.01       2000.0   \n",
       "\n",
       "                           50%           75%           max  \n",
       "ID                1.075276e+09  1.610149e+09  2.147476e+09  \n",
       "goal              5.200000e+03  1.600000e+04  1.000000e+08  \n",
       "pledged           6.200000e+02  4.076000e+03  2.033899e+07  \n",
       "backers           1.200000e+01  5.600000e+01  2.193820e+05  \n",
       "usd_pledged_real  6.243300e+02  4.050000e+03  2.033899e+07  \n",
       "usd_goal_real     5.500000e+03  1.550000e+04  1.663614e+08  "
      ]
     },
     "execution_count": 28,
     "metadata": {},
     "output_type": "execute_result"
    },
    {
     "data": {
      "application/javascript": [
       "\n",
       "            setTimeout(function() {\n",
       "                var nbb_cell_id = 28;\n",
       "                var nbb_unformatted_code = \"data.describe().T\";\n",
       "                var nbb_formatted_code = \"data.describe().T\";\n",
       "                var nbb_cells = Jupyter.notebook.get_cells();\n",
       "                for (var i = 0; i < nbb_cells.length; ++i) {\n",
       "                    if (nbb_cells[i].input_prompt_number == nbb_cell_id) {\n",
       "                        if (nbb_cells[i].get_text() == nbb_unformatted_code) {\n",
       "                             nbb_cells[i].set_text(nbb_formatted_code);\n",
       "                        }\n",
       "                        break;\n",
       "                    }\n",
       "                }\n",
       "            }, 500);\n",
       "            "
      ],
      "text/plain": [
       "<IPython.core.display.Javascript object>"
      ]
     },
     "metadata": {},
     "output_type": "display_data"
    }
   ],
   "source": [
    "data.describe().T"
   ]
  },
  {
   "cell_type": "code",
   "execution_count": 29,
   "metadata": {},
   "outputs": [
    {
     "data": {
      "application/javascript": [
       "\n",
       "            setTimeout(function() {\n",
       "                var nbb_cell_id = 29;\n",
       "                var nbb_unformatted_code = \"data.drop([\\\"currency\\\", \\\"goal\\\"], axis=1, inplace=True)\";\n",
       "                var nbb_formatted_code = \"data.drop([\\\"currency\\\", \\\"goal\\\"], axis=1, inplace=True)\";\n",
       "                var nbb_cells = Jupyter.notebook.get_cells();\n",
       "                for (var i = 0; i < nbb_cells.length; ++i) {\n",
       "                    if (nbb_cells[i].input_prompt_number == nbb_cell_id) {\n",
       "                        if (nbb_cells[i].get_text() == nbb_unformatted_code) {\n",
       "                             nbb_cells[i].set_text(nbb_formatted_code);\n",
       "                        }\n",
       "                        break;\n",
       "                    }\n",
       "                }\n",
       "            }, 500);\n",
       "            "
      ],
      "text/plain": [
       "<IPython.core.display.Javascript object>"
      ]
     },
     "metadata": {},
     "output_type": "display_data"
    }
   ],
   "source": [
    "data.drop([\"currency\", \"goal\"], axis=1, inplace=True)"
   ]
  },
  {
   "cell_type": "code",
   "execution_count": 30,
   "metadata": {},
   "outputs": [
    {
     "data": {
      "text/plain": [
       "(378661, 12)"
      ]
     },
     "execution_count": 30,
     "metadata": {},
     "output_type": "execute_result"
    },
    {
     "data": {
      "application/javascript": [
       "\n",
       "            setTimeout(function() {\n",
       "                var nbb_cell_id = 30;\n",
       "                var nbb_unformatted_code = \"data.shape\";\n",
       "                var nbb_formatted_code = \"data.shape\";\n",
       "                var nbb_cells = Jupyter.notebook.get_cells();\n",
       "                for (var i = 0; i < nbb_cells.length; ++i) {\n",
       "                    if (nbb_cells[i].input_prompt_number == nbb_cell_id) {\n",
       "                        if (nbb_cells[i].get_text() == nbb_unformatted_code) {\n",
       "                             nbb_cells[i].set_text(nbb_formatted_code);\n",
       "                        }\n",
       "                        break;\n",
       "                    }\n",
       "                }\n",
       "            }, 500);\n",
       "            "
      ],
      "text/plain": [
       "<IPython.core.display.Javascript object>"
      ]
     },
     "metadata": {},
     "output_type": "display_data"
    }
   ],
   "source": [
    "data.shape"
   ]
  },
  {
   "cell_type": "code",
   "execution_count": 16,
   "metadata": {},
   "outputs": [
    {
     "data": {
      "text/html": [
       "<div>\n",
       "<style scoped>\n",
       "    .dataframe tbody tr th:only-of-type {\n",
       "        vertical-align: middle;\n",
       "    }\n",
       "\n",
       "    .dataframe tbody tr th {\n",
       "        vertical-align: top;\n",
       "    }\n",
       "\n",
       "    .dataframe thead th {\n",
       "        text-align: right;\n",
       "    }\n",
       "</style>\n",
       "<table border=\"1\" class=\"dataframe\">\n",
       "  <thead>\n",
       "    <tr style=\"text-align: right;\">\n",
       "      <th></th>\n",
       "      <th>ID</th>\n",
       "      <th>name</th>\n",
       "      <th>subcategory</th>\n",
       "      <th>category</th>\n",
       "      <th>deadline</th>\n",
       "      <th>goal</th>\n",
       "      <th>launched</th>\n",
       "      <th>pledged</th>\n",
       "      <th>state</th>\n",
       "      <th>backers</th>\n",
       "      <th>country</th>\n",
       "      <th>usd_pledged_real</th>\n",
       "      <th>usd_goal_real</th>\n",
       "    </tr>\n",
       "  </thead>\n",
       "  <tbody>\n",
       "    <tr>\n",
       "      <th>0</th>\n",
       "      <td>1000002330</td>\n",
       "      <td>The Songs of Adelaide &amp; Abullah</td>\n",
       "      <td>Poetry</td>\n",
       "      <td>Publishing</td>\n",
       "      <td>09-10-2015</td>\n",
       "      <td>1000.0</td>\n",
       "      <td>11-08-2015 12:12</td>\n",
       "      <td>0.0</td>\n",
       "      <td>failed</td>\n",
       "      <td>0</td>\n",
       "      <td>GB</td>\n",
       "      <td>0.0</td>\n",
       "      <td>1533.95</td>\n",
       "    </tr>\n",
       "    <tr>\n",
       "      <th>1</th>\n",
       "      <td>1000003930</td>\n",
       "      <td>Greeting From Earth: ZGAC Arts Capsule For ET</td>\n",
       "      <td>Narrative Film</td>\n",
       "      <td>Film &amp; Video</td>\n",
       "      <td>01-11-2017</td>\n",
       "      <td>30000.0</td>\n",
       "      <td>02-09-2017 04:43</td>\n",
       "      <td>2421.0</td>\n",
       "      <td>failed</td>\n",
       "      <td>15</td>\n",
       "      <td>US</td>\n",
       "      <td>2421.0</td>\n",
       "      <td>30000.00</td>\n",
       "    </tr>\n",
       "    <tr>\n",
       "      <th>2</th>\n",
       "      <td>1000004038</td>\n",
       "      <td>Where is Hank?</td>\n",
       "      <td>Narrative Film</td>\n",
       "      <td>Film &amp; Video</td>\n",
       "      <td>26-02-2013</td>\n",
       "      <td>45000.0</td>\n",
       "      <td>12-01-2013 00:20</td>\n",
       "      <td>220.0</td>\n",
       "      <td>failed</td>\n",
       "      <td>3</td>\n",
       "      <td>US</td>\n",
       "      <td>220.0</td>\n",
       "      <td>45000.00</td>\n",
       "    </tr>\n",
       "    <tr>\n",
       "      <th>3</th>\n",
       "      <td>1000007540</td>\n",
       "      <td>ToshiCapital Rekordz Needs Help to Complete Album</td>\n",
       "      <td>Music</td>\n",
       "      <td>Music</td>\n",
       "      <td>16-04-2012</td>\n",
       "      <td>5000.0</td>\n",
       "      <td>17-03-2012 03:24</td>\n",
       "      <td>1.0</td>\n",
       "      <td>failed</td>\n",
       "      <td>1</td>\n",
       "      <td>US</td>\n",
       "      <td>1.0</td>\n",
       "      <td>5000.00</td>\n",
       "    </tr>\n",
       "    <tr>\n",
       "      <th>4</th>\n",
       "      <td>1000011046</td>\n",
       "      <td>Community Film Project: The Art of Neighborhoo...</td>\n",
       "      <td>Film &amp; Video</td>\n",
       "      <td>Film &amp; Video</td>\n",
       "      <td>29-08-2015</td>\n",
       "      <td>19500.0</td>\n",
       "      <td>04-07-2015 08:35</td>\n",
       "      <td>1283.0</td>\n",
       "      <td>canceled</td>\n",
       "      <td>14</td>\n",
       "      <td>US</td>\n",
       "      <td>1283.0</td>\n",
       "      <td>19500.00</td>\n",
       "    </tr>\n",
       "  </tbody>\n",
       "</table>\n",
       "</div>"
      ],
      "text/plain": [
       "           ID                                               name  \\\n",
       "0  1000002330                    The Songs of Adelaide & Abullah   \n",
       "1  1000003930      Greeting From Earth: ZGAC Arts Capsule For ET   \n",
       "2  1000004038                                     Where is Hank?   \n",
       "3  1000007540  ToshiCapital Rekordz Needs Help to Complete Album   \n",
       "4  1000011046  Community Film Project: The Art of Neighborhoo...   \n",
       "\n",
       "      subcategory      category    deadline     goal          launched  \\\n",
       "0          Poetry    Publishing  09-10-2015   1000.0  11-08-2015 12:12   \n",
       "1  Narrative Film  Film & Video  01-11-2017  30000.0  02-09-2017 04:43   \n",
       "2  Narrative Film  Film & Video  26-02-2013  45000.0  12-01-2013 00:20   \n",
       "3           Music         Music  16-04-2012   5000.0  17-03-2012 03:24   \n",
       "4    Film & Video  Film & Video  29-08-2015  19500.0  04-07-2015 08:35   \n",
       "\n",
       "   pledged     state  backers country  usd_pledged_real  usd_goal_real  \n",
       "0      0.0    failed        0      GB               0.0        1533.95  \n",
       "1   2421.0    failed       15      US            2421.0       30000.00  \n",
       "2    220.0    failed        3      US             220.0       45000.00  \n",
       "3      1.0    failed        1      US               1.0        5000.00  \n",
       "4   1283.0  canceled       14      US            1283.0       19500.00  "
      ]
     },
     "execution_count": 16,
     "metadata": {},
     "output_type": "execute_result"
    },
    {
     "data": {
      "application/javascript": [
       "\n",
       "            setTimeout(function() {\n",
       "                var nbb_cell_id = 16;\n",
       "                var nbb_unformatted_code = \"data.head()\";\n",
       "                var nbb_formatted_code = \"data.head()\";\n",
       "                var nbb_cells = Jupyter.notebook.get_cells();\n",
       "                for (var i = 0; i < nbb_cells.length; ++i) {\n",
       "                    if (nbb_cells[i].input_prompt_number == nbb_cell_id) {\n",
       "                        if (nbb_cells[i].get_text() == nbb_unformatted_code) {\n",
       "                             nbb_cells[i].set_text(nbb_formatted_code);\n",
       "                        }\n",
       "                        break;\n",
       "                    }\n",
       "                }\n",
       "            }, 500);\n",
       "            "
      ],
      "text/plain": [
       "<IPython.core.display.Javascript object>"
      ]
     },
     "metadata": {},
     "output_type": "display_data"
    }
   ],
   "source": [
    "data.head()"
   ]
  },
  {
   "cell_type": "code",
   "execution_count": 31,
   "metadata": {},
   "outputs": [
    {
     "data": {
      "text/plain": [
       "ID                  0\n",
       "name                4\n",
       "subcategory         0\n",
       "category            0\n",
       "deadline            0\n",
       "launched            0\n",
       "pledged             0\n",
       "state               0\n",
       "backers             0\n",
       "country             0\n",
       "usd_pledged_real    0\n",
       "usd_goal_real       0\n",
       "dtype: int64"
      ]
     },
     "execution_count": 31,
     "metadata": {},
     "output_type": "execute_result"
    },
    {
     "data": {
      "application/javascript": [
       "\n",
       "            setTimeout(function() {\n",
       "                var nbb_cell_id = 31;\n",
       "                var nbb_unformatted_code = \"data.isnull().sum()\";\n",
       "                var nbb_formatted_code = \"data.isnull().sum()\";\n",
       "                var nbb_cells = Jupyter.notebook.get_cells();\n",
       "                for (var i = 0; i < nbb_cells.length; ++i) {\n",
       "                    if (nbb_cells[i].input_prompt_number == nbb_cell_id) {\n",
       "                        if (nbb_cells[i].get_text() == nbb_unformatted_code) {\n",
       "                             nbb_cells[i].set_text(nbb_formatted_code);\n",
       "                        }\n",
       "                        break;\n",
       "                    }\n",
       "                }\n",
       "            }, 500);\n",
       "            "
      ],
      "text/plain": [
       "<IPython.core.display.Javascript object>"
      ]
     },
     "metadata": {},
     "output_type": "display_data"
    }
   ],
   "source": [
    "data.isnull().sum()"
   ]
  },
  {
   "cell_type": "code",
   "execution_count": 32,
   "metadata": {},
   "outputs": [
    {
     "data": {
      "text/plain": [
       "(378657, 12)"
      ]
     },
     "execution_count": 32,
     "metadata": {},
     "output_type": "execute_result"
    },
    {
     "data": {
      "application/javascript": [
       "\n",
       "            setTimeout(function() {\n",
       "                var nbb_cell_id = 32;\n",
       "                var nbb_unformatted_code = \"data.dropna(inplace=True)\\ndata.shape\";\n",
       "                var nbb_formatted_code = \"data.dropna(inplace=True)\\ndata.shape\";\n",
       "                var nbb_cells = Jupyter.notebook.get_cells();\n",
       "                for (var i = 0; i < nbb_cells.length; ++i) {\n",
       "                    if (nbb_cells[i].input_prompt_number == nbb_cell_id) {\n",
       "                        if (nbb_cells[i].get_text() == nbb_unformatted_code) {\n",
       "                             nbb_cells[i].set_text(nbb_formatted_code);\n",
       "                        }\n",
       "                        break;\n",
       "                    }\n",
       "                }\n",
       "            }, 500);\n",
       "            "
      ],
      "text/plain": [
       "<IPython.core.display.Javascript object>"
      ]
     },
     "metadata": {},
     "output_type": "display_data"
    }
   ],
   "source": [
    "data.dropna(inplace=True)\n",
    "data.shape"
   ]
  },
  {
   "cell_type": "code",
   "execution_count": 33,
   "metadata": {},
   "outputs": [
    {
     "data": {
      "text/html": [
       "<div>\n",
       "<style scoped>\n",
       "    .dataframe tbody tr th:only-of-type {\n",
       "        vertical-align: middle;\n",
       "    }\n",
       "\n",
       "    .dataframe tbody tr th {\n",
       "        vertical-align: top;\n",
       "    }\n",
       "\n",
       "    .dataframe thead th {\n",
       "        text-align: right;\n",
       "    }\n",
       "</style>\n",
       "<table border=\"1\" class=\"dataframe\">\n",
       "  <thead>\n",
       "    <tr style=\"text-align: right;\">\n",
       "      <th></th>\n",
       "      <th>ID</th>\n",
       "      <th>name</th>\n",
       "      <th>subcategory</th>\n",
       "      <th>category</th>\n",
       "      <th>deadline</th>\n",
       "      <th>launched</th>\n",
       "      <th>pledged</th>\n",
       "      <th>state</th>\n",
       "      <th>backers</th>\n",
       "      <th>country</th>\n",
       "      <th>usd_pledged_real</th>\n",
       "      <th>usd_goal_real</th>\n",
       "    </tr>\n",
       "  </thead>\n",
       "  <tbody>\n",
       "    <tr>\n",
       "      <th>0</th>\n",
       "      <td>1000002330</td>\n",
       "      <td>The Songs of Adelaide &amp; Abullah</td>\n",
       "      <td>Poetry</td>\n",
       "      <td>Publishing</td>\n",
       "      <td>09-10-2015</td>\n",
       "      <td>11-08-2015 12:12</td>\n",
       "      <td>0.0</td>\n",
       "      <td>failed</td>\n",
       "      <td>0</td>\n",
       "      <td>GB</td>\n",
       "      <td>0.0</td>\n",
       "      <td>1533.95</td>\n",
       "    </tr>\n",
       "    <tr>\n",
       "      <th>1</th>\n",
       "      <td>1000003930</td>\n",
       "      <td>Greeting From Earth: ZGAC Arts Capsule For ET</td>\n",
       "      <td>Narrative Film</td>\n",
       "      <td>Film &amp; Video</td>\n",
       "      <td>01-11-2017</td>\n",
       "      <td>02-09-2017 04:43</td>\n",
       "      <td>2421.0</td>\n",
       "      <td>failed</td>\n",
       "      <td>15</td>\n",
       "      <td>US</td>\n",
       "      <td>2421.0</td>\n",
       "      <td>30000.00</td>\n",
       "    </tr>\n",
       "    <tr>\n",
       "      <th>2</th>\n",
       "      <td>1000004038</td>\n",
       "      <td>Where is Hank?</td>\n",
       "      <td>Narrative Film</td>\n",
       "      <td>Film &amp; Video</td>\n",
       "      <td>26-02-2013</td>\n",
       "      <td>12-01-2013 00:20</td>\n",
       "      <td>220.0</td>\n",
       "      <td>failed</td>\n",
       "      <td>3</td>\n",
       "      <td>US</td>\n",
       "      <td>220.0</td>\n",
       "      <td>45000.00</td>\n",
       "    </tr>\n",
       "    <tr>\n",
       "      <th>3</th>\n",
       "      <td>1000007540</td>\n",
       "      <td>ToshiCapital Rekordz Needs Help to Complete Album</td>\n",
       "      <td>Music</td>\n",
       "      <td>Music</td>\n",
       "      <td>16-04-2012</td>\n",
       "      <td>17-03-2012 03:24</td>\n",
       "      <td>1.0</td>\n",
       "      <td>failed</td>\n",
       "      <td>1</td>\n",
       "      <td>US</td>\n",
       "      <td>1.0</td>\n",
       "      <td>5000.00</td>\n",
       "    </tr>\n",
       "    <tr>\n",
       "      <th>4</th>\n",
       "      <td>1000011046</td>\n",
       "      <td>Community Film Project: The Art of Neighborhoo...</td>\n",
       "      <td>Film &amp; Video</td>\n",
       "      <td>Film &amp; Video</td>\n",
       "      <td>29-08-2015</td>\n",
       "      <td>04-07-2015 08:35</td>\n",
       "      <td>1283.0</td>\n",
       "      <td>canceled</td>\n",
       "      <td>14</td>\n",
       "      <td>US</td>\n",
       "      <td>1283.0</td>\n",
       "      <td>19500.00</td>\n",
       "    </tr>\n",
       "  </tbody>\n",
       "</table>\n",
       "</div>"
      ],
      "text/plain": [
       "           ID                                               name  \\\n",
       "0  1000002330                    The Songs of Adelaide & Abullah   \n",
       "1  1000003930      Greeting From Earth: ZGAC Arts Capsule For ET   \n",
       "2  1000004038                                     Where is Hank?   \n",
       "3  1000007540  ToshiCapital Rekordz Needs Help to Complete Album   \n",
       "4  1000011046  Community Film Project: The Art of Neighborhoo...   \n",
       "\n",
       "      subcategory      category    deadline          launched  pledged  \\\n",
       "0          Poetry    Publishing  09-10-2015  11-08-2015 12:12      0.0   \n",
       "1  Narrative Film  Film & Video  01-11-2017  02-09-2017 04:43   2421.0   \n",
       "2  Narrative Film  Film & Video  26-02-2013  12-01-2013 00:20    220.0   \n",
       "3           Music         Music  16-04-2012  17-03-2012 03:24      1.0   \n",
       "4    Film & Video  Film & Video  29-08-2015  04-07-2015 08:35   1283.0   \n",
       "\n",
       "      state  backers country  usd_pledged_real  usd_goal_real  \n",
       "0    failed        0      GB               0.0        1533.95  \n",
       "1    failed       15      US            2421.0       30000.00  \n",
       "2    failed        3      US             220.0       45000.00  \n",
       "3    failed        1      US               1.0        5000.00  \n",
       "4  canceled       14      US            1283.0       19500.00  "
      ]
     },
     "execution_count": 33,
     "metadata": {},
     "output_type": "execute_result"
    },
    {
     "data": {
      "application/javascript": [
       "\n",
       "            setTimeout(function() {\n",
       "                var nbb_cell_id = 33;\n",
       "                var nbb_unformatted_code = \"data.head()\";\n",
       "                var nbb_formatted_code = \"data.head()\";\n",
       "                var nbb_cells = Jupyter.notebook.get_cells();\n",
       "                for (var i = 0; i < nbb_cells.length; ++i) {\n",
       "                    if (nbb_cells[i].input_prompt_number == nbb_cell_id) {\n",
       "                        if (nbb_cells[i].get_text() == nbb_unformatted_code) {\n",
       "                             nbb_cells[i].set_text(nbb_formatted_code);\n",
       "                        }\n",
       "                        break;\n",
       "                    }\n",
       "                }\n",
       "            }, 500);\n",
       "            "
      ],
      "text/plain": [
       "<IPython.core.display.Javascript object>"
      ]
     },
     "metadata": {},
     "output_type": "display_data"
    }
   ],
   "source": [
    "data.head()"
   ]
  },
  {
   "cell_type": "code",
   "execution_count": 34,
   "metadata": {
    "scrolled": true
   },
   "outputs": [
    {
     "data": {
      "text/html": [
       "<div>\n",
       "<style scoped>\n",
       "    .dataframe tbody tr th:only-of-type {\n",
       "        vertical-align: middle;\n",
       "    }\n",
       "\n",
       "    .dataframe tbody tr th {\n",
       "        vertical-align: top;\n",
       "    }\n",
       "\n",
       "    .dataframe thead th {\n",
       "        text-align: right;\n",
       "    }\n",
       "</style>\n",
       "<table border=\"1\" class=\"dataframe\">\n",
       "  <thead>\n",
       "    <tr style=\"text-align: right;\">\n",
       "      <th></th>\n",
       "      <th>ID</th>\n",
       "      <th>name</th>\n",
       "      <th>subcategory</th>\n",
       "      <th>category</th>\n",
       "      <th>currency</th>\n",
       "      <th>deadline</th>\n",
       "      <th>goal</th>\n",
       "      <th>launched</th>\n",
       "      <th>pledged</th>\n",
       "      <th>state</th>\n",
       "      <th>backers</th>\n",
       "      <th>country</th>\n",
       "      <th>usd_pledged_real</th>\n",
       "      <th>usd_goal_real</th>\n",
       "    </tr>\n",
       "  </thead>\n",
       "  <tbody>\n",
       "    <tr>\n",
       "      <th>68624</th>\n",
       "      <td>1349286638</td>\n",
       "      <td>Tap2Talk</td>\n",
       "      <td>Apps</td>\n",
       "      <td>Technology</td>\n",
       "      <td>USD</td>\n",
       "      <td>11-01-2015</td>\n",
       "      <td>350.0</td>\n",
       "      <td>05-12-2014 00:20</td>\n",
       "      <td>117.00</td>\n",
       "      <td>failed</td>\n",
       "      <td>5</td>\n",
       "      <td>US</td>\n",
       "      <td>117.00</td>\n",
       "      <td>350.00</td>\n",
       "    </tr>\n",
       "    <tr>\n",
       "      <th>118347</th>\n",
       "      <td>1601284053</td>\n",
       "      <td>Brick Road Magazine needs your help to print o...</td>\n",
       "      <td>Periodicals</td>\n",
       "      <td>Publishing</td>\n",
       "      <td>USD</td>\n",
       "      <td>21-04-2012</td>\n",
       "      <td>6000.0</td>\n",
       "      <td>21-03-2012 11:36</td>\n",
       "      <td>361.00</td>\n",
       "      <td>failed</td>\n",
       "      <td>10</td>\n",
       "      <td>US</td>\n",
       "      <td>361.00</td>\n",
       "      <td>6000.00</td>\n",
       "    </tr>\n",
       "    <tr>\n",
       "      <th>32088</th>\n",
       "      <td>1163141797</td>\n",
       "      <td>Amerasiano</td>\n",
       "      <td>Nonfiction</td>\n",
       "      <td>Publishing</td>\n",
       "      <td>USD</td>\n",
       "      <td>15-02-2012</td>\n",
       "      <td>9000.0</td>\n",
       "      <td>17-12-2011 02:22</td>\n",
       "      <td>306.00</td>\n",
       "      <td>failed</td>\n",
       "      <td>10</td>\n",
       "      <td>US</td>\n",
       "      <td>306.00</td>\n",
       "      <td>9000.00</td>\n",
       "    </tr>\n",
       "    <tr>\n",
       "      <th>192621</th>\n",
       "      <td>1980213492</td>\n",
       "      <td>Locate a chat, Plant a chatroom at any locatio...</td>\n",
       "      <td>Technology</td>\n",
       "      <td>Technology</td>\n",
       "      <td>USD</td>\n",
       "      <td>06-03-2017</td>\n",
       "      <td>40000.0</td>\n",
       "      <td>06-02-2017 17:21</td>\n",
       "      <td>0.00</td>\n",
       "      <td>canceled</td>\n",
       "      <td>0</td>\n",
       "      <td>US</td>\n",
       "      <td>0.00</td>\n",
       "      <td>40000.00</td>\n",
       "    </tr>\n",
       "    <tr>\n",
       "      <th>38954</th>\n",
       "      <td>1197853336</td>\n",
       "      <td>Disreality web series</td>\n",
       "      <td>Webseries</td>\n",
       "      <td>Film &amp; Video</td>\n",
       "      <td>USD</td>\n",
       "      <td>26-07-2011</td>\n",
       "      <td>5000.0</td>\n",
       "      <td>08-06-2011 22:26</td>\n",
       "      <td>301.00</td>\n",
       "      <td>failed</td>\n",
       "      <td>4</td>\n",
       "      <td>US</td>\n",
       "      <td>301.00</td>\n",
       "      <td>5000.00</td>\n",
       "    </tr>\n",
       "    <tr>\n",
       "      <th>136916</th>\n",
       "      <td>1695292035</td>\n",
       "      <td>Zombie 15'</td>\n",
       "      <td>Tabletop Games</td>\n",
       "      <td>Games</td>\n",
       "      <td>USD</td>\n",
       "      <td>14-02-2014</td>\n",
       "      <td>35000.0</td>\n",
       "      <td>15-01-2014 00:15</td>\n",
       "      <td>141203.00</td>\n",
       "      <td>successful</td>\n",
       "      <td>1980</td>\n",
       "      <td>US</td>\n",
       "      <td>141203.00</td>\n",
       "      <td>35000.00</td>\n",
       "    </tr>\n",
       "    <tr>\n",
       "      <th>128754</th>\n",
       "      <td>1653747606</td>\n",
       "      <td>Get Our Space Shuttle Movie Into Classrooms!</td>\n",
       "      <td>Narrative Film</td>\n",
       "      <td>Film &amp; Video</td>\n",
       "      <td>USD</td>\n",
       "      <td>30-06-2012</td>\n",
       "      <td>39000.0</td>\n",
       "      <td>31-05-2012 17:44</td>\n",
       "      <td>10512.01</td>\n",
       "      <td>failed</td>\n",
       "      <td>110</td>\n",
       "      <td>US</td>\n",
       "      <td>10512.01</td>\n",
       "      <td>39000.00</td>\n",
       "    </tr>\n",
       "    <tr>\n",
       "      <th>87181</th>\n",
       "      <td>1443204865</td>\n",
       "      <td>The Hiccup Monster</td>\n",
       "      <td>Children's Books</td>\n",
       "      <td>Publishing</td>\n",
       "      <td>CAD</td>\n",
       "      <td>11-04-2015</td>\n",
       "      <td>1000.0</td>\n",
       "      <td>11-03-2015 19:53</td>\n",
       "      <td>1042.00</td>\n",
       "      <td>successful</td>\n",
       "      <td>24</td>\n",
       "      <td>CA</td>\n",
       "      <td>854.73</td>\n",
       "      <td>820.28</td>\n",
       "    </tr>\n",
       "    <tr>\n",
       "      <th>238335</th>\n",
       "      <td>281864352</td>\n",
       "      <td>Running Still</td>\n",
       "      <td>Shorts</td>\n",
       "      <td>Film &amp; Video</td>\n",
       "      <td>USD</td>\n",
       "      <td>01-10-2012</td>\n",
       "      <td>4246.0</td>\n",
       "      <td>19-09-2012 21:26</td>\n",
       "      <td>4318.00</td>\n",
       "      <td>successful</td>\n",
       "      <td>64</td>\n",
       "      <td>US</td>\n",
       "      <td>4318.00</td>\n",
       "      <td>4246.00</td>\n",
       "    </tr>\n",
       "    <tr>\n",
       "      <th>305942</th>\n",
       "      <td>627924481</td>\n",
       "      <td>Hardcore Luchador – Let's Print Issue 2!</td>\n",
       "      <td>Comic Books</td>\n",
       "      <td>Comics</td>\n",
       "      <td>USD</td>\n",
       "      <td>26-05-2014</td>\n",
       "      <td>3300.0</td>\n",
       "      <td>17-04-2014 12:48</td>\n",
       "      <td>4705.00</td>\n",
       "      <td>successful</td>\n",
       "      <td>89</td>\n",
       "      <td>US</td>\n",
       "      <td>4705.00</td>\n",
       "      <td>3300.00</td>\n",
       "    </tr>\n",
       "  </tbody>\n",
       "</table>\n",
       "</div>"
      ],
      "text/plain": [
       "                ID                                               name  \\\n",
       "68624   1349286638                                           Tap2Talk   \n",
       "118347  1601284053  Brick Road Magazine needs your help to print o...   \n",
       "32088   1163141797                                         Amerasiano   \n",
       "192621  1980213492  Locate a chat, Plant a chatroom at any locatio...   \n",
       "38954   1197853336                              Disreality web series   \n",
       "136916  1695292035                                         Zombie 15'   \n",
       "128754  1653747606       Get Our Space Shuttle Movie Into Classrooms!   \n",
       "87181   1443204865                                 The Hiccup Monster   \n",
       "238335   281864352                                      Running Still   \n",
       "305942   627924481           Hardcore Luchador – Let's Print Issue 2!   \n",
       "\n",
       "             subcategory      category currency    deadline     goal  \\\n",
       "68624               Apps    Technology      USD  11-01-2015    350.0   \n",
       "118347       Periodicals    Publishing      USD  21-04-2012   6000.0   \n",
       "32088         Nonfiction    Publishing      USD  15-02-2012   9000.0   \n",
       "192621        Technology    Technology      USD  06-03-2017  40000.0   \n",
       "38954          Webseries  Film & Video      USD  26-07-2011   5000.0   \n",
       "136916    Tabletop Games         Games      USD  14-02-2014  35000.0   \n",
       "128754    Narrative Film  Film & Video      USD  30-06-2012  39000.0   \n",
       "87181   Children's Books    Publishing      CAD  11-04-2015   1000.0   \n",
       "238335            Shorts  Film & Video      USD  01-10-2012   4246.0   \n",
       "305942       Comic Books        Comics      USD  26-05-2014   3300.0   \n",
       "\n",
       "                launched    pledged       state  backers country  \\\n",
       "68624   05-12-2014 00:20     117.00      failed        5      US   \n",
       "118347  21-03-2012 11:36     361.00      failed       10      US   \n",
       "32088   17-12-2011 02:22     306.00      failed       10      US   \n",
       "192621  06-02-2017 17:21       0.00    canceled        0      US   \n",
       "38954   08-06-2011 22:26     301.00      failed        4      US   \n",
       "136916  15-01-2014 00:15  141203.00  successful     1980      US   \n",
       "128754  31-05-2012 17:44   10512.01      failed      110      US   \n",
       "87181   11-03-2015 19:53    1042.00  successful       24      CA   \n",
       "238335  19-09-2012 21:26    4318.00  successful       64      US   \n",
       "305942  17-04-2014 12:48    4705.00  successful       89      US   \n",
       "\n",
       "        usd_pledged_real  usd_goal_real  \n",
       "68624             117.00         350.00  \n",
       "118347            361.00        6000.00  \n",
       "32088             306.00        9000.00  \n",
       "192621              0.00       40000.00  \n",
       "38954             301.00        5000.00  \n",
       "136916         141203.00       35000.00  \n",
       "128754          10512.01       39000.00  \n",
       "87181             854.73         820.28  \n",
       "238335           4318.00        4246.00  \n",
       "305942           4705.00        3300.00  "
      ]
     },
     "execution_count": 34,
     "metadata": {},
     "output_type": "execute_result"
    },
    {
     "data": {
      "application/javascript": [
       "\n",
       "            setTimeout(function() {\n",
       "                var nbb_cell_id = 34;\n",
       "                var nbb_unformatted_code = \"df.sample(10)\";\n",
       "                var nbb_formatted_code = \"df.sample(10)\";\n",
       "                var nbb_cells = Jupyter.notebook.get_cells();\n",
       "                for (var i = 0; i < nbb_cells.length; ++i) {\n",
       "                    if (nbb_cells[i].input_prompt_number == nbb_cell_id) {\n",
       "                        if (nbb_cells[i].get_text() == nbb_unformatted_code) {\n",
       "                             nbb_cells[i].set_text(nbb_formatted_code);\n",
       "                        }\n",
       "                        break;\n",
       "                    }\n",
       "                }\n",
       "            }, 500);\n",
       "            "
      ],
      "text/plain": [
       "<IPython.core.display.Javascript object>"
      ]
     },
     "metadata": {},
     "output_type": "display_data"
    }
   ],
   "source": [
    "df.sample(10)"
   ]
  },
  {
   "cell_type": "code",
   "execution_count": 35,
   "metadata": {},
   "outputs": [
    {
     "data": {
      "text/plain": [
       "0      failed\n",
       "1      failed\n",
       "2      failed\n",
       "3      failed\n",
       "4    canceled\n",
       "Name: state, dtype: object"
      ]
     },
     "execution_count": 35,
     "metadata": {},
     "output_type": "execute_result"
    },
    {
     "data": {
      "application/javascript": [
       "\n",
       "            setTimeout(function() {\n",
       "                var nbb_cell_id = 35;\n",
       "                var nbb_unformatted_code = \"df['state'].head()\";\n",
       "                var nbb_formatted_code = \"df[\\\"state\\\"].head()\";\n",
       "                var nbb_cells = Jupyter.notebook.get_cells();\n",
       "                for (var i = 0; i < nbb_cells.length; ++i) {\n",
       "                    if (nbb_cells[i].input_prompt_number == nbb_cell_id) {\n",
       "                        if (nbb_cells[i].get_text() == nbb_unformatted_code) {\n",
       "                             nbb_cells[i].set_text(nbb_formatted_code);\n",
       "                        }\n",
       "                        break;\n",
       "                    }\n",
       "                }\n",
       "            }, 500);\n",
       "            "
      ],
      "text/plain": [
       "<IPython.core.display.Javascript object>"
      ]
     },
     "metadata": {},
     "output_type": "display_data"
    }
   ],
   "source": [
    "df[\"state\"].head()"
   ]
  },
  {
   "cell_type": "code",
   "execution_count": 37,
   "metadata": {},
   "outputs": [
    {
     "data": {
      "text/plain": [
       "array(['failed', 'canceled', 'successful', 'live', 'undefined',\n",
       "       'suspended'], dtype=object)"
      ]
     },
     "execution_count": 37,
     "metadata": {},
     "output_type": "execute_result"
    },
    {
     "data": {
      "application/javascript": [
       "\n",
       "            setTimeout(function() {\n",
       "                var nbb_cell_id = 37;\n",
       "                var nbb_unformatted_code = \"pd.unique(df[\\\"state\\\"])\";\n",
       "                var nbb_formatted_code = \"pd.unique(df[\\\"state\\\"])\";\n",
       "                var nbb_cells = Jupyter.notebook.get_cells();\n",
       "                for (var i = 0; i < nbb_cells.length; ++i) {\n",
       "                    if (nbb_cells[i].input_prompt_number == nbb_cell_id) {\n",
       "                        if (nbb_cells[i].get_text() == nbb_unformatted_code) {\n",
       "                             nbb_cells[i].set_text(nbb_formatted_code);\n",
       "                        }\n",
       "                        break;\n",
       "                    }\n",
       "                }\n",
       "            }, 500);\n",
       "            "
      ],
      "text/plain": [
       "<IPython.core.display.Javascript object>"
      ]
     },
     "metadata": {},
     "output_type": "display_data"
    }
   ],
   "source": [
    "pd.unique(df[\"state\"])"
   ]
  },
  {
   "cell_type": "code",
   "execution_count": 40,
   "metadata": {},
   "outputs": [
    {
     "data": {
      "text/plain": [
       "'failed'"
      ]
     },
     "execution_count": 40,
     "metadata": {},
     "output_type": "execute_result"
    },
    {
     "data": {
      "application/javascript": [
       "\n",
       "            setTimeout(function() {\n",
       "                var nbb_cell_id = 40;\n",
       "                var nbb_unformatted_code = \"arr = [\\\"failed\\\", \\\"canceled\\\", \\\"successful\\\", \\\"live\\\", \\\"undefined\\\", \\\"suspended\\\"]\\narr[0]\";\n",
       "                var nbb_formatted_code = \"arr = [\\\"failed\\\", \\\"canceled\\\", \\\"successful\\\", \\\"live\\\", \\\"undefined\\\", \\\"suspended\\\"]\\narr[0]\";\n",
       "                var nbb_cells = Jupyter.notebook.get_cells();\n",
       "                for (var i = 0; i < nbb_cells.length; ++i) {\n",
       "                    if (nbb_cells[i].input_prompt_number == nbb_cell_id) {\n",
       "                        if (nbb_cells[i].get_text() == nbb_unformatted_code) {\n",
       "                             nbb_cells[i].set_text(nbb_formatted_code);\n",
       "                        }\n",
       "                        break;\n",
       "                    }\n",
       "                }\n",
       "            }, 500);\n",
       "            "
      ],
      "text/plain": [
       "<IPython.core.display.Javascript object>"
      ]
     },
     "metadata": {},
     "output_type": "display_data"
    }
   ],
   "source": [
    "arr = [\"failed\", \"canceled\", \"successful\", \"live\", \"undefined\", \"suspended\"]\n",
    "arr[0]"
   ]
  },
  {
   "cell_type": "code",
   "execution_count": 58,
   "metadata": {},
   "outputs": [
    {
     "name": "stdout",
     "output_type": "stream",
     "text": [
      "{'failed': 0, 'canceled': 0, 'successful': 0, 'live': 0, 'undefined': 0, 'suspended': 0}\n"
     ]
    },
    {
     "data": {
      "application/javascript": [
       "\n",
       "            setTimeout(function() {\n",
       "                var nbb_cell_id = 58;\n",
       "                var nbb_unformatted_code = \"cols = [\\\"failed\\\", \\\"canceled\\\", \\\"successful\\\", \\\"live\\\", \\\"undefined\\\", \\\"suspended\\\"]\\ndict_cols = {\\\"failed\\\":0, \\\"canceled\\\":0, \\\"successful\\\":0, \\\"live\\\":0, \\\"undefined\\\":0, \\\"suspended\\\":0}\\nprint (dict_cols)\\nfor colname in df[\\\"state\\\"]:  # only need to consider string columns\\n    dict_cols[colname] = dict_cols[colname] + 1 \";\n",
       "                var nbb_formatted_code = \"cols = [\\\"failed\\\", \\\"canceled\\\", \\\"successful\\\", \\\"live\\\", \\\"undefined\\\", \\\"suspended\\\"]\\ndict_cols = {\\n    \\\"failed\\\": 0,\\n    \\\"canceled\\\": 0,\\n    \\\"successful\\\": 0,\\n    \\\"live\\\": 0,\\n    \\\"undefined\\\": 0,\\n    \\\"suspended\\\": 0,\\n}\\nprint(dict_cols)\\nfor colname in df[\\\"state\\\"]:  # only need to consider string columns\\n    dict_cols[colname] = dict_cols[colname] + 1\";\n",
       "                var nbb_cells = Jupyter.notebook.get_cells();\n",
       "                for (var i = 0; i < nbb_cells.length; ++i) {\n",
       "                    if (nbb_cells[i].input_prompt_number == nbb_cell_id) {\n",
       "                        if (nbb_cells[i].get_text() == nbb_unformatted_code) {\n",
       "                             nbb_cells[i].set_text(nbb_formatted_code);\n",
       "                        }\n",
       "                        break;\n",
       "                    }\n",
       "                }\n",
       "            }, 500);\n",
       "            "
      ],
      "text/plain": [
       "<IPython.core.display.Javascript object>"
      ]
     },
     "metadata": {},
     "output_type": "display_data"
    }
   ],
   "source": [
    "cols = [\"failed\", \"canceled\", \"successful\", \"live\", \"undefined\", \"suspended\"]\n",
    "dict_cols = {\"failed\":0, \"canceled\":0, \"successful\":0, \"live\":0, \"undefined\":0, \"suspended\":0}\n",
    "for colname in df[\"state\"]:  # only need to consider string columns\n",
    "    dict_cols[colname] = dict_cols[colname] + 1 \n"
   ]
  },
  {
   "cell_type": "code",
   "execution_count": 59,
   "metadata": {},
   "outputs": [
    {
     "name": "stdout",
     "output_type": "stream",
     "text": [
      "{'failed': 197719, 'canceled': 38779, 'successful': 133956, 'live': 2799, 'undefined': 3562, 'suspended': 1846}\n"
     ]
    },
    {
     "data": {
      "application/javascript": [
       "\n",
       "            setTimeout(function() {\n",
       "                var nbb_cell_id = 59;\n",
       "                var nbb_unformatted_code = \"print (dict_cols)\";\n",
       "                var nbb_formatted_code = \"print(dict_cols)\";\n",
       "                var nbb_cells = Jupyter.notebook.get_cells();\n",
       "                for (var i = 0; i < nbb_cells.length; ++i) {\n",
       "                    if (nbb_cells[i].input_prompt_number == nbb_cell_id) {\n",
       "                        if (nbb_cells[i].get_text() == nbb_unformatted_code) {\n",
       "                             nbb_cells[i].set_text(nbb_formatted_code);\n",
       "                        }\n",
       "                        break;\n",
       "                    }\n",
       "                }\n",
       "            }, 500);\n",
       "            "
      ],
      "text/plain": [
       "<IPython.core.display.Javascript object>"
      ]
     },
     "metadata": {},
     "output_type": "display_data"
    }
   ],
   "source": [
    "print(dict_cols)"
   ]
  },
  {
   "cell_type": "code",
   "execution_count": 60,
   "metadata": {},
   "outputs": [
    {
     "data": {
      "text/plain": [
       "dict_values([197719, 38779, 133956, 2799, 3562, 1846])"
      ]
     },
     "execution_count": 60,
     "metadata": {},
     "output_type": "execute_result"
    },
    {
     "data": {
      "application/javascript": [
       "\n",
       "            setTimeout(function() {\n",
       "                var nbb_cell_id = 60;\n",
       "                var nbb_unformatted_code = \"dict_cols.values()\";\n",
       "                var nbb_formatted_code = \"dict_cols.values()\";\n",
       "                var nbb_cells = Jupyter.notebook.get_cells();\n",
       "                for (var i = 0; i < nbb_cells.length; ++i) {\n",
       "                    if (nbb_cells[i].input_prompt_number == nbb_cell_id) {\n",
       "                        if (nbb_cells[i].get_text() == nbb_unformatted_code) {\n",
       "                             nbb_cells[i].set_text(nbb_formatted_code);\n",
       "                        }\n",
       "                        break;\n",
       "                    }\n",
       "                }\n",
       "            }, 500);\n",
       "            "
      ],
      "text/plain": [
       "<IPython.core.display.Javascript object>"
      ]
     },
     "metadata": {},
     "output_type": "display_data"
    }
   ],
   "source": [
    "dict_cols.values()"
   ]
  },
  {
   "cell_type": "code",
   "execution_count": 61,
   "metadata": {},
   "outputs": [
    {
     "data": {
      "text/plain": [
       "197719"
      ]
     },
     "execution_count": 61,
     "metadata": {},
     "output_type": "execute_result"
    },
    {
     "data": {
      "application/javascript": [
       "\n",
       "            setTimeout(function() {\n",
       "                var nbb_cell_id = 61;\n",
       "                var nbb_unformatted_code = \"max(dict_cols.values())\";\n",
       "                var nbb_formatted_code = \"max(dict_cols.values())\";\n",
       "                var nbb_cells = Jupyter.notebook.get_cells();\n",
       "                for (var i = 0; i < nbb_cells.length; ++i) {\n",
       "                    if (nbb_cells[i].input_prompt_number == nbb_cell_id) {\n",
       "                        if (nbb_cells[i].get_text() == nbb_unformatted_code) {\n",
       "                             nbb_cells[i].set_text(nbb_formatted_code);\n",
       "                        }\n",
       "                        break;\n",
       "                    }\n",
       "                }\n",
       "            }, 500);\n",
       "            "
      ],
      "text/plain": [
       "<IPython.core.display.Javascript object>"
      ]
     },
     "metadata": {},
     "output_type": "display_data"
    }
   ],
   "source": [
    "max(dict_cols.values())"
   ]
  },
  {
   "cell_type": "code",
   "execution_count": 63,
   "metadata": {},
   "outputs": [
    {
     "data": {
      "application/javascript": [
       "\n",
       "            setTimeout(function() {\n",
       "                var nbb_cell_id = 63;\n",
       "                var nbb_unformatted_code = \"dict_cols.get(197719)\";\n",
       "                var nbb_formatted_code = \"dict_cols.get(197719)\";\n",
       "                var nbb_cells = Jupyter.notebook.get_cells();\n",
       "                for (var i = 0; i < nbb_cells.length; ++i) {\n",
       "                    if (nbb_cells[i].input_prompt_number == nbb_cell_id) {\n",
       "                        if (nbb_cells[i].get_text() == nbb_unformatted_code) {\n",
       "                             nbb_cells[i].set_text(nbb_formatted_code);\n",
       "                        }\n",
       "                        break;\n",
       "                    }\n",
       "                }\n",
       "            }, 500);\n",
       "            "
      ],
      "text/plain": [
       "<IPython.core.display.Javascript object>"
      ]
     },
     "metadata": {},
     "output_type": "display_data"
    }
   ],
   "source": [
    "dict_cols.get(197719)"
   ]
  },
  {
   "cell_type": "code",
   "execution_count": 65,
   "metadata": {},
   "outputs": [
    {
     "data": {
      "text/plain": [
       "105.61747578969052"
      ]
     },
     "execution_count": 65,
     "metadata": {},
     "output_type": "execute_result"
    },
    {
     "data": {
      "application/javascript": [
       "\n",
       "            setTimeout(function() {\n",
       "                var nbb_cell_id = 65;\n",
       "                var nbb_unformatted_code = \"df[\\\"backers\\\"].mean()\";\n",
       "                var nbb_formatted_code = \"df[\\\"backers\\\"].mean()\";\n",
       "                var nbb_cells = Jupyter.notebook.get_cells();\n",
       "                for (var i = 0; i < nbb_cells.length; ++i) {\n",
       "                    if (nbb_cells[i].input_prompt_number == nbb_cell_id) {\n",
       "                        if (nbb_cells[i].get_text() == nbb_unformatted_code) {\n",
       "                             nbb_cells[i].set_text(nbb_formatted_code);\n",
       "                        }\n",
       "                        break;\n",
       "                    }\n",
       "                }\n",
       "            }, 500);\n",
       "            "
      ],
      "text/plain": [
       "<IPython.core.display.Javascript object>"
      ]
     },
     "metadata": {},
     "output_type": "display_data"
    }
   ],
   "source": [
    "df[\"backers\"].mean()"
   ]
  },
  {
   "cell_type": "code",
   "execution_count": 66,
   "metadata": {},
   "outputs": [
    {
     "data": {
      "text/plain": [
       "12.0"
      ]
     },
     "execution_count": 66,
     "metadata": {},
     "output_type": "execute_result"
    },
    {
     "data": {
      "application/javascript": [
       "\n",
       "            setTimeout(function() {\n",
       "                var nbb_cell_id = 66;\n",
       "                var nbb_unformatted_code = \"df[\\\"backers\\\"].median()\";\n",
       "                var nbb_formatted_code = \"df[\\\"backers\\\"].median()\";\n",
       "                var nbb_cells = Jupyter.notebook.get_cells();\n",
       "                for (var i = 0; i < nbb_cells.length; ++i) {\n",
       "                    if (nbb_cells[i].input_prompt_number == nbb_cell_id) {\n",
       "                        if (nbb_cells[i].get_text() == nbb_unformatted_code) {\n",
       "                             nbb_cells[i].set_text(nbb_formatted_code);\n",
       "                        }\n",
       "                        break;\n",
       "                    }\n",
       "                }\n",
       "            }, 500);\n",
       "            "
      ],
      "text/plain": [
       "<IPython.core.display.Javascript object>"
      ]
     },
     "metadata": {},
     "output_type": "display_data"
    }
   ],
   "source": [
    "df[\"backers\"].median()"
   ]
  },
  {
   "cell_type": "code",
   "execution_count": 67,
   "metadata": {},
   "outputs": [
    {
     "data": {
      "application/javascript": [
       "\n",
       "            setTimeout(function() {\n",
       "                var nbb_cell_id = 67;\n",
       "                var nbb_unformatted_code = \"from sklearn.preprocessing import StandardScaler, MinMaxScaler\";\n",
       "                var nbb_formatted_code = \"from sklearn.preprocessing import StandardScaler, MinMaxScaler\";\n",
       "                var nbb_cells = Jupyter.notebook.get_cells();\n",
       "                for (var i = 0; i < nbb_cells.length; ++i) {\n",
       "                    if (nbb_cells[i].input_prompt_number == nbb_cell_id) {\n",
       "                        if (nbb_cells[i].get_text() == nbb_unformatted_code) {\n",
       "                             nbb_cells[i].set_text(nbb_formatted_code);\n",
       "                        }\n",
       "                        break;\n",
       "                    }\n",
       "                }\n",
       "            }, 500);\n",
       "            "
      ],
      "text/plain": [
       "<IPython.core.display.Javascript object>"
      ]
     },
     "metadata": {},
     "output_type": "display_data"
    }
   ],
   "source": [
    "from sklearn.preprocessing import StandardScaler, MinMaxScaler"
   ]
  },
  {
   "cell_type": "code",
   "execution_count": 82,
   "metadata": {},
   "outputs": [
    {
     "data": {
      "text/html": [
       "<div>\n",
       "<style scoped>\n",
       "    .dataframe tbody tr th:only-of-type {\n",
       "        vertical-align: middle;\n",
       "    }\n",
       "\n",
       "    .dataframe tbody tr th {\n",
       "        vertical-align: top;\n",
       "    }\n",
       "\n",
       "    .dataframe thead th {\n",
       "        text-align: right;\n",
       "    }\n",
       "</style>\n",
       "<table border=\"1\" class=\"dataframe\">\n",
       "  <thead>\n",
       "    <tr style=\"text-align: right;\">\n",
       "      <th></th>\n",
       "      <th>ID</th>\n",
       "      <th>name</th>\n",
       "      <th>subcategory</th>\n",
       "      <th>category</th>\n",
       "      <th>currency</th>\n",
       "      <th>deadline</th>\n",
       "      <th>goal</th>\n",
       "      <th>launched</th>\n",
       "      <th>pledged</th>\n",
       "      <th>state</th>\n",
       "      <th>backers</th>\n",
       "      <th>country</th>\n",
       "      <th>usd_pledged_real</th>\n",
       "      <th>usd_goal_real</th>\n",
       "    </tr>\n",
       "  </thead>\n",
       "  <tbody>\n",
       "    <tr>\n",
       "      <th>247483</th>\n",
       "      <td>328652041</td>\n",
       "      <td>HealthyFace; Finding the least toxic cosmetic ...</td>\n",
       "      <td>Apps</td>\n",
       "      <td>Technology</td>\n",
       "      <td>USD</td>\n",
       "      <td>31-07-2016</td>\n",
       "      <td>30250.0</td>\n",
       "      <td>01-07-2016 18:01</td>\n",
       "      <td>800.00</td>\n",
       "      <td>failed</td>\n",
       "      <td>5</td>\n",
       "      <td>US</td>\n",
       "      <td>800.00</td>\n",
       "      <td>30250.0</td>\n",
       "    </tr>\n",
       "    <tr>\n",
       "      <th>262096</th>\n",
       "      <td>403185185</td>\n",
       "      <td>A Playground for the Wild at Heart</td>\n",
       "      <td>Architecture</td>\n",
       "      <td>Design</td>\n",
       "      <td>USD</td>\n",
       "      <td>04-02-2015</td>\n",
       "      <td>5000.0</td>\n",
       "      <td>05-01-2015 22:48</td>\n",
       "      <td>121.00</td>\n",
       "      <td>failed</td>\n",
       "      <td>3</td>\n",
       "      <td>US</td>\n",
       "      <td>121.00</td>\n",
       "      <td>5000.0</td>\n",
       "    </tr>\n",
       "    <tr>\n",
       "      <th>172376</th>\n",
       "      <td>1876645152</td>\n",
       "      <td>His Grace Wildlife Photography: Volume I</td>\n",
       "      <td>Nature</td>\n",
       "      <td>Photography</td>\n",
       "      <td>USD</td>\n",
       "      <td>10-10-2015</td>\n",
       "      <td>2000.0</td>\n",
       "      <td>10-09-2015 00:53</td>\n",
       "      <td>1055.00</td>\n",
       "      <td>failed</td>\n",
       "      <td>17</td>\n",
       "      <td>US</td>\n",
       "      <td>1055.00</td>\n",
       "      <td>2000.0</td>\n",
       "    </tr>\n",
       "    <tr>\n",
       "      <th>36255</th>\n",
       "      <td>1184023104</td>\n",
       "      <td>The Internet Review of 2016</td>\n",
       "      <td>Periodicals</td>\n",
       "      <td>Publishing</td>\n",
       "      <td>USD</td>\n",
       "      <td>06-01-2017</td>\n",
       "      <td>3500.0</td>\n",
       "      <td>05-12-2016 15:26</td>\n",
       "      <td>14130.55</td>\n",
       "      <td>successful</td>\n",
       "      <td>384</td>\n",
       "      <td>US</td>\n",
       "      <td>14130.55</td>\n",
       "      <td>3500.0</td>\n",
       "    </tr>\n",
       "    <tr>\n",
       "      <th>203117</th>\n",
       "      <td>2034313769</td>\n",
       "      <td>Tabletop Gaming Fold-Out Cubby Shelf Table Top...</td>\n",
       "      <td>Tabletop Games</td>\n",
       "      <td>Games</td>\n",
       "      <td>USD</td>\n",
       "      <td>23-12-2013</td>\n",
       "      <td>599.0</td>\n",
       "      <td>03-12-2013 01:23</td>\n",
       "      <td>686.00</td>\n",
       "      <td>successful</td>\n",
       "      <td>23</td>\n",
       "      <td>US</td>\n",
       "      <td>686.00</td>\n",
       "      <td>599.0</td>\n",
       "    </tr>\n",
       "    <tr>\n",
       "      <th>148769</th>\n",
       "      <td>1756185274</td>\n",
       "      <td>Michale Graves \"When Worlds Collide Instrumental\"</td>\n",
       "      <td>Punk</td>\n",
       "      <td>Music</td>\n",
       "      <td>USD</td>\n",
       "      <td>13-08-2016</td>\n",
       "      <td>2500.0</td>\n",
       "      <td>05-08-2016 00:03</td>\n",
       "      <td>8451.00</td>\n",
       "      <td>successful</td>\n",
       "      <td>73</td>\n",
       "      <td>US</td>\n",
       "      <td>8451.00</td>\n",
       "      <td>2500.0</td>\n",
       "    </tr>\n",
       "    <tr>\n",
       "      <th>320154</th>\n",
       "      <td>700394475</td>\n",
       "      <td>ATTACK Cops vs. Robbers - The Card Game (Cance...</td>\n",
       "      <td>Playing Cards</td>\n",
       "      <td>Games</td>\n",
       "      <td>USD</td>\n",
       "      <td>02-06-2016</td>\n",
       "      <td>10000.0</td>\n",
       "      <td>03-05-2016 08:01</td>\n",
       "      <td>100.00</td>\n",
       "      <td>canceled</td>\n",
       "      <td>4</td>\n",
       "      <td>US</td>\n",
       "      <td>100.00</td>\n",
       "      <td>10000.0</td>\n",
       "    </tr>\n",
       "    <tr>\n",
       "      <th>254159</th>\n",
       "      <td>362392499</td>\n",
       "      <td>Solar Home Heater</td>\n",
       "      <td>Technology</td>\n",
       "      <td>Technology</td>\n",
       "      <td>USD</td>\n",
       "      <td>15-02-2015</td>\n",
       "      <td>15000.0</td>\n",
       "      <td>16-01-2015 00:10</td>\n",
       "      <td>512.00</td>\n",
       "      <td>failed</td>\n",
       "      <td>4</td>\n",
       "      <td>US</td>\n",
       "      <td>512.00</td>\n",
       "      <td>15000.0</td>\n",
       "    </tr>\n",
       "    <tr>\n",
       "      <th>230216</th>\n",
       "      <td>240249555</td>\n",
       "      <td>The Girl Inside</td>\n",
       "      <td>Horror</td>\n",
       "      <td>Film &amp; Video</td>\n",
       "      <td>USD</td>\n",
       "      <td>31-10-2017</td>\n",
       "      <td>77000.0</td>\n",
       "      <td>26-09-2017 03:14</td>\n",
       "      <td>8965.00</td>\n",
       "      <td>failed</td>\n",
       "      <td>29</td>\n",
       "      <td>US</td>\n",
       "      <td>8965.00</td>\n",
       "      <td>77000.0</td>\n",
       "    </tr>\n",
       "    <tr>\n",
       "      <th>364483</th>\n",
       "      <td>927020667</td>\n",
       "      <td>Book Wyrms: DRAGON Playing Cards &amp; Field Guide</td>\n",
       "      <td>Playing Cards</td>\n",
       "      <td>Games</td>\n",
       "      <td>USD</td>\n",
       "      <td>14-07-2016</td>\n",
       "      <td>3000.0</td>\n",
       "      <td>22-06-2016 17:56</td>\n",
       "      <td>12671.00</td>\n",
       "      <td>successful</td>\n",
       "      <td>250</td>\n",
       "      <td>US</td>\n",
       "      <td>12671.00</td>\n",
       "      <td>3000.0</td>\n",
       "    </tr>\n",
       "  </tbody>\n",
       "</table>\n",
       "</div>"
      ],
      "text/plain": [
       "                ID                                               name  \\\n",
       "247483   328652041  HealthyFace; Finding the least toxic cosmetic ...   \n",
       "262096   403185185                 A Playground for the Wild at Heart   \n",
       "172376  1876645152           His Grace Wildlife Photography: Volume I   \n",
       "36255   1184023104                        The Internet Review of 2016   \n",
       "203117  2034313769  Tabletop Gaming Fold-Out Cubby Shelf Table Top...   \n",
       "148769  1756185274  Michale Graves \"When Worlds Collide Instrumental\"   \n",
       "320154   700394475  ATTACK Cops vs. Robbers - The Card Game (Cance...   \n",
       "254159   362392499                                  Solar Home Heater   \n",
       "230216   240249555                                    The Girl Inside   \n",
       "364483   927020667     Book Wyrms: DRAGON Playing Cards & Field Guide   \n",
       "\n",
       "           subcategory      category currency    deadline     goal  \\\n",
       "247483            Apps    Technology      USD  31-07-2016  30250.0   \n",
       "262096    Architecture        Design      USD  04-02-2015   5000.0   \n",
       "172376          Nature   Photography      USD  10-10-2015   2000.0   \n",
       "36255      Periodicals    Publishing      USD  06-01-2017   3500.0   \n",
       "203117  Tabletop Games         Games      USD  23-12-2013    599.0   \n",
       "148769            Punk         Music      USD  13-08-2016   2500.0   \n",
       "320154   Playing Cards         Games      USD  02-06-2016  10000.0   \n",
       "254159      Technology    Technology      USD  15-02-2015  15000.0   \n",
       "230216          Horror  Film & Video      USD  31-10-2017  77000.0   \n",
       "364483   Playing Cards         Games      USD  14-07-2016   3000.0   \n",
       "\n",
       "                launched   pledged       state  backers country  \\\n",
       "247483  01-07-2016 18:01    800.00      failed        5      US   \n",
       "262096  05-01-2015 22:48    121.00      failed        3      US   \n",
       "172376  10-09-2015 00:53   1055.00      failed       17      US   \n",
       "36255   05-12-2016 15:26  14130.55  successful      384      US   \n",
       "203117  03-12-2013 01:23    686.00  successful       23      US   \n",
       "148769  05-08-2016 00:03   8451.00  successful       73      US   \n",
       "320154  03-05-2016 08:01    100.00    canceled        4      US   \n",
       "254159  16-01-2015 00:10    512.00      failed        4      US   \n",
       "230216  26-09-2017 03:14   8965.00      failed       29      US   \n",
       "364483  22-06-2016 17:56  12671.00  successful      250      US   \n",
       "\n",
       "        usd_pledged_real  usd_goal_real  \n",
       "247483            800.00        30250.0  \n",
       "262096            121.00         5000.0  \n",
       "172376           1055.00         2000.0  \n",
       "36255           14130.55         3500.0  \n",
       "203117            686.00          599.0  \n",
       "148769           8451.00         2500.0  \n",
       "320154            100.00        10000.0  \n",
       "254159            512.00        15000.0  \n",
       "230216           8965.00        77000.0  \n",
       "364483          12671.00         3000.0  "
      ]
     },
     "execution_count": 82,
     "metadata": {},
     "output_type": "execute_result"
    },
    {
     "data": {
      "application/javascript": [
       "\n",
       "            setTimeout(function() {\n",
       "                var nbb_cell_id = 82;\n",
       "                var nbb_unformatted_code = \"df.sample(10)\";\n",
       "                var nbb_formatted_code = \"df.sample(10)\";\n",
       "                var nbb_cells = Jupyter.notebook.get_cells();\n",
       "                for (var i = 0; i < nbb_cells.length; ++i) {\n",
       "                    if (nbb_cells[i].input_prompt_number == nbb_cell_id) {\n",
       "                        if (nbb_cells[i].get_text() == nbb_unformatted_code) {\n",
       "                             nbb_cells[i].set_text(nbb_formatted_code);\n",
       "                        }\n",
       "                        break;\n",
       "                    }\n",
       "                }\n",
       "            }, 500);\n",
       "            "
      ],
      "text/plain": [
       "<IPython.core.display.Javascript object>"
      ]
     },
     "metadata": {},
     "output_type": "display_data"
    }
   ],
   "source": [
    "df.sample(10)\n"
   ]
  },
  {
   "cell_type": "code",
   "execution_count": 83,
   "metadata": {},
   "outputs": [
    {
     "data": {
      "image/png": "[encoded data removed]",
      "text/plain": [
       "<Figure size 432x288 with 1 Axes>"
      ]
     },
     "metadata": {},
     "output_type": "display_data"
    },
    {
     "data": {
      "image/png": "[encoded data removed]",
      "text/plain": [
       "<Figure size 432x288 with 1 Axes>"
      ]
     },
     "metadata": {},
     "output_type": "display_data"
    },
    {
     "data": {
      "application/javascript": [
       "\n",
       "            setTimeout(function() {\n",
       "                var nbb_cell_id = 83;\n",
       "                var nbb_unformatted_code = \"std_scaler = StandardScaler()\\n\\ndf['goal'].hist(bins=20)\\nplt.title('goal before z transformation')\\nplt.show()\\n# fit_transform requires a DataFrame, not a Series, hence\\n# the double brackets to keep df[['Weight']] as a 1 column \\n# DataFrame rather than a Series, like if I did df['Weight']\\n\\n\\ndf['goal_scaled'] = std_scaler.fit_transform(df[['goal']])\\ndf['goal_scaled'].hist(bins=20)\\nplt.title('goal after z transformation')\\nplt.show()\\n# exact same shape since it's a linear transformation.\\n#df.drop(['Weight'], axis=1, inplace=True)\";\n",
       "                var nbb_formatted_code = \"std_scaler = StandardScaler()\\n\\ndf[\\\"goal\\\"].hist(bins=20)\\nplt.title(\\\"goal before z transformation\\\")\\nplt.show()\\n# fit_transform requires a DataFrame, not a Series, hence\\n# the double brackets to keep df[['Weight']] as a 1 column\\n# DataFrame rather than a Series, like if I did df['Weight']\\n\\n\\ndf[\\\"goal_scaled\\\"] = std_scaler.fit_transform(df[[\\\"goal\\\"]])\\ndf[\\\"goal_scaled\\\"].hist(bins=20)\\nplt.title(\\\"goal after z transformation\\\")\\nplt.show()\\n# exact same shape since it's a linear transformation.\\n# df.drop(['Weight'], axis=1, inplace=True)\";\n",
       "                var nbb_cells = Jupyter.notebook.get_cells();\n",
       "                for (var i = 0; i < nbb_cells.length; ++i) {\n",
       "                    if (nbb_cells[i].input_prompt_number == nbb_cell_id) {\n",
       "                        if (nbb_cells[i].get_text() == nbb_unformatted_code) {\n",
       "                             nbb_cells[i].set_text(nbb_formatted_code);\n",
       "                        }\n",
       "                        break;\n",
       "                    }\n",
       "                }\n",
       "            }, 500);\n",
       "            "
      ],
      "text/plain": [
       "<IPython.core.display.Javascript object>"
      ]
     },
     "metadata": {},
     "output_type": "display_data"
    }
   ],
   "source": [
    "std_scaler = StandardScaler()\n",
    "\n",
    "df[\"goal\"].hist(bins=20)\n",
    "plt.title(\"goal before z transformation\")\n",
    "plt.show()\n",
    "# fit_transform requires a DataFrame, not a Series, hence\n",
    "# the double brackets to keep df[['Weight']] as a 1 column\n",
    "# DataFrame rather than a Series, like if I did df['Weight']\n",
    "\n",
    "\n",
    "df[\"goal_scaled\"] = std_scaler.fit_transform(df[[\"goal\"]])\n",
    "df[\"goal_scaled\"].hist(bins=20)\n",
    "plt.title(\"goal after z transformation\")\n",
    "plt.show()\n",
    "# exact same shape since it's a linear transformation.\n",
    "# df.drop(['Weight'], axis=1, inplace=True)"
   ]
  },
  {
   "cell_type": "code",
   "execution_count": 84,
   "metadata": {},
   "outputs": [
    {
     "data": {
      "application/javascript": [
       "\n",
       "            setTimeout(function() {\n",
       "                var nbb_cell_id = 84;\n",
       "                var nbb_unformatted_code = \"df['launched'] = pd.to_datetime(df['launched'])\\n#df['Joined year'] = df['Joined'].dt.year  # adding in a feature that's just the year\\n#print(min(df['Joined']), max(df['Joined']))\\n#df['Joined'].head()\";\n",
       "                var nbb_formatted_code = \"df[\\\"launched\\\"] = pd.to_datetime(df[\\\"launched\\\"])\\n# df['Joined year'] = df['Joined'].dt.year  # adding in a feature that's just the year\\n# print(min(df['Joined']), max(df['Joined']))\\n# df['Joined'].head()\";\n",
       "                var nbb_cells = Jupyter.notebook.get_cells();\n",
       "                for (var i = 0; i < nbb_cells.length; ++i) {\n",
       "                    if (nbb_cells[i].input_prompt_number == nbb_cell_id) {\n",
       "                        if (nbb_cells[i].get_text() == nbb_unformatted_code) {\n",
       "                             nbb_cells[i].set_text(nbb_formatted_code);\n",
       "                        }\n",
       "                        break;\n",
       "                    }\n",
       "                }\n",
       "            }, 500);\n",
       "            "
      ],
      "text/plain": [
       "<IPython.core.display.Javascript object>"
      ]
     },
     "metadata": {},
     "output_type": "display_data"
    }
   ],
   "source": [
    "df[\"launched\"] = pd.to_datetime(df[\"launched\"])\n",
    "# df['Joined year'] = df['Joined'].dt.year  # adding in a feature that's just the year\n",
    "# print(min(df['Joined']), max(df['Joined']))\n",
    "# df['Joined'].head()"
   ]
  },
  {
   "cell_type": "code",
   "execution_count": 87,
   "metadata": {},
   "outputs": [
    {
     "name": "stdout",
     "output_type": "stream",
     "text": [
      "<class 'pandas.core.frame.DataFrame'>\n",
      "RangeIndex: 378661 entries, 0 to 378660\n",
      "Data columns (total 15 columns):\n",
      " #   Column            Non-Null Count   Dtype         \n",
      "---  ------            --------------   -----         \n",
      " 0   ID                378661 non-null  int64         \n",
      " 1   name              378657 non-null  object        \n",
      " 2   subcategory       378661 non-null  object        \n",
      " 3   category          378661 non-null  object        \n",
      " 4   currency          378661 non-null  object        \n",
      " 5   deadline          378661 non-null  object        \n",
      " 6   goal              378661 non-null  float64       \n",
      " 7   launched          378661 non-null  datetime64[ns]\n",
      " 8   pledged           378661 non-null  float64       \n",
      " 9   state             378661 non-null  object        \n",
      " 10  backers           378661 non-null  int64         \n",
      " 11  country           378661 non-null  object        \n",
      " 12  usd_pledged_real  378661 non-null  float64       \n",
      " 13  usd_goal_real     378661 non-null  float64       \n",
      " 14  goal_scaled       378661 non-null  float64       \n",
      "dtypes: datetime64[ns](1), float64(5), int64(2), object(7)\n",
      "memory usage: 43.3+ MB\n"
     ]
    },
    {
     "data": {
      "application/javascript": [
       "\n",
       "            setTimeout(function() {\n",
       "                var nbb_cell_id = 87;\n",
       "                var nbb_unformatted_code = \"df.info()\";\n",
       "                var nbb_formatted_code = \"df.info()\";\n",
       "                var nbb_cells = Jupyter.notebook.get_cells();\n",
       "                for (var i = 0; i < nbb_cells.length; ++i) {\n",
       "                    if (nbb_cells[i].input_prompt_number == nbb_cell_id) {\n",
       "                        if (nbb_cells[i].get_text() == nbb_unformatted_code) {\n",
       "                             nbb_cells[i].set_text(nbb_formatted_code);\n",
       "                        }\n",
       "                        break;\n",
       "                    }\n",
       "                }\n",
       "            }, 500);\n",
       "            "
      ],
      "text/plain": [
       "<IPython.core.display.Javascript object>"
      ]
     },
     "metadata": {},
     "output_type": "display_data"
    }
   ],
   "source": [
    "df.info()"
   ]
  },
  {
   "cell_type": "code",
   "execution_count": 88,
   "metadata": {},
   "outputs": [
    {
     "data": {
      "application/javascript": [
       "\n",
       "            setTimeout(function() {\n",
       "                var nbb_cell_id = 88;\n",
       "                var nbb_unformatted_code = \"df['launched_month'] = df['launched'].dt.month  # adding in a feature that's just the year\";\n",
       "                var nbb_formatted_code = \"df[\\\"launched_month\\\"] = df[\\n    \\\"launched\\\"\\n].dt.month  # adding in a feature that's just the year\";\n",
       "                var nbb_cells = Jupyter.notebook.get_cells();\n",
       "                for (var i = 0; i < nbb_cells.length; ++i) {\n",
       "                    if (nbb_cells[i].input_prompt_number == nbb_cell_id) {\n",
       "                        if (nbb_cells[i].get_text() == nbb_unformatted_code) {\n",
       "                             nbb_cells[i].set_text(nbb_formatted_code);\n",
       "                        }\n",
       "                        break;\n",
       "                    }\n",
       "                }\n",
       "            }, 500);\n",
       "            "
      ],
      "text/plain": [
       "<IPython.core.display.Javascript object>"
      ]
     },
     "metadata": {},
     "output_type": "display_data"
    }
   ],
   "source": [
    "df['launched_month'] = df['launched'].dt.month  # adding in a feature that's just the year\n"
   ]
  },
  {
   "cell_type": "code",
   "execution_count": 92,
   "metadata": {},
   "outputs": [
    {
     "data": {
      "text/plain": [
       "271158     7\n",
       "243235     3\n",
       "320182     5\n",
       "196950     1\n",
       "159334     1\n",
       "45076      7\n",
       "278076     6\n",
       "108631     2\n",
       "125095    12\n",
       "358843     8\n",
       "Name: launched_month, dtype: int64"
      ]
     },
     "execution_count": 92,
     "metadata": {},
     "output_type": "execute_result"
    },
    {
     "data": {
      "application/javascript": [
       "\n",
       "            setTimeout(function() {\n",
       "                var nbb_cell_id = 92;\n",
       "                var nbb_unformatted_code = \"df[\\\"launched_month\\\"].sample(10)\";\n",
       "                var nbb_formatted_code = \"df[\\\"launched_month\\\"].sample(10)\";\n",
       "                var nbb_cells = Jupyter.notebook.get_cells();\n",
       "                for (var i = 0; i < nbb_cells.length; ++i) {\n",
       "                    if (nbb_cells[i].input_prompt_number == nbb_cell_id) {\n",
       "                        if (nbb_cells[i].get_text() == nbb_unformatted_code) {\n",
       "                             nbb_cells[i].set_text(nbb_formatted_code);\n",
       "                        }\n",
       "                        break;\n",
       "                    }\n",
       "                }\n",
       "            }, 500);\n",
       "            "
      ],
      "text/plain": [
       "<IPython.core.display.Javascript object>"
      ]
     },
     "metadata": {},
     "output_type": "display_data"
    }
   ],
   "source": [
    "df[\"launched_month\"].sample(10)"
   ]
  },
  {
   "cell_type": "code",
   "execution_count": 93,
   "metadata": {},
   "outputs": [
    {
     "data": {
      "application/javascript": [
       "\n",
       "            setTimeout(function() {\n",
       "                var nbb_cell_id = 93;\n",
       "                var nbb_unformatted_code = \"cols = [1,2,3,4,5,6,7,8,9,10,11,12]\\ndict_cols = {1:0, 2:0, 3:0, 4:0, 5:0, 6:0, 7:0, 8:0, 9:0, 10:0, 11:0, 12:0}\\nfor colname in df[\\\"launched_month\\\"]:  # only need to consider string columns\\n    dict_cols[colname] = dict_cols[colname] + 1 \";\n",
       "                var nbb_formatted_code = \"cols = [1, 2, 3, 4, 5, 6, 7, 8, 9, 10, 11, 12]\\ndict_cols = {1: 0, 2: 0, 3: 0, 4: 0, 5: 0, 6: 0, 7: 0, 8: 0, 9: 0, 10: 0, 11: 0, 12: 0}\\nfor colname in df[\\\"launched_month\\\"]:  # only need to consider string columns\\n    dict_cols[colname] = dict_cols[colname] + 1\";\n",
       "                var nbb_cells = Jupyter.notebook.get_cells();\n",
       "                for (var i = 0; i < nbb_cells.length; ++i) {\n",
       "                    if (nbb_cells[i].input_prompt_number == nbb_cell_id) {\n",
       "                        if (nbb_cells[i].get_text() == nbb_unformatted_code) {\n",
       "                             nbb_cells[i].set_text(nbb_formatted_code);\n",
       "                        }\n",
       "                        break;\n",
       "                    }\n",
       "                }\n",
       "            }, 500);\n",
       "            "
      ],
      "text/plain": [
       "<IPython.core.display.Javascript object>"
      ]
     },
     "metadata": {},
     "output_type": "display_data"
    }
   ],
   "source": [
    "cols = [1, 2, 3, 4, 5, 6, 7, 8, 9, 10, 11, 12]\n",
    "dict_cols = {1: 0, 2: 0, 3: 0, 4: 0, 5: 0, 6: 0, 7: 0, 8: 0, 9: 0, 10: 0, 11: 0, 12: 0}\n",
    "for colname in df[\"launched_month\"]:  # only need to consider string columns\n",
    "    dict_cols[colname] = dict_cols[colname] + 1"
   ]
  },
  {
   "cell_type": "code",
   "execution_count": 94,
   "metadata": {},
   "outputs": [
    {
     "data": {
      "text/plain": [
       "{1: 34347,\n",
       " 2: 29876,\n",
       " 3: 32837,\n",
       " 4: 31038,\n",
       " 5: 31573,\n",
       " 6: 31383,\n",
       " 7: 34477,\n",
       " 8: 31619,\n",
       " 9: 31538,\n",
       " 10: 33409,\n",
       " 11: 32135,\n",
       " 12: 24429}"
      ]
     },
     "execution_count": 94,
     "metadata": {},
     "output_type": "execute_result"
    },
    {
     "data": {
      "application/javascript": [
       "\n",
       "            setTimeout(function() {\n",
       "                var nbb_cell_id = 94;\n",
       "                var nbb_unformatted_code = \"dict_cols\";\n",
       "                var nbb_formatted_code = \"dict_cols\";\n",
       "                var nbb_cells = Jupyter.notebook.get_cells();\n",
       "                for (var i = 0; i < nbb_cells.length; ++i) {\n",
       "                    if (nbb_cells[i].input_prompt_number == nbb_cell_id) {\n",
       "                        if (nbb_cells[i].get_text() == nbb_unformatted_code) {\n",
       "                             nbb_cells[i].set_text(nbb_formatted_code);\n",
       "                        }\n",
       "                        break;\n",
       "                    }\n",
       "                }\n",
       "            }, 500);\n",
       "            "
      ],
      "text/plain": [
       "<IPython.core.display.Javascript object>"
      ]
     },
     "metadata": {},
     "output_type": "display_data"
    }
   ],
   "source": [
    "dict_cols"
   ]
  },
  {
   "cell_type": "code",
   "execution_count": 95,
   "metadata": {},
   "outputs": [
    {
     "data": {
      "text/plain": [
       "34477"
      ]
     },
     "execution_count": 95,
     "metadata": {},
     "output_type": "execute_result"
    },
    {
     "data": {
      "application/javascript": [
       "\n",
       "            setTimeout(function() {\n",
       "                var nbb_cell_id = 95;\n",
       "                var nbb_unformatted_code = \"max(dict_cols.values())\";\n",
       "                var nbb_formatted_code = \"max(dict_cols.values())\";\n",
       "                var nbb_cells = Jupyter.notebook.get_cells();\n",
       "                for (var i = 0; i < nbb_cells.length; ++i) {\n",
       "                    if (nbb_cells[i].input_prompt_number == nbb_cell_id) {\n",
       "                        if (nbb_cells[i].get_text() == nbb_unformatted_code) {\n",
       "                             nbb_cells[i].set_text(nbb_formatted_code);\n",
       "                        }\n",
       "                        break;\n",
       "                    }\n",
       "                }\n",
       "            }, 500);\n",
       "            "
      ],
      "text/plain": [
       "<IPython.core.display.Javascript object>"
      ]
     },
     "metadata": {},
     "output_type": "display_data"
    }
   ],
   "source": [
    "max(dict_cols.values())"
   ]
  },
  {
   "cell_type": "code",
   "execution_count": 97,
   "metadata": {},
   "outputs": [
    {
     "data": {
      "application/javascript": [
       "\n",
       "            setTimeout(function() {\n",
       "                var nbb_cell_id = 97;\n",
       "                var nbb_unformatted_code = \"arr=pd.unique(df[\\\"category\\\"])\";\n",
       "                var nbb_formatted_code = \"arr = pd.unique(df[\\\"category\\\"])\";\n",
       "                var nbb_cells = Jupyter.notebook.get_cells();\n",
       "                for (var i = 0; i < nbb_cells.length; ++i) {\n",
       "                    if (nbb_cells[i].input_prompt_number == nbb_cell_id) {\n",
       "                        if (nbb_cells[i].get_text() == nbb_unformatted_code) {\n",
       "                             nbb_cells[i].set_text(nbb_formatted_code);\n",
       "                        }\n",
       "                        break;\n",
       "                    }\n",
       "                }\n",
       "            }, 500);\n",
       "            "
      ],
      "text/plain": [
       "<IPython.core.display.Javascript object>"
      ]
     },
     "metadata": {},
     "output_type": "display_data"
    }
   ],
   "source": [
    "arr = pd.unique(df[\"category\"])"
   ]
  },
  {
   "cell_type": "code",
   "execution_count": 98,
   "metadata": {},
   "outputs": [
    {
     "data": {
      "text/plain": [
       "array(['Publishing', 'Film & Video', 'Music', 'Food', 'Design', 'Crafts',\n",
       "       'Games', 'Comics', 'Fashion', 'Theater', 'Art', 'Photography',\n",
       "       'Technology', 'Dance', 'Journalism'], dtype=object)"
      ]
     },
     "execution_count": 98,
     "metadata": {},
     "output_type": "execute_result"
    },
    {
     "data": {
      "application/javascript": [
       "\n",
       "            setTimeout(function() {\n",
       "                var nbb_cell_id = 98;\n",
       "                var nbb_unformatted_code = \"arr\";\n",
       "                var nbb_formatted_code = \"arr\";\n",
       "                var nbb_cells = Jupyter.notebook.get_cells();\n",
       "                for (var i = 0; i < nbb_cells.length; ++i) {\n",
       "                    if (nbb_cells[i].input_prompt_number == nbb_cell_id) {\n",
       "                        if (nbb_cells[i].get_text() == nbb_unformatted_code) {\n",
       "                             nbb_cells[i].set_text(nbb_formatted_code);\n",
       "                        }\n",
       "                        break;\n",
       "                    }\n",
       "                }\n",
       "            }, 500);\n",
       "            "
      ],
      "text/plain": [
       "<IPython.core.display.Javascript object>"
      ]
     },
     "metadata": {},
     "output_type": "display_data"
    }
   ],
   "source": [
    "arr"
   ]
  },
  {
   "cell_type": "code",
   "execution_count": 103,
   "metadata": {},
   "outputs": [
    {
     "data": {
      "application/javascript": [
       "\n",
       "            setTimeout(function() {\n",
       "                var nbb_cell_id = 103;\n",
       "                var nbb_unformatted_code = \"dict_cols = {'Publishing':0, 'Film & Video':0, 'Music':0, 'Food':0, 'Design':0, 'Crafts':0,\\n       'Games':0, 'Comics':0, 'Fashion':0, 'Theater':0, 'Art':0, 'Photography':0,\\n       'Technology':0, 'Dance':0, 'Journalism':0}\";\n",
       "                var nbb_formatted_code = \"dict_cols = {\\n    \\\"Publishing\\\": 0,\\n    \\\"Film & Video\\\": 0,\\n    \\\"Music\\\": 0,\\n    \\\"Food\\\": 0,\\n    \\\"Design\\\": 0,\\n    \\\"Crafts\\\": 0,\\n    \\\"Games\\\": 0,\\n    \\\"Comics\\\": 0,\\n    \\\"Fashion\\\": 0,\\n    \\\"Theater\\\": 0,\\n    \\\"Art\\\": 0,\\n    \\\"Photography\\\": 0,\\n    \\\"Technology\\\": 0,\\n    \\\"Dance\\\": 0,\\n    \\\"Journalism\\\": 0,\\n}\";\n",
       "                var nbb_cells = Jupyter.notebook.get_cells();\n",
       "                for (var i = 0; i < nbb_cells.length; ++i) {\n",
       "                    if (nbb_cells[i].input_prompt_number == nbb_cell_id) {\n",
       "                        if (nbb_cells[i].get_text() == nbb_unformatted_code) {\n",
       "                             nbb_cells[i].set_text(nbb_formatted_code);\n",
       "                        }\n",
       "                        break;\n",
       "                    }\n",
       "                }\n",
       "            }, 500);\n",
       "            "
      ],
      "text/plain": [
       "<IPython.core.display.Javascript object>"
      ]
     },
     "metadata": {},
     "output_type": "display_data"
    }
   ],
   "source": [
    "dict_cols = {'Publishing':0, 'Film & Video':0, 'Music':0, 'Food':0, 'Design':0, 'Crafts':0,\n",
    "       'Games':0, 'Comics':0, 'Fashion':0, 'Theater':0, 'Art':0, 'Photography':0,\n",
    "       'Technology':0, 'Dance':0, 'Journalism':0}\n"
   ]
  },
  {
   "cell_type": "code",
   "execution_count": 107,
   "metadata": {},
   "outputs": [
    {
     "data": {
      "text/plain": [
       "297019    Fashion\n",
       "Name: category, dtype: object"
      ]
     },
     "execution_count": 107,
     "metadata": {},
     "output_type": "execute_result"
    },
    {
     "data": {
      "application/javascript": [
       "\n",
       "            setTimeout(function() {\n",
       "                var nbb_cell_id = 107;\n",
       "                var nbb_unformatted_code = \"df[\\\"category\\\"].sample(1)\";\n",
       "                var nbb_formatted_code = \"df[\\\"category\\\"].sample(1)\";\n",
       "                var nbb_cells = Jupyter.notebook.get_cells();\n",
       "                for (var i = 0; i < nbb_cells.length; ++i) {\n",
       "                    if (nbb_cells[i].input_prompt_number == nbb_cell_id) {\n",
       "                        if (nbb_cells[i].get_text() == nbb_unformatted_code) {\n",
       "                             nbb_cells[i].set_text(nbb_formatted_code);\n",
       "                        }\n",
       "                        break;\n",
       "                    }\n",
       "                }\n",
       "            }, 500);\n",
       "            "
      ],
      "text/plain": [
       "<IPython.core.display.Javascript object>"
      ]
     },
     "metadata": {},
     "output_type": "display_data"
    }
   ],
   "source": [
    "df[\"category\"].sample(1)"
   ]
  },
  {
   "cell_type": "code",
   "execution_count": 108,
   "metadata": {},
   "outputs": [
    {
     "data": {
      "text/plain": [
       "0                           The Songs of Adelaide & Abullah\n",
       "1             Greeting From Earth: ZGAC Arts Capsule For ET\n",
       "2                                            Where is Hank?\n",
       "3         ToshiCapital Rekordz Needs Help to Complete Album\n",
       "4         Community Film Project: The Art of Neighborhoo...\n",
       "                                ...                        \n",
       "378656    ChknTruk Nationwide Charity Drive 2014 (Canceled)\n",
       "378657                                            The Tribe\n",
       "378658    Walls of Remedy- New lesbian Romantic Comedy f...\n",
       "378659                             BioDefense Education Kit\n",
       "378660                    Nou Renmen Ayiti!  We Love Haiti!\n",
       "Name: name, Length: 378661, dtype: object"
      ]
     },
     "execution_count": 108,
     "metadata": {},
     "output_type": "execute_result"
    },
    {
     "data": {
      "application/javascript": [
       "\n",
       "            setTimeout(function() {\n",
       "                var nbb_cell_id = 108;\n",
       "                var nbb_unformatted_code = \"df['name']\";\n",
       "                var nbb_formatted_code = \"df[\\\"name\\\"]\";\n",
       "                var nbb_cells = Jupyter.notebook.get_cells();\n",
       "                for (var i = 0; i < nbb_cells.length; ++i) {\n",
       "                    if (nbb_cells[i].input_prompt_number == nbb_cell_id) {\n",
       "                        if (nbb_cells[i].get_text() == nbb_unformatted_code) {\n",
       "                             nbb_cells[i].set_text(nbb_formatted_code);\n",
       "                        }\n",
       "                        break;\n",
       "                    }\n",
       "                }\n",
       "            }, 500);\n",
       "            "
      ],
      "text/plain": [
       "<IPython.core.display.Javascript object>"
      ]
     },
     "metadata": {},
     "output_type": "display_data"
    }
   ],
   "source": [
    "df[\"name\"]"
   ]
  },
  {
   "cell_type": "code",
   "execution_count": 110,
   "metadata": {},
   "outputs": [
    {
     "data": {
      "text/plain": [
       "375723"
      ]
     },
     "execution_count": 110,
     "metadata": {},
     "output_type": "execute_result"
    },
    {
     "data": {
      "application/javascript": [
       "\n",
       "            setTimeout(function() {\n",
       "                var nbb_cell_id = 110;\n",
       "                var nbb_unformatted_code = \"len(df[\\\"name\\\"].unique())\";\n",
       "                var nbb_formatted_code = \"len(df[\\\"name\\\"].unique())\";\n",
       "                var nbb_cells = Jupyter.notebook.get_cells();\n",
       "                for (var i = 0; i < nbb_cells.length; ++i) {\n",
       "                    if (nbb_cells[i].input_prompt_number == nbb_cell_id) {\n",
       "                        if (nbb_cells[i].get_text() == nbb_unformatted_code) {\n",
       "                             nbb_cells[i].set_text(nbb_formatted_code);\n",
       "                        }\n",
       "                        break;\n",
       "                    }\n",
       "                }\n",
       "            }, 500);\n",
       "            "
      ],
      "text/plain": [
       "<IPython.core.display.Javascript object>"
      ]
     },
     "metadata": {},
     "output_type": "display_data"
    }
   ],
   "source": [
    "len(df[\"name\"].unique())"
   ]
  },
  {
   "cell_type": "code",
   "execution_count": 111,
   "metadata": {},
   "outputs": [
    {
     "data": {
      "text/plain": [
       "name                4\n",
       "ID                  0\n",
       "subcategory         0\n",
       "category            0\n",
       "currency            0\n",
       "deadline            0\n",
       "goal                0\n",
       "launched            0\n",
       "pledged             0\n",
       "state               0\n",
       "backers             0\n",
       "country             0\n",
       "usd_pledged_real    0\n",
       "usd_goal_real       0\n",
       "goal_scaled         0\n",
       "launched_month      0\n",
       "dtype: int64"
      ]
     },
     "execution_count": 111,
     "metadata": {},
     "output_type": "execute_result"
    },
    {
     "data": {
      "application/javascript": [
       "\n",
       "            setTimeout(function() {\n",
       "                var nbb_cell_id = 111;\n",
       "                var nbb_unformatted_code = \"df.isnull().sum().sort_values(ascending = False)\";\n",
       "                var nbb_formatted_code = \"df.isnull().sum().sort_values(ascending=False)\";\n",
       "                var nbb_cells = Jupyter.notebook.get_cells();\n",
       "                for (var i = 0; i < nbb_cells.length; ++i) {\n",
       "                    if (nbb_cells[i].input_prompt_number == nbb_cell_id) {\n",
       "                        if (nbb_cells[i].get_text() == nbb_unformatted_code) {\n",
       "                             nbb_cells[i].set_text(nbb_formatted_code);\n",
       "                        }\n",
       "                        break;\n",
       "                    }\n",
       "                }\n",
       "            }, 500);\n",
       "            "
      ],
      "text/plain": [
       "<IPython.core.display.Javascript object>"
      ]
     },
     "metadata": {},
     "output_type": "display_data"
    }
   ],
   "source": [
    "df.isnull().sum().sort_values(ascending = False)\n",
    "\n"
   ]
  },
  {
   "cell_type": "code",
   "execution_count": 112,
   "metadata": {},
   "outputs": [
    {
     "data": {
      "text/plain": [
       "<AxesSubplot:xlabel='usd_goal_real', ylabel='Count'>"
      ]
     },
     "execution_count": 112,
     "metadata": {},
     "output_type": "execute_result"
    },
    {
     "data": {
      "image/png": "[encoded data removed]",
      "text/plain": [
       "<Figure size 432x288 with 1 Axes>"
      ]
     },
     "metadata": {},
     "output_type": "display_data"
    },
    {
     "data": {
      "application/javascript": [
       "\n",
       "            setTimeout(function() {\n",
       "                var nbb_cell_id = 112;\n",
       "                var nbb_unformatted_code = \"sns.histplot(np.log(df['usd_goal_real']), bins=50, kde=True)\";\n",
       "                var nbb_formatted_code = \"sns.histplot(np.log(df[\\\"usd_goal_real\\\"]), bins=50, kde=True)\";\n",
       "                var nbb_cells = Jupyter.notebook.get_cells();\n",
       "                for (var i = 0; i < nbb_cells.length; ++i) {\n",
       "                    if (nbb_cells[i].input_prompt_number == nbb_cell_id) {\n",
       "                        if (nbb_cells[i].get_text() == nbb_unformatted_code) {\n",
       "                             nbb_cells[i].set_text(nbb_formatted_code);\n",
       "                        }\n",
       "                        break;\n",
       "                    }\n",
       "                }\n",
       "            }, 500);\n",
       "            "
      ],
      "text/plain": [
       "<IPython.core.display.Javascript object>"
      ]
     },
     "metadata": {},
     "output_type": "display_data"
    }
   ],
   "source": [
    "sns.histplot(np.log(df['usd_goal_real']), bins=50, kde=True)\n",
    "\n"
   ]
  },
  {
   "cell_type": "code",
   "execution_count": 113,
   "metadata": {},
   "outputs": [
    {
     "data": {
      "text/html": [
       "<div>\n",
       "<style scoped>\n",
       "    .dataframe tbody tr th:only-of-type {\n",
       "        vertical-align: middle;\n",
       "    }\n",
       "\n",
       "    .dataframe tbody tr th {\n",
       "        vertical-align: top;\n",
       "    }\n",
       "\n",
       "    .dataframe thead th {\n",
       "        text-align: right;\n",
       "    }\n",
       "</style>\n",
       "<table border=\"1\" class=\"dataframe\">\n",
       "  <thead>\n",
       "    <tr style=\"text-align: right;\">\n",
       "      <th></th>\n",
       "      <th>ID</th>\n",
       "      <th>goal</th>\n",
       "      <th>pledged</th>\n",
       "      <th>backers</th>\n",
       "      <th>usd_pledged_real</th>\n",
       "      <th>usd_goal_real</th>\n",
       "      <th>goal_scaled</th>\n",
       "      <th>launched_month</th>\n",
       "    </tr>\n",
       "    <tr>\n",
       "      <th>category</th>\n",
       "      <th></th>\n",
       "      <th></th>\n",
       "      <th></th>\n",
       "      <th></th>\n",
       "      <th></th>\n",
       "      <th></th>\n",
       "      <th></th>\n",
       "      <th></th>\n",
       "    </tr>\n",
       "  </thead>\n",
       "  <tbody>\n",
       "    <tr>\n",
       "      <th>Design</th>\n",
       "      <td>1.078300e+09</td>\n",
       "      <td>46733.630260</td>\n",
       "      <td>27119.751279</td>\n",
       "      <td>241.299634</td>\n",
       "      <td>24417.034698</td>\n",
       "      <td>41871.388591</td>\n",
       "      <td>-0.001983</td>\n",
       "      <td>6.537113</td>\n",
       "    </tr>\n",
       "    <tr>\n",
       "      <th>Technology</th>\n",
       "      <td>1.071495e+09</td>\n",
       "      <td>119712.316780</td>\n",
       "      <td>22586.164814</td>\n",
       "      <td>164.466609</td>\n",
       "      <td>21151.171165</td>\n",
       "      <td>102288.542838</td>\n",
       "      <td>0.059686</td>\n",
       "      <td>6.532193</td>\n",
       "    </tr>\n",
       "    <tr>\n",
       "      <th>Games</th>\n",
       "      <td>1.072129e+09</td>\n",
       "      <td>50711.298323</td>\n",
       "      <td>21865.173174</td>\n",
       "      <td>321.785615</td>\n",
       "      <td>21041.903140</td>\n",
       "      <td>44923.741408</td>\n",
       "      <td>0.001378</td>\n",
       "      <td>6.367801</td>\n",
       "    </tr>\n",
       "    <tr>\n",
       "      <th>Comics</th>\n",
       "      <td>1.063611e+09</td>\n",
       "      <td>20243.646297</td>\n",
       "      <td>6899.311189</td>\n",
       "      <td>134.771236</td>\n",
       "      <td>6610.443828</td>\n",
       "      <td>19571.430669</td>\n",
       "      <td>-0.024368</td>\n",
       "      <td>6.191885</td>\n",
       "    </tr>\n",
       "    <tr>\n",
       "      <th>Film &amp; Video</th>\n",
       "      <td>1.074967e+09</td>\n",
       "      <td>84334.009667</td>\n",
       "      <td>6362.733853</td>\n",
       "      <td>66.015208</td>\n",
       "      <td>6157.978427</td>\n",
       "      <td>82625.292253</td>\n",
       "      <td>0.029790</td>\n",
       "      <td>6.338586</td>\n",
       "    </tr>\n",
       "    <tr>\n",
       "      <th>Fashion</th>\n",
       "      <td>1.069690e+09</td>\n",
       "      <td>24818.246005</td>\n",
       "      <td>6549.031814</td>\n",
       "      <td>61.447800</td>\n",
       "      <td>5712.450839</td>\n",
       "      <td>22412.409361</td>\n",
       "      <td>-0.020503</td>\n",
       "      <td>6.508327</td>\n",
       "    </tr>\n",
       "    <tr>\n",
       "      <th>Food</th>\n",
       "      <td>1.081894e+09</td>\n",
       "      <td>48693.745411</td>\n",
       "      <td>5340.163268</td>\n",
       "      <td>54.172466</td>\n",
       "      <td>5113.669716</td>\n",
       "      <td>49039.620802</td>\n",
       "      <td>-0.000327</td>\n",
       "      <td>6.491139</td>\n",
       "    </tr>\n",
       "    <tr>\n",
       "      <th>Theater</th>\n",
       "      <td>1.068349e+09</td>\n",
       "      <td>27542.345424</td>\n",
       "      <td>4097.224679</td>\n",
       "      <td>47.057271</td>\n",
       "      <td>4005.918099</td>\n",
       "      <td>27088.321275</td>\n",
       "      <td>-0.018201</td>\n",
       "      <td>6.184459</td>\n",
       "    </tr>\n",
       "    <tr>\n",
       "      <th>Music</th>\n",
       "      <td>1.074995e+09</td>\n",
       "      <td>16056.357380</td>\n",
       "      <td>3992.735602</td>\n",
       "      <td>52.168323</td>\n",
       "      <td>3858.367608</td>\n",
       "      <td>15372.161844</td>\n",
       "      <td>-0.027907</td>\n",
       "      <td>6.318156</td>\n",
       "    </tr>\n",
       "    <tr>\n",
       "      <th>Photography</th>\n",
       "      <td>1.071581e+09</td>\n",
       "      <td>13003.234577</td>\n",
       "      <td>3664.646577</td>\n",
       "      <td>39.714074</td>\n",
       "      <td>3571.909322</td>\n",
       "      <td>12266.843699</td>\n",
       "      <td>-0.030487</td>\n",
       "      <td>6.443826</td>\n",
       "    </tr>\n",
       "    <tr>\n",
       "      <th>Dance</th>\n",
       "      <td>1.075450e+09</td>\n",
       "      <td>10321.331290</td>\n",
       "      <td>3690.798684</td>\n",
       "      <td>42.801221</td>\n",
       "      <td>3452.946356</td>\n",
       "      <td>9588.328548</td>\n",
       "      <td>-0.032753</td>\n",
       "      <td>6.307059</td>\n",
       "    </tr>\n",
       "    <tr>\n",
       "      <th>Publishing</th>\n",
       "      <td>1.077086e+09</td>\n",
       "      <td>29131.464537</td>\n",
       "      <td>3638.716374</td>\n",
       "      <td>55.966018</td>\n",
       "      <td>3349.951931</td>\n",
       "      <td>24798.240254</td>\n",
       "      <td>-0.016858</td>\n",
       "      <td>6.385715</td>\n",
       "    </tr>\n",
       "    <tr>\n",
       "      <th>Art</th>\n",
       "      <td>1.077788e+09</td>\n",
       "      <td>40829.180144</td>\n",
       "      <td>3606.970044</td>\n",
       "      <td>42.205094</td>\n",
       "      <td>3220.986968</td>\n",
       "      <td>39198.575879</td>\n",
       "      <td>-0.006973</td>\n",
       "      <td>6.370262</td>\n",
       "    </tr>\n",
       "    <tr>\n",
       "      <th>Journalism</th>\n",
       "      <td>1.076352e+09</td>\n",
       "      <td>88783.576925</td>\n",
       "      <td>3218.085216</td>\n",
       "      <td>38.294637</td>\n",
       "      <td>2615.702568</td>\n",
       "      <td>86003.395014</td>\n",
       "      <td>0.033550</td>\n",
       "      <td>6.408412</td>\n",
       "    </tr>\n",
       "    <tr>\n",
       "      <th>Crafts</th>\n",
       "      <td>1.078527e+09</td>\n",
       "      <td>11592.285901</td>\n",
       "      <td>2016.153947</td>\n",
       "      <td>27.283687</td>\n",
       "      <td>1632.907282</td>\n",
       "      <td>10434.466228</td>\n",
       "      <td>-0.031679</td>\n",
       "      <td>6.439210</td>\n",
       "    </tr>\n",
       "  </tbody>\n",
       "</table>\n",
       "</div>"
      ],
      "text/plain": [
       "                        ID           goal       pledged     backers  \\\n",
       "category                                                              \n",
       "Design        1.078300e+09   46733.630260  27119.751279  241.299634   \n",
       "Technology    1.071495e+09  119712.316780  22586.164814  164.466609   \n",
       "Games         1.072129e+09   50711.298323  21865.173174  321.785615   \n",
       "Comics        1.063611e+09   20243.646297   6899.311189  134.771236   \n",
       "Film & Video  1.074967e+09   84334.009667   6362.733853   66.015208   \n",
       "Fashion       1.069690e+09   24818.246005   6549.031814   61.447800   \n",
       "Food          1.081894e+09   48693.745411   5340.163268   54.172466   \n",
       "Theater       1.068349e+09   27542.345424   4097.224679   47.057271   \n",
       "Music         1.074995e+09   16056.357380   3992.735602   52.168323   \n",
       "Photography   1.071581e+09   13003.234577   3664.646577   39.714074   \n",
       "Dance         1.075450e+09   10321.331290   3690.798684   42.801221   \n",
       "Publishing    1.077086e+09   29131.464537   3638.716374   55.966018   \n",
       "Art           1.077788e+09   40829.180144   3606.970044   42.205094   \n",
       "Journalism    1.076352e+09   88783.576925   3218.085216   38.294637   \n",
       "Crafts        1.078527e+09   11592.285901   2016.153947   27.283687   \n",
       "\n",
       "              usd_pledged_real  usd_goal_real  goal_scaled  launched_month  \n",
       "category                                                                    \n",
       "Design            24417.034698   41871.388591    -0.001983        6.537113  \n",
       "Technology        21151.171165  102288.542838     0.059686        6.532193  \n",
       "Games             21041.903140   44923.741408     0.001378        6.367801  \n",
       "Comics             6610.443828   19571.430669    -0.024368        6.191885  \n",
       "Film & Video       6157.978427   82625.292253     0.029790        6.338586  \n",
       "Fashion            5712.450839   22412.409361    -0.020503        6.508327  \n",
       "Food               5113.669716   49039.620802    -0.000327        6.491139  \n",
       "Theater            4005.918099   27088.321275    -0.018201        6.184459  \n",
       "Music              3858.367608   15372.161844    -0.027907        6.318156  \n",
       "Photography        3571.909322   12266.843699    -0.030487        6.443826  \n",
       "Dance              3452.946356    9588.328548    -0.032753        6.307059  \n",
       "Publishing         3349.951931   24798.240254    -0.016858        6.385715  \n",
       "Art                3220.986968   39198.575879    -0.006973        6.370262  \n",
       "Journalism         2615.702568   86003.395014     0.033550        6.408412  \n",
       "Crafts             1632.907282   10434.466228    -0.031679        6.439210  "
      ]
     },
     "execution_count": 113,
     "metadata": {},
     "output_type": "execute_result"
    },
    {
     "data": {
      "application/javascript": [
       "\n",
       "            setTimeout(function() {\n",
       "                var nbb_cell_id = 113;\n",
       "                var nbb_unformatted_code = \"df.groupby(['category']).mean().sort_values(by='usd_pledged_real', ascending=False)\";\n",
       "                var nbb_formatted_code = \"df.groupby([\\\"category\\\"]).mean().sort_values(by=\\\"usd_pledged_real\\\", ascending=False)\";\n",
       "                var nbb_cells = Jupyter.notebook.get_cells();\n",
       "                for (var i = 0; i < nbb_cells.length; ++i) {\n",
       "                    if (nbb_cells[i].input_prompt_number == nbb_cell_id) {\n",
       "                        if (nbb_cells[i].get_text() == nbb_unformatted_code) {\n",
       "                             nbb_cells[i].set_text(nbb_formatted_code);\n",
       "                        }\n",
       "                        break;\n",
       "                    }\n",
       "                }\n",
       "            }, 500);\n",
       "            "
      ],
      "text/plain": [
       "<IPython.core.display.Javascript object>"
      ]
     },
     "metadata": {},
     "output_type": "display_data"
    }
   ],
   "source": [
    "df.groupby(['category']).mean().sort_values(by='usd_pledged_real', ascending=False)\n",
    "\n"
   ]
  },
  {
   "cell_type": "code",
   "execution_count": null,
   "metadata": {},
   "outputs": [],
   "source": []
  }
 ],
 "metadata": {
  "kernelspec": {
   "display_name": "Python 3",
   "language": "python",
   "name": "python3"
  },
  "language_info": {
   "codemirror_mode": {
    "name": "ipython",
    "version": 3
   },
   "file_extension": ".py",
   "mimetype": "text/x-python",
   "name": "python",
   "nbconvert_exporter": "python",
   "pygments_lexer": "ipython3",
   "version": "3.7.6"
  }
 },
 "nbformat": 4,
 "nbformat_minor": 4
}
