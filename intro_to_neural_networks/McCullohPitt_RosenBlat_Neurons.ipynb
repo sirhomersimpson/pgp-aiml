{
 "cells": [
  {
   "cell_type": "code",
   "execution_count": 1,
   "metadata": {},
   "outputs": [],
   "source": [
    "from random import choice\n",
    "from numpy import array, dot, random\n",
    "\n",
    "import numpy as np\n"
   ]
  },
  {
   "cell_type": "code",
   "execution_count": 2,
   "metadata": {},
   "outputs": [],
   "source": [
    "# MCNeuron for And\n",
    "w = random.rand(2)\n",
    "w[1] = 1\n",
    "w[0] = 1\n",
    "\n",
    "training_data = [\n",
    "    (array([0,0]), 0),\n",
    "    (array([0,1]), 0),\n",
    "    (array([1,0]), 0),\n",
    "    (array([1,1]), 1),\n",
    "]\n",
    "\n",
    "step_function = lambda x: 0 if x < 2 else 1    # Step function with threshold of 2. Anything below is 0 "
   ]
  },
  {
   "cell_type": "code",
   "execution_count": 3,
   "metadata": {},
   "outputs": [
    {
     "name": "stdout",
     "output_type": "stream",
     "text": [
      "[0 0]: 0.0 -> 0\n",
      "[0 1]: 1.0 -> 0\n",
      "[1 0]: 1.0 -> 0\n",
      "[1 1]: 2.0 -> 1\n"
     ]
    }
   ],
   "source": [
    "for x, _ in training_data:\n",
    "    result = dot(x, w)\n",
    "\n",
    "    print(\"{}: {} -> {}\".format(x[:2], result, step_function(result)))\n"
   ]
  },
  {
   "cell_type": "code",
   "execution_count": 4,
   "metadata": {},
   "outputs": [],
   "source": [
    "# MCNeruon for OR\n",
    "w = random.rand(2)\n",
    "w[1] = 1\n",
    "w[0] = 1\n",
    "\n",
    "training_data = [\n",
    "    (array([0,0]), 0),\n",
    "    (array([0,1]), 1),\n",
    "    (array([1,0]), 1),\n",
    "    (array([1,1]), 1),\n",
    "]\n",
    "\n",
    "step_function = lambda x: 0 if x < 1 else 1    # Step function with threshold of 1. Anything below is 0 \n"
   ]
  },
  {
   "cell_type": "code",
   "execution_count": 5,
   "metadata": {},
   "outputs": [
    {
     "name": "stdout",
     "output_type": "stream",
     "text": [
      "[0 0]: 0.0 -> 0\n",
      "[0 1]: 1.0 -> 1\n",
      "[1 0]: 1.0 -> 1\n",
      "[1 1]: 2.0 -> 1\n"
     ]
    }
   ],
   "source": [
    "for x, _ in training_data:\n",
    "    result = dot(x, w)\n",
    "\n",
    "    print(\"{}: {} -> {}\".format(x[:2], result, step_function(result)))\n"
   ]
  },
  {
   "cell_type": "code",
   "execution_count": 6,
   "metadata": {},
   "outputs": [
    {
     "name": "stdout",
     "output_type": "stream",
     "text": [
      "[0 0]: 0.0 -> 1\n",
      "[0 1]: 1.0 -> 1\n",
      "[1 0]: 1.0 -> 1\n",
      "[1 1]: 2.0 -> 0\n"
     ]
    }
   ],
   "source": [
    "# MCNeuron for NAND\n",
    "\n",
    "step_function = lambda x: 0 if x >= 2 else 1    # Step function with threshold of > 2 is 0 \n",
    "\n",
    "w[1] = 1\n",
    "w[0] = 1\n",
    "\n",
    "training_data = [\n",
    "    (array([0,0]), 1),\n",
    "    (array([0,1]), 1),\n",
    "    (array([1,0]), 1),\n",
    "    (array([1,1]), 0),\n",
    "]\n",
    "\n",
    "for x, _ in training_data:\n",
    "    result = dot(x, w)\n",
    "\n",
    "    print(\"{}: {} -> {}\".format(x[:2], result, step_function(result)))\n"
   ]
  },
  {
   "cell_type": "code",
   "execution_count": 7,
   "metadata": {},
   "outputs": [],
   "source": [
    "# Rosenblat's Perceptron included a way to adjust the weights and find the appropriate combinations \n",
    "# to overcome the need to modify thresholds for each gate separately, it used a bias term using which the thresholds in the \n",
    "# neuron can be modified to implement multiple Boolean functions in one code"
   ]
  },
  {
   "cell_type": "code",
   "execution_count": 8,
   "metadata": {},
   "outputs": [
    {
     "name": "stdout",
     "output_type": "stream",
     "text": [
      "[0.60103768 0.6864882  0.36587708]\n",
      "[0 0 1]: 33.16587708143572 -> 0\n",
      "[0 1 1]: 66.65236527699577 -> 0\n",
      "[1 0 1]: 66.56691476572213 -> 0\n",
      "[1 1 1]: 100.05340296128219 -> 1\n"
     ]
    }
   ],
   "source": [
    "\n",
    "step_function = lambda x: 0 if x < 100 else 1    # Step function with threshold of 0.5. Anything below is 0 \n",
    "\n",
    "\n",
    "# AND gate\n",
    "training_data = [\n",
    "    (array([0,0 ,1]), 0),\n",
    "    (array([0,1, 1]), 0),\n",
    "    (array([1,0, 1]), 0),\n",
    "    (array([1,1, 1]), 1),\n",
    "]\n",
    "\n",
    "w = random.rand(3)\n",
    "print(w)\n",
    "\n",
    "errors = []\n",
    "eta = 0.1\n",
    "n = 100000\n",
    "\n",
    "for i in range(n):\n",
    "    x, expected = choice(training_data)\n",
    "\n",
    "\n",
    "    result = dot(w, x)\n",
    "    error = expected - step_function(result)   # irrespective of what threshold we set, the algo will find the approp weights\n",
    "    errors.append(error)                       # that is the beauty of bias. The 'AND' pattern is learnt from data\n",
    "    w += eta * error * x\n",
    "\n",
    "for x, _ in training_data:\n",
    "    result = dot(x, w)\n",
    "    print(\"{}: {} -> {}\".format(x[:3], result, step_function(result)))\n"
   ]
  },
  {
   "cell_type": "code",
   "execution_count": 9,
   "metadata": {},
   "outputs": [
    {
     "name": "stdout",
     "output_type": "stream",
     "text": [
      "[0 0 1]: 61.98148975420824 -> 0\n",
      "[0 1 1]: 100.1887614802601 -> 1\n",
      "[1 0 1]: 100.31823159775794 -> 1\n",
      "[1 1 1]: 138.5255033238098 -> 1\n"
     ]
    }
   ],
   "source": [
    "# OR function in RB Neuron\n",
    "\n",
    "\n",
    "step_function = lambda x: 0 if x < 100 else 1    # Step function with threshold of 0.5. Anything below is 0 \n",
    "\n",
    "\n",
    "# AND gate\n",
    "training_data = [\n",
    "    (array([0,0 ,1]), 0),\n",
    "    (array([0,1, 1]), 1),\n",
    "    (array([1,0, 1]), 1),\n",
    "    (array([1,1, 1]), 1),\n",
    "]\n",
    "\n",
    "w = random.rand(3)\n",
    "b = .1    # initializing bias term\n",
    "errors = []\n",
    "eta = 0.1\n",
    "n = 10000\n",
    "\n",
    "for i in range(n):\n",
    "    x, expected = choice(training_data)\n",
    "    \n",
    "   # w = np.append(w, b)\n",
    "\n",
    "    result = dot(w, x)\n",
    "    error = expected - step_function(result)   # irrespective of what threshold we set, the algo will find the approp weights\n",
    "    errors.append(error)                       # that is the beauty of bias. The 'OR' pattern is learnt from data\n",
    "    w += eta * error * x\n",
    "\n",
    "for x, _ in training_data:\n",
    "    result = dot(x, w)\n",
    "    print(\"{}: {} -> {}\".format(x[:3], result, step_function(result)))\n"
   ]
  },
  {
   "cell_type": "code",
   "execution_count": null,
   "metadata": {},
   "outputs": [],
   "source": []
  },
  {
   "cell_type": "code",
   "execution_count": null,
   "metadata": {},
   "outputs": [],
   "source": []
  }
 ],
 "metadata": {
  "kernelspec": {
   "display_name": "Python 3",
   "language": "python",
   "name": "python3"
  },
  "language_info": {
   "codemirror_mode": {
    "name": "ipython",
    "version": 3
   },
   "file_extension": ".py",
   "mimetype": "text/x-python",
   "name": "python",
   "nbconvert_exporter": "python",
   "pygments_lexer": "ipython3",
   "version": "3.8.10"
  }
 },
 "nbformat": 4,
 "nbformat_minor": 2
}
