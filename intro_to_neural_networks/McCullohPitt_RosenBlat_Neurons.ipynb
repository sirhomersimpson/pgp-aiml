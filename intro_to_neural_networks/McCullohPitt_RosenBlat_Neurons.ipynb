{
 "cells": [
  {
   "cell_type": "code",
   "execution_count": 10,
   "metadata": {},
   "outputs": [],
   "source": [
    "from random import choice\n",
    "from numpy import array, dot, random\n",
    "\n",
    "import numpy as np\n"
   ]
  },
  {
   "cell_type": "code",
   "execution_count": 15,
   "metadata": {},
   "outputs": [],
   "source": [
    "# MCNeuron for And\n",
    "w = random.rand(2)\n",
    "w[1] = 1\n",
    "w[0] = 1\n",
    "\n",
    "training_data = [\n",
    "    (array([0,0]), 0),\n",
    "    (array([0,1]), 0),\n",
    "    (array([1,0]), 0),\n",
    "    (array([1,1]), 1),\n",
    "]\n",
    "\n",
    "step_function = lambda x: 0 if x < 2 else 1    # Step function with threshold of 2. Anything below is 0 "
   ]
  },
  {
   "cell_type": "code",
   "execution_count": 16,
   "metadata": {},
   "outputs": [
    {
     "name": "stdout",
     "output_type": "stream",
     "text": [
      "[0 0]: 0.0 -> 0\n",
      "[0 1]: 1.0 -> 0\n",
      "[1 0]: 1.0 -> 0\n",
      "[1 1]: 2.0 -> 1\n"
     ]
    }
   ],
   "source": [
    "for x, _ in training_data:\n",
    "    result = dot(x, w)\n",
    "\n",
    "    print(\"{}: {} -> {}\".format(x[:2], result, step_function(result)))\n"
   ]
  },
  {
   "cell_type": "code",
   "execution_count": 17,
   "metadata": {},
   "outputs": [],
   "source": [
    "# MCNeruon for OR\n",
    "w = random.rand(2)\n",
    "w[1] = 1\n",
    "w[0] = 1\n",
    "\n",
    "training_data = [\n",
    "    (array([0,0]), 0),\n",
    "    (array([0,1]), 1),\n",
    "    (array([1,0]), 1),\n",
    "    (array([1,1]), 1),\n",
    "]\n",
    "\n",
    "step_function = lambda x: 0 if x < 1 else 1    # Step function with threshold of 1. Anything below is 0 \n"
   ]
  },
  {
   "cell_type": "code",
   "execution_count": 18,
   "metadata": {},
   "outputs": [
    {
     "name": "stdout",
     "output_type": "stream",
     "text": [
      "[0 0]: 0.0 -> 0\n",
      "[0 1]: 1.0 -> 1\n",
      "[1 0]: 1.0 -> 1\n",
      "[1 1]: 2.0 -> 1\n"
     ]
    }
   ],
   "source": [
    "for x, _ in training_data:\n",
    "    result = dot(x, w)\n",
    "\n",
    "    print(\"{}: {} -> {}\".format(x[:2], result, step_function(result)))\n"
   ]
  },
  {
   "cell_type": "code",
   "execution_count": 19,
   "metadata": {},
   "outputs": [
    {
     "name": "stdout",
     "output_type": "stream",
     "text": [
      "[0 0]: 0.0 -> 1\n",
      "[0 1]: 1.0 -> 1\n",
      "[1 0]: 1.0 -> 1\n",
      "[1 1]: 2.0 -> 0\n"
     ]
    }
   ],
   "source": [
    "# MCNeuron for NAND\n",
    "\n",
    "step_function = lambda x: 0 if x >= 2 else 1    # Step function with threshold of > 2 is 0 \n",
    "\n",
    "w[1] = 1\n",
    "w[0] = 1\n",
    "\n",
    "training_data = [\n",
    "    (array([0,0]), 1),\n",
    "    (array([0,1]), 1),\n",
    "    (array([1,0]), 1),\n",
    "    (array([1,1]), 0),\n",
    "]\n",
    "\n",
    "for x, _ in training_data:\n",
    "    result = dot(x, w)\n",
    "\n",
    "    print(\"{}: {} -> {}\".format(x[:2], result, step_function(result)))\n"
   ]
  },
  {
   "cell_type": "code",
   "execution_count": 20,
   "metadata": {},
   "outputs": [],
   "source": [
    "# Rosenblat's Perceptron included a way to adjust the weights and find the appropriate combinations \n",
    "# to overcome the need to modify thresholds for each gate separately, it used a bias term using which the thresholds in the \n",
    "# neuron can be modified to implement multiple Boolean functions in one code"
   ]
  },
  {
   "cell_type": "code",
   "execution_count": 21,
   "metadata": {},
   "outputs": [
    {
     "name": "stdout",
     "output_type": "stream",
     "text": [
      "[0.52088884 0.29131398 0.66582827]\n",
      "[0 0 1]: 33.5658282679858 -> 0\n",
      "[0 1 1]: 66.75714224941083 -> 0\n",
      "[1 0 1]: 66.98671710986739 -> 0\n",
      "[1 1 1]: 100.17803109129241 -> 1\n"
     ]
    }
   ],
   "source": [
    "\n",
    "step_function = lambda x: 0 if x < 100 else 1    # Step function with threshold of 0.5. Anything below is 0 \n",
    "\n",
    "\n",
    "# AND gate\n",
    "training_data = [\n",
    "    (array([0,0 ,1]), 0),\n",
    "    (array([0,1, 1]), 0),\n",
    "    (array([1,0, 1]), 0),\n",
    "    (array([1,1, 1]), 1),\n",
    "]\n",
    "\n",
    "w = random.rand(3)\n",
    "print(w)\n",
    "\n",
    "errors = []\n",
    "eta = 0.1\n",
    "n = 100000\n",
    "\n",
    "for i in range(n):\n",
    "    x, expected = choice(training_data)\n",
    "\n",
    "\n",
    "    result = dot(w, x)\n",
    "    error = expected - step_function(result)   # irrespective of what threshold we set, the algo will find the approp weights\n",
    "    errors.append(error)                       # that is the beauty of bias. The 'AND' pattern is learnt from data\n",
    "    w += eta * error * x\n",
    "\n",
    "for x, _ in training_data:\n",
    "    result = dot(x, w)\n",
    "    print(\"{}: {} -> {}\".format(x[:3], result, step_function(result)))\n"
   ]
  },
  {
   "cell_type": "code",
   "execution_count": 22,
   "metadata": {},
   "outputs": [
    {
     "name": "stdout",
     "output_type": "stream",
     "text": [
      "[0 0 1]: 61.62622767552408 -> 0\n",
      "[0 1 1]: 100.06488112397945 -> 1\n",
      "[1 0 1]: 100.37734535228714 -> 1\n",
      "[1 1 1]: 138.81599880074248 -> 1\n"
     ]
    }
   ],
   "source": [
    "# OR function in RB Neuron\n",
    "\n",
    "\n",
    "step_function = lambda x: 0 if x < 100 else 1    # Step function with threshold of 0.5. Anything below is 0 \n",
    "\n",
    "\n",
    "# AND gate\n",
    "training_data = [\n",
    "    (array([0,0 ,1]), 0),\n",
    "    (array([0,1, 1]), 1),\n",
    "    (array([1,0, 1]), 1),\n",
    "    (array([1,1, 1]), 1),\n",
    "]\n",
    "\n",
    "w = random.rand(3)\n",
    "b = .1    # initializing bias term\n",
    "errors = []\n",
    "eta = 0.1\n",
    "n = 10000\n",
    "\n",
    "for i in range(n):\n",
    "    x, expected = choice(training_data)\n",
    "    \n",
    "   # w = np.append(w, b)\n",
    "\n",
    "    result = dot(w, x)\n",
    "    error = expected - step_function(result)   # irrespective of what threshold we set, the algo will find the approp weights\n",
    "    errors.append(error)                       # that is the beauty of bias. The 'OR' pattern is learnt from data\n",
    "    w += eta * error * x\n",
    "\n",
    "for x, _ in training_data:\n",
    "    result = dot(x, w)\n",
    "    print(\"{}: {} -> {}\".format(x[:3], result, step_function(result)))\n"
   ]
  },
  {
   "cell_type": "code",
   "execution_count": null,
   "metadata": {},
   "outputs": [],
   "source": []
  },
  {
   "cell_type": "code",
   "execution_count": null,
   "metadata": {},
   "outputs": [],
   "source": []
  }
 ],
 "metadata": {
  "kernelspec": {
   "display_name": "Python 3",
   "language": "python",
   "name": "python3"
  },
  "language_info": {
   "codemirror_mode": {
    "name": "ipython",
    "version": 3
   },
   "file_extension": ".py",
   "mimetype": "text/x-python",
   "name": "python",
   "nbconvert_exporter": "python",
   "pygments_lexer": "ipython3",
   "version": "3.8.10"
  }
 },
 "nbformat": 4,
 "nbformat_minor": 2
}
